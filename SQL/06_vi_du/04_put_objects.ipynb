{
 "cells": [
  {
   "cell_type": "code",
   "execution_count": 1,
   "metadata": {},
   "outputs": [],
   "source": [
    "import facebook"
   ]
  },
  {
   "cell_type": "code",
   "execution_count": 12,
   "metadata": {},
   "outputs": [],
   "source": [
    "# truy cập bằng page token\n",
    "access_token = 'EAAEPJcSGsMkBAPVSTAXyL4UDizh9neqDVoyXLxm6niSF0521gnUZBmBCM5q7kl5fJuyhVYNTM3xCUzvZCCRZBcJiWYcwdITatTucEZAzjmXKsTMFpswL79jSuZCV2En96TDwYZB2wwaBI7l1n9rDCwaan9EzszS5z8rSRHgF3WXUViYUGMoBgG6OU0kshP8mFQ5M2cstcTjSho37ZCmPCQD'\n",
    "graph = facebook.GraphAPI(access_token)"
   ]
  },
  {
   "cell_type": "code",
   "execution_count": 7,
   "metadata": {},
   "outputs": [
    {
     "data": {
      "text/plain": [
       "{'id': '104571675292405_104589148623991'}"
      ]
     },
     "execution_count": 7,
     "metadata": {},
     "output_type": "execute_result"
    }
   ],
   "source": [
    "# Write 'Hello, world' to the active user's wall.\n",
    "# cấp pages_read_engagement, pages_manage_posts, pages_read_user_content\n",
    "graph.put_object(parent_object='me', connection_name='feed',\n",
    "                  message='Hello, world')"
   ]
  },
  {
   "cell_type": "code",
   "execution_count": 8,
   "metadata": {},
   "outputs": [
    {
     "data": {
      "text/plain": [
       "{'id': '104571675292405_104590521957187'}"
      ]
     },
     "execution_count": 8,
     "metadata": {},
     "output_type": "execute_result"
    }
   ],
   "source": [
    "# Add a link and write a message about it.\n",
    "data = graph.put_object(\n",
    "   parent_object=\"me\",\n",
    "   connection_name=\"feed\",\n",
    "   message=\"This is a great website. Everyone should visit it.\",\n",
    "   link=\"https://www.facebook.com\")\n",
    "data"
   ]
  },
  {
   "cell_type": "code",
   "execution_count": 13,
   "metadata": {},
   "outputs": [
    {
     "data": {
      "text/plain": [
       "{'id': '104590521957187_104592611956978'}"
      ]
     },
     "execution_count": 13,
     "metadata": {},
     "output_type": "execute_result"
    }
   ],
   "source": [
    "# Write a comment on a post. Quyen  pages_manage_engagement\n",
    "graph.put_object(parent_object=data['id'], connection_name='comments', message='First!')"
   ]
  },
  {
   "cell_type": "code",
   "execution_count": 14,
   "metadata": {},
   "outputs": [
    {
     "data": {
      "text/plain": [
       "{'id': '104590521957187_104593185290254'}"
      ]
     },
     "execution_count": 14,
     "metadata": {},
     "output_type": "execute_result"
    }
   ],
   "source": [
    "comment = graph.put_comment(object_id=data['id'], message='Great post...')\n",
    "comment"
   ]
  },
  {
   "cell_type": "code",
   "execution_count": 15,
   "metadata": {},
   "outputs": [
    {
     "data": {
      "text/plain": [
       "{'success': True}"
      ]
     },
     "execution_count": 15,
     "metadata": {},
     "output_type": "execute_result"
    }
   ],
   "source": [
    "graph.put_like(object_id=comment['id'])"
   ]
  },
  {
   "cell_type": "code",
   "execution_count": 16,
   "metadata": {},
   "outputs": [
    {
     "data": {
      "text/plain": [
       "{'success': True}"
      ]
     },
     "execution_count": 16,
     "metadata": {},
     "output_type": "execute_result"
    }
   ],
   "source": [
    "graph.delete_object(id=data['id'])"
   ]
  },
  {
   "cell_type": "code",
   "execution_count": null,
   "metadata": {},
   "outputs": [],
   "source": []
  }
 ],
 "metadata": {
  "kernelspec": {
   "display_name": "Python 3 (ipykernel)",
   "language": "python",
   "name": "python3"
  },
  "language_info": {
   "codemirror_mode": {
    "name": "ipython",
    "version": 3
   },
   "file_extension": ".py",
   "mimetype": "text/x-python",
   "name": "python",
   "nbconvert_exporter": "python",
   "pygments_lexer": "ipython3",
   "version": "3.9.6"
  }
 },
 "nbformat": 4,
 "nbformat_minor": 4
}
