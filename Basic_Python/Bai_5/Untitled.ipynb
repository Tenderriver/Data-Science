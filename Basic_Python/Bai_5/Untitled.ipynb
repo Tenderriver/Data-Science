{
 "cells": [
  {
   "cell_type": "code",
   "execution_count": 21,
   "id": "bf482118",
   "metadata": {},
   "outputs": [
    {
     "name": "stdout",
     "output_type": "stream",
     "text": [
      "Nhap so nguyen n: 5\n",
      "    *    \n",
      "   ***   \n",
      "  *****  \n",
      " ******* \n",
      "*********\n"
     ]
    }
   ],
   "source": [
    "n= int(input(\"Nhap so nguyen n: \"))\n",
    "chuoi = \"*\"\n",
    "a=1\n",
    "for i in range (n-1):\n",
    "    a+=2\n",
    "for i in range (n):\n",
    "    print(chuoi.center(a))\n",
    "    chuoi+=\"**\"\n",
    "    "
   ]
  },
  {
   "cell_type": "code",
   "execution_count": 35,
   "id": "53fe61f7",
   "metadata": {},
   "outputs": [
    {
     "name": "stdout",
     "output_type": "stream",
     "text": [
      "Nhap so nguyen n: 3\n"
     ]
    },
    {
     "ename": "TypeError",
     "evalue": "can't multiply sequence by non-int of type 'float'",
     "output_type": "error",
     "traceback": [
      "\u001b[1;31m---------------------------------------------------------------------------\u001b[0m",
      "\u001b[1;31mTypeError\u001b[0m                                 Traceback (most recent call last)",
      "\u001b[1;32m<ipython-input-35-8cfdf06e6aeb>\u001b[0m in \u001b[0;36m<module>\u001b[1;34m\u001b[0m\n\u001b[0;32m      7\u001b[0m \u001b[0mc\u001b[0m\u001b[1;33m=\u001b[0m\u001b[1;33m(\u001b[0m\u001b[0ma\u001b[0m\u001b[1;33m-\u001b[0m\u001b[1;36m1\u001b[0m\u001b[1;33m)\u001b[0m\u001b[1;33m/\u001b[0m\u001b[1;36m2\u001b[0m\u001b[1;33m\u001b[0m\u001b[1;33m\u001b[0m\u001b[0m\n\u001b[0;32m      8\u001b[0m \u001b[1;32mfor\u001b[0m \u001b[0mi\u001b[0m \u001b[1;32min\u001b[0m \u001b[0mrange\u001b[0m \u001b[1;33m(\u001b[0m\u001b[0mn\u001b[0m\u001b[1;33m)\u001b[0m\u001b[1;33m:\u001b[0m\u001b[1;33m\u001b[0m\u001b[1;33m\u001b[0m\u001b[0m\n\u001b[1;32m----> 9\u001b[1;33m     \u001b[0mprint\u001b[0m \u001b[1;33m(\u001b[0m\u001b[0mb\u001b[0m\u001b[1;33m*\u001b[0m\u001b[0mc\u001b[0m\u001b[1;33m+\u001b[0m \u001b[0mchuoi\u001b[0m\u001b[1;33m+\u001b[0m \u001b[0mb\u001b[0m\u001b[1;33m*\u001b[0m\u001b[0mc\u001b[0m\u001b[1;33m)\u001b[0m\u001b[1;33m\u001b[0m\u001b[1;33m\u001b[0m\u001b[0m\n\u001b[0m",
      "\u001b[1;31mTypeError\u001b[0m: can't multiply sequence by non-int of type 'float'"
     ]
    }
   ],
   "source": [
    "n= int(input(\"Nhap so nguyen n: \"))\n",
    "chuoi = \"*\"\n",
    "a=1\n",
    "b=\" \"\n",
    "for i in range (n-1):\n",
    "    a+=2\n",
    "c=(a-1)/2\n",
    "for i in range (n):\n",
    "    print (b*c+ chuoi+ b*c)"
   ]
  },
  {
   "cell_type": "code",
   "execution_count": 29,
   "id": "19f9c8dd",
   "metadata": {},
   "outputs": [
    {
     "name": "stdout",
     "output_type": "stream",
     "text": [
      "*  *\n"
     ]
    }
   ],
   "source": [
    "b=\"*\"\n",
    "c=\" \"\n",
    "d=b+c*2+b\n",
    "print(d)\n"
   ]
  },
  {
   "cell_type": "code",
   "execution_count": 67,
   "id": "4fb44b11",
   "metadata": {},
   "outputs": [
    {
     "name": "stdout",
     "output_type": "stream",
     "text": [
      "     *\n",
      "    ***\n",
      "   *****\n",
      "  *******\n",
      " *********\n",
      "***********\n",
      "\n"
     ]
    }
   ],
   "source": [
    "n=6\n",
    "s =\"\"\n",
    "\n",
    "for i in range (1,n+1):\n",
    "    for j in range (1, n-i+1):\n",
    "        s+=\" \"\n",
    "    for k in range (1, 2*i):\n",
    "        s+=\"*\"\n",
    "\n",
    "    s+=\"\\n\"\n",
    "print(s)\n",
    "        "
   ]
  },
  {
   "cell_type": "code",
   "execution_count": 126,
   "id": "ce6a632f",
   "metadata": {},
   "outputs": [
    {
     "name": "stdout",
     "output_type": "stream",
     "text": [
      "       *\n",
      "      * *\n",
      "     *   *\n",
      "    *     *\n",
      "   *       *\n",
      "  *         *\n",
      " *           *\n",
      "***************\n"
     ]
    }
   ],
   "source": [
    "n=8\n",
    "s =\"\"\n",
    "\n",
    "for i in range (1,n):\n",
    "    for j in range (1, n-i+1):\n",
    "        s+=\" \"\n",
    "    s+=\"*\"\n",
    "    for m in range (0,2*i-3):\n",
    "        s+=\" \"\n",
    "    if i != 1:\n",
    "        s+=\"*\"\n",
    "    s+=\"\\n\"\n",
    "s+=\"*\"*(2*n-1)\n",
    "print(s)"
   ]
  },
  {
   "cell_type": "code",
   "execution_count": 124,
   "id": "1463358a",
   "metadata": {},
   "outputs": [
    {
     "name": "stdout",
     "output_type": "stream",
     "text": [
      "       *\n",
      "      ***\n",
      "     * * *\n",
      "    *  *  *\n",
      "   *   *   *\n",
      "  *    *    *\n",
      " *     *     *\n",
      "***************\n"
     ]
    }
   ],
   "source": [
    "n=8\n",
    "s =\"\"\n",
    "\n",
    "for i in range (1,n):\n",
    "    for j in range (1, n-i+1):\n",
    "        s+=\" \"\n",
    "    s+=\"*\"\n",
    "    if i >=3:\n",
    "        for t in range (1,i-1):\n",
    "            s+=\" \"\n",
    "    if i>=2:\n",
    "        s+=\"*\"\n",
    "    for m in range (1,i-1):\n",
    "        s+=\" \"\n",
    "    if i != 1:\n",
    "        s+=\"*\"\n",
    "    s+=\"\\n\"\n",
    "s+=\"*\"*(2*n-1)\n",
    "print(s)"
   ]
  },
  {
   "cell_type": "markdown",
   "id": "28218745",
   "metadata": {},
   "source": []
  },
  {
   "cell_type": "code",
   "execution_count": null,
   "id": "617b957b",
   "metadata": {},
   "outputs": [],
   "source": []
  }
 ],
 "metadata": {
  "kernelspec": {
   "display_name": "Python 3",
   "language": "python",
   "name": "python3"
  },
  "language_info": {
   "codemirror_mode": {
    "name": "ipython",
    "version": 3
   },
   "file_extension": ".py",
   "mimetype": "text/x-python",
   "name": "python",
   "nbconvert_exporter": "python",
   "pygments_lexer": "ipython3",
   "version": "3.8.8"
  }
 },
 "nbformat": 4,
 "nbformat_minor": 5
}
