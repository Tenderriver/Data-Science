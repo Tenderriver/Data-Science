{
  "nbformat": 4,
  "nbformat_minor": 0,
  "metadata": {
    "colab": {
      "name": "Chapter_18_demo_Logistic_Regression.ipynb",
      "provenance": [],
      "collapsed_sections": []
    },
    "kernelspec": {
      "name": "ir",
      "display_name": "R"
    },
    "language_info": {
      "name": "R"
    }
  },
  "cells": [
    {
      "cell_type": "code",
      "source": [
        "install.packages(\"ggplot2\")\n",
        "install.packages(\"corrplot\")\n",
        "install.packages(\"xlsx\")"
      ],
      "metadata": {
        "colab": {
          "base_uri": "https://localhost:8080/"
        },
        "id": "7WbCVU5saxkC",
        "outputId": "42e1bac2-0a04-40e4-ac11-2a9fb8d371a1"
      },
      "execution_count": null,
      "outputs": [
        {
          "output_type": "stream",
          "name": "stderr",
          "text": [
            "Installing package into ‘/usr/local/lib/R/site-library’\n",
            "(as ‘lib’ is unspecified)\n",
            "\n",
            "Installing package into ‘/usr/local/lib/R/site-library’\n",
            "(as ‘lib’ is unspecified)\n",
            "\n",
            "Installing package into ‘/usr/local/lib/R/site-library’\n",
            "(as ‘lib’ is unspecified)\n",
            "\n",
            "also installing the dependencies ‘rJava’, ‘xlsxjars’\n",
            "\n",
            "\n"
          ]
        }
      ]
    },
    {
      "cell_type": "code",
      "metadata": {
        "id": "Z3i0hKfcmKyY",
        "colab": {
          "base_uri": "https://localhost:8080/"
        },
        "outputId": "d71377f8-135f-43c9-f63b-20e1095e21c2"
      },
      "source": [
        "library('ggplot2')\n",
        "library(\"corrplot\")"
      ],
      "execution_count": null,
      "outputs": [
        {
          "output_type": "stream",
          "name": "stderr",
          "text": [
            "corrplot 0.92 loaded\n",
            "\n"
          ]
        }
      ]
    },
    {
      "cell_type": "code",
      "source": [
        "# https://drive.google.com/file/d/10F-_gxGDjzOfWKLEvWzHatb_kCXHlGnM/view?usp=sharing\n",
        "system(\"gdown --id 10F-_gxGDjzOfWKLEvWzHatb_kCXHlGnM\")"
      ],
      "metadata": {
        "id": "x_NRxmMEat9V"
      },
      "execution_count": null,
      "outputs": []
    },
    {
      "cell_type": "code",
      "metadata": {
        "id": "PkjwLTTxQnfO",
        "colab": {
          "base_uri": "https://localhost:8080/",
          "height": 286
        },
        "outputId": "c141f259-61ed-4e20-bd7a-b08daaa4baf4"
      },
      "source": [
        "mydata <- read.csv(\"binary.csv\")\n",
        "head(mydata)"
      ],
      "execution_count": null,
      "outputs": [
        {
          "output_type": "display_data",
          "data": {
            "text/html": [
              "<table class=\"dataframe\">\n",
              "<caption>A data.frame: 6 × 4</caption>\n",
              "<thead>\n",
              "\t<tr><th></th><th scope=col>admit</th><th scope=col>gre</th><th scope=col>gpa</th><th scope=col>rank</th></tr>\n",
              "\t<tr><th></th><th scope=col>&lt;int&gt;</th><th scope=col>&lt;int&gt;</th><th scope=col>&lt;dbl&gt;</th><th scope=col>&lt;int&gt;</th></tr>\n",
              "</thead>\n",
              "<tbody>\n",
              "\t<tr><th scope=row>1</th><td>0</td><td>380</td><td>3.61</td><td>3</td></tr>\n",
              "\t<tr><th scope=row>2</th><td>1</td><td>660</td><td>3.67</td><td>3</td></tr>\n",
              "\t<tr><th scope=row>3</th><td>1</td><td>800</td><td>4.00</td><td>1</td></tr>\n",
              "\t<tr><th scope=row>4</th><td>1</td><td>640</td><td>3.19</td><td>4</td></tr>\n",
              "\t<tr><th scope=row>5</th><td>0</td><td>520</td><td>2.93</td><td>4</td></tr>\n",
              "\t<tr><th scope=row>6</th><td>1</td><td>760</td><td>3.00</td><td>2</td></tr>\n",
              "</tbody>\n",
              "</table>\n"
            ],
            "text/markdown": "\nA data.frame: 6 × 4\n\n| <!--/--> | admit &lt;int&gt; | gre &lt;int&gt; | gpa &lt;dbl&gt; | rank &lt;int&gt; |\n|---|---|---|---|---|\n| 1 | 0 | 380 | 3.61 | 3 |\n| 2 | 1 | 660 | 3.67 | 3 |\n| 3 | 1 | 800 | 4.00 | 1 |\n| 4 | 1 | 640 | 3.19 | 4 |\n| 5 | 0 | 520 | 2.93 | 4 |\n| 6 | 1 | 760 | 3.00 | 2 |\n\n",
            "text/latex": "A data.frame: 6 × 4\n\\begin{tabular}{r|llll}\n  & admit & gre & gpa & rank\\\\\n  & <int> & <int> & <dbl> & <int>\\\\\n\\hline\n\t1 & 0 & 380 & 3.61 & 3\\\\\n\t2 & 1 & 660 & 3.67 & 3\\\\\n\t3 & 1 & 800 & 4.00 & 1\\\\\n\t4 & 1 & 640 & 3.19 & 4\\\\\n\t5 & 0 & 520 & 2.93 & 4\\\\\n\t6 & 1 & 760 & 3.00 & 2\\\\\n\\end{tabular}\n",
            "text/plain": [
              "  admit gre gpa  rank\n",
              "1 0     380 3.61 3   \n",
              "2 1     660 3.67 3   \n",
              "3 1     800 4.00 1   \n",
              "4 1     640 3.19 4   \n",
              "5 0     520 2.93 4   \n",
              "6 1     760 3.00 2   "
            ]
          },
          "metadata": {}
        }
      ]
    },
    {
      "cell_type": "code",
      "source": [
        "tail(mydata)"
      ],
      "metadata": {
        "colab": {
          "base_uri": "https://localhost:8080/",
          "height": 286
        },
        "id": "M5gvzxeubJt2",
        "outputId": "cc0f4ac3-a498-4529-c381-f1f11c0d9550"
      },
      "execution_count": null,
      "outputs": [
        {
          "output_type": "display_data",
          "data": {
            "text/html": [
              "<table class=\"dataframe\">\n",
              "<caption>A data.frame: 6 × 4</caption>\n",
              "<thead>\n",
              "\t<tr><th></th><th scope=col>admit</th><th scope=col>gre</th><th scope=col>gpa</th><th scope=col>rank</th></tr>\n",
              "\t<tr><th></th><th scope=col>&lt;int&gt;</th><th scope=col>&lt;int&gt;</th><th scope=col>&lt;dbl&gt;</th><th scope=col>&lt;int&gt;</th></tr>\n",
              "</thead>\n",
              "<tbody>\n",
              "\t<tr><th scope=row>395</th><td>1</td><td>460</td><td>3.99</td><td>3</td></tr>\n",
              "\t<tr><th scope=row>396</th><td>0</td><td>620</td><td>4.00</td><td>2</td></tr>\n",
              "\t<tr><th scope=row>397</th><td>0</td><td>560</td><td>3.04</td><td>3</td></tr>\n",
              "\t<tr><th scope=row>398</th><td>0</td><td>460</td><td>2.63</td><td>2</td></tr>\n",
              "\t<tr><th scope=row>399</th><td>0</td><td>700</td><td>3.65</td><td>2</td></tr>\n",
              "\t<tr><th scope=row>400</th><td>0</td><td>600</td><td>3.89</td><td>3</td></tr>\n",
              "</tbody>\n",
              "</table>\n"
            ],
            "text/markdown": "\nA data.frame: 6 × 4\n\n| <!--/--> | admit &lt;int&gt; | gre &lt;int&gt; | gpa &lt;dbl&gt; | rank &lt;int&gt; |\n|---|---|---|---|---|\n| 395 | 1 | 460 | 3.99 | 3 |\n| 396 | 0 | 620 | 4.00 | 2 |\n| 397 | 0 | 560 | 3.04 | 3 |\n| 398 | 0 | 460 | 2.63 | 2 |\n| 399 | 0 | 700 | 3.65 | 2 |\n| 400 | 0 | 600 | 3.89 | 3 |\n\n",
            "text/latex": "A data.frame: 6 × 4\n\\begin{tabular}{r|llll}\n  & admit & gre & gpa & rank\\\\\n  & <int> & <int> & <dbl> & <int>\\\\\n\\hline\n\t395 & 1 & 460 & 3.99 & 3\\\\\n\t396 & 0 & 620 & 4.00 & 2\\\\\n\t397 & 0 & 560 & 3.04 & 3\\\\\n\t398 & 0 & 460 & 2.63 & 2\\\\\n\t399 & 0 & 700 & 3.65 & 2\\\\\n\t400 & 0 & 600 & 3.89 & 3\\\\\n\\end{tabular}\n",
            "text/plain": [
              "    admit gre gpa  rank\n",
              "395 1     460 3.99 3   \n",
              "396 0     620 4.00 2   \n",
              "397 0     560 3.04 3   \n",
              "398 0     460 2.63 2   \n",
              "399 0     700 3.65 2   \n",
              "400 0     600 3.89 3   "
            ]
          },
          "metadata": {}
        }
      ]
    },
    {
      "cell_type": "code",
      "source": [
        "summary(mydata)"
      ],
      "metadata": {
        "colab": {
          "base_uri": "https://localhost:8080/",
          "height": 138
        },
        "id": "_gGkfBYibJzB",
        "outputId": "15a3e3cd-f741-45db-9d40-715ba01832d1"
      },
      "execution_count": null,
      "outputs": [
        {
          "output_type": "display_data",
          "data": {
            "text/plain": [
              "     admit             gre             gpa             rank      \n",
              " Min.   :0.0000   Min.   :220.0   Min.   :2.260   Min.   :1.000  \n",
              " 1st Qu.:0.0000   1st Qu.:520.0   1st Qu.:3.130   1st Qu.:2.000  \n",
              " Median :0.0000   Median :580.0   Median :3.395   Median :2.000  \n",
              " Mean   :0.3175   Mean   :587.7   Mean   :3.390   Mean   :2.485  \n",
              " 3rd Qu.:1.0000   3rd Qu.:660.0   3rd Qu.:3.670   3rd Qu.:3.000  \n",
              " Max.   :1.0000   Max.   :800.0   Max.   :4.000   Max.   :4.000  "
            ]
          },
          "metadata": {}
        }
      ]
    },
    {
      "cell_type": "code",
      "source": [
        "install.packages(\"Amelia\")\n",
        "library(Amelia)"
      ],
      "metadata": {
        "colab": {
          "base_uri": "https://localhost:8080/"
        },
        "id": "PtUA0qiBbJ11",
        "outputId": "c71a5fb5-5888-4bfc-af80-c1050cfe85bc"
      },
      "execution_count": null,
      "outputs": [
        {
          "output_type": "stream",
          "name": "stderr",
          "text": [
            "Installing package into ‘/usr/local/lib/R/site-library’\n",
            "(as ‘lib’ is unspecified)\n",
            "\n",
            "also installing the dependencies ‘Rcpp’, ‘RcppArmadillo’\n",
            "\n",
            "\n",
            "Loading required package: Rcpp\n",
            "\n",
            "## \n",
            "## Amelia II: Multiple Imputation\n",
            "## (Version 1.8.0, built: 2021-05-26)\n",
            "## Copyright (C) 2005-2022 James Honaker, Gary King and Matthew Blackwell\n",
            "## Refer to http://gking.harvard.edu/amelia/ for more information\n",
            "## \n",
            "\n"
          ]
        }
      ]
    },
    {
      "cell_type": "code",
      "source": [
        "missmap(mydata, main = \"Missing values or odserved\")"
      ],
      "metadata": {
        "colab": {
          "base_uri": "https://localhost:8080/",
          "height": 437
        },
        "id": "9ahMrU7lbJ4B",
        "outputId": "c061bfdd-3139-4331-ac19-d76267bcbf91"
      },
      "execution_count": null,
      "outputs": [
        {
          "output_type": "display_data",
          "data": {
            "text/plain": [
              "Plot with title “Missing values or odserved”"
            ],
            "image/png": "[encoded data removed]"
          },
          "metadata": {
            "image/png": {
              "width": 420,
              "height": 420
            }
          }
        }
      ]
    },
    {
      "cell_type": "code",
      "source": [
        "table(mydata$admit)"
      ],
      "metadata": {
        "colab": {
          "base_uri": "https://localhost:8080/",
          "height": 69
        },
        "id": "db6o182dbrtZ",
        "outputId": "626e2240-33b5-417d-c506-0cbc0fc7cf0e"
      },
      "execution_count": null,
      "outputs": [
        {
          "output_type": "display_data",
          "data": {
            "text/plain": [
              "\n",
              "  0   1 \n",
              "273 127 "
            ]
          },
          "metadata": {}
        }
      ]
    },
    {
      "cell_type": "code",
      "metadata": {
        "colab": {
          "base_uri": "https://localhost:8080/",
          "height": 437
        },
        "id": "vw77AF8uQuh3",
        "outputId": "535faee1-a9ad-4d7c-b2b2-0c726eb18b94"
      },
      "source": [
        "par(mfcol = c(1, 3))\n",
        "boxplot(mydata$gre, main = \"gre\",\n",
        "        sub = paste(\"Outlier rows: \", boxplot.stats(mydata$gre)$out))\n",
        "boxplot(mydata$gpa, main = \"gpa\",\n",
        "        sub = paste(\"Outlier rows: \", boxplot.stats(mydata$gpa)$out))\n",
        "boxplot(mydata$rank, main = \"rank\",\n",
        "        sub = paste(\"Outlier rows: \", boxplot.stats(mydata$rank)$out))"
      ],
      "execution_count": null,
      "outputs": [
        {
          "output_type": "display_data",
          "data": {
            "text/plain": [
              "Plot with title “rank”"
            ],
            "image/png": "[encoded data removed]"
          },
          "metadata": {
            "image/png": {
              "width": 420,
              "height": 420
            }
          }
        }
      ]
    },
    {
      "cell_type": "code",
      "source": [
        "gre_outliers = boxplot.stats(mydata$gre)$out\n",
        "gre_outliers"
      ],
      "metadata": {
        "colab": {
          "base_uri": "https://localhost:8080/",
          "height": 34
        },
        "id": "G_Q4_oPrbryp",
        "outputId": "b25b3faa-d65e-4003-807f-0c2ed8133e3f"
      },
      "execution_count": null,
      "outputs": [
        {
          "output_type": "display_data",
          "data": {
            "text/html": [
              "<style>\n",
              ".list-inline {list-style: none; margin:0; padding: 0}\n",
              ".list-inline>li {display: inline-block}\n",
              ".list-inline>li:not(:last-child)::after {content: \"\\00b7\"; padding: 0 .5ex}\n",
              "</style>\n",
              "<ol class=list-inline><li>300</li><li>300</li><li>220</li><li>300</li></ol>\n"
            ],
            "text/markdown": "1. 300\n2. 300\n3. 220\n4. 300\n\n\n",
            "text/latex": "\\begin{enumerate*}\n\\item 300\n\\item 300\n\\item 220\n\\item 300\n\\end{enumerate*}\n",
            "text/plain": [
              "[1] 300 300 220 300"
            ]
          },
          "metadata": {}
        }
      ]
    },
    {
      "cell_type": "code",
      "source": [
        "mydata[mydata$gre %in% gre_outliers,]"
      ],
      "metadata": {
        "colab": {
          "base_uri": "https://localhost:8080/",
          "height": 223
        },
        "id": "QYIlhYczbr1g",
        "outputId": "b4171fc6-b8ef-400d-c79a-28f4b2802aac"
      },
      "execution_count": null,
      "outputs": [
        {
          "output_type": "display_data",
          "data": {
            "text/html": [
              "<table class=\"dataframe\">\n",
              "<caption>A data.frame: 4 × 4</caption>\n",
              "<thead>\n",
              "\t<tr><th></th><th scope=col>admit</th><th scope=col>gre</th><th scope=col>gpa</th><th scope=col>rank</th></tr>\n",
              "\t<tr><th></th><th scope=col>&lt;int&gt;</th><th scope=col>&lt;int&gt;</th><th scope=col>&lt;dbl&gt;</th><th scope=col>&lt;int&gt;</th></tr>\n",
              "</thead>\n",
              "<tbody>\n",
              "\t<tr><th scope=row>72</th><td>0</td><td>300</td><td>2.92</td><td>4</td></tr>\n",
              "\t<tr><th scope=row>180</th><td>0</td><td>300</td><td>3.01</td><td>3</td></tr>\n",
              "\t<tr><th scope=row>305</th><td>0</td><td>220</td><td>2.83</td><td>3</td></tr>\n",
              "\t<tr><th scope=row>316</th><td>1</td><td>300</td><td>2.84</td><td>2</td></tr>\n",
              "</tbody>\n",
              "</table>\n"
            ],
            "text/markdown": "\nA data.frame: 4 × 4\n\n| <!--/--> | admit &lt;int&gt; | gre &lt;int&gt; | gpa &lt;dbl&gt; | rank &lt;int&gt; |\n|---|---|---|---|---|\n| 72 | 0 | 300 | 2.92 | 4 |\n| 180 | 0 | 300 | 3.01 | 3 |\n| 305 | 0 | 220 | 2.83 | 3 |\n| 316 | 1 | 300 | 2.84 | 2 |\n\n",
            "text/latex": "A data.frame: 4 × 4\n\\begin{tabular}{r|llll}\n  & admit & gre & gpa & rank\\\\\n  & <int> & <int> & <dbl> & <int>\\\\\n\\hline\n\t72 & 0 & 300 & 2.92 & 4\\\\\n\t180 & 0 & 300 & 3.01 & 3\\\\\n\t305 & 0 & 220 & 2.83 & 3\\\\\n\t316 & 1 & 300 & 2.84 & 2\\\\\n\\end{tabular}\n",
            "text/plain": [
              "    admit gre gpa  rank\n",
              "72  0     300 2.92 4   \n",
              "180 0     300 3.01 3   \n",
              "305 0     220 2.83 3   \n",
              "316 1     300 2.84 2   "
            ]
          },
          "metadata": {}
        }
      ]
    },
    {
      "cell_type": "code",
      "source": [
        "gpa_outliers = boxplot.stats(mydata$gpa)$out\n",
        "gpa_outliers"
      ],
      "metadata": {
        "colab": {
          "base_uri": "https://localhost:8080/",
          "height": 34
        },
        "id": "Wf8Krkfgbr4T",
        "outputId": "c5f3f122-7f8f-4276-80b5-d3b4d9abeaa4"
      },
      "execution_count": null,
      "outputs": [
        {
          "output_type": "display_data",
          "data": {
            "text/html": [
              "2.26"
            ],
            "text/markdown": "2.26",
            "text/latex": "2.26",
            "text/plain": [
              "[1] 2.26"
            ]
          },
          "metadata": {}
        }
      ]
    },
    {
      "cell_type": "code",
      "source": [
        "mydata[mydata$gpa %in% gpa_outliers,]"
      ],
      "metadata": {
        "colab": {
          "base_uri": "https://localhost:8080/",
          "height": 130
        },
        "id": "zGdZxdpXduqS",
        "outputId": "4f0c62ae-53a7-4780-fedb-fdd4f85a836e"
      },
      "execution_count": null,
      "outputs": [
        {
          "output_type": "display_data",
          "data": {
            "text/html": [
              "<table class=\"dataframe\">\n",
              "<caption>A data.frame: 1 × 4</caption>\n",
              "<thead>\n",
              "\t<tr><th></th><th scope=col>admit</th><th scope=col>gre</th><th scope=col>gpa</th><th scope=col>rank</th></tr>\n",
              "\t<tr><th></th><th scope=col>&lt;int&gt;</th><th scope=col>&lt;int&gt;</th><th scope=col>&lt;dbl&gt;</th><th scope=col>&lt;int&gt;</th></tr>\n",
              "</thead>\n",
              "<tbody>\n",
              "\t<tr><th scope=row>290</th><td>0</td><td>420</td><td>2.26</td><td>4</td></tr>\n",
              "</tbody>\n",
              "</table>\n"
            ],
            "text/markdown": "\nA data.frame: 1 × 4\n\n| <!--/--> | admit &lt;int&gt; | gre &lt;int&gt; | gpa &lt;dbl&gt; | rank &lt;int&gt; |\n|---|---|---|---|---|\n| 290 | 0 | 420 | 2.26 | 4 |\n\n",
            "text/latex": "A data.frame: 1 × 4\n\\begin{tabular}{r|llll}\n  & admit & gre & gpa & rank\\\\\n  & <int> & <int> & <dbl> & <int>\\\\\n\\hline\n\t290 & 0 & 420 & 2.26 & 4\\\\\n\\end{tabular}\n",
            "text/plain": [
              "    admit gre gpa  rank\n",
              "290 0     420 2.26 4   "
            ]
          },
          "metadata": {}
        }
      ]
    },
    {
      "cell_type": "code",
      "source": [
        "nrow(mydata)"
      ],
      "metadata": {
        "colab": {
          "base_uri": "https://localhost:8080/",
          "height": 34
        },
        "id": "yDaRMrKXduuq",
        "outputId": "b6f3a2c0-64ca-4a60-bdb0-e171dd919c5e"
      },
      "execution_count": null,
      "outputs": [
        {
          "output_type": "display_data",
          "data": {
            "text/html": [
              "400"
            ],
            "text/markdown": "400",
            "text/latex": "400",
            "text/plain": [
              "[1] 400"
            ]
          },
          "metadata": {}
        }
      ]
    },
    {
      "cell_type": "code",
      "source": [
        "mydata <- mydata[!(mydata$gpa %in% gpa_outliers) & !(mydata$gre %in% gre_outliers),]"
      ],
      "metadata": {
        "id": "PanSoqAZd6Om"
      },
      "execution_count": null,
      "outputs": []
    },
    {
      "cell_type": "code",
      "source": [
        "nrow(mydata)"
      ],
      "metadata": {
        "colab": {
          "base_uri": "https://localhost:8080/",
          "height": 34
        },
        "id": "V0E6rmcwd6Rp",
        "outputId": "b9d69a01-6f50-47e7-9587-dc9b7a8bac0f"
      },
      "execution_count": null,
      "outputs": [
        {
          "output_type": "display_data",
          "data": {
            "text/html": [
              "395"
            ],
            "text/markdown": "395",
            "text/latex": "395",
            "text/plain": [
              "[1] 395"
            ]
          },
          "metadata": {}
        }
      ]
    },
    {
      "cell_type": "code",
      "source": [
        "correlations <- cor(mydata[, 1:4])\n",
        "correlations"
      ],
      "metadata": {
        "colab": {
          "base_uri": "https://localhost:8080/",
          "height": 192
        },
        "id": "LKIagusfeHpg",
        "outputId": "d1994537-0440-4b31-c27f-c6ca273064ff"
      },
      "execution_count": null,
      "outputs": [
        {
          "output_type": "display_data",
          "data": {
            "text/html": [
              "<table class=\"dataframe\">\n",
              "<caption>A matrix: 4 × 4 of type dbl</caption>\n",
              "<thead>\n",
              "\t<tr><th></th><th scope=col>admit</th><th scope=col>gre</th><th scope=col>gpa</th><th scope=col>rank</th></tr>\n",
              "</thead>\n",
              "<tbody>\n",
              "\t<tr><th scope=row>admit</th><td> 1.0000000</td><td> 0.1853550</td><td> 0.17644592</td><td>-0.23623363</td></tr>\n",
              "\t<tr><th scope=row>gre</th><td> 0.1853550</td><td> 1.0000000</td><td> 0.35937135</td><td>-0.10785090</td></tr>\n",
              "\t<tr><th scope=row>gpa</th><td> 0.1764459</td><td> 0.3593714</td><td> 1.00000000</td><td>-0.03994452</td></tr>\n",
              "\t<tr><th scope=row>rank</th><td>-0.2362336</td><td>-0.1078509</td><td>-0.03994452</td><td> 1.00000000</td></tr>\n",
              "</tbody>\n",
              "</table>\n"
            ],
            "text/markdown": "\nA matrix: 4 × 4 of type dbl\n\n| <!--/--> | admit | gre | gpa | rank |\n|---|---|---|---|---|\n| admit |  1.0000000 |  0.1853550 |  0.17644592 | -0.23623363 |\n| gre |  0.1853550 |  1.0000000 |  0.35937135 | -0.10785090 |\n| gpa |  0.1764459 |  0.3593714 |  1.00000000 | -0.03994452 |\n| rank | -0.2362336 | -0.1078509 | -0.03994452 |  1.00000000 |\n\n",
            "text/latex": "A matrix: 4 × 4 of type dbl\n\\begin{tabular}{r|llll}\n  & admit & gre & gpa & rank\\\\\n\\hline\n\tadmit &  1.0000000 &  0.1853550 &  0.17644592 & -0.23623363\\\\\n\tgre &  0.1853550 &  1.0000000 &  0.35937135 & -0.10785090\\\\\n\tgpa &  0.1764459 &  0.3593714 &  1.00000000 & -0.03994452\\\\\n\trank & -0.2362336 & -0.1078509 & -0.03994452 &  1.00000000\\\\\n\\end{tabular}\n",
            "text/plain": [
              "      admit      gre        gpa         rank       \n",
              "admit  1.0000000  0.1853550  0.17644592 -0.23623363\n",
              "gre    0.1853550  1.0000000  0.35937135 -0.10785090\n",
              "gpa    0.1764459  0.3593714  1.00000000 -0.03994452\n",
              "rank  -0.2362336 -0.1078509 -0.03994452  1.00000000"
            ]
          },
          "metadata": {}
        }
      ]
    },
    {
      "cell_type": "code",
      "source": [
        "corrplot(correlations, method = \"circle\")"
      ],
      "metadata": {
        "colab": {
          "base_uri": "https://localhost:8080/",
          "height": 437
        },
        "id": "yVYa4wjAeHs-",
        "outputId": "2ca65d3c-51da-4f21-feff-e07a530e1ffd"
      },
      "execution_count": null,
      "outputs": [
        {
          "output_type": "display_data",
          "data": {
            "text/plain": [
              "Plot with title “”"
            ],
            "image/png": "[encoded data removed]"
          },
          "metadata": {
            "image/png": {
              "width": 420,
              "height": 420
            }
          }
        }
      ]
    },
    {
      "cell_type": "code",
      "source": [
        "# tao train/test\n",
        "set.seed(42)\n",
        "trainingRowIndex <- sample(1:nrow(mydata), 0.7*nrow(mydata), replace = FALSE)\n",
        "trainingRowIndex"
      ],
      "metadata": {
        "colab": {
          "base_uri": "https://localhost:8080/",
          "height": 278
        },
        "id": "nMilONc2doSB",
        "outputId": "0ab7a728-2d13-4ce9-e19e-0a95e35dd7db"
      },
      "execution_count": null,
      "outputs": [
        {
          "output_type": "display_data",
          "data": {
            "text/html": [
              "<style>\n",
              ".list-inline {list-style: none; margin:0; padding: 0}\n",
              ".list-inline>li {display: inline-block}\n",
              ".list-inline>li:not(:last-child)::after {content: \"\\00b7\"; padding: 0 .5ex}\n",
              "</style>\n",
              "<ol class=list-inline><li>49</li><li>321</li><li>153</li><li>74</li><li>228</li><li>146</li><li>122</li><li>395</li><li>128</li><li>303</li><li>24</li><li>327</li><li>356</li><li>89</li><li>165</li><li>110</li><li>20</li><li>370</li><li>367</li><li>297</li><li>382</li><li>283</li><li>109</li><li>5</li><li>212</li><li>348</li><li>360</li><li>259</li><li>314</li><li>298</li><li>385</li><li>158</li><li>299</li><li>377</li><li>136</li><li>292</li><li>324</li><li>390</li><li>373</li><li>378</li><li>197</li><li>4</li><li>226</li><li>215</li><li>245</li><li>114</li><li>262</li><li>130</li><li>3</li><li>258</li><li>186</li><li>138</li><li>40</li><li>372</li><li>33</li><li>103</li><li>391</li><li>357</li><li>329</li><li>157</li><li>76</li><li>265</li><li>35</li><li>221</li><li>16</li><li>220</li><li>248</li><li>325</li><li>118</li><li>383</li><li>82</li><li>380</li><li>296</li><li>149</li><li>57</li><li>100</li><li>366</li><li>91</li><li>269</li><li>181</li><li>54</li><li>288</li><li>208</li><li>246</li><li>60</li><li>285</li><li>108</li><li>126</li><li>112</li><li>72</li><li>310</li><li>1</li><li>141</li><li>206</li><li>363</li><li>42</li><li>300</li><li>337</li><li>251</li><li>336</li><li>25</li><li>191</li><li>32</li><li>238</li><li>14</li><li>111</li><li>349</li><li>313</li><li>312</li><li>242</li><li>224</li><li>289</li><li>214</li><li>95</li><li>6</li><li>252</li><li>271</li><li>34</li><li>188</li><li>254</li><li>268</li><li>387</li><li>41</li><li>193</li><li>66</li><li>152</li><li>98</li><li>295</li><li>107</li><li>291</li><li>162</li><li>124</li><li>194</li><li>282</li><li>293</li><li>185</li><li>384</li><li>37</li><li>344</li><li>113</li><li>241</li><li>342</li><li>333</li><li>78</li><li>266</li><li>156</li><li>389</li><li>97</li><li>229</li><li>227</li><li>182</li><li>218</li><li>127</li><li>31</li><li>237</li><li>43</li><li>180</li><li>305</li><li>81</li><li>187</li><li>27</li><li>30</li><li>239</li><li>320</li><li>371</li><li>75</li><li>209</li><li>201</li><li>145</li><li>62</li><li>13</li><li>223</li><li>308</li><li>264</li><li>63</li><li>388</li><li>61</li><li>116</li><li>304</li><li>287</li><li>161</li><li>28</li><li>2</li><li>159</li><li>361</li><li>243</li><li>362</li><li>347</li><li>225</li><li>12</li><li>272</li><li>364</li><li>51</li><li>277</li><li>284</li><li>381</li><li>47</li><li>56</li><li>144</li><li>10</li><li>393</li><li>247</li><li>328</li><li>316</li><li>374</li><li>93</li><li>394</li><li>84</li><li>368</li><li>219</li><li>102</li><li>171</li><li>150</li><li>154</li><li>315</li><li>55</li><li>192</li><li>58</li><li>173</li><li>200</li><li>240</li><li>85</li><li>334</li><li>195</li><li>260</li><li>142</li><li>330</li><li>139</li><li>250</li><li>18</li><li>233</li><li>36</li><li>148</li><li>71</li><li>256</li><li>235</li><li>94</li><li>133</li><li>86</li><li>163</li><li>350</li><li>168</li><li>38</li><li>106</li><li>210</li><li>90</li><li>115</li><li>105</li><li>11</li><li>164</li><li>59</li><li>352</li><li>234</li><li>309</li><li>199</li><li>167</li><li>88</li><li>155</li><li>135</li><li>302</li><li>203</li><li>196</li><li>121</li><li>375</li><li>346</li><li>160</li><li>46</li><li>286</li><li>318</li><li>80</li><li>232</li><li>120</li><li>53</li><li>365</li><li>172</li><li>244</li></ol>\n"
            ],
            "text/markdown": "1. 49\n2. 321\n3. 153\n4. 74\n5. 228\n6. 146\n7. 122\n8. 395\n9. 128\n10. 303\n11. 24\n12. 327\n13. 356\n14. 89\n15. 165\n16. 110\n17. 20\n18. 370\n19. 367\n20. 297\n21. 382\n22. 283\n23. 109\n24. 5\n25. 212\n26. 348\n27. 360\n28. 259\n29. 314\n30. 298\n31. 385\n32. 158\n33. 299\n34. 377\n35. 136\n36. 292\n37. 324\n38. 390\n39. 373\n40. 378\n41. 197\n42. 4\n43. 226\n44. 215\n45. 245\n46. 114\n47. 262\n48. 130\n49. 3\n50. 258\n51. 186\n52. 138\n53. 40\n54. 372\n55. 33\n56. 103\n57. 391\n58. 357\n59. 329\n60. 157\n61. 76\n62. 265\n63. 35\n64. 221\n65. 16\n66. 220\n67. 248\n68. 325\n69. 118\n70. 383\n71. 82\n72. 380\n73. 296\n74. 149\n75. 57\n76. 100\n77. 366\n78. 91\n79. 269\n80. 181\n81. 54\n82. 288\n83. 208\n84. 246\n85. 60\n86. 285\n87. 108\n88. 126\n89. 112\n90. 72\n91. 310\n92. 1\n93. 141\n94. 206\n95. 363\n96. 42\n97. 300\n98. 337\n99. 251\n100. 336\n101. 25\n102. 191\n103. 32\n104. 238\n105. 14\n106. 111\n107. 349\n108. 313\n109. 312\n110. 242\n111. 224\n112. 289\n113. 214\n114. 95\n115. 6\n116. 252\n117. 271\n118. 34\n119. 188\n120. 254\n121. 268\n122. 387\n123. 41\n124. 193\n125. 66\n126. 152\n127. 98\n128. 295\n129. 107\n130. 291\n131. 162\n132. 124\n133. 194\n134. 282\n135. 293\n136. 185\n137. 384\n138. 37\n139. 344\n140. 113\n141. 241\n142. 342\n143. 333\n144. 78\n145. 266\n146. 156\n147. 389\n148. 97\n149. 229\n150. 227\n151. 182\n152. 218\n153. 127\n154. 31\n155. 237\n156. 43\n157. 180\n158. 305\n159. 81\n160. 187\n161. 27\n162. 30\n163. 239\n164. 320\n165. 371\n166. 75\n167. 209\n168. 201\n169. 145\n170. 62\n171. 13\n172. 223\n173. 308\n174. 264\n175. 63\n176. 388\n177. 61\n178. 116\n179. 304\n180. 287\n181. 161\n182. 28\n183. 2\n184. 159\n185. 361\n186. 243\n187. 362\n188. 347\n189. 225\n190. 12\n191. 272\n192. 364\n193. 51\n194. 277\n195. 284\n196. 381\n197. 47\n198. 56\n199. 144\n200. 10\n201. 393\n202. 247\n203. 328\n204. 316\n205. 374\n206. 93\n207. 394\n208. 84\n209. 368\n210. 219\n211. 102\n212. 171\n213. 150\n214. 154\n215. 315\n216. 55\n217. 192\n218. 58\n219. 173\n220. 200\n221. 240\n222. 85\n223. 334\n224. 195\n225. 260\n226. 142\n227. 330\n228. 139\n229. 250\n230. 18\n231. 233\n232. 36\n233. 148\n234. 71\n235. 256\n236. 235\n237. 94\n238. 133\n239. 86\n240. 163\n241. 350\n242. 168\n243. 38\n244. 106\n245. 210\n246. 90\n247. 115\n248. 105\n249. 11\n250. 164\n251. 59\n252. 352\n253. 234\n254. 309\n255. 199\n256. 167\n257. 88\n258. 155\n259. 135\n260. 302\n261. 203\n262. 196\n263. 121\n264. 375\n265. 346\n266. 160\n267. 46\n268. 286\n269. 318\n270. 80\n271. 232\n272. 120\n273. 53\n274. 365\n275. 172\n276. 244\n\n\n",
            "text/latex": "\\begin{enumerate*}\n\\item 49\n\\item 321\n\\item 153\n\\item 74\n\\item 228\n\\item 146\n\\item 122\n\\item 395\n\\item 128\n\\item 303\n\\item 24\n\\item 327\n\\item 356\n\\item 89\n\\item 165\n\\item 110\n\\item 20\n\\item 370\n\\item 367\n\\item 297\n\\item 382\n\\item 283\n\\item 109\n\\item 5\n\\item 212\n\\item 348\n\\item 360\n\\item 259\n\\item 314\n\\item 298\n\\item 385\n\\item 158\n\\item 299\n\\item 377\n\\item 136\n\\item 292\n\\item 324\n\\item 390\n\\item 373\n\\item 378\n\\item 197\n\\item 4\n\\item 226\n\\item 215\n\\item 245\n\\item 114\n\\item 262\n\\item 130\n\\item 3\n\\item 258\n\\item 186\n\\item 138\n\\item 40\n\\item 372\n\\item 33\n\\item 103\n\\item 391\n\\item 357\n\\item 329\n\\item 157\n\\item 76\n\\item 265\n\\item 35\n\\item 221\n\\item 16\n\\item 220\n\\item 248\n\\item 325\n\\item 118\n\\item 383\n\\item 82\n\\item 380\n\\item 296\n\\item 149\n\\item 57\n\\item 100\n\\item 366\n\\item 91\n\\item 269\n\\item 181\n\\item 54\n\\item 288\n\\item 208\n\\item 246\n\\item 60\n\\item 285\n\\item 108\n\\item 126\n\\item 112\n\\item 72\n\\item 310\n\\item 1\n\\item 141\n\\item 206\n\\item 363\n\\item 42\n\\item 300\n\\item 337\n\\item 251\n\\item 336\n\\item 25\n\\item 191\n\\item 32\n\\item 238\n\\item 14\n\\item 111\n\\item 349\n\\item 313\n\\item 312\n\\item 242\n\\item 224\n\\item 289\n\\item 214\n\\item 95\n\\item 6\n\\item 252\n\\item 271\n\\item 34\n\\item 188\n\\item 254\n\\item 268\n\\item 387\n\\item 41\n\\item 193\n\\item 66\n\\item 152\n\\item 98\n\\item 295\n\\item 107\n\\item 291\n\\item 162\n\\item 124\n\\item 194\n\\item 282\n\\item 293\n\\item 185\n\\item 384\n\\item 37\n\\item 344\n\\item 113\n\\item 241\n\\item 342\n\\item 333\n\\item 78\n\\item 266\n\\item 156\n\\item 389\n\\item 97\n\\item 229\n\\item 227\n\\item 182\n\\item 218\n\\item 127\n\\item 31\n\\item 237\n\\item 43\n\\item 180\n\\item 305\n\\item 81\n\\item 187\n\\item 27\n\\item 30\n\\item 239\n\\item 320\n\\item 371\n\\item 75\n\\item 209\n\\item 201\n\\item 145\n\\item 62\n\\item 13\n\\item 223\n\\item 308\n\\item 264\n\\item 63\n\\item 388\n\\item 61\n\\item 116\n\\item 304\n\\item 287\n\\item 161\n\\item 28\n\\item 2\n\\item 159\n\\item 361\n\\item 243\n\\item 362\n\\item 347\n\\item 225\n\\item 12\n\\item 272\n\\item 364\n\\item 51\n\\item 277\n\\item 284\n\\item 381\n\\item 47\n\\item 56\n\\item 144\n\\item 10\n\\item 393\n\\item 247\n\\item 328\n\\item 316\n\\item 374\n\\item 93\n\\item 394\n\\item 84\n\\item 368\n\\item 219\n\\item 102\n\\item 171\n\\item 150\n\\item 154\n\\item 315\n\\item 55\n\\item 192\n\\item 58\n\\item 173\n\\item 200\n\\item 240\n\\item 85\n\\item 334\n\\item 195\n\\item 260\n\\item 142\n\\item 330\n\\item 139\n\\item 250\n\\item 18\n\\item 233\n\\item 36\n\\item 148\n\\item 71\n\\item 256\n\\item 235\n\\item 94\n\\item 133\n\\item 86\n\\item 163\n\\item 350\n\\item 168\n\\item 38\n\\item 106\n\\item 210\n\\item 90\n\\item 115\n\\item 105\n\\item 11\n\\item 164\n\\item 59\n\\item 352\n\\item 234\n\\item 309\n\\item 199\n\\item 167\n\\item 88\n\\item 155\n\\item 135\n\\item 302\n\\item 203\n\\item 196\n\\item 121\n\\item 375\n\\item 346\n\\item 160\n\\item 46\n\\item 286\n\\item 318\n\\item 80\n\\item 232\n\\item 120\n\\item 53\n\\item 365\n\\item 172\n\\item 244\n\\end{enumerate*}\n",
            "text/plain": [
              "  [1]  49 321 153  74 228 146 122 395 128 303  24 327 356  89 165 110  20 370\n",
              " [19] 367 297 382 283 109   5 212 348 360 259 314 298 385 158 299 377 136 292\n",
              " [37] 324 390 373 378 197   4 226 215 245 114 262 130   3 258 186 138  40 372\n",
              " [55]  33 103 391 357 329 157  76 265  35 221  16 220 248 325 118 383  82 380\n",
              " [73] 296 149  57 100 366  91 269 181  54 288 208 246  60 285 108 126 112  72\n",
              " [91] 310   1 141 206 363  42 300 337 251 336  25 191  32 238  14 111 349 313\n",
              "[109] 312 242 224 289 214  95   6 252 271  34 188 254 268 387  41 193  66 152\n",
              "[127]  98 295 107 291 162 124 194 282 293 185 384  37 344 113 241 342 333  78\n",
              "[145] 266 156 389  97 229 227 182 218 127  31 237  43 180 305  81 187  27  30\n",
              "[163] 239 320 371  75 209 201 145  62  13 223 308 264  63 388  61 116 304 287\n",
              "[181] 161  28   2 159 361 243 362 347 225  12 272 364  51 277 284 381  47  56\n",
              "[199] 144  10 393 247 328 316 374  93 394  84 368 219 102 171 150 154 315  55\n",
              "[217] 192  58 173 200 240  85 334 195 260 142 330 139 250  18 233  36 148  71\n",
              "[235] 256 235  94 133  86 163 350 168  38 106 210  90 115 105  11 164  59 352\n",
              "[253] 234 309 199 167  88 155 135 302 203 196 121 375 346 160  46 286 318  80\n",
              "[271] 232 120  53 365 172 244"
            ]
          },
          "metadata": {}
        }
      ]
    },
    {
      "cell_type": "code",
      "source": [
        "#train data\n",
        "trainData <- mydata[trainingRowIndex, ]\n",
        "nrow(trainData)"
      ],
      "metadata": {
        "colab": {
          "base_uri": "https://localhost:8080/",
          "height": 34
        },
        "id": "ewKTcNScfatp",
        "outputId": "383e6c59-bb49-4887-b22f-bf38f7a7540b"
      },
      "execution_count": null,
      "outputs": [
        {
          "output_type": "display_data",
          "data": {
            "text/html": [
              "276"
            ],
            "text/markdown": "276",
            "text/latex": "276",
            "text/plain": [
              "[1] 276"
            ]
          },
          "metadata": {}
        }
      ]
    },
    {
      "cell_type": "code",
      "source": [
        "#test\n",
        "testData <- mydata[-trainingRowIndex, ]\n",
        "nrow(testData)"
      ],
      "metadata": {
        "colab": {
          "base_uri": "https://localhost:8080/",
          "height": 34
        },
        "id": "LmsdA-yRfWgj",
        "outputId": "d2ace838-2264-465a-e7ea-247f9753d726"
      },
      "execution_count": null,
      "outputs": [
        {
          "output_type": "display_data",
          "data": {
            "text/html": [
              "119"
            ],
            "text/markdown": "119",
            "text/latex": "119",
            "text/plain": [
              "[1] 119"
            ]
          },
          "metadata": {}
        }
      ]
    },
    {
      "cell_type": "markdown",
      "source": [
        "## Model"
      ],
      "metadata": {
        "id": "tc-ZXqaBhzml"
      }
    },
    {
      "cell_type": "code",
      "source": [
        "mylogit <- glm(admit ~ gre + gpa + rank, data = trainData, family = \"binomial\")\n",
        "summary(mylogit)"
      ],
      "metadata": {
        "id": "luGJmsVrfqfG",
        "colab": {
          "base_uri": "https://localhost:8080/",
          "height": 450
        },
        "outputId": "9e10b9fc-bf5e-410e-97df-3b68af414f84"
      },
      "execution_count": null,
      "outputs": [
        {
          "output_type": "display_data",
          "data": {
            "text/plain": [
              "\n",
              "Call:\n",
              "glm(formula = admit ~ gre + gpa + rank, family = \"binomial\", \n",
              "    data = trainData)\n",
              "\n",
              "Deviance Residuals: \n",
              "    Min       1Q   Median       3Q      Max  \n",
              "-1.5850  -0.9158  -0.6573   1.1423   2.0949  \n",
              "\n",
              "Coefficients:\n",
              "             Estimate Std. Error z value Pr(>|z|)    \n",
              "(Intercept) -4.097830   1.354537  -3.025 0.002484 ** \n",
              "gre          0.001636   0.001327   1.233 0.217553    \n",
              "gpa          1.057381   0.391660   2.700 0.006939 ** \n",
              "rank        -0.487834   0.147554  -3.306 0.000946 ***\n",
              "---\n",
              "Signif. codes:  0 ‘***’ 0.001 ‘**’ 0.01 ‘*’ 0.05 ‘.’ 0.1 ‘ ’ 1\n",
              "\n",
              "(Dispersion parameter for binomial family taken to be 1)\n",
              "\n",
              "    Null deviance: 352.73  on 275  degrees of freedom\n",
              "Residual deviance: 326.73  on 272  degrees of freedom\n",
              "AIC: 334.73\n",
              "\n",
              "Number of Fisher Scoring iterations: 4\n"
            ]
          },
          "metadata": {}
        }
      ]
    },
    {
      "cell_type": "code",
      "source": [
        "pred <- predict(mylogit, newdata = testData, type = \"response\")\n",
        "pred_value <- ifelse(pred > 0.5, 1, 0)"
      ],
      "metadata": {
        "id": "r_Ac8SDWjKwj"
      },
      "execution_count": null,
      "outputs": []
    },
    {
      "cell_type": "code",
      "source": [
        "result <- data.frame(testAdmit = testData$admit[30:40], pred_value[30:40])\n",
        "result"
      ],
      "metadata": {
        "colab": {
          "base_uri": "https://localhost:8080/",
          "height": 443
        },
        "id": "WXmshPNcjeIx",
        "outputId": "aa121d3f-955b-4fbb-a1cf-b905cc003c2d"
      },
      "execution_count": null,
      "outputs": [
        {
          "output_type": "display_data",
          "data": {
            "text/html": [
              "<table class=\"dataframe\">\n",
              "<caption>A data.frame: 11 × 2</caption>\n",
              "<thead>\n",
              "\t<tr><th></th><th scope=col>testAdmit</th><th scope=col>pred_value.30.40.</th></tr>\n",
              "\t<tr><th></th><th scope=col>&lt;int&gt;</th><th scope=col>&lt;dbl&gt;</th></tr>\n",
              "</thead>\n",
              "<tbody>\n",
              "\t<tr><th scope=row>97</th><td>0</td><td>0</td></tr>\n",
              "\t<tr><th scope=row>100</th><td>0</td><td>0</td></tr>\n",
              "\t<tr><th scope=row>102</th><td>0</td><td>0</td></tr>\n",
              "\t<tr><th scope=row>105</th><td>1</td><td>1</td></tr>\n",
              "\t<tr><th scope=row>118</th><td>0</td><td>1</td></tr>\n",
              "\t<tr><th scope=row>120</th><td>0</td><td>0</td></tr>\n",
              "\t<tr><th scope=row>124</th><td>0</td><td>0</td></tr>\n",
              "\t<tr><th scope=row>126</th><td>0</td><td>0</td></tr>\n",
              "\t<tr><th scope=row>130</th><td>0</td><td>0</td></tr>\n",
              "\t<tr><th scope=row>132</th><td>0</td><td>0</td></tr>\n",
              "\t<tr><th scope=row>133</th><td>0</td><td>0</td></tr>\n",
              "</tbody>\n",
              "</table>\n"
            ],
            "text/markdown": "\nA data.frame: 11 × 2\n\n| <!--/--> | testAdmit &lt;int&gt; | pred_value.30.40. &lt;dbl&gt; |\n|---|---|---|\n| 97 | 0 | 0 |\n| 100 | 0 | 0 |\n| 102 | 0 | 0 |\n| 105 | 1 | 1 |\n| 118 | 0 | 1 |\n| 120 | 0 | 0 |\n| 124 | 0 | 0 |\n| 126 | 0 | 0 |\n| 130 | 0 | 0 |\n| 132 | 0 | 0 |\n| 133 | 0 | 0 |\n\n",
            "text/latex": "A data.frame: 11 × 2\n\\begin{tabular}{r|ll}\n  & testAdmit & pred\\_value.30.40.\\\\\n  & <int> & <dbl>\\\\\n\\hline\n\t97 & 0 & 0\\\\\n\t100 & 0 & 0\\\\\n\t102 & 0 & 0\\\\\n\t105 & 1 & 1\\\\\n\t118 & 0 & 1\\\\\n\t120 & 0 & 0\\\\\n\t124 & 0 & 0\\\\\n\t126 & 0 & 0\\\\\n\t130 & 0 & 0\\\\\n\t132 & 0 & 0\\\\\n\t133 & 0 & 0\\\\\n\\end{tabular}\n",
            "text/plain": [
              "    testAdmit pred_value.30.40.\n",
              "97  0         0                \n",
              "100 0         0                \n",
              "102 0         0                \n",
              "105 1         1                \n",
              "118 0         1                \n",
              "120 0         0                \n",
              "124 0         0                \n",
              "126 0         0                \n",
              "130 0         0                \n",
              "132 0         0                \n",
              "133 0         0                "
            ]
          },
          "metadata": {}
        }
      ]
    },
    {
      "cell_type": "code",
      "source": [
        "# solution 1\n",
        "accuracy <- table(pred_value, testData[,\"admit\"])\n",
        "accuracy = sum(diag(accuracy))/ sum(accuracy)\n",
        "accuracy"
      ],
      "metadata": {
        "colab": {
          "base_uri": "https://localhost:8080/",
          "height": 34
        },
        "id": "2WEZ-FOejeRC",
        "outputId": "acb9bd62-3b3b-470e-dccb-0038f0f0e244"
      },
      "execution_count": null,
      "outputs": [
        {
          "output_type": "display_data",
          "data": {
            "text/html": [
              "0.689075630252101"
            ],
            "text/markdown": "0.689075630252101",
            "text/latex": "0.689075630252101",
            "text/plain": [
              "[1] 0.6890756"
            ]
          },
          "metadata": {}
        }
      ]
    },
    {
      "cell_type": "code",
      "source": [
        "# sulution 2\n",
        "misClassificError <- mean(pred_value != testData$admit)\n",
        "1 - misClassificError"
      ],
      "metadata": {
        "colab": {
          "base_uri": "https://localhost:8080/",
          "height": 34
        },
        "id": "Mpt6Y3LYg_Ht",
        "outputId": "34d0544a-a898-4ed2-90b4-8f853507b0a4"
      },
      "execution_count": null,
      "outputs": [
        {
          "output_type": "display_data",
          "data": {
            "text/html": [
              "0.689075630252101"
            ],
            "text/markdown": "0.689075630252101",
            "text/latex": "0.689075630252101",
            "text/plain": [
              "[1] 0.6890756"
            ]
          },
          "metadata": {}
        }
      ]
    },
    {
      "cell_type": "code",
      "source": [
        "install.packages(\"caret\")\n",
        "library(\"caret\")"
      ],
      "metadata": {
        "colab": {
          "base_uri": "https://localhost:8080/"
        },
        "id": "LYfbHthFhChe",
        "outputId": "db86042d-0f98-4ebc-db3f-c47bbc11b068"
      },
      "execution_count": null,
      "outputs": [
        {
          "output_type": "stream",
          "name": "stderr",
          "text": [
            "Installing package into ‘/usr/local/lib/R/site-library’\n",
            "(as ‘lib’ is unspecified)\n",
            "\n",
            "also installing the dependencies ‘listenv’, ‘parallelly’, ‘future’, ‘globals’, ‘future.apply’, ‘progressr’, ‘numDeriv’, ‘SQUAREM’, ‘lava’, ‘prodlim’, ‘proxy’, ‘iterators’, ‘gower’, ‘hardhat’, ‘ipred’, ‘timeDate’, ‘e1071’, ‘foreach’, ‘ModelMetrics’, ‘plyr’, ‘pROC’, ‘recipes’, ‘reshape2’\n",
            "\n",
            "\n",
            "Loading required package: lattice\n",
            "\n",
            "Warning message in system(\"timedatectl\", intern = TRUE):\n",
            "“running command 'timedatectl' had status 1”\n"
          ]
        }
      ]
    },
    {
      "cell_type": "code",
      "source": [
        "confusionMatrix(as.factor(pred_value), as.factor(testData$admit))"
      ],
      "metadata": {
        "colab": {
          "base_uri": "https://localhost:8080/",
          "height": 486
        },
        "id": "Nwl0Qjr1hKq3",
        "outputId": "99736355-40ef-48bf-e337-b9233781ee7d"
      },
      "execution_count": null,
      "outputs": [
        {
          "output_type": "display_data",
          "data": {
            "text/plain": [
              "Confusion Matrix and Statistics\n",
              "\n",
              "          Reference\n",
              "Prediction  0  1\n",
              "         0 74 25\n",
              "         1 12  8\n",
              "                                          \n",
              "               Accuracy : 0.6891          \n",
              "                 95% CI : (0.5977, 0.7707)\n",
              "    No Information Rate : 0.7227          \n",
              "    P-Value [Acc > NIR] : 0.82224         \n",
              "                                          \n",
              "                  Kappa : 0.1171          \n",
              "                                          \n",
              " Mcnemar's Test P-Value : 0.04852         \n",
              "                                          \n",
              "            Sensitivity : 0.8605          \n",
              "            Specificity : 0.2424          \n",
              "         Pos Pred Value : 0.7475          \n",
              "         Neg Pred Value : 0.4000          \n",
              "             Prevalence : 0.7227          \n",
              "         Detection Rate : 0.6218          \n",
              "   Detection Prevalence : 0.8319          \n",
              "      Balanced Accuracy : 0.5514          \n",
              "                                          \n",
              "       'Positive' Class : 0               \n",
              "                                          "
            ]
          },
          "metadata": {}
        }
      ]
    },
    {
      "cell_type": "code",
      "source": [
        "y1 <- predict(mylogit,\n",
        "              newdata = data.frame(gre = c(580, 800),\n",
        "                                    gpa = c(3.4, 4),\n",
        "                                    rank = c(3, 1)),\n",
        "              type = \"response\")\n",
        "y1"
      ],
      "metadata": {
        "id": "aJly5SL5icHq",
        "colab": {
          "base_uri": "https://localhost:8080/",
          "height": 34
        },
        "outputId": "abde8f7c-c5ab-4b1c-f56d-0c2abf735885"
      },
      "execution_count": null,
      "outputs": [
        {
          "output_type": "display_data",
          "data": {
            "text/html": [
              "<style>\n",
              ".dl-inline {width: auto; margin:0; padding: 0}\n",
              ".dl-inline>dt, .dl-inline>dd {float: none; width: auto; display: inline-block}\n",
              ".dl-inline>dt::after {content: \":\\0020\"; padding-right: .5ex}\n",
              ".dl-inline>dt:not(:first-of-type) {padding-left: .5ex}\n",
              "</style><dl class=dl-inline><dt>1</dt><dd>0.265551607616111</dd><dt>2</dt><dd>0.721662664645236</dd></dl>\n"
            ],
            "text/markdown": "1\n:   0.2655516076161112\n:   0.721662664645236\n\n",
            "text/latex": "\\begin{description*}\n\\item[1] 0.265551607616111\n\\item[2] 0.721662664645236\n\\end{description*}\n",
            "text/plain": [
              "        1         2 \n",
              "0.2655516 0.7216627 "
            ]
          },
          "metadata": {}
        }
      ]
    },
    {
      "cell_type": "code",
      "source": [
        "y1 <- ifelse(y1 > 0.5, 1, 0)\n",
        "y1"
      ],
      "metadata": {
        "colab": {
          "base_uri": "https://localhost:8080/",
          "height": 34
        },
        "id": "cPvlFpntkHmo",
        "outputId": "194e031c-247a-4bb0-dd42-4f2ce1f3027c"
      },
      "execution_count": null,
      "outputs": [
        {
          "output_type": "display_data",
          "data": {
            "text/html": [
              "<style>\n",
              ".dl-inline {width: auto; margin:0; padding: 0}\n",
              ".dl-inline>dt, .dl-inline>dd {float: none; width: auto; display: inline-block}\n",
              ".dl-inline>dt::after {content: \":\\0020\"; padding-right: .5ex}\n",
              ".dl-inline>dt:not(:first-of-type) {padding-left: .5ex}\n",
              "</style><dl class=dl-inline><dt>1</dt><dd>0</dd><dt>2</dt><dd>1</dd></dl>\n"
            ],
            "text/markdown": "1\n:   02\n:   1\n\n",
            "text/latex": "\\begin{description*}\n\\item[1] 0\n\\item[2] 1\n\\end{description*}\n",
            "text/plain": [
              "1 2 \n",
              "0 1 "
            ]
          },
          "metadata": {}
        }
      ]
    },
    {
      "cell_type": "code",
      "source": [
        ""
      ],
      "metadata": {
        "id": "_YaWacMRmR7U"
      },
      "execution_count": null,
      "outputs": []
    }
  ]
}