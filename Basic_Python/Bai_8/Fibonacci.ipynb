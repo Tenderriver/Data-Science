{
 "cells": [
  {
   "cell_type": "code",
   "execution_count": 7,
   "id": "1fa6f356",
   "metadata": {},
   "outputs": [
    {
     "name": "stdout",
     "output_type": "stream",
     "text": [
      "Nhap so nguyen n: 8\n",
      "Day so Fibonacci:  [0, 1, 1, 2, 3, 5, 8, 13]\n"
     ]
    }
   ],
   "source": [
    "lst=[a,b]\n",
    "def day_fibonacci(n):\n",
    "    a=0\n",
    "    b=1\n",
    "    c=0\n",
    "    for i in range (3, n+1):\n",
    "        c= a+b\n",
    "        lst.append(c)\n",
    "        a= b\n",
    "        b= c\n",
    "    return lst\n",
    "print(\"Day so Fibonacci: \", day_fibonacci(int(input(\"Nhap so nguyen n: \"))))"
   ]
  },
  {
   "cell_type": "code",
   "execution_count": 8,
   "id": "6e5c2753",
   "metadata": {},
   "outputs": [],
   "source": [
    "def day_fibonacci(n):\n",
    "    if n==1:\n",
    "        return 0\n",
    "    elif n==2:\n",
    "        return 1\n",
    "    else:\n",
    "        return day_fibonacci(n-1)+day_fibonacci(n-2)\n",
    "        "
   ]
  },
  {
   "cell_type": "code",
   "execution_count": 9,
   "id": "130b18e5",
   "metadata": {},
   "outputs": [
    {
     "data": {
      "text/plain": [
       "13"
      ]
     },
     "execution_count": 9,
     "metadata": {},
     "output_type": "execute_result"
    }
   ],
   "source": [
    "day_fibonacci(8)"
   ]
  },
  {
   "cell_type": "code",
   "execution_count": null,
   "id": "bb4433e8",
   "metadata": {},
   "outputs": [],
   "source": []
  }
 ],
 "metadata": {
  "kernelspec": {
   "display_name": "Python 3",
   "language": "python",
   "name": "python3"
  },
  "language_info": {
   "codemirror_mode": {
    "name": "ipython",
    "version": 3
   },
   "file_extension": ".py",
   "mimetype": "text/x-python",
   "name": "python",
   "nbconvert_exporter": "python",
   "pygments_lexer": "ipython3",
   "version": "3.8.8"
  }
 },
 "nbformat": 4,
 "nbformat_minor": 5
}
