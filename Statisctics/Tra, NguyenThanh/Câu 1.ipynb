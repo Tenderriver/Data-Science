{
 "cells": [
  {
   "cell_type": "raw",
   "metadata": {},
   "source": [
    "Cho 3 điểm A, B, C có tọa độ trong mặt phẳng xOy như trong hình vẽ.\n",
    "1.1) Trong 2 điểm B và C, điểm nào gần với điểm A hơn ? Tại sao ?\n",
    "1.2) Giả sử cho phép di chuyển theo các hướng song song với các trục Ox, Oy\n",
    "và song song với đường phân giác của xOy (45o).\n",
    "Tính quãng đường di chuyển từ điểm A đến điểm B."
   ]
  },
  {
   "cell_type": "code",
   "execution_count": 1,
   "metadata": {},
   "outputs": [],
   "source": [
    "import numpy as np\n",
    "import math\n",
    "from numpy.linalg import norm"
   ]
  },
  {
   "cell_type": "code",
   "execution_count": 2,
   "metadata": {},
   "outputs": [],
   "source": [
    "A = np.array([20,10])\n",
    "B = np.array([70,30])\n",
    "C = np.array([50,50])"
   ]
  },
  {
   "cell_type": "code",
   "execution_count": 3,
   "metadata": {},
   "outputs": [
    {
     "name": "stdout",
     "output_type": "stream",
     "text": [
      "AB =  53.85164807134504\n",
      "AC =  50.0\n"
     ]
    }
   ],
   "source": [
    "#Khoảng cách AB, AC:\n",
    "AB = norm(B-A)\n",
    "AC = norm(C-A)\n",
    "print('AB = ', AB)\n",
    "print('AC = ', AC)\n",
    "# Điểm C gần điểm A hơn điểm B"
   ]
  },
  {
   "cell_type": "code",
   "execution_count": 4,
   "metadata": {},
   "outputs": [
    {
     "data": {
      "text/plain": [
       "50.0"
      ]
     },
     "execution_count": 4,
     "metadata": {},
     "output_type": "execute_result"
    }
   ],
   "source": [
    "# Khoảng cách AC nếu chỉ di chuyển theo các hướng song song với các trục Ox, Oy và song song với đường phân giác của xOy (45 độ)\n",
    "AB_chess = norm(B-A, math.inf)\n",
    "AB_chess"
   ]
  },
  {
   "cell_type": "code",
   "execution_count": 8,
   "metadata": {},
   "outputs": [
    {
     "data": {
      "text/plain": [
       "51.04468722001462"
      ]
     },
     "execution_count": 8,
     "metadata": {},
     "output_type": "execute_result"
    }
   ],
   "source": [
    "norm(B-A,3)"
   ]
  },
  {
   "cell_type": "code",
   "execution_count": null,
   "metadata": {},
   "outputs": [],
   "source": []
  }
 ],
 "metadata": {
  "kernelspec": {
   "display_name": "Python 3",
   "language": "python",
   "name": "python3"
  },
  "language_info": {
   "codemirror_mode": {
    "name": "ipython",
    "version": 3
   },
   "file_extension": ".py",
   "mimetype": "text/x-python",
   "name": "python",
   "nbconvert_exporter": "python",
   "pygments_lexer": "ipython3",
   "version": "3.8.8"
  }
 },
 "nbformat": 4,
 "nbformat_minor": 4
}
