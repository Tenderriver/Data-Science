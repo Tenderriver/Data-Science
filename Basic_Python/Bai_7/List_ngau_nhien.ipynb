{
 "cells": [
  {
   "cell_type": "code",
   "execution_count": 9,
   "id": "9effea9c",
   "metadata": {},
   "outputs": [
    {
     "name": "stdout",
     "output_type": "stream",
     "text": [
      "Nhap vao so nguyen n: 10\n",
      "[20, 40, 49, 59, 19, 30, 44, 12, 72, 97]\n",
      "[49, 59, 19, 97]\n",
      "Tong so nguyen to trong list: 224\n"
     ]
    }
   ],
   "source": [
    "import random\n",
    "n=int(input(\"Nhap vao so nguyen n: \"))\n",
    "a=[]\n",
    "while len(a)<n:\n",
    "    a.append(random.randrange(0,100))\n",
    "print(a)\n",
    "b=[]\n",
    "for i in a:\n",
    "    for j in (2,i-1):\n",
    "        if i%j==0:\n",
    "            break\n",
    "    else:\n",
    "        b.append(i)\n",
    "print(b)\n",
    "print(\"Tong so nguyen to trong list:\", sum(b))\n",
    "        \n",
    "    "
   ]
  },
  {
   "cell_type": "code",
   "execution_count": null,
   "id": "4287c9cc",
   "metadata": {},
   "outputs": [],
   "source": []
  },
  {
   "cell_type": "code",
   "execution_count": null,
   "id": "dd0aac41",
   "metadata": {},
   "outputs": [],
   "source": [
    "10\n"
   ]
  }
 ],
 "metadata": {
  "kernelspec": {
   "display_name": "Python 3",
   "language": "python",
   "name": "python3"
  },
  "language_info": {
   "codemirror_mode": {
    "name": "ipython",
    "version": 3
   },
   "file_extension": ".py",
   "mimetype": "text/x-python",
   "name": "python",
   "nbconvert_exporter": "python",
   "pygments_lexer": "ipython3",
   "version": "3.8.8"
  }
 },
 "nbformat": 4,
 "nbformat_minor": 5
}
