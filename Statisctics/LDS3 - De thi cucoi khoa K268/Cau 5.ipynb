{
 "cells": [
  {
   "cell_type": "markdown",
   "id": "67bf0fc0",
   "metadata": {},
   "source": [
    "Câu 5. Kiểm định trung bình 2 mẫu (1 điểm)\n",
    "Hai tập tin Duong_huyet_TRUOC.txt và Duong_huyet_SAU.txt lưu trữ 2 mẫu dữ liệu về chỉ số đường\n",
    "huyết (mg/dL) của các bệnh nhân được đo trước và sau khi sử dụng loại thuốc T.\n",
    "5.1) Đọc và xem thông tin của dữ liệu.\n",
    "5.2) Với  = 0.05, hãy cho kết luận về giả thuyết H0: “Hai quần thể có cùng giá trị trung bình.”\n",
    "bằng 2 phương pháp: a) Tính toán truyền thống, VÀ b) Dùng các hàm thống kê có sẵn."
   ]
  },
  {
   "cell_type": "code",
   "execution_count": null,
   "id": "043bfca4",
   "metadata": {},
   "outputs": [],
   "source": [
    "import numpy as np\n",
    "import scipy.stats as stats\n",
    "from math         import sqrt\n",
    "from numpy        import mean\n",
    "from numpy.random import seed, randn\n",
    "\n",
    "from scipy.stats import t, ttest_rel"
   ]
  },
  {
   "cell_type": "code",
   "execution_count": 5,
   "id": "ba6f75c3",
   "metadata": {},
   "outputs": [
    {
     "name": "stdout",
     "output_type": "stream",
     "text": [
      "[134 130 140 151 143 134 136 144 150 135 160 141 143 140 138 141 148 146\n",
      " 140 146 151 138 151 139 151 128 146 147 152 142 144 134 142 146 142 136\n",
      " 122 134 145 147]\n",
      "[130 145 126 146 164 130 132 152 145 129 133 155 140 127 139 137 131 126\n",
      " 145 148 125 132 126 126 126 135 131 129 147 136 129 136 156 146 130 146\n",
      " 132 142 132 132]\n"
     ]
    }
   ],
   "source": [
    "#5.1\n",
    "# Tập tin 1\n",
    "f       = open('Duong_huyet_TRUOC.txt', 'r')\n",
    "content = f.read()\n",
    "f.close()\n",
    "dh1 = content.split()\n",
    "dh1 = list(map(int, dh1))\n",
    "dh1_array = np.array(dh1)\n",
    "print(dh1_array)\n",
    "\n",
    "# Tập tin 2\n",
    "f       = open('Duong_huyet_SAU.txt', 'r')\n",
    "content = f.read()\n",
    "f.close()\n",
    "dh2 = content.split()\n",
    "dh2 = list(map(int, dh2))\n",
    "dh2_array = np.array(dh2)\n",
    "print(dh2_array)\n"
   ]
  },
  {
   "cell_type": "code",
   "execution_count": 3,
   "id": "704852c9",
   "metadata": {},
   "outputs": [
    {
     "name": "stdout",
     "output_type": "stream",
     "text": [
      "------------------------------------------\n",
      "Các giả thuyết kiểm định                  \n",
      "    H0: Mean_1 = Mean_2                   \n",
      "    Ha: Mean_1 <> Mean_2                  \n",
      "------------------------------------------\n",
      "\n",
      "**** Phương pháp CRITICAL VALUE (giá trị tới hạn)\n",
      "    - critical value = 1.6849, statistic = 2.6114\n",
      "    Bác bỏ H0 ==> Mean_1 <> Mean_2\n",
      "\n",
      "**** Phương pháp TRỊ SỐ p (p-value) ----\n",
      "    - alpha = 0.05, p = 0.01081\n",
      "    Bác bỏ H0 ==> Mean_1 <> Mean_2\n"
     ]
    }
   ],
   "source": [
    "#5.2\n",
    "\n",
    "print('------------------------------------------')\n",
    "print('Các giả thuyết kiểm định                  ')\n",
    "print('    H0: Mean_1 = Mean_2                   ')\n",
    "print('    Ha: Mean_1 <> Mean_2                  ')\n",
    "print('------------------------------------------')\n",
    "alpha            = .05\n",
    "confidence_level = 1 - alpha\n",
    "\n",
    "t, p = stats.ttest_ind(dh1_array, dh2_array)\n",
    "\n",
    "##------------------------------------------------------------------------------\n",
    "print('\\n**** Phương pháp CRITICAL VALUE (giá trị tới hạn)')\n",
    "##------------------------------------------------------------------------------    \n",
    "df       = len(dh1_array) - 1\n",
    "critical = stats.t.ppf(confidence_level, df)\n",
    "print('    - critical value = %.4f, statistic = %.4f' % (critical, t))\n",
    "\n",
    "if (abs(t) >= critical):\n",
    "    print('    Bác bỏ H0 ==> Mean_1 <> Mean_2')\n",
    "else:\n",
    "    print('    KHÔNG bác bỏ H0 ==> Mean_1 = Mean_2')\n",
    "\n",
    "\n",
    "##------------------------------------------------------------------------------\n",
    "print('\\n**** Phương pháp TRỊ SỐ p (p-value) ----')\n",
    "##------------------------------------------------------------------------------    \n",
    "print('    - alpha = %.2f, p = %.5f' % (alpha, p))\n",
    "\n",
    "if (p <= alpha):\n",
    "    print('    Bác bỏ H0 ==> Mean_1 <> Mean_2')\n",
    "else:\n",
    "    print('    KHÔNG bác bỏ H0 ==> Mean_1 = Mean_2')\n",
    "\n",
    "\n"
   ]
  },
  {
   "cell_type": "code",
   "execution_count": 13,
   "id": "81fb6271",
   "metadata": {},
   "outputs": [
    {
     "name": "stdout",
     "output_type": "stream",
     "text": [
      "t = 2.613, df = 39, cv = 1.685, p = 0.013\n",
      "(t >  critical value) ==> REJECT the H0 that the means are equal.\n",
      "(p <= alpha) ==> REJECT the H0 that the means are equal.\n",
      "\n",
      "t = 2.613, p = 0.013\n",
      "(p <= alpha) ==> REJECT the H0 that the means are equal.\n"
     ]
    }
   ],
   "source": [
    "#5.2\n",
    "'''----------------------------------------------------------------------------\n",
    "   Cách 1: Tính toán truyền thống             \n",
    "----------------------------------------------------------------------------'''\n",
    "\n",
    "#------------------------------------------------------------------------------\n",
    "# Function for calculating the t-test for two DEPENDENT samples\n",
    "#------------------------------------------------------------------------------\n",
    "def dependent_T_test(data1, data2, alpha):\n",
    "  \n",
    "    # Calculate 2 means\n",
    "    mean1, mean2 = mean(data1), mean(data2)\n",
    "    \n",
    "    # Number of paired samples\n",
    "    n = len(data1)\n",
    "    \n",
    "    # Sum squared difference between observations\n",
    "    d1 = sum([(data1[i] - data2[i])**2 for i in range(n)])\n",
    "    \n",
    "    # Sum difference between observations\n",
    "    d2 = sum([data1[i] - data2[i] for i in range(n)])\n",
    "    \n",
    "    # Standard deviation of the difference between means\n",
    "    sd = sqrt((d1 - (d2**2 / n)) / (n - 1))\n",
    "    \n",
    "    # Standard error of the difference between the means\n",
    "    sed = sd / sqrt(n)\n",
    "    \n",
    "    # Calculate the t statistic\n",
    "    t_stat = (mean1 - mean2) / sed\n",
    "\n",
    "    # Degrees of freedom\n",
    "    df = n - 1\n",
    "\n",
    "    # Calculate the critical value\n",
    "    cv = t.ppf(1.0 - alpha, df)\n",
    "  \n",
    "    # calculate the p-value\n",
    "    p = (1.0 - t.cdf(abs(t_stat), df)) * 2.0\n",
    "    \n",
    "    # Return everything\n",
    "    return t_stat, df, cv, p\n",
    "\n",
    "\n",
    "#------------------------------------------------------------------------------\n",
    "# Calculate the t test\n",
    "#------------------------------------------------------------------------------\n",
    "    \n",
    "alpha = 0.05\n",
    "\n",
    "t_stat, df, cv, p = dependent_T_test(dh1_array, dh2_array, alpha)\n",
    "print('t = %.3f, df = %d, cv = %.3f, p = %.3f' % (t_stat, df, cv, p))\n",
    "\n",
    "# Interpret via critical value\n",
    "if abs(t_stat) <= cv:\n",
    "    print('(t <= critical value) ==> ACCEPT the H0 that the means are equal.')\n",
    "else:\n",
    "    print('(t >  critical value) ==> REJECT the H0 that the means are equal.')\n",
    "\n",
    "# Interpret via p-value\n",
    "if p > alpha:\n",
    "    print('(p >  alpha) ==> ACCEPT the H0 that the means are equal.')\n",
    "else:\n",
    "    print('(p <= alpha) ==> REJECT the H0 that the means are equal.')\n",
    "    \n",
    "\n",
    "'''----------------------------------------------------------------------------\n",
    "   Cách 2: Sử dụng Sử dụng scipy.stats import ttest_rel             \n",
    "----------------------------------------------------------------------------'''\n",
    "\n",
    "t_stat, p = ttest_rel(dh1_array, dh2_array)\n",
    "print('\\nt = %.3f, p = %.3f' % (t_stat, p))\n",
    "\n",
    "# Interpret via p-value\n",
    "if p > alpha:\n",
    "    print('(p >  alpha) ==> ACCEPT the H0 that the means are equal.')\n",
    "else:\n",
    "    print('(p <= alpha) ==> REJECT the H0 that the means are equal.')\n"
   ]
  },
  {
   "cell_type": "code",
   "execution_count": null,
   "id": "06b4bc04",
   "metadata": {},
   "outputs": [],
   "source": []
  }
 ],
 "metadata": {
  "kernelspec": {
   "display_name": "Python 3",
   "language": "python",
   "name": "python3"
  },
  "language_info": {
   "codemirror_mode": {
    "name": "ipython",
    "version": 3
   },
   "file_extension": ".py",
   "mimetype": "text/x-python",
   "name": "python",
   "nbconvert_exporter": "python",
   "pygments_lexer": "ipython3",
   "version": "3.8.8"
  }
 },
 "nbformat": 4,
 "nbformat_minor": 5
}
