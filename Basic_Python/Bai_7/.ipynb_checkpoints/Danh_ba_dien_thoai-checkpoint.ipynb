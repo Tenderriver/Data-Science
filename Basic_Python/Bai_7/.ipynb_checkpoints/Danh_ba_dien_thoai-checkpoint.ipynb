{
 "cells": [
  {
   "cell_type": "code",
   "execution_count": 5,
   "id": "954f75cf",
   "metadata": {},
   "outputs": [
    {
     "name": "stdout",
     "output_type": "stream",
     "text": [
      "Bạn muốn làm gì? 1: Xem danh bạ; 2: Tìm kiếm, 3: Thêm mới\t1\n",
      "Danh bạ điện thoại:\n",
      "Tên \t Số điện thoại\n",
      "Johnny     0989741258\n",
      "Katherine  0903852147\n",
      "Misu       0913753951\n",
      "Jack       0933753654\n",
      "Tiếp tục lựa chọn? 1: Có; 0: Không\t0\n"
     ]
    }
   ],
   "source": [
    "danh_ba = {'Johnny': '0989741258', 'Katherine':'0903852147', 'Misu': '0913753951', 'Jack' : '0933753654'}\n",
    "\n",
    "i = 1\n",
    "while i == 1:    \n",
    "    cv = int(input('Bạn muốn làm gì? 1: Xem danh bạ; 2: Tìm kiếm, 3: Thêm mới\\t'))\n",
    "    \n",
    "    # In danh bạ điện thoại\n",
    "    if cv == 1:\n",
    "        print('Danh bạ điện thoại:')\n",
    "        print('Tên \\t Số điện thoại')\n",
    "        for i,j in danh_ba.items():\n",
    "            print(\"{:10s} {:10s}\".format(i,j))\n",
    "    elif cv == 2:   \n",
    "        name_search = input('Nhập tên cần tìm:\\n')\n",
    "        print(name_search, \"co so dien thoai la:\", danh_ba.get(name_search))\n",
    "        \n",
    "        \n",
    "    # Thêm một liên hệ mới với thông tin:  tên – số điện thoại đã nhập\n",
    "    elif cv == 3:\n",
    "        ten = input('Nhập tên:\\n')\n",
    "        danh_ba[ten]= input('Nhập số điện thoại:\\n')\n",
    "        print('Danh bạ điện thoại:')\n",
    "        print('Tên \\t Số điện thoại')\n",
    "        for i,j in danh_ba.items():\n",
    "            print(\"{:10s} {:10s}\".format(i,j))\n",
    "         \n",
    "\n",
    "\n",
    "    i = int(input('Tiếp tục lựa chọn? 1: Có; 0: Không\\t'))"
   ]
  },
  {
   "cell_type": "code",
   "execution_count": null,
   "id": "af76ec47",
   "metadata": {},
   "outputs": [
    {
     "name": "stdout",
     "output_type": "stream",
     "text": [
      "Bạn muốn làm gì? 1: Xem danh bạ; 2: Tìm kiếm, 3: Thêm mới\t1\n",
      "Danh bạ điện thoại:\n",
      "Tên \t Số điện thoại\n",
      "Johnny     0989741258\n",
      "Katherine  0903852147\n",
      "Misu       0913753951\n",
      "Jack       0933753654\n"
     ]
    }
   ],
   "source": [
    "danh_ba = {'Johnny': '0989741258', 'Katherine':'0903852147', 'Misu': '0913753951', 'Jack' : '0933753654'}\n",
    "\n",
    "i = 1\n",
    "while i == 1:    \n",
    "    cv = int(input('Bạn muốn làm gì? 1: Xem danh bạ; 2: Tìm kiếm, 3: Thêm mới\\t'))\n",
    "    \n",
    "    # In danh bạ điện thoại\n",
    "    if cv == 1:\n",
    "        print('Danh bạ điện thoại:')\n",
    "        print('Tên \\t Số điện thoại')\n",
    "        for i,j in danh_ba.items():\n",
    "            print(f\"{i:10s} {j:10s}\")\n",
    "    elif cv == 2:   \n",
    "        name_search = input('Nhập tên cần tìm:\\n')\n",
    "        print(name_search, \"co so dien thoai la:\", danh_ba.get(name_search))\n",
    "        \n",
    "        \n",
    "    # Thêm một liên hệ mới với thông tin:  tên – số điện thoại đã nhập\n",
    "    elif cv == 3:\n",
    "        ten = input('Nhập tên:\\n')\n",
    "        danh_ba[ten]= input('Nhập số điện thoại:\\n')\n",
    "        print('Danh bạ điện thoại:')\n",
    "        print('Tên \\t Số điện thoại')\n",
    "        for i,j in danh_ba.items():\n",
    "            print(\"{:10s} {:10s}\".format(i,j))\n",
    "         \n",
    "\n",
    "\n",
    "    i = int(input('Tiếp tục lựa chọn? 1: Có; 0: Không\\t'))"
   ]
  },
  {
   "cell_type": "code",
   "execution_count": null,
   "id": "fcaad9da",
   "metadata": {},
   "outputs": [],
   "source": []
  },
  {
   "cell_type": "code",
   "execution_count": null,
   "id": "b4804e25",
   "metadata": {},
   "outputs": [],
   "source": []
  }
 ],
 "metadata": {
  "kernelspec": {
   "display_name": "Python 3",
   "language": "python",
   "name": "python3"
  },
  "language_info": {
   "codemirror_mode": {
    "name": "ipython",
    "version": 3
   },
   "file_extension": ".py",
   "mimetype": "text/x-python",
   "name": "python",
   "nbconvert_exporter": "python",
   "pygments_lexer": "ipython3",
   "version": "3.8.8"
  }
 },
 "nbformat": 4,
 "nbformat_minor": 5
}
