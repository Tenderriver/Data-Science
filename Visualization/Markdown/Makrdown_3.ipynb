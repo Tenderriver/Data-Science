{
 "cells": [
  {
   "cell_type": "markdown",
   "id": "e9896487",
   "metadata": {},
   "source": [
    "|**STT**|**Tên khóa học**|**Thời lượng**|\n",
    "|:---|:---:|---:|\n",
    "|1|Fundamentals of Python|36|\n",
    "2|Python for Machine Learning, Data Science & Data Visualization|36|\n",
    "3|Maths & Statistic for Data Science|32|\n",
    "4|Databases & SQL for Data Science|32|\n",
    "5|Data Preprocessing & Analysis|40|\n",
    "6|Machine Learning with Python|48|\n",
    "7|R Programming Language for Data Science|48|\n",
    "8|Big Data in Machine Learning|36|\n",
    "9|Capstone Project|50|"
   ]
  },
  {
   "cell_type": "code",
   "execution_count": null,
   "id": "e94113b0",
   "metadata": {},
   "outputs": [],
   "source": []
  }
 ],
 "metadata": {
  "kernelspec": {
   "display_name": "Python 3",
   "language": "python",
   "name": "python3"
  },
  "language_info": {
   "codemirror_mode": {
    "name": "ipython",
    "version": 3
   },
   "file_extension": ".py",
   "mimetype": "text/x-python",
   "name": "python",
   "nbconvert_exporter": "python",
   "pygments_lexer": "ipython3",
   "version": "3.8.8"
  }
 },
 "nbformat": 4,
 "nbformat_minor": 5
}
