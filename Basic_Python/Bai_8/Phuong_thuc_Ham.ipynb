{
 "cells": [
  {
   "cell_type": "code",
   "execution_count": 6,
   "id": "d46d4c19",
   "metadata": {},
   "outputs": [
    {
     "name": "stdout",
     "output_type": "stream",
     "text": [
      "Nhap vao 1 so nguyen: 4\n",
      "Nhap vao so mu: 3\n",
      "S = (x^2+1)^n =  4913.0\n",
      "A = (x^2+x+1)^n + (x^2-x+1)^n=  11458.0\n",
      "4 la so nguyen to: False\n"
     ]
    }
   ],
   "source": [
    "#Bài Tính S:\n",
    "#Xây dựng phương thức tinh_S(n, x): với n và x là tham số truyền vào, phương thức có giá trị trả về là S = (x^2+ 1)^n\n",
    "#Bài Tính A:\n",
    "#Xây dựng phương thức tinh_A(n, x): với n và x là tham số truyền vào, phương thức có giá trị trả về là A = (x^2 + x + 1)^n + (x^2 - x + 1)^n\n",
    "#Bài Kiểm tra số nguyên tố:\n",
    "#Xây dựng phương thức kiem_tra_so_nguyen_to(x): x là tham số truyền vào, phương thức có giá trị trả về là True nếu x là số nguyên tố, có giá trị trả về là False nếu x không là số nguyên tố\n",
    "import math\n",
    "def S(n,x):\n",
    "    return math.pow(x*x+1,n)\n",
    "x= int(input(\"Nhap vao 1 so nguyen: \"))\n",
    "n= int(input(\"Nhap vao so mu: \"))\n",
    "print(\"S = (x^2+1)^n = \", S(n,x))\n",
    "def A(n,x):\n",
    "    return math.pow(x*x+x+1,n) + math.pow(x*x-x+1,n)\n",
    "print(\"A = (x^2+x+1)^n + (x^2-x+1)^n= \", A(n,x))\n",
    "def so_nguyen_to(x):\n",
    "    if x>1:\n",
    "        for i in range(2,x):\n",
    "            if x&i==0:\n",
    "                return False\n",
    "            else:\n",
    "                return True\n",
    "    else:\n",
    "        return False\n",
    "print(f'{x} la so nguyen to: {so_nguyen_to(x)}')"
   ]
  },
  {
   "cell_type": "code",
   "execution_count": null,
   "id": "06ac7da6",
   "metadata": {},
   "outputs": [],
   "source": []
  }
 ],
 "metadata": {
  "kernelspec": {
   "display_name": "Python 3",
   "language": "python",
   "name": "python3"
  },
  "language_info": {
   "codemirror_mode": {
    "name": "ipython",
    "version": 3
   },
   "file_extension": ".py",
   "mimetype": "text/x-python",
   "name": "python",
   "nbconvert_exporter": "python",
   "pygments_lexer": "ipython3",
   "version": "3.8.8"
  }
 },
 "nbformat": 4,
 "nbformat_minor": 5
}
