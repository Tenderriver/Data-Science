{
 "cells": [
  {
   "cell_type": "code",
   "execution_count": 5,
   "id": "86abce04",
   "metadata": {},
   "outputs": [
    {
     "name": "stdout",
     "output_type": "stream",
     "text": [
      "Nhap ban kinh hinh tron3\n",
      "Dien tich hinh tron 28.27\n",
      "Chu vi hinh tron 18.85\n"
     ]
    }
   ],
   "source": [
    "import math\n",
    "r=eval(input(\"Nhap ban kinh hinh tron\"))\n",
    "dt=lambda r: round(math.pi*math.pow(r,2),2)\n",
    "cv=lambda r: round(math.pi*2*r,2)\n",
    "print(\"Dien tich hinh tron\",dt(r))\n",
    "print(\"Chu vi hinh tron\",cv(r))"
   ]
  },
  {
   "cell_type": "code",
   "execution_count": 7,
   "id": "0db039dd",
   "metadata": {},
   "outputs": [
    {
     "name": "stdout",
     "output_type": "stream",
     "text": [
      "Nhap chieu dai hinh chu nhat2\n",
      "Nhap chieu rong hinh chu nhat4\n",
      "Dien tich hinh chu nhat 8\n",
      "Chu vi hinh chu nhat 12\n"
     ]
    }
   ],
   "source": [
    "a=eval(input(\"Nhap chieu dai hinh chu nhat\"))\n",
    "b=eval(input(\"Nhap chieu rong hinh chu nhat\"))\n",
    "dt=lambda a,b: round(a*b)\n",
    "cv=lambda a,b: round((a+b)*2)\n",
    "print(\"Dien tich hinh chu nhat\",dt(a,b))\n",
    "print(\"Chu vi hinh chu nhat\",cv(a,b))"
   ]
  },
  {
   "cell_type": "code",
   "execution_count": null,
   "id": "c7a59af4",
   "metadata": {},
   "outputs": [],
   "source": []
  }
 ],
 "metadata": {
  "kernelspec": {
   "display_name": "Python 3",
   "language": "python",
   "name": "python3"
  },
  "language_info": {
   "codemirror_mode": {
    "name": "ipython",
    "version": 3
   },
   "file_extension": ".py",
   "mimetype": "text/x-python",
   "name": "python",
   "nbconvert_exporter": "python",
   "pygments_lexer": "ipython3",
   "version": "3.8.8"
  }
 },
 "nbformat": 4,
 "nbformat_minor": 5
}
