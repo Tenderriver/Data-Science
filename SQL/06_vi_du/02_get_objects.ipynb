{
 "cells": [
  {
   "cell_type": "code",
   "execution_count": 1,
   "metadata": {},
   "outputs": [],
   "source": [
    "import facebook\n",
    "import pandas as pd"
   ]
  },
  {
   "cell_type": "code",
   "execution_count": 7,
   "metadata": {},
   "outputs": [],
   "source": [
    "# truy cập bằng user token\n",
    "access_token = 'EAAUoPVJEWZCYBAG0KlAeuuNwjMijN7dL5pfZB7yMWKGKbX8lWllcGya7HGmDAqswHuPNAtsQpkZCE3c5kxU4WsCzAxXty2N3bhlaZAsd5TpdG7Y0YyJhf1kOjbloru7S7velK8ZAwxB4A4GxUo7DY3XiCk0gZBO9OlvH7FTYxGWeVpbjaBykFWu5BTYWZBhJ1PVpsnYORL4Na5J2maogZAbb'\n",
    "graph = facebook.GraphAPI(access_token)"
   ]
  },
  {
   "cell_type": "code",
   "execution_count": 8,
   "metadata": {},
   "outputs": [
    {
     "ename": "GraphAPIError",
     "evalue": "(#4) Application request limit reached",
     "output_type": "error",
     "traceback": [
      "\u001b[1;31m---------------------------------------------------------------------------\u001b[0m",
      "\u001b[1;31mGraphAPIError\u001b[0m                             Traceback (most recent call last)",
      "\u001b[1;32m<ipython-input-8-1a224836ee0e>\u001b[0m in \u001b[0;36m<module>\u001b[1;34m\u001b[0m\n\u001b[0;32m      1\u001b[0m \u001b[1;31m# lấy thông tin các bài viết được chia sẻ: id, message, created_time\u001b[0m\u001b[1;33m\u001b[0m\u001b[1;33m\u001b[0m\u001b[1;33m\u001b[0m\u001b[0m\n\u001b[1;32m----> 2\u001b[1;33m \u001b[0mposts\u001b[0m \u001b[1;33m=\u001b[0m \u001b[0mgraph\u001b[0m\u001b[1;33m.\u001b[0m\u001b[0mget_connections\u001b[0m\u001b[1;33m(\u001b[0m\u001b[0mid\u001b[0m\u001b[1;33m=\u001b[0m\u001b[1;34m\"me\"\u001b[0m\u001b[1;33m,\u001b[0m \u001b[0mconnection_name\u001b[0m \u001b[1;33m=\u001b[0m \u001b[1;34m\"posts\"\u001b[0m\u001b[1;33m)\u001b[0m \u001b[1;31m# cấp quyền user_posts\u001b[0m\u001b[1;33m\u001b[0m\u001b[1;33m\u001b[0m\u001b[0m\n\u001b[0m\u001b[0;32m      3\u001b[0m \u001b[0mposts\u001b[0m\u001b[1;33m\u001b[0m\u001b[1;33m\u001b[0m\u001b[0m\n",
      "\u001b[1;32m~\\Anaconda3\\lib\\site-packages\\facebook\\__init__.py\u001b[0m in \u001b[0;36mget_connections\u001b[1;34m(self, id, connection_name, **args)\u001b[0m\n\u001b[0;32m    147\u001b[0m     \u001b[1;32mdef\u001b[0m \u001b[0mget_connections\u001b[0m\u001b[1;33m(\u001b[0m\u001b[0mself\u001b[0m\u001b[1;33m,\u001b[0m \u001b[0mid\u001b[0m\u001b[1;33m,\u001b[0m \u001b[0mconnection_name\u001b[0m\u001b[1;33m,\u001b[0m \u001b[1;33m**\u001b[0m\u001b[0margs\u001b[0m\u001b[1;33m)\u001b[0m\u001b[1;33m:\u001b[0m\u001b[1;33m\u001b[0m\u001b[1;33m\u001b[0m\u001b[0m\n\u001b[0;32m    148\u001b[0m         \u001b[1;34m\"\"\"Fetches the connections for given object.\"\"\"\u001b[0m\u001b[1;33m\u001b[0m\u001b[1;33m\u001b[0m\u001b[0m\n\u001b[1;32m--> 149\u001b[1;33m         return self.request(\n\u001b[0m\u001b[0;32m    150\u001b[0m             \u001b[1;34m\"{0}/{1}/{2}\"\u001b[0m\u001b[1;33m.\u001b[0m\u001b[0mformat\u001b[0m\u001b[1;33m(\u001b[0m\u001b[0mself\u001b[0m\u001b[1;33m.\u001b[0m\u001b[0mversion\u001b[0m\u001b[1;33m,\u001b[0m \u001b[0mid\u001b[0m\u001b[1;33m,\u001b[0m \u001b[0mconnection_name\u001b[0m\u001b[1;33m)\u001b[0m\u001b[1;33m,\u001b[0m \u001b[0margs\u001b[0m\u001b[1;33m\u001b[0m\u001b[1;33m\u001b[0m\u001b[0m\n\u001b[0;32m    151\u001b[0m         )\n",
      "\u001b[1;32m~\\Anaconda3\\lib\\site-packages\\facebook\\__init__.py\u001b[0m in \u001b[0;36mrequest\u001b[1;34m(self, path, args, post_args, files, method)\u001b[0m\n\u001b[0;32m    311\u001b[0m \u001b[1;33m\u001b[0m\u001b[0m\n\u001b[0;32m    312\u001b[0m         \u001b[1;32mif\u001b[0m \u001b[0mresult\u001b[0m \u001b[1;32mand\u001b[0m \u001b[0misinstance\u001b[0m\u001b[1;33m(\u001b[0m\u001b[0mresult\u001b[0m\u001b[1;33m,\u001b[0m \u001b[0mdict\u001b[0m\u001b[1;33m)\u001b[0m \u001b[1;32mand\u001b[0m \u001b[0mresult\u001b[0m\u001b[1;33m.\u001b[0m\u001b[0mget\u001b[0m\u001b[1;33m(\u001b[0m\u001b[1;34m\"error\"\u001b[0m\u001b[1;33m)\u001b[0m\u001b[1;33m:\u001b[0m\u001b[1;33m\u001b[0m\u001b[1;33m\u001b[0m\u001b[0m\n\u001b[1;32m--> 313\u001b[1;33m             \u001b[1;32mraise\u001b[0m \u001b[0mGraphAPIError\u001b[0m\u001b[1;33m(\u001b[0m\u001b[0mresult\u001b[0m\u001b[1;33m)\u001b[0m\u001b[1;33m\u001b[0m\u001b[1;33m\u001b[0m\u001b[0m\n\u001b[0m\u001b[0;32m    314\u001b[0m         \u001b[1;32mreturn\u001b[0m \u001b[0mresult\u001b[0m\u001b[1;33m\u001b[0m\u001b[1;33m\u001b[0m\u001b[0m\n\u001b[0;32m    315\u001b[0m \u001b[1;33m\u001b[0m\u001b[0m\n",
      "\u001b[1;31mGraphAPIError\u001b[0m: (#4) Application request limit reached"
     ]
    }
   ],
   "source": [
    "# lấy thông tin các bài viết được chia sẻ: id, message, created_time\n",
    "posts = graph.get_connections(id=\"me\", connection_name = \"posts\") # cấp quyền user_posts\n",
    "posts"
   ]
  },
  {
   "cell_type": "code",
   "execution_count": null,
   "metadata": {},
   "outputs": [],
   "source": [
    "df = pd.DataFrame(posts['data'])\n",
    "df"
   ]
  },
  {
   "cell_type": "code",
   "execution_count": 5,
   "metadata": {},
   "outputs": [
    {
     "data": {
      "text/plain": [
       "{'data': [{'message': 'Gần đây hay đọc thấy 1 số bài viết liên quan đến giá cả và giá trị sản phẩm. Ví như 1 chị bán áo len handmade giá 2tr với lý do chiếc áo mất 1 tuần công x 8 tiếng / ngày công và nhắn nhủ với người chê mắc rằng\" đừng chê đắc rẻ tội nghiệp chỉ là bạn chưa đủ khả năng sở hữu nó\" hay có anh kia bán hoa (có vẻ nổi tiếng) cũng lên tiếng bảo cảm thấy buồn vì sự so sánh khi có khách bảo \"hoa hơi nhỏ so với giá 2tr, trong khi chỗ khác giá 1tr đã có hoa ngoại nhập\"\\nĐứng trên phương diện là 1 đứa thu nhập cũng ko cao mấy, cũng hay băn khoăn khi mua sắm thứ gì cho mình (chém gió tí cho hợp bối cảnh nếu các bạn biết tính mình haha), mình nghĩ mọi trao đổi đều là thuận mua vừa bán, người ta có quyền thắc mắc để đảm bảo số tiền chi ra nhận về được sản phẩm phù hợp, còn nếu bạn chỉ muốn những khách hàng \"dễ thương\" chi tiêu ko nhìn giá, thì nên có cách sàng lọc đúng phân khúc khách hàng mà sản phẩm mình nhắm tới, để ko tổn thương lòng tự trọng mong manh như sợi tơ trước gió.\\nĐính kèm là giá 10 chiếc bánh ít high-end giá bằng 1 tô mì udon thỉnh thoảng hay ăn ở vincom. Lòng tự nhủ chắc chiếc bánh này chất lượng lắm rồi lại nghĩ ngay tới chiếc bánh ít nhà quê 5 nghìn 1 cái mà mình hay ăn...Tự hỏi hàng đắc tiền có phải luôn là hàng tốt....',\n",
       "   'picture': 'https://scontent.fdad3-1.fna.fbcdn.net/v/t1.6435-9/s130x130/243281467_4318398934934138_5830209838145085463_n.jpg?_nc_cat=103&ccb=1-5&_nc_sid=110474&_nc_ohc=OhVXfwZznp4AX8RmkrN&_nc_ht=scontent.fdad3-1.fna&edm=ACwmWnUEAAAA&oh=ea2cff92231a29abc4b51d9dc1da4d35&oe=61859CCE',\n",
       "   'id': '4332368713537160_4318390201601678'},\n",
       "  {'message': 'Nhân 1 ngày nhìu drama, lại muốn lên chia sẻ câu chiện định nghĩa \"work-life balance\"\\nTheo nhìu người, nó có nghĩa là nếu tui làm ngoài giờ cty quy định thì người khác cũng vại, nên 10h đêm nhắn tin mà ko thấy rep thì cứ phải gọi um cả lên để nói chiện cho nhanh gọn.\\n1 số người thì là, trong tuần bận rộn họp hành đầu óc ko còn minh mẫn nên đổi qua họp vào cuối tuần để thoải mái trao đổi.\\nNhững lúc như thế lại băn khoăn tự hỏi hay do mình ko cống hiến hết mình cho công việc nên mới mãi lênh đênh thế này >.<',\n",
       "   'picture': 'https://scontent.fdad3-5.fna.fbcdn.net/v/t39.30808-6/s130x130/242738962_4309197372520961_2360079129943933045_n.jpg?_nc_cat=111&ccb=1-5&_nc_sid=110474&_nc_ohc=TVeLUY_xTk8AX-1cO3A&_nc_ht=scontent.fdad3-5.fna&edm=ACwmWnUEAAAA&oh=1758b9372e4ec52e244ca2e0f459c3fc&oe=61642DAB',\n",
       "   'id': '4332368713537160_4309196632521035'}],\n",
       " 'paging': {'previous': 'https://graph.facebook.com/v12.0/4332368713537160/posts?access_token=EAAUoPVJEWZCYBAKcBdWTmiY7IuXUXBtaYihF1hRatStSq0ShhqRElAvJ1uByfZB8h3klFumj9xnofarI6ZAM3COY9Amg6vRFJZA8IGWvcfkivrwHobj636xzihqB7OEX2ys1iR1ZCyRTCGsxTWBtZCXkov2eoKDAjhOPKVZAdCMVhhE5YbrmMwcnxG6TIkx3yJS73gfwXOIZALRhlNKI5my8&fields=message%2Cpicture&__previous=1&since=1633274451&until&__paging_token=enc_AdDZCzyzad7BLrFsgGdBhk7EXIYDyQrMret0VADW0zHFOSvcSZCMByZBLaZBUUNwIPKpgQQkdPgfRdim7S9jsCaKvFYiZAS0MWzlsmbjqAJPq5kpff3802UsTKu83UkrsSCFth2tYxhxrCesLJdD0dabVF0cI',\n",
       "  'next': 'https://graph.facebook.com/v12.0/4332368713537160/posts?access_token=EAAUoPVJEWZCYBAKcBdWTmiY7IuXUXBtaYihF1hRatStSq0ShhqRElAvJ1uByfZB8h3klFumj9xnofarI6ZAM3COY9Amg6vRFJZA8IGWvcfkivrwHobj636xzihqB7OEX2ys1iR1ZCyRTCGsxTWBtZCXkov2eoKDAjhOPKVZAdCMVhhE5YbrmMwcnxG6TIkx3yJS73gfwXOIZALRhlNKI5my8&fields=message%2Cpicture&until=1633015267&since&__paging_token=enc_AdCZBiyWeZC3nzUhRgZCUGXPk5w5cw45QKKcQWKJWrZBlVxxmJMZBC2yVTOTglVf6MDnSIhdfYozlC3b4BzAzIZA9hgyJ4n4aVfyfDAj5XR4c3NyZAlWKl95ocqnJKZCdutWbF5AgrZAYtpdhDx3UZC6AfZAsli80Tv&__previous'}}"
      ]
     },
     "execution_count": 5,
     "metadata": {},
     "output_type": "execute_result"
    }
   ],
   "source": [
    "posts = graph.get_connections(id=\"me\", connection_name = \"posts\", fields='message,picture', limit=2)\n",
    "posts"
   ]
  },
  {
   "cell_type": "code",
   "execution_count": 6,
   "metadata": {},
   "outputs": [
    {
     "data": {
      "text/html": [
       "<div>\n",
       "<style scoped>\n",
       "    .dataframe tbody tr th:only-of-type {\n",
       "        vertical-align: middle;\n",
       "    }\n",
       "\n",
       "    .dataframe tbody tr th {\n",
       "        vertical-align: top;\n",
       "    }\n",
       "\n",
       "    .dataframe thead th {\n",
       "        text-align: right;\n",
       "    }\n",
       "</style>\n",
       "<table border=\"1\" class=\"dataframe\">\n",
       "  <thead>\n",
       "    <tr style=\"text-align: right;\">\n",
       "      <th></th>\n",
       "      <th>message</th>\n",
       "      <th>picture</th>\n",
       "      <th>id</th>\n",
       "    </tr>\n",
       "  </thead>\n",
       "  <tbody>\n",
       "    <tr>\n",
       "      <th>0</th>\n",
       "      <td>Gần đây hay đọc thấy 1 số bài viết liên quan đ...</td>\n",
       "      <td>https://scontent.fdad3-1.fna.fbcdn.net/v/t1.64...</td>\n",
       "      <td>4332368713537160_4318390201601678</td>\n",
       "    </tr>\n",
       "    <tr>\n",
       "      <th>1</th>\n",
       "      <td>Nhân 1 ngày nhìu drama, lại muốn lên chia sẻ c...</td>\n",
       "      <td>https://scontent.fdad3-5.fna.fbcdn.net/v/t39.3...</td>\n",
       "      <td>4332368713537160_4309196632521035</td>\n",
       "    </tr>\n",
       "  </tbody>\n",
       "</table>\n",
       "</div>"
      ],
      "text/plain": [
       "                                             message  \\\n",
       "0  Gần đây hay đọc thấy 1 số bài viết liên quan đ...   \n",
       "1  Nhân 1 ngày nhìu drama, lại muốn lên chia sẻ c...   \n",
       "\n",
       "                                             picture  \\\n",
       "0  https://scontent.fdad3-1.fna.fbcdn.net/v/t1.64...   \n",
       "1  https://scontent.fdad3-5.fna.fbcdn.net/v/t39.3...   \n",
       "\n",
       "                                  id  \n",
       "0  4332368713537160_4318390201601678  \n",
       "1  4332368713537160_4309196632521035  "
      ]
     },
     "execution_count": 6,
     "metadata": {},
     "output_type": "execute_result"
    }
   ],
   "source": [
    "df = pd.DataFrame(posts['data'])\n",
    "df"
   ]
  },
  {
   "cell_type": "code",
   "execution_count": null,
   "metadata": {},
   "outputs": [],
   "source": []
  }
 ],
 "metadata": {
  "kernelspec": {
   "display_name": "Python 3",
   "language": "python",
   "name": "python3"
  },
  "language_info": {
   "codemirror_mode": {
    "name": "ipython",
    "version": 3
   },
   "file_extension": ".py",
   "mimetype": "text/x-python",
   "name": "python",
   "nbconvert_exporter": "python",
   "pygments_lexer": "ipython3",
   "version": "3.8.8"
  }
 },
 "nbformat": 4,
 "nbformat_minor": 4
}
