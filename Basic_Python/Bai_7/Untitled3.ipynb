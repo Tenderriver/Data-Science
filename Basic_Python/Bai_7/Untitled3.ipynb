{
 "cells": [
  {
   "cell_type": "code",
   "execution_count": null,
   "id": "7b99e3dd",
   "metadata": {},
   "outputs": [],
   "source": [
    "danh_ba = {'Johnny': '0989741258', 'Katherine':'0903852147', 'Misu': '0913753951', 'Jack' : '0933753654'}\n",
    "\n",
    "i = 1\n",
    "while i == 1:    \n",
    "    cv = int(input('Bạn muốn làm gì? 1: Xem danh bạ; 2: Tìm kiếm, 3: Thêm mới\\t'))\n",
    "    \n",
    "    # In danh bạ điện thoại\n",
    "    if cv == 1:\n",
    "        print('Danh bạ điện thoại:')\n",
    "        print('Tên \\t  Số điện thoại')\n",
    "        for i,j in danh_ba.items():\n",
    "            print(i, '\\t', j)\n",
    "        "
   ]
  },
  {
   "cell_type": "code",
   "execution_count": null,
   "id": "448f273e",
   "metadata": {},
   "outputs": [],
   "source": []
  }
 ],
 "metadata": {
  "kernelspec": {
   "display_name": "Python 3",
   "language": "python",
   "name": "python3"
  },
  "language_info": {
   "codemirror_mode": {
    "name": "ipython",
    "version": 3
   },
   "file_extension": ".py",
   "mimetype": "text/x-python",
   "name": "python",
   "nbconvert_exporter": "python",
   "pygments_lexer": "ipython3",
   "version": "3.8.8"
  }
 },
 "nbformat": 4,
 "nbformat_minor": 5
}
