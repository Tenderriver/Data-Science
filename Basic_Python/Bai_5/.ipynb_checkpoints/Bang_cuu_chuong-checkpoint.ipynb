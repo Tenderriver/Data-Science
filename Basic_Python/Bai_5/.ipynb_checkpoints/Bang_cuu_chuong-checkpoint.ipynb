{
 "cells": [
  {
   "cell_type": "code",
   "execution_count": 15,
   "id": "8fd1df62",
   "metadata": {},
   "outputs": [
    {
     "name": "stdout",
     "output_type": "stream",
     "text": [
      "Xuat bang cuu chuong tu x den y\n",
      "Nhap x: 2\n",
      "Nhap y: 5\n",
      "1 x 2 =  2    1 x 3 =  3    1 x 4 =  4    1 x 5 =  5    \n",
      "\n",
      "2 x 2 =  4    2 x 3 =  6    2 x 4 =  8    2 x 5 = 10    \n",
      "\n",
      "3 x 2 =  6    3 x 3 =  9    3 x 4 = 12    3 x 5 = 15    \n",
      "\n",
      "4 x 2 =  8    4 x 3 = 12    4 x 4 = 16    4 x 5 = 20    \n",
      "\n",
      "5 x 2 = 10    5 x 3 = 15    5 x 4 = 20    5 x 5 = 25    \n",
      "\n",
      "6 x 2 = 12    6 x 3 = 18    6 x 4 = 24    6 x 5 = 30    \n",
      "\n",
      "7 x 2 = 14    7 x 3 = 21    7 x 4 = 28    7 x 5 = 35    \n",
      "\n",
      "8 x 2 = 16    8 x 3 = 24    8 x 4 = 32    8 x 5 = 40    \n",
      "\n",
      "9 x 2 = 18    9 x 3 = 27    9 x 4 = 36    9 x 5 = 45    \n",
      "\n"
     ]
    }
   ],
   "source": [
    "print (\"Xuat bang cuu chuong tu x den y\")\n",
    "x = int (input (\"Nhap x: \"))\n",
    "y = int (input (\"Nhap y: \"))\n",
    "for i in range (1,10):\n",
    "    for j in range (x,y+1):\n",
    "        if i*j <10:\n",
    "            print (i, \"x\", j, \"= \", i*j, end =\"    \")\n",
    "        else:\n",
    "            print (i, \"x\", j, \"=\", i*j, end =\"    \")\n",
    "    print(\"\\n\")\n",
    "   "
   ]
  },
  {
   "cell_type": "code",
   "execution_count": null,
   "id": "552161a8",
   "metadata": {},
   "outputs": [],
   "source": []
  },
  {
   "cell_type": "code",
   "execution_count": null,
   "id": "838e444b",
   "metadata": {},
   "outputs": [],
   "source": []
  }
 ],
 "metadata": {
  "kernelspec": {
   "display_name": "Python 3",
   "language": "python",
   "name": "python3"
  },
  "language_info": {
   "codemirror_mode": {
    "name": "ipython",
    "version": 3
   },
   "file_extension": ".py",
   "mimetype": "text/x-python",
   "name": "python",
   "nbconvert_exporter": "python",
   "pygments_lexer": "ipython3",
   "version": "3.8.8"
  }
 },
 "nbformat": 4,
 "nbformat_minor": 5
}
