{
 "cells": [
  {
   "cell_type": "code",
   "execution_count": 2,
   "id": "b22c0488",
   "metadata": {},
   "outputs": [
    {
     "name": "stdout",
     "output_type": "stream",
     "text": [
      "Nhap gia tri a: 0\n",
      "Nhap gia tri b: 6\n",
      "Phuong trinh vo nghiem\n"
     ]
    }
   ],
   "source": [
    "def giai_pt_bac1(a,b):\n",
    "    result=''\n",
    "    if a!=0:\n",
    "        x=-b/a\n",
    "        result=f'Phuong trinh co nghiem x= {x:.2f}'\n",
    "    else:\n",
    "        if b==0:\n",
    "            result=f'Phuong trinh co vo so nghiem'\n",
    "        else:\n",
    "            result=f'Phuong trinh vo nghiem'\n",
    "    return result\n",
    "\n",
    "try:\n",
    "    a=eval(input(\"Nhap gia tri a: \"))\n",
    "    \n",
    "    b=eval(input(\"Nhap gia tri b: \"))\n",
    "\n",
    "except NameError as er2:\n",
    "    print('Error:',er2)\n",
    "else:\n",
    "    print(giai_pt_bac1(a,b))\n",
    "        \n",
    "    \n",
    "        "
   ]
  },
  {
   "cell_type": "code",
   "execution_count": null,
   "id": "5f33cffa",
   "metadata": {},
   "outputs": [],
   "source": []
  }
 ],
 "metadata": {
  "kernelspec": {
   "display_name": "Python 3",
   "language": "python",
   "name": "python3"
  },
  "language_info": {
   "codemirror_mode": {
    "name": "ipython",
    "version": 3
   },
   "file_extension": ".py",
   "mimetype": "text/x-python",
   "name": "python",
   "nbconvert_exporter": "python",
   "pygments_lexer": "ipython3",
   "version": "3.8.8"
  }
 },
 "nbformat": 4,
 "nbformat_minor": 5
}
