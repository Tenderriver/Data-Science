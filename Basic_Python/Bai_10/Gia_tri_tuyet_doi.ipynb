{
 "cells": [
  {
   "cell_type": "code",
   "execution_count": 6,
   "id": "4906a72e",
   "metadata": {},
   "outputs": [
    {
     "name": "stdout",
     "output_type": "stream",
     "text": [
      "Nhap vao 1 so x: 6\n",
      "|6|=6\n"
     ]
    }
   ],
   "source": [
    "try: \n",
    "    x=eval(input(\"Nhap vao 1 so x: \"))\n",
    "except NameError as er1:\n",
    "    print(\"Error: \", er1)\n",
    "else:\n",
    "    print(f'|{x}|={abs(x)}')"
   ]
  },
  {
   "cell_type": "code",
   "execution_count": null,
   "id": "c88bcd2a",
   "metadata": {},
   "outputs": [],
   "source": []
  },
  {
   "cell_type": "code",
   "execution_count": null,
   "id": "8ccc67fe",
   "metadata": {},
   "outputs": [],
   "source": []
  }
 ],
 "metadata": {
  "kernelspec": {
   "display_name": "Python 3",
   "language": "python",
   "name": "python3"
  },
  "language_info": {
   "codemirror_mode": {
    "name": "ipython",
    "version": 3
   },
   "file_extension": ".py",
   "mimetype": "text/x-python",
   "name": "python",
   "nbconvert_exporter": "python",
   "pygments_lexer": "ipython3",
   "version": "3.8.8"
  }
 },
 "nbformat": 4,
 "nbformat_minor": 5
}
