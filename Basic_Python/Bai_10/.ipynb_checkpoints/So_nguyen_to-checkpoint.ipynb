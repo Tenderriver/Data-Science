{
 "cells": [
  {
   "cell_type": "code",
   "execution_count": 30,
   "id": "412b105b",
   "metadata": {},
   "outputs": [
    {
     "name": "stdout",
     "output_type": "stream",
     "text": [
      "Nhap 1 so bat ky: a\n",
      "Error:  '>=' not supported between instances of 'str' and 'int'\n",
      "\n"
     ]
    }
   ],
   "source": [
    "def so_nguyen_to(x):\n",
    "    a=''\n",
    "    try:\n",
    "        assert(x>=0), \"x phai lon hon 0\"\n",
    "        if x>1:\n",
    "            for i in range (2,x):\n",
    "                if x%2==0:\n",
    "                    a=f'{x} khong la so nguyen to'\n",
    "                    break\n",
    "            else:\n",
    "                a=f'{x} la so nguyen to'\n",
    "        else:\n",
    "            a=f'{x} khong la so nguyen to'\n",
    "    except AssertionError as er1:\n",
    "        print(\"Error: \",er1)\n",
    "    except FloatingPointError as er2:\n",
    "        print(\"Error: \",er2)\n",
    "    except NameError as er3:\n",
    "        print(\"Error: \",er3)\n",
    "    except TypeError as er4:\n",
    "        print(\"Error: \",er4)\n",
    "    return a\n",
    "print(so_nguyen_to(eval(input(\"Nhap 1 so bat ky: \"))))\n",
    "                    \n",
    "                "
   ]
  },
  {
   "cell_type": "code",
   "execution_count": 27,
   "id": "e39030b5",
   "metadata": {},
   "outputs": [
    {
     "name": "stdout",
     "output_type": "stream",
     "text": [
      "Nhap 1 so x bat ky: -5\n",
      "-5 khong la so nguyen to\n"
     ]
    }
   ],
   "source": [
    "a=''\n",
    "try:\n",
    "    x=eval(input(\"Nhap 1 so x bat ky: \"))\n",
    "\n",
    "    if x>1:\n",
    "        for i in range (2,x):\n",
    "            if x%2==0:\n",
    "                a=f'{x} khong la so nguyen to'\n",
    "                break\n",
    "        else:\n",
    "            a=f'{x} la so nguyen to'\n",
    "    else:\n",
    "        a=f'{x} khong la so nguyen to'\n",
    "except FloatingPointError as er1:\n",
    "    print(\"Error: \",er1)\n",
    "except NameError as er2:\n",
    "    print(\"Error: \",er2)\n",
    "except TypeError as er3:\n",
    "    print(\"Error: \",er3)\n",
    "else:\n",
    "    print(a)\n"
   ]
  },
  {
   "cell_type": "code",
   "execution_count": null,
   "id": "9a5fa83d",
   "metadata": {},
   "outputs": [],
   "source": []
  },
  {
   "cell_type": "code",
   "execution_count": null,
   "id": "56d32a9c",
   "metadata": {},
   "outputs": [],
   "source": []
  }
 ],
 "metadata": {
  "kernelspec": {
   "display_name": "Python 3",
   "language": "python",
   "name": "python3"
  },
  "language_info": {
   "codemirror_mode": {
    "name": "ipython",
    "version": 3
   },
   "file_extension": ".py",
   "mimetype": "text/x-python",
   "name": "python",
   "nbconvert_exporter": "python",
   "pygments_lexer": "ipython3",
   "version": "3.8.8"
  }
 },
 "nbformat": 4,
 "nbformat_minor": 5
}
