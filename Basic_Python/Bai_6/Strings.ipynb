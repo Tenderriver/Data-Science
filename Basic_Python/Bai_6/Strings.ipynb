{
 "cells": [
  {
   "cell_type": "code",
   "execution_count": 2,
   "id": "7a58c04b",
   "metadata": {},
   "outputs": [
    {
     "name": "stdout",
     "output_type": "stream",
     "text": [
      "Nhap chuoi s: a d c b dog\n",
      "Nhap chuoi s_sub: d\n",
      "Nhap chuoi s_find: dog\n",
      "Nhap chuoi s_replace: duck\n",
      "Chuoi s sau khi loai bo khoang trang dau va cuoi chuoi: a d c b dog\n",
      "Chuoi s viet hoa ky tu dau: A d c b dog\n",
      "So lan s_sub xuat hien trong s: 2\n",
      "Chuoi s sau khi tim kiem va thay the: a d c b duck\n"
     ]
    }
   ],
   "source": [
    "s = input ('Nhap chuoi s: ')\n",
    "s_sub = input ('Nhap chuoi s_sub: ')\n",
    "s_find = input ('Nhap chuoi s_find: ')\n",
    "s_replace= input ('Nhap chuoi s_replace: ')\n",
    "print(\"Chuoi s sau khi loai bo khoang trang dau va cuoi chuoi:\", s.strip())\n",
    "print(\"Chuoi s viet hoa ky tu dau:\", s.capitalize())\n",
    "print(\"So lan s_sub xuat hien trong s:\", s.count(s_sub))\n",
    "print(\"Chuoi s sau khi tim kiem va thay the:\", s.replace(s_find,s_replace))"
   ]
  },
  {
   "cell_type": "code",
   "execution_count": null,
   "id": "2b67d34e",
   "metadata": {},
   "outputs": [],
   "source": []
  }
 ],
 "metadata": {
  "kernelspec": {
   "display_name": "Python 3",
   "language": "python",
   "name": "python3"
  },
  "language_info": {
   "codemirror_mode": {
    "name": "ipython",
    "version": 3
   },
   "file_extension": ".py",
   "mimetype": "text/x-python",
   "name": "python",
   "nbconvert_exporter": "python",
   "pygments_lexer": "ipython3",
   "version": "3.8.8"
  }
 },
 "nbformat": 4,
 "nbformat_minor": 5
}
