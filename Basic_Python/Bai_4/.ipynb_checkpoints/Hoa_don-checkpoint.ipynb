{
 "cells": [
  {
   "cell_type": "code",
   "execution_count": 8,
   "id": "6957cde4",
   "metadata": {},
   "outputs": [
    {
     "name": "stdout",
     "output_type": "stream",
     "text": [
      "Nhap vao tong so tien tren hoa don cua ban: 10000\n",
      "Nhap %thue phai tra (10 - 20%): 10\n",
      "Nhap %tip (5  -10%): 5\n",
      "Thue phai tra: 1000 \n",
      "Tien tip:  550 \n",
      "Tong tien can thanh toan:  11550\n"
     ]
    }
   ],
   "source": [
    "tong_tien = float (input(\"Nhap vao tong so tien tren hoa don cua ban: \"))\n",
    "thue = float(input (\"Nhap %thue phai tra (10 - 20%): \"))\n",
    "tip = float(input (\"Nhap %tip (5  -10%): \"))\n",
    "tien_thue = round (thue/100 * tong_tien)\n",
    "tien_tip = round (tip/100 * (tong_tien + tien_thue))\n",
    "thanh_toan = round(tong_tien + tien_thue + tien_tip)\n",
    "print (\"Thue phai tra:\", tien_thue, \"\\nTien tip: \", tien_tip, \"\\nTong tien can thanh toan:\", thanh_toan)"
   ]
  },
  {
   "cell_type": "code",
   "execution_count": null,
   "id": "f62ea102",
   "metadata": {},
   "outputs": [],
   "source": []
  }
 ],
 "metadata": {
  "kernelspec": {
   "display_name": "Python 3",
   "language": "python",
   "name": "python3"
  },
  "language_info": {
   "codemirror_mode": {
    "name": "ipython",
    "version": 3
   },
   "file_extension": ".py",
   "mimetype": "text/x-python",
   "name": "python",
   "nbconvert_exporter": "python",
   "pygments_lexer": "ipython3",
   "version": "3.8.8"
  }
 },
 "nbformat": 4,
 "nbformat_minor": 5
}
