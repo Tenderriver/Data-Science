{
 "cells": [
  {
   "cell_type": "raw",
   "metadata": {},
   "source": [
    "Câu 5. Kiểm định trung bình 2 mẫu (1 điểm)\n",
    "Hai tập tin Duong_huyet_TRUOC.txt và Duong_huyet_SAU.txt lưu trữ 2 mẫu dữ liệu về chỉ số đường\n",
    "huyết (mg/dL) của các bệnh nhân được đo trước và sau khi sử dụng loại thuốc T.\n",
    "5.1) Đọc và xem thông tin của dữ liệu.\n",
    "5.2) Với alpha = 0.05, hãy cho kết luận về giả thuyết H0: “Hai quần thể có cùng giá trị trung bình.”\n",
    "bằng 2 phương pháp: a) Tính toán truyền thống, VÀ b) Dùng các hàm thống kê có sẵn."
   ]
  },
  {
   "cell_type": "code",
   "execution_count": 1,
   "metadata": {},
   "outputs": [],
   "source": [
    "import pandas as pd\n",
    "import numpy as np\n",
    "import scipy.stats as stats"
   ]
  },
  {
   "cell_type": "code",
   "execution_count": 2,
   "metadata": {},
   "outputs": [],
   "source": [
    "#5.1) Đọc và xem thông tin của dữ liệu.\n",
    "\n",
    "f = open('LDS3 - De thi cucoi khoa K268/Duong_huyet_TRUOC.txt', 'r')\n",
    "content = f.read()\n",
    "f.close()\n",
    "truoc = content.split()\n",
    "truoc = list(map(int, truoc))\n",
    "truoc_array = np.array(truoc)\n",
    "\n",
    "f = open('LDS3 - De thi cucoi khoa K268/Duong_huyet_SAU.txt', 'r')\n",
    "content = f.read()\n",
    "f.close()\n",
    "sau = content.split()\n",
    "sau = list(map(int, sau))\n",
    "sau_array = np.array(sau)\n",
    "\n",
    "thaydoi = truoc_array - sau_array"
   ]
  },
  {
   "cell_type": "code",
   "execution_count": 3,
   "metadata": {},
   "outputs": [
    {
     "data": {
      "text/plain": [
       "0.012684428223636468"
      ]
     },
     "execution_count": 3,
     "metadata": {},
     "output_type": "execute_result"
    }
   ],
   "source": [
    "# 5.2) Với alpha = 0.05, hãy cho kết luận về giả thuyết H0: “Hai quần thể có cùng giá trị trung bình.”\n",
    "# Tính toán truyền thống\n",
    "'''\n",
    "H0: Hai quần thể có cùng giá trị trung bình\n",
    "Ha: Hai quần thể có giá trị trung bình khác nhau\n",
    "'''\n",
    "n = len(thaydoi)\n",
    "alpha = 0.05\n",
    "df = n - 1\n",
    "\n",
    "sd = np.sqrt(sum(np.power((thaydoi-thaydoi.mean()),2))/(n-1))\n",
    "t1 = thaydoi.mean()/(sd/np.sqrt(n))\n",
    "\n",
    "p_value1 = (1 - stats.t.cdf(abs(t1), df)) * 2\n",
    "p_value1\n",
    "# p_value1 < alpha = 0.05 -> bác bỏ H0 -> Hai quần thể không có cùng giá trị trung bình"
   ]
  },
  {
   "cell_type": "code",
   "execution_count": 4,
   "metadata": {},
   "outputs": [
    {
     "data": {
      "text/plain": [
       "0.01268442822363654"
      ]
     },
     "execution_count": 4,
     "metadata": {},
     "output_type": "execute_result"
    }
   ],
   "source": [
    "# 5.2) Với alpha = 0.05, hãy cho kết luận về giả thuyết H0: “Hai quần thể có cùng giá trị trung bình.”\n",
    "# Dùng các hàm thống kê có sẵn.\n",
    "\n",
    "'''\n",
    "H0: Hai quần thể có cùng giá trị trung bình\n",
    "Ha: Hai quần thể có giá trị trung bình khác nhau\n",
    "'''\n",
    "\n",
    "t2, p_value2 = stats.ttest_rel(truoc_array, sau_array) # kiểm định 2 bên\n",
    "p_value2\n",
    "# p_value2 < alpha = 0.05 -> bác bỏ H0 -> Hai quần thể không có cùng giá trị trung bình"
   ]
  },
  {
   "cell_type": "code",
   "execution_count": null,
   "metadata": {},
   "outputs": [],
   "source": []
  },
  {
   "cell_type": "code",
   "execution_count": null,
   "metadata": {},
   "outputs": [],
   "source": []
  }
 ],
 "metadata": {
  "kernelspec": {
   "display_name": "Python 3",
   "language": "python",
   "name": "python3"
  },
  "language_info": {
   "codemirror_mode": {
    "name": "ipython",
    "version": 3
   },
   "file_extension": ".py",
   "mimetype": "text/x-python",
   "name": "python",
   "nbconvert_exporter": "python",
   "pygments_lexer": "ipython3",
   "version": "3.8.3"
  }
 },
 "nbformat": 4,
 "nbformat_minor": 4
}
