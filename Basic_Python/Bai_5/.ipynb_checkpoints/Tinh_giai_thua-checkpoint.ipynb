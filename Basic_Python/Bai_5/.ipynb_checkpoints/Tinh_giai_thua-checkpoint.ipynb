{
 "cells": [
  {
   "cell_type": "code",
   "execution_count": 12,
   "id": "ea6cb387",
   "metadata": {},
   "outputs": [
    {
     "name": "stdout",
     "output_type": "stream",
     "text": [
      "Nhap so nguyen n11\n",
      "1 x 2 x 3 x 4 x 5 x 6 x 7 x 8 x 9 x 10 x 11 = 39916800\n",
      "1 x 3 x 5 x 7 x 9 x 11 = 10395\n"
     ]
    }
   ],
   "source": [
    "n=int (input(\"Nhap so nguyen n\"))\n",
    "a=1\n",
    "b=1\n",
    "if n%2==0:\n",
    "    for i in range (1, n):\n",
    "        a *=i\n",
    "        print (i, \"x\", end =\" \")\n",
    "    a=a*n\n",
    "    print (n, \"=\", a)\n",
    "    for j in range (2, n, 2):\n",
    "        b *=j\n",
    "        print (j, \"x\", end =\" \")\n",
    "    b=b*n\n",
    "    print (n, \"=\", b)\n",
    "else:\n",
    "    for i in range (1, n):\n",
    "        a *=i\n",
    "        print (i, \"x\", end =\" \")\n",
    "    a=a*n\n",
    "    print (n, \"=\", a)\n",
    "    for j in range (1, n, 2):\n",
    "        b *=j\n",
    "        print (j, \"x\", end =\" \")\n",
    "    b=b*n\n",
    "    print (n, \"=\", b)"
   ]
  },
  {
   "cell_type": "code",
   "execution_count": null,
   "id": "ebecf235",
   "metadata": {},
   "outputs": [],
   "source": []
  }
 ],
 "metadata": {
  "kernelspec": {
   "display_name": "Python 3",
   "language": "python",
   "name": "python3"
  },
  "language_info": {
   "codemirror_mode": {
    "name": "ipython",
    "version": 3
   },
   "file_extension": ".py",
   "mimetype": "text/x-python",
   "name": "python",
   "nbconvert_exporter": "python",
   "pygments_lexer": "ipython3",
   "version": "3.8.8"
  }
 },
 "nbformat": 4,
 "nbformat_minor": 5
}
