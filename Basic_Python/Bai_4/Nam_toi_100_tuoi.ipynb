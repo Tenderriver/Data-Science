{
 "cells": [
  {
   "cell_type": "code",
   "execution_count": 1,
   "id": "3d82b006",
   "metadata": {},
   "outputs": [
    {
     "name": "stdout",
     "output_type": "stream",
     "text": [
      "Ban ten gi? Giang\n",
      "Ban bao nhieu tuoi? 28\n",
      "Nam Giang 100 tuoi la: 2093\n"
     ]
    }
   ],
   "source": [
    "ten = input(\"Ban ten gi? \")\n",
    "tuoi = int(input (\"Ban bao nhieu tuoi? \"))\n",
    "nam = 2021 + (100-tuoi)\n",
    "print('Nam', ten, '100 tuoi la:', nam)"
   ]
  },
  {
   "cell_type": "code",
   "execution_count": null,
   "id": "ae4f7af6",
   "metadata": {},
   "outputs": [],
   "source": []
  }
 ],
 "metadata": {
  "kernelspec": {
   "display_name": "Python 3",
   "language": "python",
   "name": "python3"
  },
  "language_info": {
   "codemirror_mode": {
    "name": "ipython",
    "version": 3
   },
   "file_extension": ".py",
   "mimetype": "text/x-python",
   "name": "python",
   "nbconvert_exporter": "python",
   "pygments_lexer": "ipython3",
   "version": "3.8.8"
  }
 },
 "nbformat": 4,
 "nbformat_minor": 5
}
