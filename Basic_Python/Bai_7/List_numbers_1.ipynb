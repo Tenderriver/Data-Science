{
 "cells": [
  {
   "cell_type": "code",
   "execution_count": 3,
   "id": "727a73ab",
   "metadata": {},
   "outputs": [
    {
     "name": "stdout",
     "output_type": "stream",
     "text": [
      "Nhap gia tri: 1\n",
      "Tiep tuc nhap gia tri (1:Co, 2: Khong): 1\n",
      "Nhap gia tri: 3\n",
      "Tiep tuc nhap gia tri (1:Co, 2: Khong): 1\n",
      "Nhap gia tri: 4\n",
      "Tiep tuc nhap gia tri (1:Co, 2: Khong): 1\n",
      "Nhap gia tri: 6\n",
      "Tiep tuc nhap gia tri (1:Co, 2: Khong): 0\n",
      "[1, 3, 4, 6]\n",
      "Nhap gia tri can tim: 0\n",
      "Tong cac gia tri trong list:  14\n",
      "0 xuat hien 0 trong list\n",
      "0 khong lon hon tat ca cac so trong list\n"
     ]
    }
   ],
   "source": [
    "chuoi=[]\n",
    "kt=True\n",
    "while kt:\n",
    "    chuoi.append(eval(input(\"Nhap gia tri: \")))\n",
    "    kt=eval(input(\"Tiep tuc nhap gia tri (1:Co, 2: Khong): \"))\n",
    "print(chuoi)\n",
    "x=eval(input(\"Nhap gia tri can tim: \"))\n",
    "\n",
    "sum=0\n",
    "for i in chuoi:\n",
    "    sum+=i\n",
    "print(\"Tong cac gia tri trong list: \", sum)\n",
    "print(x, \"xuat hien\", chuoi.count(x), \"trong list\")\n",
    "a=[]\n",
    "if x < min(chuoi):\n",
    "        print(x, \"khong lon hon tat ca cac so trong list\")\n",
    "else:\n",
    "    for i in chuoi:\n",
    "        if i > x:\n",
    "            a.append(i)\n",
    "    print(a)\n",
    "        \n",
    "\n",
    "        \n",
    "        \n",
    "    \n"
   ]
  },
  {
   "cell_type": "code",
   "execution_count": null,
   "id": "e1dcd545",
   "metadata": {},
   "outputs": [],
   "source": []
  }
 ],
 "metadata": {
  "kernelspec": {
   "display_name": "Python 3",
   "language": "python",
   "name": "python3"
  },
  "language_info": {
   "codemirror_mode": {
    "name": "ipython",
    "version": 3
   },
   "file_extension": ".py",
   "mimetype": "text/x-python",
   "name": "python",
   "nbconvert_exporter": "python",
   "pygments_lexer": "ipython3",
   "version": "3.8.8"
  }
 },
 "nbformat": 4,
 "nbformat_minor": 5
}
