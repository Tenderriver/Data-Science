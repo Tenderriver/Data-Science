{
 "cells": [
  {
   "cell_type": "code",
   "execution_count": 2,
   "id": "22a2fe6b",
   "metadata": {},
   "outputs": [
    {
     "name": "stdout",
     "output_type": "stream",
     "text": [
      "Nhap so tu 0 den 9: 1\n",
      "Nhap so tu -1 den -9: -3\n",
      "Nhap chuoi can tim: vang\n",
      "do\n",
      "vang\n",
      "vang xuat hien 2 lan\n"
     ]
    }
   ],
   "source": [
    "mau=(\"xanh\", \"do\", \"tim\", \"vang\", \"luc\", \"lam\", \"cham\", \"vang\", \"tim\", \"do\")\n",
    "so_duong=int(input(\"Nhap so tu 0 den 9: \"))\n",
    "so_am=int(input(\"Nhap so tu -1 den -9: \"))\n",
    "tim_kiem=input(\"Nhap chuoi can tim: \")\n",
    "print (mau[so_duong])\n",
    "print (mau[so_am])\n",
    "s=0\n",
    "for i in mau: \n",
    "    if tim_kiem==i:\n",
    "        s+=1\n",
    "print(tim_kiem, \"xuat hien\", s, \"lan\")"
   ]
  },
  {
   "cell_type": "code",
   "execution_count": null,
   "id": "3c1e564c",
   "metadata": {},
   "outputs": [],
   "source": []
  }
 ],
 "metadata": {
  "kernelspec": {
   "display_name": "Python 3",
   "language": "python",
   "name": "python3"
  },
  "language_info": {
   "codemirror_mode": {
    "name": "ipython",
    "version": 3
   },
   "file_extension": ".py",
   "mimetype": "text/x-python",
   "name": "python",
   "nbconvert_exporter": "python",
   "pygments_lexer": "ipython3",
   "version": "3.8.8"
  }
 },
 "nbformat": 4,
 "nbformat_minor": 5
}
