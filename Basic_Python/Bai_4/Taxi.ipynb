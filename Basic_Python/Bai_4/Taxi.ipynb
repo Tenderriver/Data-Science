{
 "cells": [
  {
   "cell_type": "code",
   "execution_count": null,
   "id": "fa2a95de",
   "metadata": {},
   "outputs": [],
   "source": [
    "xe=eval(input(\"Nhap loai xe (4 hay 7): \"))\n",
    "km=eval(input(\"Nhap so km di chuyen: \"))\n",
    "tg=eval(input(\"Nhap thoi gian cho (phut): \"))\n",
    "tien_cho=0\n",
    "if tg >5:        \n",
    "       tien_cho=(tg-5)*750\n",
    "if xe == 4:\n",
    "    if km <= 30:\n",
    "        tien_di_chuyen= 11000 + (km-0.8)*15300\n",
    "    else:\n",
    "        tien_di_chuyen= 11000 + (30-0.8)*15300 +(km-30)*12100\n",
    "else:\n",
    "    if tg >5:\n",
    "       tien_cho=(tg-5)*750\n",
    "    if km <= 30:\n",
    "        tien_di_chuyen= 12000 + (km-0.8)*16100\n",
    "    else:\n",
    "        tien_di_chuyen= 12000 + (30-0.8)*16100 +(km-30)*13800\n",
    "print (\"Tien cuoc: \", tien_cho+tien_di_chuyen)\n"
   ]
  }
 ],
 "metadata": {
  "kernelspec": {
   "display_name": "Python 3",
   "language": "python",
   "name": "python3"
  },
  "language_info": {
   "codemirror_mode": {
    "name": "ipython",
    "version": 3
   },
   "file_extension": ".py",
   "mimetype": "text/x-python",
   "name": "python",
   "nbconvert_exporter": "python",
   "pygments_lexer": "ipython3",
   "version": "3.8.8"
  }
 },
 "nbformat": 4,
 "nbformat_minor": 5
}
