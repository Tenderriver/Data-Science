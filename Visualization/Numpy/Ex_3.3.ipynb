{
 "cells": [
  {
   "cell_type": "code",
   "execution_count": 1,
   "id": "c6ea78d9",
   "metadata": {},
   "outputs": [],
   "source": [
    "import numpy as np"
   ]
  },
  {
   "cell_type": "code",
   "execution_count": 4,
   "id": "010b1a89",
   "metadata": {},
   "outputs": [
    {
     "name": "stdout",
     "output_type": "stream",
     "text": [
      "[['True' 'True' 'True']\n",
      " ['True' 'True' 'True']\n",
      " ['True' 'True' 'True']]\n"
     ]
    }
   ],
   "source": [
    "# Câu 1: Tạo array arr có kích thước 3x3 với tất cả các giá trị đều là True. \n",
    "\n",
    "# Hiển thị các phần tử của array arr\n",
    "a=np.array([[\"True\",\"True\",\"True\"],[\"True\",\"True\",\"True\"],[\"True\",\"True\",\"True\"]])\n",
    "print(a)"
   ]
  },
  {
   "cell_type": "code",
   "execution_count": 14,
   "id": "7658ee70",
   "metadata": {},
   "outputs": [
    {
     "name": "stdout",
     "output_type": "stream",
     "text": [
      "[[ True  True  True]\n",
      " [ True  True  True]\n",
      " [ True  True  True]]\n"
     ]
    }
   ],
   "source": [
    "a=np.ones([3,3],dtype=bool)\n",
    "print(a)"
   ]
  },
  {
   "cell_type": "code",
   "execution_count": 9,
   "id": "c4bdfd41",
   "metadata": {},
   "outputs": [
    {
     "name": "stdout",
     "output_type": "stream",
     "text": [
      "[[0 1 2]\n",
      " [3 4 5]\n",
      " [6 7 8]]\n",
      "[[2 1 0]\n",
      " [5 4 3]\n",
      " [8 7 6]]\n"
     ]
    }
   ],
   "source": [
    "# Câu 2: Cho array arr_1D = np.array([0, 1, 2, 3, 4, 5, 6, 7, 8]). \n",
    "\n",
    "# Hãy chuyển thành array 2 chiều có kích thước 3x3 và lưu vào arr_2D.\n",
    "\n",
    "# Xem danh sách các phần tử của arr_2D. \n",
    "\n",
    "# Trong arr_2D. Chuyển cột 1 sang cột 3 và ngược lại. => Xem lại danh sách các phần tử của arr_2D\n",
    "arr_1D = np.array([0, 1, 2, 3, 4, 5, 6, 7, 8])\n",
    "\n",
    "arr_2D =arr_1D.reshape(3,3)\n",
    "print(arr_2D)\n",
    "arr_2D[:, [2, 0]] = arr_2D[:, [0, 2]]\n",
    "print(arr_2D)"
   ]
  },
  {
   "cell_type": "code",
   "execution_count": 10,
   "id": "208352c4",
   "metadata": {},
   "outputs": [
    {
     "name": "stdout",
     "output_type": "stream",
     "text": [
      "[[5 4 3]\n",
      " [2 1 0]\n",
      " [8 7 6]]\n"
     ]
    }
   ],
   "source": [
    "# Câu 3: Sử dụng array arr_2D của câu 2 (sau khi đổi thứ tự cột), chuyển dòng 1 sang dòng 2 và ngược lại \n",
    "\n",
    "# Xem lại danh sách các phần tử của arr_2D\n",
    "arr_2D[[0,1],:] = arr_2D[[1,0],:]\n",
    "print(arr_2D)"
   ]
  },
  {
   "cell_type": "code",
   "execution_count": 16,
   "id": "65d1b105",
   "metadata": {},
   "outputs": [
    {
     "name": "stdout",
     "output_type": "stream",
     "text": [
      "[[8 7 6]\n",
      " [2 1 0]\n",
      " [5 4 3]]\n"
     ]
    }
   ],
   "source": [
    "# Câu 4: Sử dụng array arr_2D của câu 3, Đảo ngược các dòng của array arr_2D \n",
    "\n",
    "# Xem lại danh sách các phần tử của arr_2D\n",
    "arr_2D[[0,1,2],:] = arr_2D[[2,1,0],:]\n",
    "print(arr_2D)"
   ]
  },
  {
   "cell_type": "code",
   "execution_count": 17,
   "id": "69f3b434",
   "metadata": {},
   "outputs": [
    {
     "name": "stdout",
     "output_type": "stream",
     "text": [
      "[[6 7 8]\n",
      " [0 1 2]\n",
      " [3 4 5]]\n"
     ]
    }
   ],
   "source": [
    "# Câu 5: Sử dụng array arr_2D của câu 4, Đảo ngược các cột của array arr_2D => Xem lại danh sách các phần tử của arr_2D\n",
    "arr_2D[:, [0,1,2]] = arr_2D[:, [2,1,0]]\n",
    "print(arr_2D)"
   ]
  },
  {
   "cell_type": "code",
   "execution_count": 26,
   "id": "9347f832",
   "metadata": {},
   "outputs": [
    {
     "name": "stdout",
     "output_type": "stream",
     "text": [
      "[[ 1.  2.  3.]\n",
      " [nan  5.  6.]\n",
      " [ 7. nan  9.]\n",
      " [ 4.  5.  6.]]\n",
      "Co gia tri null\n"
     ]
    }
   ],
   "source": [
    "# Câu 6: Cho arr_2D_null = np.array([[1, 2, 3], [np.NaN, 5, 6], [7, np.NaN, 9], [4, 5, 6]]),\n",
    "# Kiểm tra xem trong array có giá trị rỗng nào không? \n",
    "arr_2D_null = np.array([[1, 2, 3], [np.NaN, 5, 6], [7, np.NaN, 9], [4, 5, 6]])\n",
    "print(arr_2D_null)\n",
    "if np.isnan(arr_2D_null).any() ==True:\n",
    "    print('Co gia tri null')"
   ]
  },
  {
   "cell_type": "code",
   "execution_count": 28,
   "id": "7ebbf3bd",
   "metadata": {},
   "outputs": [
    {
     "data": {
      "text/plain": [
       "array([[1., 2., 3.],\n",
       "       [0., 5., 6.],\n",
       "       [7., 0., 9.],\n",
       "       [4., 5., 6.]])"
      ]
     },
     "execution_count": 28,
     "metadata": {},
     "output_type": "execute_result"
    }
   ],
   "source": [
    "# Câu 7: Sử dụng array arr_2D_null của câu 6, thay thế giá trị null bằng 0 => Xem lại danh sách các phần tử của arr_2D_null\n",
    "np.nan_to_num(arr_2D_null, copy=True)"
   ]
  },
  {
   "cell_type": "code",
   "execution_count": null,
   "id": "5e3187cf",
   "metadata": {},
   "outputs": [],
   "source": []
  }
 ],
 "metadata": {
  "kernelspec": {
   "display_name": "Python 3",
   "language": "python",
   "name": "python3"
  },
  "language_info": {
   "codemirror_mode": {
    "name": "ipython",
    "version": 3
   },
   "file_extension": ".py",
   "mimetype": "text/x-python",
   "name": "python",
   "nbconvert_exporter": "python",
   "pygments_lexer": "ipython3",
   "version": "3.8.8"
  }
 },
 "nbformat": 4,
 "nbformat_minor": 5
}
