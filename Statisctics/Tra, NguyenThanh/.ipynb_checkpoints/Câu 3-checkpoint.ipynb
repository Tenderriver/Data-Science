{
 "cells": [
  {
   "cell_type": "raw",
   "metadata": {},
   "source": [
    "Câu 3. Hồi quy tuyến tính (3 điểm)\n",
    "Tập tin ‘IQ6.xls’ chứa dữ liệu huấn luyện về mối quan hệ giữa chỉ số IQ với điểm thi của các môn học.\n",
    "3.1) Vẽ biểu đồ phân phối tần số và cho biết những giá trị thống kê cơ bản của điểm thi các môn.\n",
    "Xác định outlier(s), nếu có, của chỉ số IQ và điểm thi của các môn dựa trên quy tắc 3-Sigma.\n",
    "3.2) Tính hệ số tương quan Pearson giữa IQ và các điểm thi. Trên cơ sở đó, chọn điểm thi của 1\n",
    "trong các môn để dự đoán chỉ số IQ theo phương pháp hồi quy tuyến tính bằng a) Gradient\n",
    "Descent VÀ b) Ma trận giả nghịch đảo. Trực quan hóa dữ liệu.\n",
    "3.3) Dự đoán chỉ số IQ cho tập dữ liệu thử nghiệm (test set): { 0.5, 1.0, 1.5, 2.0, …, 9.0, 9.5, 10 }.\n",
    "3.4) Nhận xét kết quả khi dùng diem_5 để dự đoán chỉ số IQ"
   ]
  },
  {
   "cell_type": "code",
   "execution_count": 33,
   "metadata": {},
   "outputs": [],
   "source": [
    "import matplotlib.pyplot as plt\n",
    "import numpy             as np\n",
    "import pandas            as pd\n",
    "import seaborn           as sns\n",
    "import scipy.stats       as stats"
   ]
  },
  {
   "cell_type": "code",
   "execution_count": 34,
   "metadata": {},
   "outputs": [],
   "source": [
    "df = pd.read_excel('LDS3 - De thi cucoi khoa K268/IQ6.xls')"
   ]
  },
  {
   "cell_type": "code",
   "execution_count": 35,
   "metadata": {},
   "outputs": [
    {
     "data": {
      "image/png": "[encoded data removed]",
      "text/plain": [
       "<Figure size 576x576 with 6 Axes>"
      ]
     },
     "metadata": {},
     "output_type": "display_data"
    }
   ],
   "source": [
    "# 3.1) Vẽ biểu đồ phân phối tần số và cho biết những giá trị thống kê cơ bản của điểm thi các môn.\n",
    "\n",
    "# Biểu đồ phân phối tần số của điểm thi các môn\n",
    "f, axes = plt.subplots(3, 2, sharex = True, sharey = False, facecolor = 'white', figsize = (8,8))\n",
    "diem = df.columns[1:-1]\n",
    "k=0\n",
    "for i in range(3):\n",
    "    for j in range(2):\n",
    "        axes[i][j].hist(df[diem[k]])\n",
    "        axes[i][j].set_title(\"Điểm \" + str(k+1))\n",
    "        plt.autoscale(enable=True)\n",
    "        k+=1 \n",
    "plt.show()"
   ]
  },
  {
   "cell_type": "code",
   "execution_count": 36,
   "metadata": {},
   "outputs": [
    {
     "data": {
      "text/html": [
       "<div>\n",
       "<style scoped>\n",
       "    .dataframe tbody tr th:only-of-type {\n",
       "        vertical-align: middle;\n",
       "    }\n",
       "\n",
       "    .dataframe tbody tr th {\n",
       "        vertical-align: top;\n",
       "    }\n",
       "\n",
       "    .dataframe thead th {\n",
       "        text-align: right;\n",
       "    }\n",
       "</style>\n",
       "<table border=\"1\" class=\"dataframe\">\n",
       "  <thead>\n",
       "    <tr style=\"text-align: right;\">\n",
       "      <th></th>\n",
       "      <th>diem_1</th>\n",
       "      <th>diem_2</th>\n",
       "      <th>diem_3</th>\n",
       "      <th>diem_4</th>\n",
       "      <th>diem_5</th>\n",
       "      <th>diem_6</th>\n",
       "    </tr>\n",
       "  </thead>\n",
       "  <tbody>\n",
       "    <tr>\n",
       "      <th>count</th>\n",
       "      <td>20.000000</td>\n",
       "      <td>20.000000</td>\n",
       "      <td>20.00000</td>\n",
       "      <td>20.000000</td>\n",
       "      <td>20.000000</td>\n",
       "      <td>20.000000</td>\n",
       "    </tr>\n",
       "    <tr>\n",
       "      <th>mean</th>\n",
       "      <td>7.600000</td>\n",
       "      <td>6.120000</td>\n",
       "      <td>6.86000</td>\n",
       "      <td>7.000000</td>\n",
       "      <td>4.080000</td>\n",
       "      <td>4.080000</td>\n",
       "    </tr>\n",
       "    <tr>\n",
       "      <th>std</th>\n",
       "      <td>0.680557</td>\n",
       "      <td>2.115009</td>\n",
       "      <td>1.79338</td>\n",
       "      <td>0.917663</td>\n",
       "      <td>2.214212</td>\n",
       "      <td>2.214212</td>\n",
       "    </tr>\n",
       "    <tr>\n",
       "      <th>min</th>\n",
       "      <td>6.000000</td>\n",
       "      <td>2.000000</td>\n",
       "      <td>2.50000</td>\n",
       "      <td>6.000000</td>\n",
       "      <td>0.400000</td>\n",
       "      <td>0.400000</td>\n",
       "    </tr>\n",
       "    <tr>\n",
       "      <th>25%</th>\n",
       "      <td>7.000000</td>\n",
       "      <td>4.700000</td>\n",
       "      <td>6.07500</td>\n",
       "      <td>6.000000</td>\n",
       "      <td>2.300000</td>\n",
       "      <td>2.300000</td>\n",
       "    </tr>\n",
       "    <tr>\n",
       "      <th>50%</th>\n",
       "      <td>8.000000</td>\n",
       "      <td>6.200000</td>\n",
       "      <td>7.10000</td>\n",
       "      <td>7.000000</td>\n",
       "      <td>4.200000</td>\n",
       "      <td>4.200000</td>\n",
       "    </tr>\n",
       "    <tr>\n",
       "      <th>75%</th>\n",
       "      <td>8.000000</td>\n",
       "      <td>7.700000</td>\n",
       "      <td>8.17500</td>\n",
       "      <td>8.000000</td>\n",
       "      <td>5.600000</td>\n",
       "      <td>5.600000</td>\n",
       "    </tr>\n",
       "    <tr>\n",
       "      <th>max</th>\n",
       "      <td>8.000000</td>\n",
       "      <td>9.600000</td>\n",
       "      <td>9.20000</td>\n",
       "      <td>9.000000</td>\n",
       "      <td>8.000000</td>\n",
       "      <td>8.000000</td>\n",
       "    </tr>\n",
       "  </tbody>\n",
       "</table>\n",
       "</div>"
      ],
      "text/plain": [
       "          diem_1     diem_2    diem_3     diem_4     diem_5     diem_6\n",
       "count  20.000000  20.000000  20.00000  20.000000  20.000000  20.000000\n",
       "mean    7.600000   6.120000   6.86000   7.000000   4.080000   4.080000\n",
       "std     0.680557   2.115009   1.79338   0.917663   2.214212   2.214212\n",
       "min     6.000000   2.000000   2.50000   6.000000   0.400000   0.400000\n",
       "25%     7.000000   4.700000   6.07500   6.000000   2.300000   2.300000\n",
       "50%     8.000000   6.200000   7.10000   7.000000   4.200000   4.200000\n",
       "75%     8.000000   7.700000   8.17500   8.000000   5.600000   5.600000\n",
       "max     8.000000   9.600000   9.20000   9.000000   8.000000   8.000000"
      ]
     },
     "execution_count": 36,
     "metadata": {},
     "output_type": "execute_result"
    }
   ],
   "source": [
    "# Giá trị thống kê cơ bản của điểm thi các môn.\n",
    "df.iloc[:,1:-1].describe()"
   ]
  },
  {
   "cell_type": "code",
   "execution_count": 37,
   "metadata": {},
   "outputs": [
    {
     "name": "stdout",
     "output_type": "stream",
     "text": [
      "diem_1  không có các outliners\n",
      "diem_2  không có các outliners\n",
      "diem_3  không có các outliners\n",
      "diem_4  không có các outliners\n",
      "diem_5  không có các outliners\n",
      "diem_6  không có các outliners\n"
     ]
    }
   ],
   "source": [
    "# Xác định outlier(s), nếu có, của chỉ số IQ và điểm thi của các môn dựa trên quy tắc 3-Sigma.\n",
    "\n",
    "for i in diem:\n",
    "    limit = df[i].std()*3\n",
    "    mean = df[i].mean()\n",
    "    outliners = df[(df[i] > (limit + mean)) | (df[i] < (mean - limit))]\n",
    "    if outliners.dropna().empty:\n",
    "        print(i, ' không có các outliners')\n",
    "    else:\n",
    "        print(i, ' có các outlines là: ', outliners)"
   ]
  },
  {
   "cell_type": "code",
   "execution_count": 38,
   "metadata": {},
   "outputs": [
    {
     "data": {
      "text/plain": [
       "diem_1   -0.088168\n",
       "diem_2    0.751607\n",
       "diem_3    0.471522\n",
       "diem_4    0.622977\n",
       "diem_5    0.439858\n",
       "diem_6   -0.872419\n",
       "Name: IQ, dtype: float64"
      ]
     },
     "execution_count": 38,
     "metadata": {},
     "output_type": "execute_result"
    }
   ],
   "source": [
    "# 3.2) Tính hệ số tương quan Pearson giữa IQ và các điểm thi.\n",
    "#Trên cơ sở đó, chọn điểm thi của 1 trong các môn để dự đoán chỉ số IQ theo phương pháp hồi quy tuyến tính bằng Gradient Descent\n",
    "\n",
    "df.corr().IQ[1:-1]\n",
    "# -> Chọn điểm thi môn 6 để dự đoán chỉ số IQ vì biến này tương quan mạnh nhất với IQ"
   ]
  },
  {
   "cell_type": "code",
   "execution_count": 39,
   "metadata": {},
   "outputs": [],
   "source": [
    "# PP Gradient Descent\n",
    "\n",
    "def gradient_descent(alpha, x, y, numIterations):\n",
    "    N = x.shape[0]\n",
    "    theta = np.ones(2)\n",
    "    x_T = x.transpose()\n",
    "    for t in range(0, numIterations):\n",
    "        yHat = np.dot(x, theta) \n",
    "        loss = yHat - y\n",
    "        sum_loss = sum(np.power(loss,2)) # Tổng bình phương sai lệch\n",
    "        gradient = np.dot(x_T, loss) / N          \n",
    "        theta = theta -(alpha * gradient)\n",
    "    return theta, sum_loss"
   ]
  },
  {
   "cell_type": "code",
   "execution_count": 40,
   "metadata": {},
   "outputs": [
    {
     "data": {
      "text/plain": [
       "(-8.777600324258815, 151.0118023057043)"
      ]
     },
     "execution_count": 40,
     "metadata": {},
     "output_type": "execute_result"
    }
   ],
   "source": [
    "diem_6 = df.diem_6\n",
    "xBar = np.c_[np.ones(df.shape[0]), diem_6]\n",
    "y    = df.IQ\n",
    "\n",
    "# Chọn N = 5000, vì tăng N để đạt được slope và bias càng chính xác hơn\n",
    "# Tuy nhiên khi N > 5000 thì việc tăng N cũng không làm slope và bias thay đổi đáng kể\n",
    "\n",
    "alpha = 0.01\n",
    "theta1, loss1 = gradient_descent(alpha, xBar, y, 5000)\n",
    "slope1 = theta1[1]\n",
    "bias1  = theta1[0]\n",
    "slope1, bias1"
   ]
  },
  {
   "cell_type": "code",
   "execution_count": 41,
   "metadata": {},
   "outputs": [
    {
     "data": {
      "text/plain": [
       "(-8.778340776365368, 151.01563036757068)"
      ]
     },
     "execution_count": 41,
     "metadata": {},
     "output_type": "execute_result"
    }
   ],
   "source": [
    "# PP Ma trận nghịch đảo\n",
    "A = np.dot(xBar.T, xBar)\n",
    "b = np.dot(xBar.T, y)\n",
    "w = np.dot(np.linalg.pinv(A), b)\n",
    "slope2 = w[1] \n",
    "bias2  = w[0]\n",
    "slope2, bias2"
   ]
  },
  {
   "cell_type": "code",
   "execution_count": 42,
   "metadata": {},
   "outputs": [
    {
     "data": {
      "text/plain": [
       "<Figure size 288x288 with 0 Axes>"
      ]
     },
     "metadata": {},
     "output_type": "display_data"
    },
    {
     "data": {
      "image/png": "[encoded data removed]",
      "text/plain": [
       "<Figure size 432x432 with 3 Axes>"
      ]
     },
     "metadata": {
      "needs_background": "light"
     },
     "output_type": "display_data"
    }
   ],
   "source": [
    "# Trực quan hóa dữ liệu\n",
    "plt.figure(figsize = (4, 4))\n",
    "sns.jointplot(x = df.diem_6, y = df.IQ, edgecolor = \"white\")\n",
    "plt.show()"
   ]
  },
  {
   "cell_type": "code",
   "execution_count": 43,
   "metadata": {},
   "outputs": [
    {
     "data": {
      "text/plain": [
       "array([146.62300214, 142.23420198, 137.84540182, 133.45660166,\n",
       "       129.0678015 , 124.67900133, 120.29020117, 115.90140101,\n",
       "       111.51260085, 107.12380068, 102.73500052,  98.34620036,\n",
       "        93.9574002 ,  89.56860004,  85.17979987,  80.79099971,\n",
       "        76.40219955,  72.01339939,  67.62459923,  63.23579906])"
      ]
     },
     "execution_count": 43,
     "metadata": {},
     "output_type": "execute_result"
    }
   ],
   "source": [
    "#3.3) Dự đoán chỉ số IQ cho tập dữ liệu thử nghiệm (test set): { 0.5, 1.0, 1.5, 2.0, …, 9.0, 9.5, 10 }.\n",
    "\n",
    "test = np.arange(0.5,10.5,0.5)\n",
    "y_predict = (slope1 * test) + bias1\n",
    "y_predict"
   ]
  },
  {
   "cell_type": "code",
   "execution_count": 44,
   "metadata": {},
   "outputs": [
    {
     "name": "stdout",
     "output_type": "stream",
     "text": [
      "Tổng bình phương sai lệch khi dùng diem_5 dự đoán IQ: 7606.496332540799\n",
      "Tổng bình phương sai lệch khi dùng diem_6 dự đoán IQ: 2252.975244719431\n"
     ]
    }
   ],
   "source": [
    "#3.4) Nhận xét kết quả khi dùng diem_5 để dự đoán chỉ số IQ\n",
    "\n",
    "# Dùng điểm 5 để xây dựng đường hồi quy tuyến tính theo phương pháp gradient decent:\n",
    "xBar5 = np.c_[np.ones(df.shape[0]), df.diem_5]\n",
    "y5    = df.IQ\n",
    "\n",
    "alpha = 0.01\n",
    "theta5, loss5 = gradient_descent(alpha, xBar5, y5, 5000)\n",
    "slope5 = theta5[1]\n",
    "bias5  = theta5[0]\n",
    "print('Tổng bình phương sai lệch khi dùng diem_5 dự đoán IQ:', loss5)\n",
    "print('Tổng bình phương sai lệch khi dùng diem_6 dự đoán IQ:', loss1)\n",
    "\n",
    "#Nhận xét: Khi dùng diem_5 để dự đoán chỉ số IQ, tổng bình phương sai lệch là loss5, lớn hơn nhiều so với loss6 khi dùng diem_6"
   ]
  },
  {
   "cell_type": "code",
   "execution_count": null,
   "metadata": {},
   "outputs": [],
   "source": []
  }
 ],
 "metadata": {
  "kernelspec": {
   "display_name": "Python 3",
   "language": "python",
   "name": "python3"
  },
  "language_info": {
   "codemirror_mode": {
    "name": "ipython",
    "version": 3
   },
   "file_extension": ".py",
   "mimetype": "text/x-python",
   "name": "python",
   "nbconvert_exporter": "python",
   "pygments_lexer": "ipython3",
   "version": "3.8.3"
  }
 },
 "nbformat": 4,
 "nbformat_minor": 4
}
