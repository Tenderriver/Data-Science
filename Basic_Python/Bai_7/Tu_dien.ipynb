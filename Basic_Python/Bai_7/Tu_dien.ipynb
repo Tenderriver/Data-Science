{
 "cells": [
  {
   "cell_type": "code",
   "execution_count": null,
   "id": "c811792d",
   "metadata": {},
   "outputs": [
    {
     "name": "stdout",
     "output_type": "stream",
     "text": [
      "Bạn muốn làm gì? 1: Hiển thị từ điển; 2: Tra từ, 3: Thêm từ, 4: Xóa từ\t4\n",
      "Nhập từ cần xóa:\tbark\n",
      "Bạn có thật sự muốn xóa hay không? 1: Xóa, 0: Không\t0\n",
      "work       ['công việc', 'việc làm', 'tác phẩm']\n",
      "bat        ['con dơi', 'gậy', 'đánh bóng']\n",
      "board      ['bảng', 'ban quản lý', 'lên tàu']\n",
      "bowl       ['cái bát', 'khán đài', 'quả bóng quần']\n",
      "stamp      ['con tem', 'phiếu mua hàng', 'con dấu']\n",
      "club       ['câu lạc bộ', 'gậy đánh golf', 'dùi cui']\n"
     ]
    }
   ],
   "source": [
    "# Tạo một từ điển ((key: từ tiếng Anh, value: list nghĩa Tiếng Việt))\n",
    "dictionary = {'work': ['công việc', 'việc làm', 'tác phẩm'], 'bark': ['vỏ cây', 'tiếng sủa', 'thuyền ba cột buồm'], 'bat':['con dơi', 'gậy', 'đánh bóng'], 'board': ['bảng', 'ban quản lý', 'lên tàu'], 'bowl' : ['cái bát', 'khán đài', 'quả bóng quần'], 'stamp' : ['con tem', 'phiếu mua hàng', 'con dấu'], 'club' : ['câu lạc bộ', 'gậy đánh golf', 'dùi cui']}\n",
    "\n",
    "# Chương trình thực hiện các công việc:\n",
    "i = 1\n",
    "while i == 1:    \n",
    "    cv = int(input('Bạn muốn làm gì? 1: Hiển thị từ điển; 2: Tra từ, 3: Thêm từ, 4: Xóa từ\\t'))\n",
    "\n",
    "    # Hiển thị từ điển, và cho biết trong từ điển hiện tại có bao nhiêu từ?\n",
    "    if cv == 1:\n",
    "        print('Dictionary:')\n",
    "        print('Từ Anh \\t Nghĩa Việt')\n",
    "        for i,j in dictionary.items():\n",
    "            print (\"{:10s} {}\".format(i,j))\n",
    "        \n",
    "\n",
    "    \n",
    "    # Tìm kiếm từ tiếng Anh => nếu tìm thấy thì hiển thị key và value. Nếu không tìm thấy thì thông báo không tìm thấy\n",
    "    elif cv == 2:    \n",
    "        name_search = input('Nhập từ cần tra:\\t')\n",
    "        if dictionary.get(name_search)==None:\n",
    "            print(\"Khong tim thay tu can tra\")\n",
    "        else:\n",
    "            print (name_search, '\\t', dictionary.get(name_search))\n",
    "          \n",
    "\n",
    "\n",
    "    # Thêm từ vào từ điển, Hiển thị từ điển sau khi thêm \n",
    "    elif cv == 3:\n",
    "        word = input('Nhập từ Anh:\\t')\n",
    "        dictionary[word]=input('Nhập nghĩa Việt:\\t').split(\",\")\n",
    "        for i,j in dictionary.items():\n",
    "            print (\"{:10s} {}\".format(i,j))\n",
    "             \n",
    "    \n",
    "    \n",
    "\n",
    "    # Xóa một từ trong từ điển, dựa trên key cung cấp , và Hiển thị từ điển sau khi xóa\n",
    "    elif cv == 4:\n",
    "        word_delete = input('Nhập từ cần xóa:\\t')\n",
    "        x = int(input('Bạn có thật sự muốn xóa hay không? 1: Xóa, 0: Không\\t'))\n",
    "        del dictionary[word_delete] \n",
    "        for i,j in dictionary.items():\n",
    "            print (\"{:10s} {}\".format(i,j))\n",
    "    \n",
    "\n",
    "    \n",
    "    \n",
    "    i = int(input('Tiếp tục lựa chọn? 1: Có; 0: Không\\t'))"
   ]
  },
  {
   "cell_type": "code",
   "execution_count": null,
   "id": "ba2b9897",
   "metadata": {},
   "outputs": [],
   "source": []
  },
  {
   "cell_type": "code",
   "execution_count": null,
   "id": "1d847dc9",
   "metadata": {},
   "outputs": [],
   "source": []
  }
 ],
 "metadata": {
  "kernelspec": {
   "display_name": "Python 3",
   "language": "python",
   "name": "python3"
  },
  "language_info": {
   "codemirror_mode": {
    "name": "ipython",
    "version": 3
   },
   "file_extension": ".py",
   "mimetype": "text/x-python",
   "name": "python",
   "nbconvert_exporter": "python",
   "pygments_lexer": "ipython3",
   "version": "3.8.8"
  }
 },
 "nbformat": 4,
 "nbformat_minor": 5
}
