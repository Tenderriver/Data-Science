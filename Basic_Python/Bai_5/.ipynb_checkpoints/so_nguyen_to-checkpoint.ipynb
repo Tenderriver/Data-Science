{
 "cells": [
  {
   "cell_type": "code",
   "execution_count": 4,
   "id": "72c1b7e0",
   "metadata": {},
   "outputs": [
    {
     "name": "stdout",
     "output_type": "stream",
     "text": [
      "Nhap so nguyen x: 10\n",
      "x khong phai so nguyen to\n"
     ]
    }
   ],
   "source": [
    "x= int(input(\"Nhap so nguyen x: \"))\n",
    "\n",
    "for i in range (2,x):\n",
    "    if x%i==0:\n",
    "        print (\"x khong phai so nguyen to\")\n",
    "        break\n",
    "else: \n",
    "    print (\"x la so nguyen to\")\n",
    "\n",
    "    "
   ]
  },
  {
   "cell_type": "code",
   "execution_count": null,
   "id": "e18a80e3",
   "metadata": {},
   "outputs": [],
   "source": []
  },
  {
   "cell_type": "code",
   "execution_count": null,
   "id": "302519ee",
   "metadata": {},
   "outputs": [],
   "source": [
    "10"
   ]
  }
 ],
 "metadata": {
  "kernelspec": {
   "display_name": "Python 3",
   "language": "python",
   "name": "python3"
  },
  "language_info": {
   "codemirror_mode": {
    "name": "ipython",
    "version": 3
   },
   "file_extension": ".py",
   "mimetype": "text/x-python",
   "name": "python",
   "nbconvert_exporter": "python",
   "pygments_lexer": "ipython3",
   "version": "3.8.8"
  }
 },
 "nbformat": 4,
 "nbformat_minor": 5
}
