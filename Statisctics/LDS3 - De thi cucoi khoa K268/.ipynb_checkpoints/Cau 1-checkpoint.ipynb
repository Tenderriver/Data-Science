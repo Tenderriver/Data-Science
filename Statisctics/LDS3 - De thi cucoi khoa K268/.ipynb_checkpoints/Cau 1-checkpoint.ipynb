{
 "cells": [
  {
   "cell_type": "markdown",
   "id": "281148af",
   "metadata": {},
   "source": [
    "Câu 1. Vectơ (1 điểm)\n",
    "Cho 3 điểm A(20,10), B(70,30), C(50,55) có tọa độ trong mặt phẳng\n",
    "xOy như trong hình vẽ.\n",
    "1.1) Trong 2 điểm B và C, điểm nào gần với\n",
    "điểm A hơn ? Tại sao ?\n",
    "1.2) Giả sử cho phép di chuyển theo các\n",
    "hướng song song với các trục Ox, Oy và\n",
    "song song với đường phân giác của xOy\n",
    "(45o). Tính quãng đường di chuyển từ\n",
    "điểm A đến điểm B."
   ]
  },
  {
   "cell_type": "code",
   "execution_count": 2,
   "id": "74886949",
   "metadata": {},
   "outputs": [],
   "source": [
    "import numpy as np\n",
    "import math\n",
    "from numpy.linalg import norm"
   ]
  },
  {
   "cell_type": "code",
   "execution_count": 3,
   "id": "a1eb1179",
   "metadata": {},
   "outputs": [
    {
     "name": "stdout",
     "output_type": "stream",
     "text": [
      "AB= 53.85164807134504 \tAC= 54.08326913195984\n"
     ]
    }
   ],
   "source": [
    "#1.1. B gần A hơn vì AB < AC\n",
    "\n",
    "A=np.array([20,10])\n",
    "B=np.array([70,30])\n",
    "C=np.array([50,55])\n",
    "AB=norm(A-B)\n",
    "AC=norm(A-C)\n",
    "print('AB=',AB,'\\tAC=',AC)"
   ]
  },
  {
   "cell_type": "code",
   "execution_count": 4,
   "id": "48c40ecb",
   "metadata": {},
   "outputs": [
    {
     "name": "stdout",
     "output_type": "stream",
     "text": [
      "L1= 70.0\n"
     ]
    }
   ],
   "source": [
    "#1.2. Quãng đường AB\n",
    "L1 = norm(A-B,1)\n",
    "\n",
    "print('L1=',L1)"
   ]
  },
  {
   "cell_type": "code",
   "execution_count": null,
   "id": "59819c4a",
   "metadata": {},
   "outputs": [],
   "source": []
  }
 ],
 "metadata": {
  "kernelspec": {
   "display_name": "Python 3",
   "language": "python",
   "name": "python3"
  },
  "language_info": {
   "codemirror_mode": {
    "name": "ipython",
    "version": 3
   },
   "file_extension": ".py",
   "mimetype": "text/x-python",
   "name": "python",
   "nbconvert_exporter": "python",
   "pygments_lexer": "ipython3",
   "version": "3.8.8"
  }
 },
 "nbformat": 4,
 "nbformat_minor": 5
}
