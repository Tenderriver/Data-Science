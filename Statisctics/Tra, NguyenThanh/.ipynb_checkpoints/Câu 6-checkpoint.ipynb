{
 "cells": [
  {
   "cell_type": "raw",
   "metadata": {},
   "source": [
    "Câu 6. Kiểm định ANOVA (2 điểm)\n",
    "Tập tin ‘Samples.txt’ lưu trữ 4 mẫu dữ liệu được lấy từ các quần thể đều có phân phối chuẩn.\n",
    "6.1) Với  = 0.05, hãy kiểm định giả thuyết H0: “Các quần thể có cùng phương sai.”\n",
    "6.2) Với  = 0.05, hãy cho kết luận về giả thuyết H0: “Các quần thể có cùng giá trị trung bình.”\n",
    "bằng 2 phương pháp: a) Tính toán truyền thống, VÀ b) Dùng các hàm thống kê có sẵn.\n",
    "6.3) Nếu bác bỏ giả thuyết H0 trong câu 6.2), hãy cho biết những quần thể nào có sự khác biệt về\n",
    "giá trị trung bình"
   ]
  },
  {
   "cell_type": "code",
   "execution_count": 12,
   "metadata": {},
   "outputs": [],
   "source": [
    "import matplotlib.pyplot as plt\n",
    "import pandas            as pd\n",
    "import scipy.stats       as stats\n",
    "import seaborn           as sns\n",
    "import statsmodels.api   as sm\n",
    "import numpy as np\n",
    "\n",
    "from statsmodels.formula.api     import ols\n",
    "from statsmodels.stats.multicomp import pairwise_tukeyhsd"
   ]
  },
  {
   "cell_type": "code",
   "execution_count": 13,
   "metadata": {},
   "outputs": [],
   "source": [
    "f = open('LDS3 - De thi cucoi khoa K268/Samples.txt', 'r')\n",
    "data = f.read()\n",
    "f.close()\n",
    "data = data.split(\"\\n\")\n",
    "df= pd.DataFrame.from_records([r.split('\\t') for r in data[1:]], columns=data[0].split('\\t'))"
   ]
  },
  {
   "cell_type": "code",
   "execution_count": 14,
   "metadata": {},
   "outputs": [
    {
     "data": {
      "text/html": [
       "<div>\n",
       "<style scoped>\n",
       "    .dataframe tbody tr th:only-of-type {\n",
       "        vertical-align: middle;\n",
       "    }\n",
       "\n",
       "    .dataframe tbody tr th {\n",
       "        vertical-align: top;\n",
       "    }\n",
       "\n",
       "    .dataframe thead th {\n",
       "        text-align: right;\n",
       "    }\n",
       "</style>\n",
       "<table border=\"1\" class=\"dataframe\">\n",
       "  <thead>\n",
       "    <tr style=\"text-align: right;\">\n",
       "      <th></th>\n",
       "      <th>A</th>\n",
       "      <th>B</th>\n",
       "      <th>C</th>\n",
       "      <th>D</th>\n",
       "    </tr>\n",
       "  </thead>\n",
       "  <tbody>\n",
       "    <tr>\n",
       "      <th>10</th>\n",
       "      <td>78</td>\n",
       "      <td>NaN</td>\n",
       "      <td>45</td>\n",
       "      <td>NaN</td>\n",
       "    </tr>\n",
       "    <tr>\n",
       "      <th>11</th>\n",
       "      <td>95</td>\n",
       "      <td>NaN</td>\n",
       "      <td>55</td>\n",
       "      <td>NaN</td>\n",
       "    </tr>\n",
       "    <tr>\n",
       "      <th>12</th>\n",
       "      <td>93</td>\n",
       "      <td>NaN</td>\n",
       "      <td>NaN</td>\n",
       "      <td>NaN</td>\n",
       "    </tr>\n",
       "    <tr>\n",
       "      <th>13</th>\n",
       "      <td>88</td>\n",
       "      <td>NaN</td>\n",
       "      <td>NaN</td>\n",
       "      <td>NaN</td>\n",
       "    </tr>\n",
       "    <tr>\n",
       "      <th>14</th>\n",
       "      <td>110</td>\n",
       "      <td>NaN</td>\n",
       "      <td>NaN</td>\n",
       "      <td>NaN</td>\n",
       "    </tr>\n",
       "  </tbody>\n",
       "</table>\n",
       "</div>"
      ],
      "text/plain": [
       "      A    B    C    D\n",
       "10   78  NaN   45  NaN\n",
       "11   95  NaN   55  NaN\n",
       "12   93  NaN  NaN  NaN\n",
       "13   88  NaN  NaN  NaN\n",
       "14  110  NaN  NaN  NaN"
      ]
     },
     "execution_count": 14,
     "metadata": {},
     "output_type": "execute_result"
    }
   ],
   "source": [
    "# Loại bỏ các giá trị là khoảng trắng trong dataframe khi lấy dữ liệu từ file text\n",
    "for i in range(df.shape[0]):\n",
    "    for j in range(df.shape[1]):\n",
    "        try:\n",
    "            df.iloc[i,j] = int(df.iloc[i,j])\n",
    "        except:\n",
    "            df.iloc[i,j] = np.NAN\n",
    "df.tail()"
   ]
  },
  {
   "cell_type": "code",
   "execution_count": 15,
   "metadata": {},
   "outputs": [],
   "source": [
    "k      = len(df.columns)\n",
    "groups = list(df.columns) # (k column headers)\n",
    "\n",
    "samples = []\n",
    "for j in range(k):\n",
    "    sample = [x for x in df[groups[j]] if pd.notnull(x)]\n",
    "    samples.append(sample)"
   ]
  },
  {
   "cell_type": "code",
   "execution_count": 16,
   "metadata": {},
   "outputs": [],
   "source": [
    "A= samples[0]\n",
    "B= samples[1]\n",
    "C= samples[2]\n",
    "D= samples[3]"
   ]
  },
  {
   "cell_type": "code",
   "execution_count": 17,
   "metadata": {},
   "outputs": [
    {
     "name": "stdout",
     "output_type": "stream",
     "text": [
      "Levene-statistic = 0.7978, p-value = 0.5021\n"
     ]
    }
   ],
   "source": [
    "# 6.1) Với alpha = 0.05, hãy kiểm định giả thuyết H0: “Các quần thể có cùng phương sai.”\n",
    "\n",
    "# H0: Phương sai của A, B, C, D bằng nhau\n",
    "# Ha: Phương sai của A, B, C, D KHÔNG BẰNG NHAU\n",
    "\n",
    "levene, pvalue = stats.levene(A, B, C, D)\n",
    "print('Levene-statistic = %.4f, p-value = %.4f' % (levene, pvalue))\n",
    "\n",
    "# p-value > 0.05 => Chấp nhận H0 -> A, B, C, D  có phương sai bằng nhau"
   ]
  },
  {
   "cell_type": "code",
   "execution_count": 18,
   "metadata": {},
   "outputs": [
    {
     "name": "stdout",
     "output_type": "stream",
     "text": [
      "SSB           : 12486.4848\n",
      "dfB           : 3\n",
      "SSW           : 11464.5722\n",
      "dfW           : 42\n",
      "F statistic   : 15.2479\n",
      "Critical value: 2.8270\n",
      "(F >= critical value) ==> Bác bỏ HO: <H0 : Trung bình của A, B, C, D khác biệt không đáng kể.>\n"
     ]
    }
   ],
   "source": [
    "# 6.2) Với alpha = 0.05, hãy cho kết luận về giả thuyết H0: “Các quần thể có cùng giá trị trung bình.”\n",
    "# Dùng phương pháp truyền thống\n",
    "\n",
    "# One-way ANOVA\n",
    "# H0: Trung bình của A, B, C, D khác biệt không đáng kể\n",
    "# Ha: Có ít nhất 1 cặp trong A, B, C, D có trung bình khác biệt đáng kể\n",
    "\n",
    "alpha = 0.05\n",
    "## Số phần tử của mỗi nhóm\n",
    "sizes = np.zeros(k)\n",
    "for j in range(k): \n",
    "    sizes[j] = np.size(samples[j])\n",
    "\n",
    "## Giá trị trung bình của mỗi mẫu\n",
    "means = np.zeros(k)\n",
    "for j in range(k):\n",
    "    means[j] = np.mean(samples[j])\n",
    "\n",
    "## Giá trị trung bình của tất cả các mẫu\n",
    "meanT = np.mean(means)\n",
    "\n",
    "## Các đại lượng BETWEEN groups: SSB, dfB\n",
    "SSB = 0\n",
    "for j in range(k):\n",
    "    SSB += sizes[j] * np.power((means[j] - meanT), 2)\n",
    "dfB = (k - 1)\n",
    "print('SSB           : %.4f' %SSB)\n",
    "print('dfB           : %d' %dfB)\n",
    "   \n",
    "## Các đại lượng WITHIN groups: SSW, dfW\n",
    "SSW = 0\n",
    "for j in range(k):\n",
    "    SSWj = 0\n",
    "    for i in range(int(sizes[j])):\n",
    "        SSWj += np.power(samples[j][i] - means[j], 2)\n",
    "    SSW += SSWj\n",
    "dfW = int(np.sum(sizes) - k)\n",
    "print('SSW           : %.4f' %SSW)\n",
    "print('dfW           : %d' %dfW)\n",
    "\n",
    "## Trị thống kê: F statistics\n",
    "F = (SSB / dfB) / (SSW / dfW)\n",
    "print('F statistic   : %.4f' %F)\n",
    "\n",
    "## Giá trị tới hạn\n",
    "\n",
    "critical_value = stats.f.ppf(q = 1 - alpha, dfn = dfB, dfd = dfW) # xác định giá trị tới hạn\n",
    "print('Critical value: %.4f' %critical_value)\n",
    "\n",
    "if (F < critical_value):\n",
    "    print('(F <  critical value) ==> Chấp nhận H0: <H0 : Trung bình của A, B, C, D khác biệt không đáng kể.>')\n",
    "else:\n",
    "    print('(F >= critical value) ==> Bác bỏ HO: <H0 : Trung bình của A, B, C, D khác biệt không đáng kể.>')"
   ]
  },
  {
   "cell_type": "code",
   "execution_count": 19,
   "metadata": {},
   "outputs": [
    {
     "name": "stdout",
     "output_type": "stream",
     "text": [
      "F-statistic = 15.1391, p-value = 0.0000007991\n"
     ]
    }
   ],
   "source": [
    "# 6.2) Với alpha = 0.05, hãy cho kết luận về giả thuyết H0: “Các quần thể có cùng giá trị trung bình.”\n",
    "# Dùng hàm thống kê sẵn\n",
    "\n",
    "# One-way ANOVA\n",
    "# H0: Trung bình của A, B, C, D khác biệt không đáng kể\n",
    "# Ha: Có ít nhất 1 cặp trong A, B, C, D có trung bình khác biệt đáng kể\n",
    "\n",
    "fvalue, pvalue = stats.f_oneway(A, B, C, D)\n",
    "print('F-statistic = %.4f, p-value = %.10f' %(fvalue, pvalue))\n",
    "\n",
    "# p-value < 0.05 -> Bác bỏ giả thuyết H0\n",
    "# Do đó, có ít nhất 1 cặp trong A, B, C, D có trung bình khác biệt đáng kể"
   ]
  },
  {
   "cell_type": "code",
   "execution_count": 20,
   "metadata": {},
   "outputs": [],
   "source": [
    "#6.3) Nếu bác bỏ giả thuyết H0 trong câu 6.2), hãy cho biết những quần thể nào có sự khác biệt về giá trị trung bình\n",
    "\n",
    "# Unpivot dữ liệu để kiểm định Tukey HSD\n",
    "\n",
    "df_melt = pd.melt(df.reset_index(), id_vars = ['index'], \n",
    "                  value_vars = ['A', 'B', 'C', 'D'])\n",
    "\n",
    "df_melt = df_melt.dropna()\n",
    "df_melt['value'] = df_melt['value'].astype('int64')"
   ]
  },
  {
   "cell_type": "code",
   "execution_count": 21,
   "metadata": {},
   "outputs": [
    {
     "name": "stdout",
     "output_type": "stream",
     "text": [
      " Multiple Comparison of Means - Tukey HSD, FWER=0.05  \n",
      "======================================================\n",
      "group1 group2 meandiff p-adj   lower    upper   reject\n",
      "------------------------------------------------------\n",
      "     A      B -35.3667  0.001 -53.4103  -17.323   True\n",
      "     A      C -36.9167  0.001 -54.0344 -19.7989   True\n",
      "     A      D -11.7778 0.3415 -30.4132   6.8577  False\n",
      "     B      C    -1.55    0.9 -20.4744  17.3744  False\n",
      "     B      D  23.5889 0.0171   3.2814  43.8964   True\n",
      "     C      D  25.1389 0.0068   5.6495  44.6283   True\n",
      "------------------------------------------------------\n"
     ]
    }
   ],
   "source": [
    "# Kiểm định Tukey HSD\n",
    "\n",
    "m_comp = pairwise_tukeyhsd(endog = df_melt['value'], groups = df_melt['variable'], alpha = 0.05)\n",
    "print(m_comp)\n",
    "\n",
    "# Ngoại trừ A & D, B & C, tất cả các so sánh cặp khác đều bác bỏ H0 và chỉ ra sự khác biệt đáng kể về mặt thống kê."
   ]
  },
  {
   "cell_type": "code",
   "execution_count": null,
   "metadata": {},
   "outputs": [],
   "source": []
  }
 ],
 "metadata": {
  "kernelspec": {
   "display_name": "Python 3",
   "language": "python",
   "name": "python3"
  },
  "language_info": {
   "codemirror_mode": {
    "name": "ipython",
    "version": 3
   },
   "file_extension": ".py",
   "mimetype": "text/x-python",
   "name": "python",
   "nbconvert_exporter": "python",
   "pygments_lexer": "ipython3",
   "version": "3.8.3"
  }
 },
 "nbformat": 4,
 "nbformat_minor": 4
}
