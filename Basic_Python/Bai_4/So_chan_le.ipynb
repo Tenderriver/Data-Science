{
 "cells": [
  {
   "cell_type": "code",
   "execution_count": 2,
   "id": "4e6804e3",
   "metadata": {},
   "outputs": [
    {
     "name": "stdout",
     "output_type": "stream",
     "text": [
      "Hay nhap vao 1 so tu nhien: 5\n",
      "So le\n"
     ]
    }
   ],
   "source": [
    "so= int (input(\"Hay nhap vao 1 so tu nhien: \"))\n",
    "if so%2==0:\n",
    "    print (\"So chan\")\n",
    "else:\n",
    "    print (\"So le\")"
   ]
  },
  {
   "cell_type": "code",
   "execution_count": null,
   "id": "30f72322",
   "metadata": {},
   "outputs": [],
   "source": []
  },
  {
   "cell_type": "code",
   "execution_count": null,
   "id": "f08d5709",
   "metadata": {},
   "outputs": [],
   "source": []
  }
 ],
 "metadata": {
  "kernelspec": {
   "display_name": "Python 3",
   "language": "python",
   "name": "python3"
  },
  "language_info": {
   "codemirror_mode": {
    "name": "ipython",
    "version": 3
   },
   "file_extension": ".py",
   "mimetype": "text/x-python",
   "name": "python",
   "nbconvert_exporter": "python",
   "pygments_lexer": "ipython3",
   "version": "3.8.8"
  }
 },
 "nbformat": 4,
 "nbformat_minor": 5
}
