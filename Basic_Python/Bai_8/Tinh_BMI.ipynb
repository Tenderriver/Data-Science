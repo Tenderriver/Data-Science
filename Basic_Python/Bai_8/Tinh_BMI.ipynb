{
 "cells": [
  {
   "cell_type": "code",
   "execution_count": 4,
   "id": "99dc0978",
   "metadata": {},
   "outputs": [
    {
     "name": "stdout",
     "output_type": "stream",
     "text": [
      "Nhap can nang (kg):52\n",
      "Nhap can cao (m):1.6\n",
      "Chi so BMI cua ban la:20.31\n",
      "Ket qua: Ban binh thuong\n"
     ]
    }
   ],
   "source": [
    "import math\n",
    "def tinh_BMI(can_nang,chieu_cao):\n",
    "    BMI=can_nang/math.pow(chieu_cao,2)\n",
    "    if BMI < 18.5:\n",
    "        kq=\"gay\"\n",
    "    elif 18.5 <= BMI <= 24.99:\n",
    "        kq=\"binh thuong\"\n",
    "    else:\n",
    "        kq=\"thua can\"\n",
    "    return BMI,kq\n",
    "BMI,kq=tinh_BMI(eval(input(\"Nhap can nang (kg):\")), eval(input(\"Nhap can cao (m):\")))\n",
    "print(\"Chi so BMI cua ban la: {:.2f}\".format(BMI))\n",
    "print(f\"Ket qua: Ban {kq}\")"
   ]
  },
  {
   "cell_type": "code",
   "execution_count": 11,
   "id": "5ba5181b",
   "metadata": {},
   "outputs": [
    {
     "name": "stdout",
     "output_type": "stream",
     "text": [
      "---Kết quả của từng học viên phòng gym---\n",
      "Mã HV \t Họ và tên \t Chỉ số BMI \t Đánh giá BMI\n",
      "HV01  Dương Thu Thủy       (24.98, 'binh thuong')\n",
      "HV02  Nguyễn Văn Hưng      (22.89, 'binh thuong')\n",
      "HV03  Lê Thái Châu         (28.63, 'thua can')\n",
      "HV04  Nguyễn Trọng Hoàng   (23.46, 'binh thuong')\n",
      "HV05  Nguyễn Tú Trinh      (20.63, 'binh thuong')\n",
      "HV06  Đào Thùy Linh        (24.22, 'binh thuong')\n",
      "HV07  Lê Văn Linh          (21.15, 'binh thuong')\n",
      "HV08  Nguyễn Phúc Ngân     (16.98, 'gay')\n",
      "HV09  Trần Nhựt Khánh      (18.49, 'gay')\n",
      "HV10  Trịnh Duy Thắng      (23.03, 'binh thuong')\n",
      "HV11  Thiều Thu Nga        (21.21, 'binh thuong')\n"
     ]
    }
   ],
   "source": [
    "Danh_sach_HV_phong_gym = {'HV01': ['Dương Thu Thủy', 68, 1.65], 'HV02': ['Nguyễn Văn Hưng', 75, 1.81], 'HV03': ['Lê Thái Châu', 98, 1.85], 'HV04': ['Nguyễn Trọng Hoàng', 67, 1.69], 'HV05': ['Nguyễn Tú Trinh', 51.5, 1.58], 'HV06': ['Đào Thùy Linh', 62, 1.60], 'HV07': ['Lê Văn Linh', 67, 1.78], 'HV08': ['Nguyễn Phúc Ngân', 55, 1.80], 'HV09': ['Trần Nhựt Khánh', 45, 1.56], 'HV10': ['Trịnh Duy Thắng', 65, 1.68], 'HV11': ['Thiều Thu Nga', 49, 1.52]}\n",
    "\n",
    "# Xây dựng hàm tính và đánh giá BMI\n",
    "def tinh_danh_gia_bmi(can_nang, chieu_cao):\n",
    "    BMI=round(can_nang/math.pow(chieu_cao,2),2)\n",
    "    if BMI < 18.5:\n",
    "        kq=\"gay\"\n",
    "    elif 18.5 <= BMI <= 24.99:\n",
    "        kq=\"binh thuong\"\n",
    "    else:\n",
    "        kq=\"thua can\"\n",
    "    return BMI,kq\n",
    "  \n",
    "     \n",
    "\n",
    "# In kết quả của từng học viên phòng gym\n",
    "print('---Kết quả của từng học viên phòng gym---')\n",
    "print('Mã HV \\t Họ và tên \\t Chỉ số BMI \\t Đánh giá BMI')\n",
    "for key, value in Danh_sach_HV_phong_gym.items():\n",
    "    print('{:5} {:20s} {}'.format(key, value[0], tinh_danh_gia_bmi(value[1],value[2])))\n",
    "    \n",
    "\n",
    "#      ---Kết quả của từng học viên phòng gym---\n",
    "#  Mã HV    Họ và tên       Chỉ số BMI      Đánh giá BMI\n",
    "#  HV01 Dương Thu Thủy (24.977043158861342, 'bình thường')\n",
    "#  HV02 Nguyễn Văn Hưng (22.89307408198773, 'bình thường')\n",
    "#  HV03 Lê Thái Châu (28.634039444850252, 'thừa cân')\n",
    "#  HV04 Nguyễn Trọng Hoàng (23.458562375266975, 'bình thường')\n",
    "#  HV05 Nguyễn Tú Trinh (20.62970677775997, 'bình thường')\n",
    "#  HV06 Đào Thùy Linh (24.218749999999996, 'bình thường')\n",
    "#  HV07 Lê Văn Linh (21.146319909102385, 'bình thường')\n",
    "#  HV08 Nguyễn Phúc Ngân (16.975308641975307, 'gầy')\n",
    "#  HV09 Trần Nhựt Khánh (18.49112426035503, 'gầy')\n",
    "#  HV10 Trịnh Duy Thắng (23.030045351473927, 'bình thường')\n",
    "#  HV11 Thiều Thu Nga (21.208448753462605, 'bình thường')"
   ]
  },
  {
   "cell_type": "code",
   "execution_count": null,
   "id": "46405545",
   "metadata": {},
   "outputs": [],
   "source": []
  }
 ],
 "metadata": {
  "kernelspec": {
   "display_name": "Python 3",
   "language": "python",
   "name": "python3"
  },
  "language_info": {
   "codemirror_mode": {
    "name": "ipython",
    "version": 3
   },
   "file_extension": ".py",
   "mimetype": "text/x-python",
   "name": "python",
   "nbconvert_exporter": "python",
   "pygments_lexer": "ipython3",
   "version": "3.8.8"
  }
 },
 "nbformat": 4,
 "nbformat_minor": 5
}
