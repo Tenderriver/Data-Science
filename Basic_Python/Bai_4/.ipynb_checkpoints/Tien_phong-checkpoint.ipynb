{
 "cells": [
  {
   "cell_type": "code",
   "execution_count": 32,
   "id": "bc67dc8e",
   "metadata": {},
   "outputs": [
    {
     "data": {
      "text/plain": [
       "int"
      ]
     },
     "execution_count": 32,
     "metadata": {},
     "output_type": "execute_result"
    }
   ],
   "source": [
    "gia=[1260000, 1550000, 1830000, 1830000, 2120000, 2120000, 2540000, 4800000]\n",
    "type(gia[1])"
   ]
  },
  {
   "cell_type": "code",
   "execution_count": 40,
   "id": "c2d27554",
   "metadata": {},
   "outputs": [
    {
     "name": "stdout",
     "output_type": "stream",
     "text": [
      "Nhap so dem luu tru 2\n",
      "Nhap loai phong (1-8) 4\n",
      "2745000.0\n"
     ]
    }
   ],
   "source": [
    "so_dem= int(input(\"Nhap so dem luu tru \"))\n",
    "loai_phong=int(input(\"Nhap loai phong (1-8) \"))-1\n",
    "if so_dem==1:\n",
    "    thanh_tien= gia[loai_phong]\n",
    "elif so_dem <4:\n",
    "    thanh_tien= gia[loai_phong] * 0.75 * so_dem\n",
    "else:\n",
    "    thanh_tien= gia[loai_phong]*0.7* so_dem\n",
    "print(thanh_tien)"
   ]
  },
  {
   "cell_type": "code",
   "execution_count": null,
   "id": "fc6aaec7",
   "metadata": {},
   "outputs": [],
   "source": []
  }
 ],
 "metadata": {
  "kernelspec": {
   "display_name": "Python 3",
   "language": "python",
   "name": "python3"
  },
  "language_info": {
   "codemirror_mode": {
    "name": "ipython",
    "version": 3
   },
   "file_extension": ".py",
   "mimetype": "text/x-python",
   "name": "python",
   "nbconvert_exporter": "python",
   "pygments_lexer": "ipython3",
   "version": "3.8.8"
  }
 },
 "nbformat": 4,
 "nbformat_minor": 5
}
