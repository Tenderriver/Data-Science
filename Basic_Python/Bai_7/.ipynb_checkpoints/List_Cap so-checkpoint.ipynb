{
 "cells": [
  {
   "cell_type": "code",
   "execution_count": 20,
   "id": "8a584619",
   "metadata": {},
   "outputs": [
    {
     "name": "stdout",
     "output_type": "stream",
     "text": [
      "Nhap 1 list co 5 phan tu\n",
      "Nhap vao 1 so nguyen:1\n",
      "Nhap 1 list co 5 phan tu\n",
      "Nhap vao 1 so nguyen:2\n",
      "Nhap 1 list co 5 phan tu\n",
      "Nhap vao 1 so nguyen:4\n",
      "Nhap 1 list co 5 phan tu\n",
      "Nhap vao 1 so nguyen:7\n",
      "Nhap 1 list co 5 phan tu\n",
      "Nhap vao 1 so nguyen:8\n",
      "[1, 2, 4, 7, 8]\n",
      "Cac cap so co quan he chia het: 1 & 2, 1 & 4, 1 & 7, 1 & 8, 2 & 4, 2 & 8, 4 & 8\n",
      "Cac cap so co quan he so nay gap 2 lan so kia: 1 & 2, 2 & 4, 4 & 8\n",
      "Cac cap so co tong la 8: 1 & 7\n"
     ]
    }
   ],
   "source": [
    "a=[]\n",
    "kt=0\n",
    "while kt<5:\n",
    "    print(\"Nhap 1 list co 5 phan tu\")\n",
    "    a.append(int(input(\"Nhap vao 1 so nguyen:\")))\n",
    "    kt+=1\n",
    "\n",
    "print(a)\n",
    "b=\"\"\n",
    "for i in range(5):\n",
    "    for j in range (i+1,5):\n",
    "        if a[i]% a[j]==0 or a[j]%a[i]==0:\n",
    "            b+= f\"{a[i]} & {a[j]}, \"\n",
    "print(f\"Cac cap so co quan he chia het: {b[:-2]}\")\n",
    "c=\"\"\n",
    "for i in range(5):\n",
    "    for j in range (i+1,5):\n",
    "        if a[i]==2*a[j] or a[j]==2*a[i]:\n",
    "            c+= f\"{a[i]} & {a[j]}, \"\n",
    "print(f\"Cac cap so co quan he so nay gap 2 lan so kia: {c[:-2]}\")\n",
    "d=\"\"\n",
    "for i in range(5):\n",
    "    for j in range (i+1,5):\n",
    "        if a[i]+a[j]==8:\n",
    "            d+= f\"{a[i]} & {a[j]}, \"\n",
    "print(f\"Cac cap so co tong la 8: {d[:-2]}\")\n",
    "        "
   ]
  },
  {
   "cell_type": "code",
   "execution_count": null,
   "id": "3f45fd4c",
   "metadata": {},
   "outputs": [],
   "source": []
  }
 ],
 "metadata": {
  "kernelspec": {
   "display_name": "Python 3",
   "language": "python",
   "name": "python3"
  },
  "language_info": {
   "codemirror_mode": {
    "name": "ipython",
    "version": 3
   },
   "file_extension": ".py",
   "mimetype": "text/x-python",
   "name": "python",
   "nbconvert_exporter": "python",
   "pygments_lexer": "ipython3",
   "version": "3.8.8"
  }
 },
 "nbformat": 4,
 "nbformat_minor": 5
}
