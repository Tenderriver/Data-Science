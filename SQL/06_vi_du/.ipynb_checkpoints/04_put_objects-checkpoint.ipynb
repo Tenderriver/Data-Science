{
 "cells": [
  {
   "cell_type": "code",
   "execution_count": null,
   "metadata": {},
   "outputs": [],
   "source": [
    "import facebook"
   ]
  },
  {
   "cell_type": "code",
   "execution_count": null,
   "metadata": {},
   "outputs": [],
   "source": [
    "# truy cập bằng page token\n",
    "access_token = 'EAAFeZBRKk4HABAC28MctxhUUWrn7B0uF2PSPnRpUlUlWoFSUK1H9SjIERFmSzxCYNiZAsiE0ZCZAatMMHVcJMvy7HC001HeTcx3cc4MLTd8w8tcLF0fsORFHZB3Teji7rKqBVRRe9ZCAeMJQaZAaw4WB26OZBJrMSTj0ZBMk0N9L1lDNIHloMZA0JhGmn4fYWdEKfgFS7i4pPArQZDZD'\n",
    "graph = facebook.GraphAPI(access_token)"
   ]
  },
  {
   "cell_type": "code",
   "execution_count": null,
   "metadata": {},
   "outputs": [],
   "source": [
    "# Write 'Hello, world' to the active user's wall.\n",
    "# cấp pages_read_engagement, pages_manage_posts, pages_read_user_content\n",
    "graph.put_object(parent_object='me', connection_name='feed',\n",
    "                  message='Hello, world')"
   ]
  },
  {
   "cell_type": "code",
   "execution_count": null,
   "metadata": {},
   "outputs": [],
   "source": [
    "# Add a link and write a message about it.\n",
    "data = graph.put_object(\n",
    "   parent_object=\"me\",\n",
    "   connection_name=\"feed\",\n",
    "   message=\"This is a great website. Everyone should visit it.\",\n",
    "   link=\"https://www.facebook.com\")\n",
    "data"
   ]
  },
  {
   "cell_type": "code",
   "execution_count": null,
   "metadata": {},
   "outputs": [],
   "source": [
    "# Write a comment on a post.\n",
    "graph.put_object(parent_object=data['id'], connection_name='comments', message='First!')"
   ]
  },
  {
   "cell_type": "code",
   "execution_count": null,
   "metadata": {},
   "outputs": [],
   "source": [
    "comment = graph.put_comment(object_id=data['id'], message='Great post...')\n",
    "comment"
   ]
  },
  {
   "cell_type": "code",
   "execution_count": null,
   "metadata": {},
   "outputs": [],
   "source": [
    "graph.put_like(object_id=comment['id'])"
   ]
  },
  {
   "cell_type": "code",
   "execution_count": null,
   "metadata": {},
   "outputs": [],
   "source": [
    "graph.delete_object(id=data['id'])"
   ]
  },
  {
   "cell_type": "code",
   "execution_count": null,
   "metadata": {},
   "outputs": [],
   "source": []
  }
 ],
 "metadata": {
  "kernelspec": {
   "display_name": "Python 3",
   "language": "python",
   "name": "python3"
  },
  "language_info": {
   "codemirror_mode": {
    "name": "ipython",
    "version": 3
   },
   "file_extension": ".py",
   "mimetype": "text/x-python",
   "name": "python",
   "nbconvert_exporter": "python",
   "pygments_lexer": "ipython3",
   "version": "3.9.1rc1"
  }
 },
 "nbformat": 4,
 "nbformat_minor": 4
}
