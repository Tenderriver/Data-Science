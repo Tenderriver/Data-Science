{
 "cells": [
  {
   "cell_type": "code",
   "execution_count": 1,
   "id": "01016c75",
   "metadata": {},
   "outputs": [],
   "source": [
    "import numpy as np"
   ]
  },
  {
   "cell_type": "code",
   "execution_count": 13,
   "id": "2200881b",
   "metadata": {},
   "outputs": [
    {
     "name": "stdout",
     "output_type": "stream",
     "text": [
      "[0 1 2 3 4 5 6 7 8 9]\n",
      "<class 'numpy.ndarray'>\n",
      "(10,)\n",
      "10\n"
     ]
    }
   ],
   "source": [
    "# Câu 1: Tạo numpy array có giá trị từ 0-9 và lưu vào biến arr\n",
    "# Hiển thị các phần tử có trong arr\n",
    "# Xem kiểu dữ liệu (type) của arr\n",
    "# Xem kích thước (shape) của arr\n",
    "\n",
    "a=np.arange(10)\n",
    "print(a)\n",
    "print(type(a))\n",
    "print(a.shape)\n",
    "print(a.size)"
   ]
  },
  {
   "cell_type": "code",
   "execution_count": 20,
   "id": "1ba8ffd1",
   "metadata": {},
   "outputs": [
    {
     "name": "stdout",
     "output_type": "stream",
     "text": [
      "arr_odd:\n",
      "[0 2 4 6 8]\n",
      "arr_odd:\n",
      "[1 3 5 7 9]\n"
     ]
    }
   ],
   "source": [
    "# Câu 2: Từ array arr ở câu 1 => tạo arr_odd và arr_even \n",
    "# Hiển thị các phần tử có trong arr_odd và arr_even\n",
    "b=a[a%2==0]\n",
    "print(f'arr_odd:\\n{b}')\n",
    "c=a[a%2!=0]\n",
    "print(f'arr_odd:\\n{c}')"
   ]
  },
  {
   "cell_type": "code",
   "execution_count": 22,
   "id": "71667504",
   "metadata": {},
   "outputs": [
    {
     "name": "stdout",
     "output_type": "stream",
     "text": [
      "[  0 100   2 100   4 100   6 100   8 100]\n"
     ]
    }
   ],
   "source": [
    "# Câu 3: Từ array arr ở câu 1=> tạo arr_update_1 với các phần tử chẵn giữ nguyên, các phần tử lẻ thay bằng 100\n",
    "# Hiển thị các phần tử có trong arr_update_1\n",
    "a[a%2!=0]=100\n",
    "arr_update_1=a.copy()\n",
    "print(arr_update_1)"
   ]
  },
  {
   "cell_type": "code",
   "execution_count": null,
   "id": "427081dd",
   "metadata": {},
   "outputs": [],
   "source": []
  }
 ],
 "metadata": {
  "kernelspec": {
   "display_name": "Python 3",
   "language": "python",
   "name": "python3"
  },
  "language_info": {
   "codemirror_mode": {
    "name": "ipython",
    "version": 3
   },
   "file_extension": ".py",
   "mimetype": "text/x-python",
   "name": "python",
   "nbconvert_exporter": "python",
   "pygments_lexer": "ipython3",
   "version": "3.8.8"
  }
 },
 "nbformat": 4,
 "nbformat_minor": 5
}
