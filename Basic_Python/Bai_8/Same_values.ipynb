{
 "cells": [
  {
   "cell_type": "code",
   "execution_count": 10,
   "id": "bb3b1ee6",
   "metadata": {},
   "outputs": [
    {
     "name": "stdout",
     "output_type": "stream",
     "text": [
      "Nhap vao so gia tri cua list: 4\n",
      "[56, 67, 27, 38]\n",
      "[88, 70, 86, 85]\n"
     ]
    }
   ],
   "source": [
    "import random\n",
    "def ktra(a,b):\n",
    "    for i in range(len(a)):\n",
    "        for j in range(len(b)):\n",
    "            if a[i]==b[j]:\n",
    "                print(f'Vi tri {i} trong list a co gia tri trung vi tri {j} trong list b la {a[i]}')\n",
    "                \n",
    "n=int(input(\"Nhap vao so gia tri cua list: \"))\n",
    "a=[]\n",
    "b=[]\n",
    "for z in range(n):\n",
    "    a.append(random.randrange(1,100))\n",
    "    b.append(random.randrange(1,100))\n",
    "print(a)\n",
    "print(b)\n",
    "ktra(a,b)"
   ]
  },
  {
   "cell_type": "code",
   "execution_count": null,
   "id": "386a31ff",
   "metadata": {},
   "outputs": [],
   "source": []
  }
 ],
 "metadata": {
  "kernelspec": {
   "display_name": "Python 3",
   "language": "python",
   "name": "python3"
  },
  "language_info": {
   "codemirror_mode": {
    "name": "ipython",
    "version": 3
   },
   "file_extension": ".py",
   "mimetype": "text/x-python",
   "name": "python",
   "nbconvert_exporter": "python",
   "pygments_lexer": "ipython3",
   "version": "3.8.8"
  }
 },
 "nbformat": 4,
 "nbformat_minor": 5
}
