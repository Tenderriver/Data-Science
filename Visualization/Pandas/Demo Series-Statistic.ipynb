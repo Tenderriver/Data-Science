{
 "cells": [
  {
   "cell_type": "markdown",
   "metadata": {},
   "source": [
    "## Minh họa các hàm thống kê Pandas - Series"
   ]
  },
  {
   "cell_type": "code",
   "execution_count": 1,
   "metadata": {},
   "outputs": [],
   "source": [
    "# Import thư viện\n",
    "\n",
    "import numpy as np\n",
    "import pandas as pd"
   ]
  },
  {
   "cell_type": "code",
   "execution_count": 12,
   "metadata": {},
   "outputs": [
    {
     "name": "stdout",
     "output_type": "stream",
     "text": [
      "0    25\n",
      "1    26\n",
      "dtype: int64\n",
      "Số phần tử (khác null): 2\n"
     ]
    },
    {
     "data": {
      "text/plain": [
       "2"
      ]
     },
     "execution_count": 12,
     "metadata": {},
     "output_type": "execute_result"
    }
   ],
   "source": [
    "s1 = pd.Series([25,26])\n",
    "s2 = pd.Series([25,26,32])\n",
    "print(s1)\n",
    "print('Số phần tử (khác null):',s1.count())\n",
    "s1.size"
   ]
  },
  {
   "cell_type": "code",
   "execution_count": 13,
   "metadata": {},
   "outputs": [
    {
     "data": {
      "text/plain": [
       "0    50.0\n",
       "1    52.0\n",
       "2     NaN\n",
       "dtype: float64"
      ]
     },
     "execution_count": 13,
     "metadata": {},
     "output_type": "execute_result"
    }
   ],
   "source": [
    "s2 + s1"
   ]
  },
  {
   "cell_type": "code",
   "execution_count": 6,
   "metadata": {},
   "outputs": [
    {
     "name": "stdout",
     "output_type": "stream",
     "text": [
      "Sum: 46\n",
      "Mean: 7.666666666666667\n",
      "Median: 8.0\n",
      "Mode:\n",
      " 0     8\n",
      "1    10\n",
      "dtype: int64\n",
      "Std: 2.3380903889000244\n"
     ]
    }
   ],
   "source": [
    "print(\"Sum:\", s2.sum())\n",
    "print(\"Mean:\", s2.mean())\n",
    "print(\"Median:\",s2.median()) \n",
    "print(\"Mode:\\n\",s2.mode() )\n",
    "print(\"Std:\", s2.std()) "
   ]
  },
  {
   "cell_type": "code",
   "execution_count": 7,
   "metadata": {},
   "outputs": [
    {
     "name": "stdout",
     "output_type": "stream",
     "text": [
      "[10  8  8  6  4 10]\n",
      "Min: 4\n",
      "Max: 10\n",
      "Abs: 0    10\n",
      "1     8\n",
      "2     8\n",
      "3     6\n",
      "4     4\n",
      "5    10\n",
      "dtype: int64\n",
      "Prod: 153600\n",
      "Cumsum:\n",
      " 0    10\n",
      "1    18\n",
      "2    26\n",
      "3    32\n",
      "4    36\n",
      "5    46\n",
      "dtype: int64\n",
      "Cumprod: \n",
      " 0        10\n",
      "1        80\n",
      "2       640\n",
      "3      3840\n",
      "4     15360\n",
      "5    153600\n",
      "dtype: int64\n"
     ]
    }
   ],
   "source": [
    "print(s2.values)\n",
    "print(\"Min:\",s2.min())\n",
    "print(\"Max:\",s2.max())\n",
    "print(\"Abs:\",s2.abs())\n",
    "print(\"Prod:\",s2.prod()) \n",
    "print(\"Cumsum:\\n\",s2.cumsum())\n",
    "print(\"Cumprod: \\n\",s2.cumprod())"
   ]
  },
  {
   "cell_type": "code",
   "execution_count": 8,
   "metadata": {},
   "outputs": [
    {
     "data": {
      "text/plain": [
       "count     6.000000\n",
       "mean      7.666667\n",
       "std       2.338090\n",
       "min       4.000000\n",
       "25%       6.500000\n",
       "50%       8.000000\n",
       "75%       9.500000\n",
       "max      10.000000\n",
       "dtype: float64"
      ]
     },
     "execution_count": 8,
     "metadata": {},
     "output_type": "execute_result"
    }
   ],
   "source": [
    "s2.describe()"
   ]
  },
  {
   "cell_type": "code",
   "execution_count": 9,
   "metadata": {},
   "outputs": [
    {
     "data": {
      "text/plain": [
       "0    10\n",
       "1     8\n",
       "2     8\n",
       "3     6\n",
       "4     4\n",
       "5    10\n",
       "dtype: int64"
      ]
     },
     "execution_count": 9,
     "metadata": {},
     "output_type": "execute_result"
    }
   ],
   "source": [
    "s2"
   ]
  },
  {
   "cell_type": "code",
   "execution_count": 10,
   "metadata": {},
   "outputs": [
    {
     "data": {
      "text/plain": [
       "0    10\n",
       "1     8\n",
       "2     8\n",
       "3     6\n",
       "4     4\n",
       "5    10\n",
       "6     a\n",
       "dtype: object"
      ]
     },
     "execution_count": 10,
     "metadata": {},
     "output_type": "execute_result"
    }
   ],
   "source": [
    "s2[6] = 'a'\n",
    "s2"
   ]
  },
  {
   "cell_type": "code",
   "execution_count": 11,
   "metadata": {},
   "outputs": [
    {
     "data": {
      "text/plain": [
       "0    10\n",
       "1     8\n",
       "2     8\n",
       "3     6\n",
       "4     4\n",
       "5    10\n",
       "6     a\n",
       "dtype: object"
      ]
     },
     "execution_count": 11,
     "metadata": {},
     "output_type": "execute_result"
    }
   ],
   "source": [
    "s2"
   ]
  },
  {
   "cell_type": "code",
   "execution_count": null,
   "metadata": {},
   "outputs": [],
   "source": []
  }
 ],
 "metadata": {
  "kernelspec": {
   "display_name": "Python 3",
   "language": "python",
   "name": "python3"
  },
  "language_info": {
   "codemirror_mode": {
    "name": "ipython",
    "version": 3
   },
   "file_extension": ".py",
   "mimetype": "text/x-python",
   "name": "python",
   "nbconvert_exporter": "python",
   "pygments_lexer": "ipython3",
   "version": "3.7.1"
  }
 },
 "nbformat": 4,
 "nbformat_minor": 2
}
