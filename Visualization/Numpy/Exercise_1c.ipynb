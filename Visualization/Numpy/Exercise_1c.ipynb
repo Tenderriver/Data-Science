{
 "cells": [
  {
   "cell_type": "code",
   "execution_count": 2,
   "id": "d1eeced9",
   "metadata": {},
   "outputs": [],
   "source": [
    "import numpy as np"
   ]
  },
  {
   "cell_type": "code",
   "execution_count": 3,
   "id": "61b73dd0",
   "metadata": {},
   "outputs": [
    {
     "name": "stdout",
     "output_type": "stream",
     "text": [
      "[0. 0. 0. 0. 1. 0. 0. 0. 0. 0.]\n"
     ]
    }
   ],
   "source": [
    "# Câu 1: Tạo array arr_zeros có 10 phần tử 0, cập nhật phần tử ở vị trí thứ 5 là 1\n",
    "arr_zeros=np.zeros(10,)\n",
    "arr_zeros[4]=1\n",
    "print(arr_zeros)\n"
   ]
  },
  {
   "cell_type": "code",
   "execution_count": 4,
   "id": "5f4e7cd3",
   "metadata": {},
   "outputs": [
    {
     "name": "stdout",
     "output_type": "stream",
     "text": [
      "[24 23 22 21 20 19 18 17 16 15 14 13 12 11 10]\n"
     ]
    }
   ],
   "source": [
    "# Câu 2: Tạo và in array arr_h có giá trị từ 10 đến 24 \n",
    "# In danh sách các phần tử theo tứ tự đảo ngược của arr_h vừa tạo\n",
    "arr_h=np.arange(10,25)\n",
    "print(arr_h[::-1])"
   ]
  },
  {
   "cell_type": "code",
   "execution_count": 5,
   "id": "d20a3c09",
   "metadata": {},
   "outputs": [
    {
     "name": "stdout",
     "output_type": "stream",
     "text": [
      "[1 2 8 2 1 3 5]\n"
     ]
    }
   ],
   "source": [
    "# Câu 3: Cho array arr_k = np.array([1, 2, 0, 8, 2, 0, 1, 3, 0, 5, 0]) \n",
    "# Tạo array arr_l từ arr_k với các phần tử khác 0\n",
    "arr_k = np.array([1, 2, 0, 8, 2, 0, 1, 3, 0, 5, 0]) \n",
    "arr_l=arr_k[arr_k!=0]\n",
    "print(arr_l)"
   ]
  },
  {
   "cell_type": "code",
   "execution_count": 7,
   "id": "a8c0ae4e",
   "metadata": {},
   "outputs": [
    {
     "name": "stdout",
     "output_type": "stream",
     "text": [
      "[ 1  2  8  2  1  3  5 10 20]\n"
     ]
    }
   ],
   "source": [
    "# Câu 4: Từ array arr_l của câu 3, thêm 2 phần tử có giá trị là 10 và 20 vào cuố\n",
    "arr_l=np.append(arr_l,[10,20])\n",
    "print(arr_l)"
   ]
  },
  {
   "cell_type": "code",
   "execution_count": 8,
   "id": "7aa14df9",
   "metadata": {},
   "outputs": [
    {
     "name": "stdout",
     "output_type": "stream",
     "text": [
      "[  1   2   8   2   1 100   3   5  10  20]\n"
     ]
    }
   ],
   "source": [
    "# Câu 5: Từ array của câu 4, thêm phần tử có giá trị 100 vào vị trí có index 5\n",
    "arr_l=np.insert(arr_l,5,100)\n",
    "print(arr_l)"
   ]
  },
  {
   "cell_type": "code",
   "execution_count": 9,
   "id": "8207cf4b",
   "metadata": {},
   "outputs": [
    {
     "name": "stdout",
     "output_type": "stream",
     "text": [
      "[  2   1 100   3   5  10  20]\n"
     ]
    }
   ],
   "source": [
    "# Câu 6: Từ array của câu 5, xóa các phần tử tại vị trí có index = 0,1,2\n",
    "arr_l=np.delete(arr_l,[0,1,2])\n",
    "print(arr_l)"
   ]
  },
  {
   "cell_type": "code",
   "execution_count": null,
   "id": "6522e505",
   "metadata": {},
   "outputs": [],
   "source": []
  }
 ],
 "metadata": {
  "kernelspec": {
   "display_name": "Python 3",
   "language": "python",
   "name": "python3"
  },
  "language_info": {
   "codemirror_mode": {
    "name": "ipython",
    "version": 3
   },
   "file_extension": ".py",
   "mimetype": "text/x-python",
   "name": "python",
   "nbconvert_exporter": "python",
   "pygments_lexer": "ipython3",
   "version": "3.8.8"
  }
 },
 "nbformat": 4,
 "nbformat_minor": 5
}
