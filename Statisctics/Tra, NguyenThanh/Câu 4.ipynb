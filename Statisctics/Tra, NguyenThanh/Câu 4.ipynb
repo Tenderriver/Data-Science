{
 "cells": [
  {
   "cell_type": "raw",
   "metadata": {},
   "source": [
    "Câu 4. Thống kê mô tả (1 điểm)\n",
    "Một vận động viên bơi lội 200m hỗn hợp có thành tích như sau:\n",
    "50m bơi bướm với vận tốc 1.92m/s,\n",
    "50m bơi ngửa với vận tốc 1.67m/s,\n",
    "50m bơi ếch với vận tốc 1.56m/s,\n",
    "50m bơi tự do với vận tốc 1.85m/s,\n",
    "Hãy dùng hàm tính giá trị trung bình của Python để tính vận tốc trung bình của vận động viên."
   ]
  },
  {
   "cell_type": "code",
   "execution_count": 1,
   "metadata": {},
   "outputs": [
    {
     "data": {
      "text/plain": [
       "1.738222092736907"
      ]
     },
     "execution_count": 1,
     "metadata": {},
     "output_type": "execute_result"
    }
   ],
   "source": [
    "import numpy as np\n",
    "import statistics as st\n",
    "\n",
    "v = np.array([1.92, 1.67, 1.56, 1.85])\n",
    "\n",
    "# Vận động viên bơi 4 quãng đường như nhau 50 m, với vận tốc khác nhau, do đó\n",
    "# Vận tốc trung bình của vận động viên là trung bình đièu hòa của 4 vận tốc: \n",
    "st.harmonic_mean(v)"
   ]
  },
  {
   "cell_type": "code",
   "execution_count": null,
   "metadata": {},
   "outputs": [],
   "source": []
  }
 ],
 "metadata": {
  "kernelspec": {
   "display_name": "Python 3",
   "language": "python",
   "name": "python3"
  },
  "language_info": {
   "codemirror_mode": {
    "name": "ipython",
    "version": 3
   },
   "file_extension": ".py",
   "mimetype": "text/x-python",
   "name": "python",
   "nbconvert_exporter": "python",
   "pygments_lexer": "ipython3",
   "version": "3.8.8"
  }
 },
 "nbformat": 4,
 "nbformat_minor": 4
}
