{
 "cells": [
  {
   "cell_type": "code",
   "execution_count": 84,
   "id": "e10c7b59",
   "metadata": {},
   "outputs": [],
   "source": [
    "import numpy as np\n",
    "import pandas as pd\n",
    "import matplotlib.pyplot as plt\n",
    "import seaborn as sns\n",
    "import warnings"
   ]
  },
  {
   "cell_type": "code",
   "execution_count": 85,
   "id": "6c70589a",
   "metadata": {},
   "outputs": [],
   "source": [
    "warnings.filterwarnings(\"ignore\")"
   ]
  },
  {
   "cell_type": "code",
   "execution_count": 86,
   "id": "060eaeb6",
   "metadata": {},
   "outputs": [
    {
     "data": {
      "text/plain": [
       "array([[ -1,   0,  -5,   5],\n",
       "       [  0,  -4,  -6,   4],\n",
       "       [  3,   7,   4,  -7],\n",
       "       [ -4, -10,   7,   3]])"
      ]
     },
     "execution_count": 86,
     "metadata": {},
     "output_type": "execute_result"
    }
   ],
   "source": [
    "arr = np.random.randint(-10, 10, size = (4, 4))\n",
    "arr"
   ]
  },
  {
   "cell_type": "code",
   "execution_count": 87,
   "id": "e54a60ff",
   "metadata": {},
   "outputs": [],
   "source": [
    "from sklearn.preprocessing import Binarizer"
   ]
  },
  {
   "cell_type": "code",
   "execution_count": 88,
   "id": "06e35a30",
   "metadata": {},
   "outputs": [],
   "source": [
    "scaler = Binarizer(threshold=0)"
   ]
  },
  {
   "cell_type": "code",
   "execution_count": 89,
   "id": "96d1283c",
   "metadata": {},
   "outputs": [
    {
     "data": {
      "text/plain": [
       "array([[0, 0, 0, 1],\n",
       "       [0, 0, 0, 1],\n",
       "       [1, 1, 1, 0],\n",
       "       [0, 0, 1, 1]])"
      ]
     },
     "execution_count": 89,
     "metadata": {},
     "output_type": "execute_result"
    }
   ],
   "source": [
    "arr_scale = scaler.fit_transform(arr)\n",
    "arr_scale"
   ]
  },
  {
   "cell_type": "code",
   "execution_count": 90,
   "id": "90877930",
   "metadata": {},
   "outputs": [],
   "source": [
    "scaler2 = Binarizer(threshold=2)"
   ]
  },
  {
   "cell_type": "code",
   "execution_count": 91,
   "id": "8e208620",
   "metadata": {},
   "outputs": [
    {
     "data": {
      "text/plain": [
       "array([[0, 0, 0, 1],\n",
       "       [0, 0, 0, 1],\n",
       "       [1, 1, 1, 0],\n",
       "       [0, 0, 1, 1]])"
      ]
     },
     "execution_count": 91,
     "metadata": {},
     "output_type": "execute_result"
    }
   ],
   "source": [
    "arr_scale2 = scaler2.fit_transform(arr)\n",
    "arr_scale2"
   ]
  },
  {
   "cell_type": "code",
   "execution_count": 92,
   "id": "ffba4f1f",
   "metadata": {},
   "outputs": [],
   "source": [
    "from PIL import Image"
   ]
  },
  {
   "cell_type": "code",
   "execution_count": 93,
   "id": "7f4cd2e2",
   "metadata": {},
   "outputs": [],
   "source": [
    "img = Image.open('data/face.png')"
   ]
  },
  {
   "cell_type": "code",
   "execution_count": 94,
   "id": "c570fd7b",
   "metadata": {},
   "outputs": [
    {
     "data": {
      "image/png": "[encoded data removed]",
      "text/plain": [
       "<PIL.PngImagePlugin.PngImageFile image mode=RGBA size=143x143 at 0x15511A5E668>"
      ]
     },
     "execution_count": 94,
     "metadata": {},
     "output_type": "execute_result"
    }
   ],
   "source": [
    "img"
   ]
  },
  {
   "cell_type": "code",
   "execution_count": 95,
   "id": "d427b3db",
   "metadata": {},
   "outputs": [
    {
     "data": {
      "text/plain": [
       "(143, 143, 4)"
      ]
     },
     "execution_count": 95,
     "metadata": {},
     "output_type": "execute_result"
    }
   ],
   "source": [
    "img_arr = np.array(img)\n",
    "img_arr.shape"
   ]
  },
  {
   "cell_type": "code",
   "execution_count": 96,
   "id": "59b656ef",
   "metadata": {},
   "outputs": [],
   "source": [
    "layer1 = img_arr[:, :, 0]"
   ]
  },
  {
   "cell_type": "code",
   "execution_count": 97,
   "id": "18ef0862",
   "metadata": {},
   "outputs": [
    {
     "data": {
      "text/plain": [
       "(143, 143)"
      ]
     },
     "execution_count": 97,
     "metadata": {},
     "output_type": "execute_result"
    }
   ],
   "source": [
    "layer1.shape"
   ]
  },
  {
   "cell_type": "code",
   "execution_count": 98,
   "id": "350735f8",
   "metadata": {},
   "outputs": [
    {
     "data": {
      "text/plain": [
       "array([[  0,   0, 234, 235, 235, 235, 235, 244, 254, 254],\n",
       "       [  0,   0, 235, 235, 235, 235, 235, 249, 254, 254],\n",
       "       [  0, 232, 235, 235, 235, 235, 237, 252, 254, 254],\n",
       "       [  0, 235, 235, 235, 235, 235, 242, 254, 254, 254],\n",
       "       [  0, 236, 235, 235, 235, 235, 245, 254, 254, 254],\n",
       "       [  0, 235, 235, 235, 235, 235, 249, 254, 254, 254],\n",
       "       [255, 235, 235, 235, 235, 236, 252, 254, 254, 254],\n",
       "       [235, 235, 235, 235, 235, 239, 253, 254, 254, 254],\n",
       "       [236, 235, 235, 235, 235, 241, 254, 254, 254, 254],\n",
       "       [236, 235, 235, 235, 235, 244, 254, 254, 254, 254],\n",
       "       [234, 235, 235, 235, 235, 247, 254, 254, 254, 254],\n",
       "       [235, 235, 235, 235, 235, 249, 254, 254, 254, 254],\n",
       "       [235, 235, 235, 235, 235, 252, 254, 254, 254, 254],\n",
       "       [235, 235, 235, 235, 236, 253, 254, 254, 254, 254],\n",
       "       [234, 235, 235, 235, 237, 253, 254, 254, 254, 254],\n",
       "       [235, 235, 235, 235, 239, 253, 254, 254, 254, 254],\n",
       "       [235, 235, 235, 235, 240, 253, 254, 254, 254, 254],\n",
       "       [235, 235, 235, 235, 241, 254, 254, 254, 254, 254],\n",
       "       [235, 235, 235, 235, 242, 254, 254, 254, 254, 254],\n",
       "       [235, 235, 235, 235, 242, 254, 254, 254, 254, 254]], dtype=uint8)"
      ]
     },
     "execution_count": 98,
     "metadata": {},
     "output_type": "execute_result"
    }
   ],
   "source": [
    "layer1[50:70, :10]"
   ]
  },
  {
   "cell_type": "code",
   "execution_count": 99,
   "id": "4ae2ff15",
   "metadata": {},
   "outputs": [],
   "source": [
    "layer2 = img_arr[:, :, 1]"
   ]
  },
  {
   "cell_type": "code",
   "execution_count": 100,
   "id": "c3c3fba9",
   "metadata": {},
   "outputs": [
    {
     "data": {
      "text/plain": [
       "array([[  0,   0, 142, 143, 143, 143, 143, 185, 225, 225],\n",
       "       [  0,   0, 142, 143, 143, 143, 143, 203, 225, 225],\n",
       "       [  0, 139, 143, 143, 143, 143, 153, 219, 225, 225],\n",
       "       [  0, 142, 143, 143, 143, 143, 171, 223, 225, 225],\n",
       "       [  0, 144, 143, 143, 143, 143, 185, 225, 225, 225],\n",
       "       [  0, 144, 143, 143, 143, 143, 202, 225, 225, 225],\n",
       "       [255, 143, 143, 143, 143, 149, 216, 225, 225, 225],\n",
       "       [147, 143, 143, 143, 143, 161, 222, 225, 225, 225],\n",
       "       [142, 143, 143, 143, 143, 171, 223, 225, 225, 225],\n",
       "       [143, 143, 143, 143, 143, 182, 225, 225, 225, 225],\n",
       "       [142, 143, 143, 143, 143, 193, 225, 225, 225, 225],\n",
       "       [142, 143, 143, 143, 143, 204, 225, 225, 225, 225],\n",
       "       [143, 143, 143, 143, 143, 214, 225, 225, 225, 225],\n",
       "       [143, 143, 143, 143, 147, 219, 225, 225, 225, 225],\n",
       "       [143, 143, 143, 143, 152, 221, 225, 225, 225, 225],\n",
       "       [143, 143, 143, 143, 159, 222, 225, 225, 225, 225],\n",
       "       [143, 143, 143, 143, 164, 222, 224, 224, 224, 224],\n",
       "       [143, 143, 143, 143, 168, 221, 223, 223, 223, 223],\n",
       "       [143, 143, 143, 143, 171, 221, 222, 222, 222, 222],\n",
       "       [143, 143, 143, 143, 173, 221, 222, 222, 222, 222]], dtype=uint8)"
      ]
     },
     "execution_count": 100,
     "metadata": {},
     "output_type": "execute_result"
    }
   ],
   "source": [
    "layer2[50:70, :10]"
   ]
  },
  {
   "cell_type": "code",
   "execution_count": 101,
   "id": "12a6047c",
   "metadata": {},
   "outputs": [
    {
     "data": {
      "image/png": "[encoded data removed]",
      "text/plain": [
       "<Figure size 432x288 with 1 Axes>"
      ]
     },
     "metadata": {
      "needs_background": "light"
     },
     "output_type": "display_data"
    }
   ],
   "source": [
    "plt.imshow(img_arr, interpolation = 'bilinear')\n",
    "plt.axis('off')\n",
    "plt.show()"
   ]
  },
  {
   "cell_type": "code",
   "execution_count": 102,
   "id": "609d208c",
   "metadata": {},
   "outputs": [],
   "source": [
    "scale3 = Binarizer(threshold=150)"
   ]
  },
  {
   "cell_type": "code",
   "execution_count": 103,
   "id": "c315096d",
   "metadata": {},
   "outputs": [],
   "source": [
    "layer1_scale = scale3.fit_transform(layer1)"
   ]
  },
  {
   "cell_type": "code",
   "execution_count": 104,
   "id": "b4e69ec6",
   "metadata": {},
   "outputs": [
    {
     "data": {
      "text/plain": [
       "array([[0, 0, 1, 1, 1, 1, 1, 1, 1, 1],\n",
       "       [0, 0, 1, 1, 1, 1, 1, 1, 1, 1],\n",
       "       [0, 1, 1, 1, 1, 1, 1, 1, 1, 1],\n",
       "       [0, 1, 1, 1, 1, 1, 1, 1, 1, 1],\n",
       "       [0, 1, 1, 1, 1, 1, 1, 1, 1, 1],\n",
       "       [0, 1, 1, 1, 1, 1, 1, 1, 1, 1],\n",
       "       [1, 1, 1, 1, 1, 1, 1, 1, 1, 1],\n",
       "       [1, 1, 1, 1, 1, 1, 1, 1, 1, 1],\n",
       "       [1, 1, 1, 1, 1, 1, 1, 1, 1, 1],\n",
       "       [1, 1, 1, 1, 1, 1, 1, 1, 1, 1],\n",
       "       [1, 1, 1, 1, 1, 1, 1, 1, 1, 1],\n",
       "       [1, 1, 1, 1, 1, 1, 1, 1, 1, 1],\n",
       "       [1, 1, 1, 1, 1, 1, 1, 1, 1, 1],\n",
       "       [1, 1, 1, 1, 1, 1, 1, 1, 1, 1],\n",
       "       [1, 1, 1, 1, 1, 1, 1, 1, 1, 1],\n",
       "       [1, 1, 1, 1, 1, 1, 1, 1, 1, 1],\n",
       "       [1, 1, 1, 1, 1, 1, 1, 1, 1, 1],\n",
       "       [1, 1, 1, 1, 1, 1, 1, 1, 1, 1],\n",
       "       [1, 1, 1, 1, 1, 1, 1, 1, 1, 1],\n",
       "       [1, 1, 1, 1, 1, 1, 1, 1, 1, 1]], dtype=uint8)"
      ]
     },
     "execution_count": 104,
     "metadata": {},
     "output_type": "execute_result"
    }
   ],
   "source": [
    "layer1_scale[50:70, :10]"
   ]
  },
  {
   "cell_type": "code",
   "execution_count": 105,
   "id": "8a41157a",
   "metadata": {},
   "outputs": [],
   "source": [
    "img_arr[:, :, 0] = layer1_scale"
   ]
  },
  {
   "cell_type": "code",
   "execution_count": 106,
   "id": "e4c5459c",
   "metadata": {},
   "outputs": [
    {
     "data": {
      "image/png": "[encoded data removed]",
      "text/plain": [
       "<Figure size 432x288 with 1 Axes>"
      ]
     },
     "metadata": {
      "needs_background": "light"
     },
     "output_type": "display_data"
    }
   ],
   "source": [
    "plt.imshow(img_arr, interpolation = 'bilinear')\n",
    "plt.axis('off')\n",
    "plt.show()"
   ]
  },
  {
   "cell_type": "code",
   "execution_count": 107,
   "id": "c93690ab",
   "metadata": {},
   "outputs": [],
   "source": [
    "layer2_scale = scale3.fit_transform(layer2)"
   ]
  },
  {
   "cell_type": "code",
   "execution_count": 108,
   "id": "061a8e52",
   "metadata": {},
   "outputs": [
    {
     "data": {
      "text/plain": [
       "array([[0, 0, 0, 0, 0, 0, 0, 1, 1, 1],\n",
       "       [0, 0, 0, 0, 0, 0, 0, 1, 1, 1],\n",
       "       [0, 0, 0, 0, 0, 0, 1, 1, 1, 1],\n",
       "       [0, 0, 0, 0, 0, 0, 1, 1, 1, 1],\n",
       "       [0, 0, 0, 0, 0, 0, 1, 1, 1, 1],\n",
       "       [0, 0, 0, 0, 0, 0, 1, 1, 1, 1],\n",
       "       [1, 0, 0, 0, 0, 0, 1, 1, 1, 1],\n",
       "       [0, 0, 0, 0, 0, 1, 1, 1, 1, 1],\n",
       "       [0, 0, 0, 0, 0, 1, 1, 1, 1, 1],\n",
       "       [0, 0, 0, 0, 0, 1, 1, 1, 1, 1],\n",
       "       [0, 0, 0, 0, 0, 1, 1, 1, 1, 1],\n",
       "       [0, 0, 0, 0, 0, 1, 1, 1, 1, 1],\n",
       "       [0, 0, 0, 0, 0, 1, 1, 1, 1, 1],\n",
       "       [0, 0, 0, 0, 0, 1, 1, 1, 1, 1],\n",
       "       [0, 0, 0, 0, 1, 1, 1, 1, 1, 1],\n",
       "       [0, 0, 0, 0, 1, 1, 1, 1, 1, 1],\n",
       "       [0, 0, 0, 0, 1, 1, 1, 1, 1, 1],\n",
       "       [0, 0, 0, 0, 1, 1, 1, 1, 1, 1],\n",
       "       [0, 0, 0, 0, 1, 1, 1, 1, 1, 1],\n",
       "       [0, 0, 0, 0, 1, 1, 1, 1, 1, 1]], dtype=uint8)"
      ]
     },
     "execution_count": 108,
     "metadata": {},
     "output_type": "execute_result"
    }
   ],
   "source": [
    "layer2_scale[50:70, :10]"
   ]
  },
  {
   "cell_type": "code",
   "execution_count": 109,
   "id": "e8ce96c1",
   "metadata": {},
   "outputs": [],
   "source": [
    "img_arr[:, :, 1] = layer2_scale"
   ]
  },
  {
   "cell_type": "code",
   "execution_count": 110,
   "id": "74430651",
   "metadata": {},
   "outputs": [
    {
     "data": {
      "image/png": "[encoded data removed]",
      "text/plain": [
       "<Figure size 432x288 with 1 Axes>"
      ]
     },
     "metadata": {
      "needs_background": "light"
     },
     "output_type": "display_data"
    }
   ],
   "source": [
    "plt.imshow(img_arr, interpolation = 'bilinear')\n",
    "plt.axis('off')\n",
    "plt.show()"
   ]
  },
  {
   "cell_type": "code",
   "execution_count": null,
   "id": "aefd68b5",
   "metadata": {},
   "outputs": [],
   "source": []
  }
 ],
 "metadata": {
  "kernelspec": {
   "display_name": "Python 3",
   "language": "python",
   "name": "python3"
  },
  "language_info": {
   "codemirror_mode": {
    "name": "ipython",
    "version": 3
   },
   "file_extension": ".py",
   "mimetype": "text/x-python",
   "name": "python",
   "nbconvert_exporter": "python",
   "pygments_lexer": "ipython3",
   "version": "3.6.8"
  }
 },
 "nbformat": 4,
 "nbformat_minor": 5
}
