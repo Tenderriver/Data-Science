{
 "cells": [
  {
   "cell_type": "code",
   "execution_count": 13,
   "id": "5e09b5f6",
   "metadata": {},
   "outputs": [
    {
     "name": "stdout",
     "output_type": "stream",
     "text": [
      "Nhap so phan tu cua list:10\n",
      "[42, 65, -31, 23, -29, -28, 47, -45, 48, 34]\n"
     ]
    }
   ],
   "source": [
    "import random\n",
    "lst=[]\n",
    "a=int(input(\"Nhap so phan tu cua list:\"))\n",
    "for i in range (a):\n",
    "    lst.append(random.randrange(-100,100))\n",
    "print(lst)"
   ]
  },
  {
   "cell_type": "code",
   "execution_count": 6,
   "id": "6ddb86ec",
   "metadata": {},
   "outputs": [
    {
     "name": "stdout",
     "output_type": "stream",
     "text": [
      "Tong cua list: 410\n"
     ]
    }
   ],
   "source": [
    "from functools import reduce\n",
    "from operator import add\n",
    "sum1=reduce(lambda i1,i2:i1+i2,lst)\n",
    "print(\"Tong cua list:\", sum1)"
   ]
  },
  {
   "cell_type": "code",
   "execution_count": 7,
   "id": "0919d7c9",
   "metadata": {},
   "outputs": [
    {
     "name": "stdout",
     "output_type": "stream",
     "text": [
      "Nhap vao 1 so x bat ky: 40\n",
      "Cac so lon hon 40 la:  [85, 79, 84, 94, 50]\n"
     ]
    }
   ],
   "source": [
    "x=int(input(\"Nhap vao 1 so x bat ky: \"))\n",
    "lst_1=list(filter(lambda i:i>x,lst))\n",
    "print(\"Cac so lon hon\", x, \"la: \", lst_1)"
   ]
  },
  {
   "cell_type": "code",
   "execution_count": 17,
   "id": "4e7550de",
   "metadata": {},
   "outputs": [
    {
     "name": "stdout",
     "output_type": "stream",
     "text": [
      "Cac so nguyen to la:  [23, 47]\n"
     ]
    }
   ],
   "source": [
    "def so_nguyen_to (y):\n",
    "    if y>1:\n",
    "        for i in range (2,y):\n",
    "            if y%i==0:\n",
    "                  return False\n",
    "        else:\n",
    "            return True\n",
    "    else:\n",
    "        return False\n",
    "lst_2=list(filter(lambda j:so_nguyen_to(j),lst))\n",
    "print(\"Cac so nguyen to la: \", lst_2)\n",
    "        "
   ]
  },
  {
   "cell_type": "code",
   "execution_count": 14,
   "id": "0cd9055e",
   "metadata": {},
   "outputs": [
    {
     "name": "stdout",
     "output_type": "stream",
     "text": [
      "Cac so duong:  [42, 65, 23, 47, 48, 34]\n"
     ]
    }
   ],
   "source": [
    "lst_3=list(filter(lambda j:j>=0,lst))\n",
    "print(\"Cac so duong: \", lst_3)"
   ]
  },
  {
   "cell_type": "code",
   "execution_count": 16,
   "id": "975f2602",
   "metadata": {},
   "outputs": [
    {
     "name": "stdout",
     "output_type": "stream",
     "text": [
      "Cac so am:  [-31, -29, -28, -45]\n"
     ]
    }
   ],
   "source": [
    "lst_4=list(filter(lambda j:j<0,lst))\n",
    "print(\"Cac so am: \", lst_4)"
   ]
  },
  {
   "cell_type": "code",
   "execution_count": null,
   "id": "fd80cf2d",
   "metadata": {},
   "outputs": [],
   "source": []
  }
 ],
 "metadata": {
  "kernelspec": {
   "display_name": "Python 3",
   "language": "python",
   "name": "python3"
  },
  "language_info": {
   "codemirror_mode": {
    "name": "ipython",
    "version": 3
   },
   "file_extension": ".py",
   "mimetype": "text/x-python",
   "name": "python",
   "nbconvert_exporter": "python",
   "pygments_lexer": "ipython3",
   "version": "3.8.8"
  }
 },
 "nbformat": 4,
 "nbformat_minor": 5
}
