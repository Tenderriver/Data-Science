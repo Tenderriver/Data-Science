{
 "cells": [
  {
   "cell_type": "code",
   "execution_count": 2,
   "id": "72c1b7e0",
   "metadata": {},
   "outputs": [
    {
     "name": "stdout",
     "output_type": "stream",
     "text": [
      "Nhap so nguyen x: 1\n",
      "x la so nguyen to\n"
     ]
    }
   ],
   "source": [
    "x= int(input(\"Nhap so nguyen x: \"))\n",
    "\n",
    "for i in range (2,x):\n",
    "    if x%i==0:\n",
    "        print (\"x khong phai so nguyen to\")\n",
    "        break\n",
    "else: \n",
    "    print (\"x la so nguyen to\")\n",
    "\n",
    "    "
   ]
  },
  {
   "cell_type": "code",
   "execution_count": 4,
   "id": "e18a80e3",
   "metadata": {},
   "outputs": [
    {
     "name": "stdout",
     "output_type": "stream",
     "text": [
      "Nhap so nguyen x: 1\n"
     ]
    }
   ],
   "source": [
    "x= int(input(\"Nhap so nguyen x: \"))\n",
    "\n",
    "for i in range (2,x):\n",
    "    print(i, end=\" \")"
   ]
  },
  {
   "cell_type": "code",
   "execution_count": 1,
   "id": "302519ee",
   "metadata": {},
   "outputs": [],
   "source": [
    "import ham_bai_5\n"
   ]
  },
  {
   "cell_type": "code",
   "execution_count": 3,
   "id": "a22d2b96",
   "metadata": {},
   "outputs": [
    {
     "data": {
      "text/plain": [
       "['KiemTraSoNguyenTo',\n",
       " '__builtins__',\n",
       " '__cached__',\n",
       " '__doc__',\n",
       " '__file__',\n",
       " '__loader__',\n",
       " '__name__',\n",
       " '__package__',\n",
       " '__spec__',\n",
       " 'fib',\n",
       " 'tinh_A',\n",
       " 'tinh_S']"
      ]
     },
     "execution_count": 3,
     "metadata": {},
     "output_type": "execute_result"
    }
   ],
   "source": [
    "dir(ham_bai_5)"
   ]
  },
  {
   "cell_type": "code",
   "execution_count": 5,
   "id": "681fb35d",
   "metadata": {},
   "outputs": [
    {
     "name": "stdout",
     "output_type": "stream",
     "text": [
      "Nhap vao 1 so nguyen: 5\n",
      "5 la so nguyen to:  True\n"
     ]
    }
   ],
   "source": [
    "so=int(input(\"Nhap vao 1 so nguyen: \"))\n",
    "print(so, \"la so nguyen to: \", ham_bai_5.KiemTraSoNguyenTo(so))"
   ]
  },
  {
   "cell_type": "code",
   "execution_count": null,
   "id": "001aa6ec",
   "metadata": {},
   "outputs": [],
   "source": []
  }
 ],
 "metadata": {
  "kernelspec": {
   "display_name": "Python 3",
   "language": "python",
   "name": "python3"
  },
  "language_info": {
   "codemirror_mode": {
    "name": "ipython",
    "version": 3
   },
   "file_extension": ".py",
   "mimetype": "text/x-python",
   "name": "python",
   "nbconvert_exporter": "python",
   "pygments_lexer": "ipython3",
   "version": "3.8.8"
  }
 },
 "nbformat": 4,
 "nbformat_minor": 5
}
