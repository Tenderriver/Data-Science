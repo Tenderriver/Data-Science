{
 "cells": [
  {
   "cell_type": "code",
   "execution_count": 5,
   "id": "7aa067f1",
   "metadata": {},
   "outputs": [
    {
     "name": "stdout",
     "output_type": "stream",
     "text": [
      "(1, 3, 4, 2) \n",
      " (6, 8, 7, 5) \n",
      " (1, 3, 4, 2, 6, 8, 7, 5) \n",
      " (1, 2, 3, 4, 5, 6, 7, 8)\n",
      "Phan tu thu 3 cua d 3\n",
      "3 phan tu cuoi cua d (6, 7, 8)\n"
     ]
    }
   ],
   "source": [
    "a=(1,3,4,2)\n",
    "b=(6,8,7,5)\n",
    "c=a+b\n",
    "d=tuple( sorted(a) + sorted(b))\n",
    "print(a,'\\n',b,'\\n',c,'\\n',d)\n",
    "print(\"Phan tu thu 3 cua d\", d[2])\n",
    "print(\"3 phan tu cuoi cua d\", d[-3:])\n"
   ]
  },
  {
   "cell_type": "code",
   "execution_count": null,
   "id": "97f9cace",
   "metadata": {},
   "outputs": [],
   "source": []
  }
 ],
 "metadata": {
  "kernelspec": {
   "display_name": "Python 3",
   "language": "python",
   "name": "python3"
  },
  "language_info": {
   "codemirror_mode": {
    "name": "ipython",
    "version": 3
   },
   "file_extension": ".py",
   "mimetype": "text/x-python",
   "name": "python",
   "nbconvert_exporter": "python",
   "pygments_lexer": "ipython3",
   "version": "3.8.8"
  }
 },
 "nbformat": 4,
 "nbformat_minor": 5
}
