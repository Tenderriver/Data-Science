{
 "cells": [
  {
   "cell_type": "code",
   "execution_count": 2,
   "id": "b95a3e8d",
   "metadata": {},
   "outputs": [
    {
     "name": "stdout",
     "output_type": "stream",
     "text": [
      "Nhap cac so a, b, c, d: 1,2,3,4\n",
      "Gia tri nho nhat:  1\n",
      "Gia tri lon nhat:  4\n"
     ]
    }
   ],
   "source": [
    "a,b,c,d= eval(input (\"Nhap cac so a, b, c, d: \"))\n",
    "print(\"Gia tri nho nhat: \", min(a,b,c,d))\n",
    "print(\"Gia tri lon nhat: \", max(a,b,c,d))"
   ]
  },
  {
   "cell_type": "code",
   "execution_count": null,
   "id": "2a587072",
   "metadata": {},
   "outputs": [],
   "source": []
  }
 ],
 "metadata": {
  "kernelspec": {
   "display_name": "Python 3",
   "language": "python",
   "name": "python3"
  },
  "language_info": {
   "codemirror_mode": {
    "name": "ipython",
    "version": 3
   },
   "file_extension": ".py",
   "mimetype": "text/x-python",
   "name": "python",
   "nbconvert_exporter": "python",
   "pygments_lexer": "ipython3",
   "version": "3.8.8"
  }
 },
 "nbformat": 4,
 "nbformat_minor": 5
}
