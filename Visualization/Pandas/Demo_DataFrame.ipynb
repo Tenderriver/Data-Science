{
  "nbformat": 4,
  "nbformat_minor": 0,
  "metadata": {
    "kernelspec": {
      "display_name": "Python 3",
      "language": "python",
      "name": "python3"
    },
    "language_info": {
      "codemirror_mode": {
        "name": "ipython",
        "version": 3
      },
      "file_extension": ".py",
      "mimetype": "text/x-python",
      "name": "python",
      "nbconvert_exporter": "python",
      "pygments_lexer": "ipython3",
      "version": "3.7.1"
    },
    "colab": {
      "name": "Demo DataFrame.ipynb",
      "provenance": []
    }
  },
  "cells": [
    {
      "cell_type": "markdown",
      "metadata": {
        "id": "M77kZxCwBqHd"
      },
      "source": [
        "## Minh họa Pandas - DataFrame"
      ]
    },
    {
      "cell_type": "code",
      "metadata": {
        "id": "LS3UTszNBqHi"
      },
      "source": [
        "# Import thư viện\n",
        "import numpy as np\n",
        "import pandas as pd"
      ],
      "execution_count": null,
      "outputs": []
    },
    {
      "cell_type": "markdown",
      "metadata": {
        "id": "QIiXPq-8BqHl"
      },
      "source": [
        "### Tạo DataFrame"
      ]
    },
    {
      "cell_type": "code",
      "metadata": {
        "id": "fMJkGencBqHm",
        "outputId": "3d0201fb-4c39-460c-bbcf-332253616139"
      },
      "source": [
        "#Tạo dataframe từ list\n",
        "\n",
        "#df1=pd.DataFrame(['1','2','3'])\n",
        "#df1\n",
        "\n",
        "df1=pd.DataFrame([['An','19'],['Hoa',25]])\n",
        "#df1\n",
        "\n",
        "#df1=pd.DataFrame([['An','19'],['Hoa',25]],columns=['Ten','Tuoi'])\n",
        "df1"
      ],
      "execution_count": null,
      "outputs": [
        {
          "output_type": "execute_result",
          "data": {
            "text/html": [
              "<div>\n",
              "<style scoped>\n",
              "    .dataframe tbody tr th:only-of-type {\n",
              "        vertical-align: middle;\n",
              "    }\n",
              "\n",
              "    .dataframe tbody tr th {\n",
              "        vertical-align: top;\n",
              "    }\n",
              "\n",
              "    .dataframe thead th {\n",
              "        text-align: right;\n",
              "    }\n",
              "</style>\n",
              "<table border=\"1\" class=\"dataframe\">\n",
              "  <thead>\n",
              "    <tr style=\"text-align: right;\">\n",
              "      <th></th>\n",
              "      <th>0</th>\n",
              "      <th>1</th>\n",
              "    </tr>\n",
              "  </thead>\n",
              "  <tbody>\n",
              "    <tr>\n",
              "      <td>0</td>\n",
              "      <td>An</td>\n",
              "      <td>19</td>\n",
              "    </tr>\n",
              "    <tr>\n",
              "      <td>1</td>\n",
              "      <td>Hoa</td>\n",
              "      <td>25</td>\n",
              "    </tr>\n",
              "  </tbody>\n",
              "</table>\n",
              "</div>"
            ],
            "text/plain": [
              "     0   1\n",
              "0   An  19\n",
              "1  Hoa  25"
            ]
          },
          "metadata": {
            "tags": []
          },
          "execution_count": 2
        }
      ]
    },
    {
      "cell_type": "code",
      "metadata": {
        "id": "FxtxKCnwBqHr",
        "outputId": "b56d6a74-72a1-4f24-a632-d6071b1f7c84"
      },
      "source": [
        "#Tạo dataframe từ list dictionary\n",
        "\n",
        "df2 = pd.DataFrame([{'Ten':'An','Tuoi':19},{'Ten':'Hoa','Tuoi':25}])\n",
        "print(df2)\n",
        "\n",
        "df2 = pd.DataFrame({'Ten':['An','Hoa'],'Tuoi':[19,25]})\n",
        "print(df2)\n",
        "\n",
        "#df2 = pd.DataFrame({'Ten':['An','Hoa','Trung'],'Tuoi':[19,25,30]}) \n",
        "#print(df2)\n",
        "\n",
        "df2 = pd.DataFrame([{'Ten':'Lan','Diachi':'Q1'},{'Ten':'Hoa','Diachi':'Q2'},{'Ten': 'Trung'}])\n",
        "print(df2)"
      ],
      "execution_count": null,
      "outputs": [
        {
          "output_type": "stream",
          "text": [
            "   Ten  Tuoi\n",
            "0   An    19\n",
            "1  Hoa    25\n",
            "   Ten  Tuoi\n",
            "0   An    19\n",
            "1  Hoa    25\n",
            "     Ten Diachi\n",
            "0    Lan     Q1\n",
            "1    Hoa     Q2\n",
            "2  Trung    NaN\n"
          ],
          "name": "stdout"
        }
      ]
    },
    {
      "cell_type": "code",
      "metadata": {
        "id": "AjmugKs2BqHt"
      },
      "source": [
        "df3 = pd.concat([df1,df2],sort=False,axis=1,join='inner')\n",
        "df3"
      ],
      "execution_count": null,
      "outputs": []
    },
    {
      "cell_type": "code",
      "metadata": {
        "id": "MW8gTYTxBqHu"
      },
      "source": [
        "df4 = pd.concat([df1,df2],sort=False,axis=1,join='outer')\n",
        "df4"
      ],
      "execution_count": null,
      "outputs": []
    },
    {
      "cell_type": "code",
      "metadata": {
        "id": "VCFi23XwBqHv"
      },
      "source": [
        "df5 = pd.merge(df1,df2,how='inner')\n",
        "df5"
      ],
      "execution_count": null,
      "outputs": []
    },
    {
      "cell_type": "code",
      "metadata": {
        "id": "_29CFg77BqHw"
      },
      "source": [
        "df5 = pd.merge(df1,df2,how='outer')\n",
        "df5"
      ],
      "execution_count": null,
      "outputs": []
    },
    {
      "cell_type": "code",
      "metadata": {
        "id": "Q2CQtzSABqHy"
      },
      "source": [
        "df5 = pd.merge(df1,df2,how='left')\n",
        "df5"
      ],
      "execution_count": null,
      "outputs": []
    },
    {
      "cell_type": "code",
      "metadata": {
        "id": "JUes_7huBqHz"
      },
      "source": [
        "df5 = pd.merge(df1,df2,how='right')\n",
        "df5"
      ],
      "execution_count": null,
      "outputs": []
    },
    {
      "cell_type": "code",
      "metadata": {
        "id": "ej4vNTJyBqH0",
        "outputId": "b0c86acc-b4e6-4048-e79a-44f443558f55"
      },
      "source": [
        "#Tạo data frame từ list dictionary \n",
        "data = [{'a': 1, 'b': 2},{'a': 5, 'b': 10, 'c': 20}]\n",
        "# 2 cột, tên cột là tên key của dictionary\n",
        "df1 = pd.DataFrame(data, index=['first', 'second'], columns=['a', 'b'])\n",
        "\n",
        "# 2 cột, tên một cột là tên key của dictionary, tên một cột khác\n",
        "df2 = pd.DataFrame(data, index=['first', 'second'], columns=['a', 'b1'])\n",
        "print(df1)\n",
        "print(df2)\n"
      ],
      "execution_count": null,
      "outputs": [
        {
          "output_type": "stream",
          "text": [
            "        a   b\n",
            "first   1   2\n",
            "second  5  10\n",
            "        a  b1\n",
            "first   1 NaN\n",
            "second  5 NaN\n"
          ],
          "name": "stdout"
        }
      ]
    },
    {
      "cell_type": "code",
      "metadata": {
        "id": "Lv3geAyWBqH1",
        "outputId": "77f425cd-25d5-4fcd-f47a-1058e3ef69d9"
      },
      "source": [
        "df21 = pd.DataFrame(data, index=['first', 'second'])\n",
        "print(df21)\n",
        "\n",
        "df22 = pd.DataFrame(data)\n",
        "print(df22)\n"
      ],
      "execution_count": null,
      "outputs": [
        {
          "output_type": "stream",
          "text": [
            "        a   b     c\n",
            "first   1   2   NaN\n",
            "second  5  10  20.0\n",
            "   a   b     c\n",
            "0  1   2   NaN\n",
            "1  5  10  20.0\n"
          ],
          "name": "stdout"
        }
      ]
    },
    {
      "cell_type": "code",
      "metadata": {
        "id": "ppWyto5YBqH2",
        "outputId": "0f705f14-46e3-4ae2-aa72-7905c2f527fa"
      },
      "source": [
        "#Tạo dataframe từ dictionary series\n",
        "\n",
        "#Tạo dataframe từ dictionary series\n",
        "data={'Ten':pd.Series(['Hoa','An','Trung']), 'Tuoi':pd.Series([19,25,40])}\n",
        "df3 = pd.DataFrame(data)\n",
        "\n",
        "print(df3)\n",
        "print(df3.dtypes)\n"
      ],
      "execution_count": null,
      "outputs": [
        {
          "output_type": "stream",
          "text": [
            "     Ten  Tuoi\n",
            "0    Hoa    19\n",
            "1     An    25\n",
            "2  Trung    40\n",
            "Ten     object\n",
            "Tuoi     int64\n",
            "dtype: object\n"
          ],
          "name": "stdout"
        }
      ]
    },
    {
      "cell_type": "code",
      "metadata": {
        "id": "b4antQaeBqH3"
      },
      "source": [
        ""
      ],
      "execution_count": null,
      "outputs": []
    },
    {
      "cell_type": "markdown",
      "metadata": {
        "id": "YxvMoMn7BqH3"
      },
      "source": [
        "### Thao tác trên cột: lấy dữ liệu, thêm cột, xóa cột"
      ]
    },
    {
      "cell_type": "code",
      "metadata": {
        "id": "DBgiF28eBqH4",
        "outputId": "1926b68a-40ae-4b23-a269-d3f202969de2"
      },
      "source": [
        "# Create a DataFrame from Dict of Series\n",
        "d = {'one' : pd.Series([1, 2, 3], index=['a', 'b', 'c']),\n",
        "      'two' : pd.Series([11, 5, 6, 4], index=['a', 'b', 'c', 'd']),\n",
        "      'three' : pd.Series([7, 4, 9], index=['a', 'b', 'c']),\n",
        "    }\n",
        "\n",
        "df5 = pd.DataFrame(d, columns = ['one', 'two', 'three'])\n",
        "df5"
      ],
      "execution_count": null,
      "outputs": [
        {
          "output_type": "execute_result",
          "data": {
            "text/html": [
              "<div>\n",
              "<style scoped>\n",
              "    .dataframe tbody tr th:only-of-type {\n",
              "        vertical-align: middle;\n",
              "    }\n",
              "\n",
              "    .dataframe tbody tr th {\n",
              "        vertical-align: top;\n",
              "    }\n",
              "\n",
              "    .dataframe thead th {\n",
              "        text-align: right;\n",
              "    }\n",
              "</style>\n",
              "<table border=\"1\" class=\"dataframe\">\n",
              "  <thead>\n",
              "    <tr style=\"text-align: right;\">\n",
              "      <th></th>\n",
              "      <th>one</th>\n",
              "      <th>two</th>\n",
              "      <th>three</th>\n",
              "    </tr>\n",
              "  </thead>\n",
              "  <tbody>\n",
              "    <tr>\n",
              "      <td>a</td>\n",
              "      <td>1.0</td>\n",
              "      <td>11</td>\n",
              "      <td>7.0</td>\n",
              "    </tr>\n",
              "    <tr>\n",
              "      <td>b</td>\n",
              "      <td>2.0</td>\n",
              "      <td>5</td>\n",
              "      <td>4.0</td>\n",
              "    </tr>\n",
              "    <tr>\n",
              "      <td>c</td>\n",
              "      <td>3.0</td>\n",
              "      <td>6</td>\n",
              "      <td>9.0</td>\n",
              "    </tr>\n",
              "    <tr>\n",
              "      <td>d</td>\n",
              "      <td>NaN</td>\n",
              "      <td>4</td>\n",
              "      <td>NaN</td>\n",
              "    </tr>\n",
              "  </tbody>\n",
              "</table>\n",
              "</div>"
            ],
            "text/plain": [
              "   one  two  three\n",
              "a  1.0   11    7.0\n",
              "b  2.0    5    4.0\n",
              "c  3.0    6    9.0\n",
              "d  NaN    4    NaN"
            ]
          },
          "metadata": {
            "tags": []
          },
          "execution_count": 16
        }
      ]
    },
    {
      "cell_type": "code",
      "metadata": {
        "id": "9d0ztWXpBqH5"
      },
      "source": [
        "df5['two'].plot.hist(bins=4)"
      ],
      "execution_count": null,
      "outputs": []
    },
    {
      "cell_type": "code",
      "metadata": {
        "id": "yITcsYyvBqH5",
        "outputId": "ec6eee38-03ce-4c20-e3de-600d8dc4660c"
      },
      "source": [
        "# lấy dữ liệu theo cột\n",
        "print(df5)\n",
        "print(\"Lấy cột 'one':\")\n",
        "print(df5[['one','two']])\n",
        "print(df5.one)"
      ],
      "execution_count": null,
      "outputs": [
        {
          "output_type": "stream",
          "text": [
            "   one  two  three\n",
            "a  1.0   11    7.0\n",
            "b  2.0    5    4.0\n",
            "c  3.0    6    9.0\n",
            "d  NaN    4    NaN\n",
            "Lấy cột 'one':\n",
            "   one  two\n",
            "a  1.0   11\n",
            "b  2.0    5\n",
            "c  3.0    6\n",
            "d  NaN    4\n",
            "a    1.0\n",
            "b    2.0\n",
            "c    3.0\n",
            "d    NaN\n",
            "Name: one, dtype: float64\n"
          ],
          "name": "stdout"
        }
      ]
    },
    {
      "cell_type": "code",
      "metadata": {
        "id": "7Cxok1rhBqH6",
        "outputId": "9c879f23-5696-4fa2-d90e-645418e92580"
      },
      "source": [
        "# Thêm cột mới\n",
        "\n",
        "df5['four']=pd.Series([10,20,30, 40,50],\n",
        "                      index=['a','b','c','d','e'])\n",
        "print(df5)"
      ],
      "execution_count": null,
      "outputs": [
        {
          "output_type": "stream",
          "text": [
            "   one  two  three  four\n",
            "a  1.0   11    7.0    10\n",
            "b  2.0    5    4.0    20\n",
            "c  3.0    6    9.0    30\n",
            "d  NaN    4    NaN    40\n"
          ],
          "name": "stdout"
        }
      ]
    },
    {
      "cell_type": "code",
      "metadata": {
        "id": "U-L1s94-BqH7",
        "outputId": "c3581c17-964f-46aa-c73a-96574a99ee7d"
      },
      "source": [
        "# using del function\n",
        "print (\"Dùng del:\")\n",
        "del df5['three']\n",
        "print(df5)"
      ],
      "execution_count": null,
      "outputs": [
        {
          "output_type": "stream",
          "text": [
            "Dùng del:\n",
            "   one  two  four\n",
            "a  1.0   11    10\n",
            "b  2.0    5    20\n",
            "c  3.0    6    30\n",
            "d  NaN    4    40\n"
          ],
          "name": "stdout"
        }
      ]
    },
    {
      "cell_type": "code",
      "metadata": {
        "id": "s-GF1-gnBqH8",
        "outputId": "95248412-3d2f-4276-dde6-32b318139d2c"
      },
      "source": [
        "#using drop\n",
        "print(df5)\n",
        "df7 = df5.drop(labels=['two','four'], axis=1)\n",
        "print(df7)"
      ],
      "execution_count": null,
      "outputs": [
        {
          "output_type": "stream",
          "text": [
            "   one  two  three  four\n",
            "a  1.0   11    7.0    10\n",
            "b  2.0    5    4.0    20\n",
            "c  3.0    6    9.0    30\n",
            "d  NaN    4    NaN    40\n",
            "   one  three\n",
            "a  1.0    7.0\n",
            "b  2.0    4.0\n",
            "c  3.0    9.0\n",
            "d  NaN    NaN\n"
          ],
          "name": "stdout"
        }
      ]
    },
    {
      "cell_type": "code",
      "metadata": {
        "id": "5J5ZaM5-BqH9",
        "outputId": "c71248bc-8c25-4c81-e7db-c9248a3ed9ed"
      },
      "source": [
        "df5"
      ],
      "execution_count": null,
      "outputs": [
        {
          "output_type": "execute_result",
          "data": {
            "text/html": [
              "<div>\n",
              "<style scoped>\n",
              "    .dataframe tbody tr th:only-of-type {\n",
              "        vertical-align: middle;\n",
              "    }\n",
              "\n",
              "    .dataframe tbody tr th {\n",
              "        vertical-align: top;\n",
              "    }\n",
              "\n",
              "    .dataframe thead th {\n",
              "        text-align: right;\n",
              "    }\n",
              "</style>\n",
              "<table border=\"1\" class=\"dataframe\">\n",
              "  <thead>\n",
              "    <tr style=\"text-align: right;\">\n",
              "      <th></th>\n",
              "      <th>one</th>\n",
              "      <th>two</th>\n",
              "      <th>three</th>\n",
              "      <th>four</th>\n",
              "    </tr>\n",
              "  </thead>\n",
              "  <tbody>\n",
              "    <tr>\n",
              "      <td>a</td>\n",
              "      <td>1.0</td>\n",
              "      <td>11</td>\n",
              "      <td>7.0</td>\n",
              "      <td>10</td>\n",
              "    </tr>\n",
              "    <tr>\n",
              "      <td>b</td>\n",
              "      <td>2.0</td>\n",
              "      <td>5</td>\n",
              "      <td>4.0</td>\n",
              "      <td>20</td>\n",
              "    </tr>\n",
              "    <tr>\n",
              "      <td>c</td>\n",
              "      <td>3.0</td>\n",
              "      <td>6</td>\n",
              "      <td>9.0</td>\n",
              "      <td>30</td>\n",
              "    </tr>\n",
              "    <tr>\n",
              "      <td>d</td>\n",
              "      <td>NaN</td>\n",
              "      <td>4</td>\n",
              "      <td>NaN</td>\n",
              "      <td>40</td>\n",
              "    </tr>\n",
              "  </tbody>\n",
              "</table>\n",
              "</div>"
            ],
            "text/plain": [
              "   one  two  three  four\n",
              "a  1.0   11    7.0    10\n",
              "b  2.0    5    4.0    20\n",
              "c  3.0    6    9.0    30\n",
              "d  NaN    4    NaN    40"
            ]
          },
          "metadata": {
            "tags": []
          },
          "execution_count": 19
        }
      ]
    },
    {
      "cell_type": "code",
      "metadata": {
        "id": "IebLVZnoBqH9",
        "outputId": "109d2271-7ad8-4d26-cf86-675179a3803f"
      },
      "source": [
        "# Xóa cột\n",
        "# using pop function\n",
        "print(df5)\n",
        "print (\"Dùng pop để xóa cột one\")\n",
        "df6=df5.pop('one')\n",
        "print(df5)\n",
        "print (\"df6\") # df6 chứa cột  bị xóa\n",
        "print(df6)\n",
        "\n"
      ],
      "execution_count": null,
      "outputs": [
        {
          "output_type": "stream",
          "text": [
            "   one  two  four\n",
            "a  1.0   11    10\n",
            "b  2.0    5    20\n",
            "c  3.0    6    30\n",
            "d  NaN    4    40\n",
            "Dùng pop để xóa cột one\n",
            "   two  four\n",
            "a   11    10\n",
            "b    5    20\n",
            "c    6    30\n",
            "d    4    40\n",
            "df6\n",
            "a    1.0\n",
            "b    2.0\n",
            "c    3.0\n",
            "d    NaN\n",
            "Name: one, dtype: float64\n"
          ],
          "name": "stdout"
        }
      ]
    },
    {
      "cell_type": "code",
      "metadata": {
        "id": "EgrFkc1LBqH-"
      },
      "source": [
        "print(df5)"
      ],
      "execution_count": null,
      "outputs": []
    },
    {
      "cell_type": "markdown",
      "metadata": {
        "id": "jpVJw8_QBqH_"
      },
      "source": [
        "# Thao tác trên dòng: lấy dữ liệu, thêm dòng, xóa dòng"
      ]
    },
    {
      "cell_type": "code",
      "metadata": {
        "id": "B6caFI3-BqH_",
        "outputId": "a6308e03-3b77-4e74-fb86-d093a9a94db3"
      },
      "source": [
        "# lấy dữ liệu trên dòng loc- iloc\n",
        "\n",
        "d = {'name' : pd.Series(['An', 'Hoa', 'Trung','Huy','Thanh','Dung'], index=[49,48,47, 1, 2, 3]),\n",
        "      'age' : pd.Series([15, 22, 36,27,55],index=[49,48,47, 1, 3])\n",
        "    }\n",
        "                         \n",
        "df=pd.DataFrame(d,columns=['name','age'])\n",
        "print('Dataframe\\n',df)\n",
        "\n",
        "## Lấy dữ liệu theo loc - iloc\n",
        "\n",
        "#loc\n",
        "\n",
        "print('Giá trị dòng 3- cột name là:', df.loc[3,'name'])\n",
        "\n",
        "#iloc\n",
        "print('Giá trị dòng index 3- cột name là:',df.iloc[3,0])\n",
        "print('Giá trị dòng index 4- cột name là:',df.iloc[4,0])\n",
        "\n",
        "print('Lọc những nhân viên có tuổi >30: \\n', df.loc[df['age']>30])\n",
        "\n",
        "print('Lọc tên những nhân viên có tuổi >30: \\n', df.loc[df['age']>30,'name']) \n",
        "\n"
      ],
      "execution_count": null,
      "outputs": [
        {
          "output_type": "stream",
          "text": [
            "Dataframe\n",
            "      name   age\n",
            "1     Huy  27.0\n",
            "2   Thanh   NaN\n",
            "3    Dung  55.0\n",
            "47  Trung  36.0\n",
            "48    Hoa  22.0\n",
            "49     An  15.0\n",
            "Giá trị dòng 3- cột name là: Dung\n",
            "Giá trị dòng index 3- cột name là: Trung\n",
            "Giá trị dòng index 4- cột name là: Hoa\n",
            "Lọc những nhân viên có tuổi >30: \n",
            "      name   age\n",
            "3    Dung  55.0\n",
            "47  Trung  36.0\n",
            "Lọc tên những nhân viên có tuổi >30: \n",
            " 3      Dung\n",
            "47    Trung\n",
            "Name: name, dtype: object\n"
          ],
          "name": "stdout"
        }
      ]
    },
    {
      "cell_type": "code",
      "metadata": {
        "id": "99VDuFeDBqIB",
        "outputId": "f4a72f98-d90a-4084-f9fa-80b917c544c4"
      },
      "source": [
        "#Cập nhật dữ liệu\n",
        "print(df)\n",
        "print (' Trước khi cập nhật: ', df.loc[df['name']=='Huy'].age.values[0])\n",
        "\n",
        "df.loc[df['name']=='Huy','age'] = 37\n",
        "\n",
        "print (' Sau khi cập nhật: ', df.loc[df['name']=='Huy'].age.values[0])"
      ],
      "execution_count": null,
      "outputs": [
        {
          "output_type": "stream",
          "text": [
            "     name   age\n",
            "1     Huy  37.0\n",
            "2   Thanh   NaN\n",
            "3    Dung  55.0\n",
            "47  Trung  36.0\n",
            "48    Hoa  22.0\n",
            "49     An  15.0\n",
            " Trước khi cập nhật:  37.0\n",
            " Sau khi cập nhật:  37.0\n"
          ],
          "name": "stdout"
        }
      ]
    },
    {
      "cell_type": "code",
      "metadata": {
        "id": "XoLhKf0yBqIC",
        "outputId": "73f3bf4b-b572-48e3-bfbc-592409cb3686"
      },
      "source": [
        "# Minh họa set_index\n",
        "print(df)\n",
        "df4 = df.set_index(keys=['name'])\n",
        "df4"
      ],
      "execution_count": null,
      "outputs": [
        {
          "output_type": "stream",
          "text": [
            "     name   age\n",
            "1     Huy  37.0\n",
            "2   Thanh   NaN\n",
            "3    Dung  55.0\n",
            "47  Trung  36.0\n",
            "48    Hoa  22.0\n",
            "49     An  15.0\n"
          ],
          "name": "stdout"
        },
        {
          "output_type": "execute_result",
          "data": {
            "text/html": [
              "<div>\n",
              "<style scoped>\n",
              "    .dataframe tbody tr th:only-of-type {\n",
              "        vertical-align: middle;\n",
              "    }\n",
              "\n",
              "    .dataframe tbody tr th {\n",
              "        vertical-align: top;\n",
              "    }\n",
              "\n",
              "    .dataframe thead th {\n",
              "        text-align: right;\n",
              "    }\n",
              "</style>\n",
              "<table border=\"1\" class=\"dataframe\">\n",
              "  <thead>\n",
              "    <tr style=\"text-align: right;\">\n",
              "      <th></th>\n",
              "      <th>age</th>\n",
              "    </tr>\n",
              "    <tr>\n",
              "      <th>name</th>\n",
              "      <th></th>\n",
              "    </tr>\n",
              "  </thead>\n",
              "  <tbody>\n",
              "    <tr>\n",
              "      <td>Huy</td>\n",
              "      <td>37.0</td>\n",
              "    </tr>\n",
              "    <tr>\n",
              "      <td>Thanh</td>\n",
              "      <td>NaN</td>\n",
              "    </tr>\n",
              "    <tr>\n",
              "      <td>Dung</td>\n",
              "      <td>55.0</td>\n",
              "    </tr>\n",
              "    <tr>\n",
              "      <td>Trung</td>\n",
              "      <td>36.0</td>\n",
              "    </tr>\n",
              "    <tr>\n",
              "      <td>Hoa</td>\n",
              "      <td>22.0</td>\n",
              "    </tr>\n",
              "    <tr>\n",
              "      <td>An</td>\n",
              "      <td>15.0</td>\n",
              "    </tr>\n",
              "  </tbody>\n",
              "</table>\n",
              "</div>"
            ],
            "text/plain": [
              "        age\n",
              "name       \n",
              "Huy    37.0\n",
              "Thanh   NaN\n",
              "Dung   55.0\n",
              "Trung  36.0\n",
              "Hoa    22.0\n",
              "An     15.0"
            ]
          },
          "metadata": {
            "tags": []
          },
          "execution_count": 23
        }
      ]
    },
    {
      "cell_type": "code",
      "metadata": {
        "id": "r_sjMOC1BqID",
        "outputId": "3a5b9c74-4a52-41ef-a722-20a328da0d3e"
      },
      "source": [
        "print('Tuổi của nhân viên Huy :',df4.loc['Huy','age'])\n"
      ],
      "execution_count": null,
      "outputs": [
        {
          "output_type": "stream",
          "text": [
            "Tuổi của nhân viên Huy : 37.0\n"
          ],
          "name": "stdout"
        }
      ]
    },
    {
      "cell_type": "markdown",
      "metadata": {
        "id": "UFItirczBqIE"
      },
      "source": [
        "### Sắp xếp"
      ]
    },
    {
      "cell_type": "code",
      "metadata": {
        "id": "H3CmWD-qBqIE",
        "outputId": "ee2b068e-da10-443b-b3f3-b3d877d3c954"
      },
      "source": [
        "data = [['Alex',23],['Jack',27],['Clarke',32]]\n",
        "df5 = pd.DataFrame(data,index=[2,0,1], columns=['Name','Age'],dtype=float)\n",
        "print(df5)\n"
      ],
      "execution_count": null,
      "outputs": [
        {
          "output_type": "stream",
          "text": [
            "     Name   Age\n",
            "2    Alex  23.0\n",
            "0    Jack  27.0\n",
            "1  Clarke  32.0\n"
          ],
          "name": "stdout"
        }
      ]
    },
    {
      "cell_type": "code",
      "metadata": {
        "id": "LtSJClM-BqIF",
        "outputId": "04fcf355-be40-40fb-d374-e8849e95ff05"
      },
      "source": [
        "#Sắp df theo index\n",
        "print(df5.sort_index(ascending=False))\n",
        "\n",
        "# sắp xếp theo cột\n",
        "print(df5.sort_index(axis=1))"
      ],
      "execution_count": null,
      "outputs": [
        {
          "output_type": "stream",
          "text": [
            "     Name   Age\n",
            "2    Alex  23.0\n",
            "1  Clarke  32.0\n",
            "0    Jack  27.0\n",
            "    Age    Name\n",
            "2  23.0    Alex\n",
            "0  27.0    Jack\n",
            "1  32.0  Clarke\n"
          ],
          "name": "stdout"
        }
      ]
    },
    {
      "cell_type": "code",
      "metadata": {
        "id": "SDk0o2VOBqIG",
        "outputId": "b5d63a99-0f44-47ea-e797-da7c17ae49e0"
      },
      "source": [
        "#Sắp theo giá trị\n",
        "# Sắp tên tăng dần\n",
        "print(df5.sort_values(by='Name'))\n",
        "\n",
        "# Sắp tuổi giảm dần\n",
        "print(df5.sort_values(by='Age', ascending=False))\n",
        "\n",
        "df5 = df5.append({'Name': 'Alex', 'Age': 20}, ignore_index=True)\n",
        "# Sắp Name tăng dần , Age giảm dần\n",
        "print(df5.sort_values(by=['Name','Age'], ascending=[True,False]))"
      ],
      "execution_count": null,
      "outputs": [
        {
          "output_type": "stream",
          "text": [
            "     Name   Age\n",
            "2    Alex  23.0\n",
            "1  Clarke  32.0\n",
            "0    Jack  27.0\n",
            "     Name   Age\n",
            "1  Clarke  32.0\n",
            "0    Jack  27.0\n",
            "2    Alex  23.0\n",
            "     Name   Age\n",
            "0    Alex  23.0\n",
            "3    Alex  20.0\n",
            "2  Clarke  32.0\n",
            "1    Jack  27.0\n"
          ],
          "name": "stdout"
        }
      ]
    },
    {
      "cell_type": "code",
      "metadata": {
        "id": "ijYEs7RPBqIH",
        "outputId": "6938540b-40d3-437b-d0fa-c93e1bfa8725"
      },
      "source": [
        "#Xếp hạng các giá trị dữ liệu trong các cột của dataframe\n",
        "\n",
        "print(df5)\n",
        "print('Xếp hạng\\n',df5.rank(method='min'))\n"
      ],
      "execution_count": null,
      "outputs": [
        {
          "output_type": "stream",
          "text": [
            "     Name   Age\n",
            "0    Alex  23.0\n",
            "1    Jack  27.0\n",
            "2  Clarke  32.0\n",
            "3    Alex  20.0\n",
            "Xếp hạng\n",
            "    Name  Age\n",
            "0   1.0  2.0\n",
            "1   4.0  3.0\n",
            "2   3.0  4.0\n",
            "3   1.0  1.0\n"
          ],
          "name": "stdout"
        }
      ]
    },
    {
      "cell_type": "code",
      "metadata": {
        "id": "a27jp1jbBqII",
        "outputId": "b492dcea-2bc6-4206-f5e6-2c411b833fed"
      },
      "source": [
        "print (df)"
      ],
      "execution_count": null,
      "outputs": [
        {
          "output_type": "stream",
          "text": [
            "     name   age\n",
            "1     Huy  37.0\n",
            "2   Thanh   NaN\n",
            "3    Dung  55.0\n",
            "47  Trung  36.0\n",
            "48    Hoa  22.0\n",
            "49     An  15.0\n"
          ],
          "name": "stdout"
        }
      ]
    },
    {
      "cell_type": "code",
      "metadata": {
        "id": "-eIplDcKBqII",
        "outputId": "df9d3ec4-e132-4e54-cadc-1f5303a7230b"
      },
      "source": [
        "df['ratio'] = pd.Series([2.2 ,1.5, 2.5 , 5,  1.2,3.4],index=[49,48,47, 1, 2, 3])\n",
        "df"
      ],
      "execution_count": null,
      "outputs": [
        {
          "output_type": "execute_result",
          "data": {
            "text/html": [
              "<div>\n",
              "<style scoped>\n",
              "    .dataframe tbody tr th:only-of-type {\n",
              "        vertical-align: middle;\n",
              "    }\n",
              "\n",
              "    .dataframe tbody tr th {\n",
              "        vertical-align: top;\n",
              "    }\n",
              "\n",
              "    .dataframe thead th {\n",
              "        text-align: right;\n",
              "    }\n",
              "</style>\n",
              "<table border=\"1\" class=\"dataframe\">\n",
              "  <thead>\n",
              "    <tr style=\"text-align: right;\">\n",
              "      <th></th>\n",
              "      <th>name</th>\n",
              "      <th>age</th>\n",
              "      <th>ratio</th>\n",
              "    </tr>\n",
              "  </thead>\n",
              "  <tbody>\n",
              "    <tr>\n",
              "      <td>1</td>\n",
              "      <td>Huy</td>\n",
              "      <td>37.0</td>\n",
              "      <td>5.0</td>\n",
              "    </tr>\n",
              "    <tr>\n",
              "      <td>2</td>\n",
              "      <td>Thanh</td>\n",
              "      <td>NaN</td>\n",
              "      <td>1.2</td>\n",
              "    </tr>\n",
              "    <tr>\n",
              "      <td>3</td>\n",
              "      <td>Dung</td>\n",
              "      <td>55.0</td>\n",
              "      <td>3.4</td>\n",
              "    </tr>\n",
              "    <tr>\n",
              "      <td>47</td>\n",
              "      <td>Trung</td>\n",
              "      <td>36.0</td>\n",
              "      <td>2.5</td>\n",
              "    </tr>\n",
              "    <tr>\n",
              "      <td>48</td>\n",
              "      <td>Hoa</td>\n",
              "      <td>22.0</td>\n",
              "      <td>1.5</td>\n",
              "    </tr>\n",
              "    <tr>\n",
              "      <td>49</td>\n",
              "      <td>An</td>\n",
              "      <td>15.0</td>\n",
              "      <td>2.2</td>\n",
              "    </tr>\n",
              "  </tbody>\n",
              "</table>\n",
              "</div>"
            ],
            "text/plain": [
              "     name   age  ratio\n",
              "1     Huy  37.0    5.0\n",
              "2   Thanh   NaN    1.2\n",
              "3    Dung  55.0    3.4\n",
              "47  Trung  36.0    2.5\n",
              "48    Hoa  22.0    1.5\n",
              "49     An  15.0    2.2"
            ]
          },
          "metadata": {
            "tags": []
          },
          "execution_count": 37
        }
      ]
    },
    {
      "cell_type": "code",
      "metadata": {
        "id": "A3DlQ0EWBqIJ",
        "outputId": "f82cdd0d-be68-4e07-f965-822c885b486e"
      },
      "source": [
        "df['salary'] = df['ratio'] * 200000\n",
        "df"
      ],
      "execution_count": null,
      "outputs": [
        {
          "output_type": "execute_result",
          "data": {
            "text/html": [
              "<div>\n",
              "<style scoped>\n",
              "    .dataframe tbody tr th:only-of-type {\n",
              "        vertical-align: middle;\n",
              "    }\n",
              "\n",
              "    .dataframe tbody tr th {\n",
              "        vertical-align: top;\n",
              "    }\n",
              "\n",
              "    .dataframe thead th {\n",
              "        text-align: right;\n",
              "    }\n",
              "</style>\n",
              "<table border=\"1\" class=\"dataframe\">\n",
              "  <thead>\n",
              "    <tr style=\"text-align: right;\">\n",
              "      <th></th>\n",
              "      <th>name</th>\n",
              "      <th>age</th>\n",
              "      <th>ratio</th>\n",
              "      <th>salary</th>\n",
              "    </tr>\n",
              "  </thead>\n",
              "  <tbody>\n",
              "    <tr>\n",
              "      <td>1</td>\n",
              "      <td>Huy</td>\n",
              "      <td>37.0</td>\n",
              "      <td>5.0</td>\n",
              "      <td>1000000.0</td>\n",
              "    </tr>\n",
              "    <tr>\n",
              "      <td>2</td>\n",
              "      <td>Thanh</td>\n",
              "      <td>NaN</td>\n",
              "      <td>1.2</td>\n",
              "      <td>240000.0</td>\n",
              "    </tr>\n",
              "    <tr>\n",
              "      <td>3</td>\n",
              "      <td>Dung</td>\n",
              "      <td>55.0</td>\n",
              "      <td>3.4</td>\n",
              "      <td>680000.0</td>\n",
              "    </tr>\n",
              "    <tr>\n",
              "      <td>47</td>\n",
              "      <td>Trung</td>\n",
              "      <td>36.0</td>\n",
              "      <td>2.5</td>\n",
              "      <td>500000.0</td>\n",
              "    </tr>\n",
              "    <tr>\n",
              "      <td>48</td>\n",
              "      <td>Hoa</td>\n",
              "      <td>22.0</td>\n",
              "      <td>1.5</td>\n",
              "      <td>300000.0</td>\n",
              "    </tr>\n",
              "    <tr>\n",
              "      <td>49</td>\n",
              "      <td>An</td>\n",
              "      <td>15.0</td>\n",
              "      <td>2.2</td>\n",
              "      <td>440000.0</td>\n",
              "    </tr>\n",
              "  </tbody>\n",
              "</table>\n",
              "</div>"
            ],
            "text/plain": [
              "     name   age  ratio     salary\n",
              "1     Huy  37.0    5.0  1000000.0\n",
              "2   Thanh   NaN    1.2   240000.0\n",
              "3    Dung  55.0    3.4   680000.0\n",
              "47  Trung  36.0    2.5   500000.0\n",
              "48    Hoa  22.0    1.5   300000.0\n",
              "49     An  15.0    2.2   440000.0"
            ]
          },
          "metadata": {
            "tags": []
          },
          "execution_count": 38
        }
      ]
    },
    {
      "cell_type": "code",
      "metadata": {
        "id": "WRd9cX6kBqIK",
        "outputId": "6ffe19c3-5770-4d76-e12b-1357e7cf697d"
      },
      "source": [
        "df['age_group'] = df['age'].map(lambda x: 1 if x> 30 else 2)\n",
        "df"
      ],
      "execution_count": null,
      "outputs": [
        {
          "output_type": "execute_result",
          "data": {
            "text/html": [
              "<div>\n",
              "<style scoped>\n",
              "    .dataframe tbody tr th:only-of-type {\n",
              "        vertical-align: middle;\n",
              "    }\n",
              "\n",
              "    .dataframe tbody tr th {\n",
              "        vertical-align: top;\n",
              "    }\n",
              "\n",
              "    .dataframe thead th {\n",
              "        text-align: right;\n",
              "    }\n",
              "</style>\n",
              "<table border=\"1\" class=\"dataframe\">\n",
              "  <thead>\n",
              "    <tr style=\"text-align: right;\">\n",
              "      <th></th>\n",
              "      <th>name</th>\n",
              "      <th>age</th>\n",
              "      <th>ratio</th>\n",
              "      <th>salary</th>\n",
              "      <th>age_group</th>\n",
              "    </tr>\n",
              "  </thead>\n",
              "  <tbody>\n",
              "    <tr>\n",
              "      <td>1</td>\n",
              "      <td>Huy</td>\n",
              "      <td>37.0</td>\n",
              "      <td>5.0</td>\n",
              "      <td>1000000.0</td>\n",
              "      <td>1</td>\n",
              "    </tr>\n",
              "    <tr>\n",
              "      <td>2</td>\n",
              "      <td>Thanh</td>\n",
              "      <td>NaN</td>\n",
              "      <td>1.2</td>\n",
              "      <td>240000.0</td>\n",
              "      <td>2</td>\n",
              "    </tr>\n",
              "    <tr>\n",
              "      <td>3</td>\n",
              "      <td>Dung</td>\n",
              "      <td>55.0</td>\n",
              "      <td>3.4</td>\n",
              "      <td>680000.0</td>\n",
              "      <td>1</td>\n",
              "    </tr>\n",
              "    <tr>\n",
              "      <td>47</td>\n",
              "      <td>Trung</td>\n",
              "      <td>36.0</td>\n",
              "      <td>2.5</td>\n",
              "      <td>500000.0</td>\n",
              "      <td>1</td>\n",
              "    </tr>\n",
              "    <tr>\n",
              "      <td>48</td>\n",
              "      <td>Hoa</td>\n",
              "      <td>22.0</td>\n",
              "      <td>1.5</td>\n",
              "      <td>300000.0</td>\n",
              "      <td>2</td>\n",
              "    </tr>\n",
              "    <tr>\n",
              "      <td>49</td>\n",
              "      <td>An</td>\n",
              "      <td>15.0</td>\n",
              "      <td>2.2</td>\n",
              "      <td>440000.0</td>\n",
              "      <td>2</td>\n",
              "    </tr>\n",
              "  </tbody>\n",
              "</table>\n",
              "</div>"
            ],
            "text/plain": [
              "     name   age  ratio     salary  age_group\n",
              "1     Huy  37.0    5.0  1000000.0          1\n",
              "2   Thanh   NaN    1.2   240000.0          2\n",
              "3    Dung  55.0    3.4   680000.0          1\n",
              "47  Trung  36.0    2.5   500000.0          1\n",
              "48    Hoa  22.0    1.5   300000.0          2\n",
              "49     An  15.0    2.2   440000.0          2"
            ]
          },
          "metadata": {
            "tags": []
          },
          "execution_count": 39
        }
      ]
    },
    {
      "cell_type": "code",
      "metadata": {
        "id": "QRe61DDeBqIK",
        "outputId": "e7e6d24a-720b-42ab-8e6d-5235389d8c97"
      },
      "source": [
        "df.isnull().any()"
      ],
      "execution_count": null,
      "outputs": [
        {
          "output_type": "execute_result",
          "data": {
            "text/plain": [
              "name         False\n",
              "age           True\n",
              "ratio        False\n",
              "salary       False\n",
              "age_group    False\n",
              "dtype: bool"
            ]
          },
          "metadata": {
            "tags": []
          },
          "execution_count": 42
        }
      ]
    },
    {
      "cell_type": "code",
      "metadata": {
        "id": "6IQaob2UBqIL",
        "outputId": "94fe2da8-938f-4a94-e9cc-ff65fc8eef2c"
      },
      "source": [
        "df.all()"
      ],
      "execution_count": null,
      "outputs": [
        {
          "output_type": "execute_result",
          "data": {
            "text/plain": [
              "name         True\n",
              "age          True\n",
              "ratio        True\n",
              "salary       True\n",
              "age_group    True\n",
              "dtype: bool"
            ]
          },
          "metadata": {
            "tags": []
          },
          "execution_count": 41
        }
      ]
    },
    {
      "cell_type": "code",
      "metadata": {
        "id": "cauKTpqDBqIL",
        "outputId": "68900b9b-60b2-496a-9f7c-917688ab3d89"
      },
      "source": [
        "import pandas as pd\n",
        "x = pd.DataFrame(['a','b','c'])\n",
        "x"
      ],
      "execution_count": null,
      "outputs": [
        {
          "output_type": "execute_result",
          "data": {
            "text/html": [
              "<div>\n",
              "<style scoped>\n",
              "    .dataframe tbody tr th:only-of-type {\n",
              "        vertical-align: middle;\n",
              "    }\n",
              "\n",
              "    .dataframe tbody tr th {\n",
              "        vertical-align: top;\n",
              "    }\n",
              "\n",
              "    .dataframe thead th {\n",
              "        text-align: right;\n",
              "    }\n",
              "</style>\n",
              "<table border=\"1\" class=\"dataframe\">\n",
              "  <thead>\n",
              "    <tr style=\"text-align: right;\">\n",
              "      <th></th>\n",
              "      <th>0</th>\n",
              "    </tr>\n",
              "  </thead>\n",
              "  <tbody>\n",
              "    <tr>\n",
              "      <td>0</td>\n",
              "      <td>a</td>\n",
              "    </tr>\n",
              "    <tr>\n",
              "      <td>1</td>\n",
              "      <td>b</td>\n",
              "    </tr>\n",
              "    <tr>\n",
              "      <td>2</td>\n",
              "      <td>c</td>\n",
              "    </tr>\n",
              "  </tbody>\n",
              "</table>\n",
              "</div>"
            ],
            "text/plain": [
              "   0\n",
              "0  a\n",
              "1  b\n",
              "2  c"
            ]
          },
          "metadata": {
            "tags": []
          },
          "execution_count": 43
        }
      ]
    },
    {
      "cell_type": "code",
      "metadata": {
        "id": "B12LReVIBqIL",
        "outputId": "0ee62768-d35c-4aab-acc9-52bf8cfb7aa4"
      },
      "source": [
        "y=x.copy()\n",
        "y"
      ],
      "execution_count": null,
      "outputs": [
        {
          "output_type": "execute_result",
          "data": {
            "text/html": [
              "<div>\n",
              "<style scoped>\n",
              "    .dataframe tbody tr th:only-of-type {\n",
              "        vertical-align: middle;\n",
              "    }\n",
              "\n",
              "    .dataframe tbody tr th {\n",
              "        vertical-align: top;\n",
              "    }\n",
              "\n",
              "    .dataframe thead th {\n",
              "        text-align: right;\n",
              "    }\n",
              "</style>\n",
              "<table border=\"1\" class=\"dataframe\">\n",
              "  <thead>\n",
              "    <tr style=\"text-align: right;\">\n",
              "      <th></th>\n",
              "      <th>0</th>\n",
              "    </tr>\n",
              "  </thead>\n",
              "  <tbody>\n",
              "    <tr>\n",
              "      <td>0</td>\n",
              "      <td>z</td>\n",
              "    </tr>\n",
              "    <tr>\n",
              "      <td>1</td>\n",
              "      <td>b</td>\n",
              "    </tr>\n",
              "    <tr>\n",
              "      <td>2</td>\n",
              "      <td>c</td>\n",
              "    </tr>\n",
              "  </tbody>\n",
              "</table>\n",
              "</div>"
            ],
            "text/plain": [
              "   0\n",
              "0  z\n",
              "1  b\n",
              "2  c"
            ]
          },
          "metadata": {
            "tags": []
          },
          "execution_count": 47
        }
      ]
    },
    {
      "cell_type": "code",
      "metadata": {
        "id": "ic0pedZMBqIM",
        "outputId": "03f98f20-92f7-46b7-c8dc-7d24f26cea0f"
      },
      "source": [
        "y.loc[0,0]='z'\n",
        "y"
      ],
      "execution_count": null,
      "outputs": [
        {
          "output_type": "execute_result",
          "data": {
            "text/html": [
              "<div>\n",
              "<style scoped>\n",
              "    .dataframe tbody tr th:only-of-type {\n",
              "        vertical-align: middle;\n",
              "    }\n",
              "\n",
              "    .dataframe tbody tr th {\n",
              "        vertical-align: top;\n",
              "    }\n",
              "\n",
              "    .dataframe thead th {\n",
              "        text-align: right;\n",
              "    }\n",
              "</style>\n",
              "<table border=\"1\" class=\"dataframe\">\n",
              "  <thead>\n",
              "    <tr style=\"text-align: right;\">\n",
              "      <th></th>\n",
              "      <th>0</th>\n",
              "    </tr>\n",
              "  </thead>\n",
              "  <tbody>\n",
              "    <tr>\n",
              "      <td>0</td>\n",
              "      <td>z</td>\n",
              "    </tr>\n",
              "    <tr>\n",
              "      <td>1</td>\n",
              "      <td>b</td>\n",
              "    </tr>\n",
              "    <tr>\n",
              "      <td>2</td>\n",
              "      <td>c</td>\n",
              "    </tr>\n",
              "  </tbody>\n",
              "</table>\n",
              "</div>"
            ],
            "text/plain": [
              "   0\n",
              "0  z\n",
              "1  b\n",
              "2  c"
            ]
          },
          "metadata": {
            "tags": []
          },
          "execution_count": 45
        }
      ]
    },
    {
      "cell_type": "code",
      "metadata": {
        "id": "wSHLQGwmBqIM",
        "outputId": "acbc68c0-b39d-430e-f536-e056715f63fd"
      },
      "source": [
        "x"
      ],
      "execution_count": null,
      "outputs": [
        {
          "output_type": "execute_result",
          "data": {
            "text/html": [
              "<div>\n",
              "<style scoped>\n",
              "    .dataframe tbody tr th:only-of-type {\n",
              "        vertical-align: middle;\n",
              "    }\n",
              "\n",
              "    .dataframe tbody tr th {\n",
              "        vertical-align: top;\n",
              "    }\n",
              "\n",
              "    .dataframe thead th {\n",
              "        text-align: right;\n",
              "    }\n",
              "</style>\n",
              "<table border=\"1\" class=\"dataframe\">\n",
              "  <thead>\n",
              "    <tr style=\"text-align: right;\">\n",
              "      <th></th>\n",
              "      <th>0</th>\n",
              "    </tr>\n",
              "  </thead>\n",
              "  <tbody>\n",
              "    <tr>\n",
              "      <td>0</td>\n",
              "      <td>z</td>\n",
              "    </tr>\n",
              "    <tr>\n",
              "      <td>1</td>\n",
              "      <td>b</td>\n",
              "    </tr>\n",
              "    <tr>\n",
              "      <td>2</td>\n",
              "      <td>c</td>\n",
              "    </tr>\n",
              "  </tbody>\n",
              "</table>\n",
              "</div>"
            ],
            "text/plain": [
              "   0\n",
              "0  z\n",
              "1  b\n",
              "2  c"
            ]
          },
          "metadata": {
            "tags": []
          },
          "execution_count": 46
        }
      ]
    },
    {
      "cell_type": "code",
      "metadata": {
        "id": "iazMPkrEBqIM"
      },
      "source": [
        ""
      ],
      "execution_count": null,
      "outputs": []
    }
  ]
}