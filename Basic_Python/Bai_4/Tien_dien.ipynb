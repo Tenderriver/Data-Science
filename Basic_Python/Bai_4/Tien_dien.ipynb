{
 "cells": [
  {
   "cell_type": "code",
   "execution_count": 2,
   "id": "c94bbf14",
   "metadata": {},
   "outputs": [
    {
     "name": "stdout",
     "output_type": "stream",
     "text": [
      "Nhap so kw dien tieu thu: 300\n",
      "Tien dien phai tra:  553650\n"
     ]
    }
   ],
   "source": [
    "tien_dien=eval(input(\"Nhap so kw dien tieu thu: \"))\n",
    "if tien_dien <=50:\n",
    "    so_tien=tien_dien*1484\n",
    "    \n",
    "elif tien_dien <=100:\n",
    "    so_tien= 50*1484 + (tien_dien-50)*1533\n",
    "    \n",
    "elif tien_dien <=200:\n",
    "    so_tien= 50*1484 + 50*1533 + (tien_dien-100)*1786\n",
    "    \n",
    "elif tien_dien <=300:\n",
    "    so_tien= 50*1484 + 50*1533 + 100*1786 + (tien_dien-200)*2242\n",
    "   \n",
    "elif tien_dien <=400:\n",
    "    so_tien= 50*1484 + 50*1533 + 100*1786+ 100*2242 + (tien_dien-300)*2503\n",
    "    \n",
    "else:\n",
    "    so_tien= 50*1484 + 50*1533 + 100*1786+ 100*2242 + 100*2503 + (tien_dien-400)*2587\n",
    "print(\"Tien dien phai tra: \", so_tien)"
   ]
  },
  {
   "cell_type": "code",
   "execution_count": null,
   "id": "18f0fe64",
   "metadata": {},
   "outputs": [],
   "source": []
  }
 ],
 "metadata": {
  "kernelspec": {
   "display_name": "Python 3",
   "language": "python",
   "name": "python3"
  },
  "language_info": {
   "codemirror_mode": {
    "name": "ipython",
    "version": 3
   },
   "file_extension": ".py",
   "mimetype": "text/x-python",
   "name": "python",
   "nbconvert_exporter": "python",
   "pygments_lexer": "ipython3",
   "version": "3.8.8"
  }
 },
 "nbformat": 4,
 "nbformat_minor": 5
}
