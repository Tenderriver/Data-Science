{
 "cells": [
  {
   "cell_type": "code",
   "execution_count": null,
   "id": "9b6e1701",
   "metadata": {},
   "outputs": [],
   "source": [
    "a=eval(input(\"Nhap vao 1 so bat ky: \"))\n",
    "print (\"Gia tri tuyet doi: \", abs(a))"
   ]
  },
  {
   "cell_type": "code",
   "execution_count": null,
   "id": "94948213",
   "metadata": {},
   "outputs": [],
   "source": [
    "a=\"hello girl\"\n",
    "b=a.split(\" \")\n",
    "print(b)\n",
    "for i in b:\n",
    "    print(i[::-1], end=\" \")\n",
    "    \n",
    "\n"
   ]
  },
  {
   "cell_type": "code",
   "execution_count": null,
   "id": "fd3b8b8b",
   "metadata": {},
   "outputs": [],
   "source": [
    "s=0\n",
    "a=\"\"\n",
    "n=10\n",
    "for i in range(1,n+1):\n",
    "    if i>1:\n",
    "        for j in range(2,i):\n",
    "            if i%j==0:\n",
    "                break\n",
    "        else:\n",
    "            s+=i\n",
    "            a+= str(i)+\" + \"\n",
    "print(f'S= {a[:-3]} = {s}')"
   ]
  },
  {
   "cell_type": "code",
   "execution_count": null,
   "id": "4fe653d8",
   "metadata": {},
   "outputs": [],
   "source": [
    "def tinh(a,*b):\n",
    "    s=a\n",
    "    for i in b:\n",
    "        s+=i\n",
    "    return s\n",
    "\n",
    "ls=[2,4]\n",
    "tinh(1,*ls)"
   ]
  },
  {
   "cell_type": "code",
   "execution_count": 1,
   "id": "edc6369a",
   "metadata": {},
   "outputs": [],
   "source": [
    "import sys"
   ]
  },
  {
   "cell_type": "code",
   "execution_count": 7,
   "id": "e5acb777",
   "metadata": {},
   "outputs": [
    {
     "data": {
      "text/plain": [
       "['C:\\\\Users\\\\gtp43728\\\\OneDrive - GSK\\\\Desktop\\\\New folder\\\\Python\\\\Bai_6',\n",
       " 'C:\\\\Users\\\\gtp43728\\\\Anaconda3\\\\python38.zip',\n",
       " 'C:\\\\Users\\\\gtp43728\\\\Anaconda3\\\\DLLs',\n",
       " 'C:\\\\Users\\\\gtp43728\\\\Anaconda3\\\\lib',\n",
       " 'C:\\\\Users\\\\gtp43728\\\\Anaconda3',\n",
       " '',\n",
       " 'C:\\\\Users\\\\gtp43728\\\\Anaconda3\\\\lib\\\\site-packages',\n",
       " 'C:\\\\Users\\\\gtp43728\\\\Anaconda3\\\\lib\\\\site-packages\\\\locket-0.2.1-py3.8.egg',\n",
       " 'C:\\\\Users\\\\gtp43728\\\\Anaconda3\\\\lib\\\\site-packages\\\\win32',\n",
       " 'C:\\\\Users\\\\gtp43728\\\\Anaconda3\\\\lib\\\\site-packages\\\\win32\\\\lib',\n",
       " 'C:\\\\Users\\\\gtp43728\\\\Anaconda3\\\\lib\\\\site-packages\\\\Pythonwin',\n",
       " 'C:\\\\Users\\\\gtp43728\\\\Anaconda3\\\\lib\\\\site-packages\\\\IPython\\\\extensions',\n",
       " 'C:\\\\Users\\\\gtp43728\\\\.ipython',\n",
       " ' ../',\n",
       " '../']"
      ]
     },
     "execution_count": 7,
     "metadata": {},
     "output_type": "execute_result"
    }
   ],
   "source": [
    "sys.path"
   ]
  },
  {
   "cell_type": "code",
   "execution_count": 6,
   "id": "f406ef38",
   "metadata": {},
   "outputs": [],
   "source": [
    "sys.path.append('../')"
   ]
  },
  {
   "cell_type": "code",
   "execution_count": 11,
   "id": "a0b14d69",
   "metadata": {},
   "outputs": [],
   "source": [
    "import Bai_9.ham_bai_5 as a"
   ]
  },
  {
   "cell_type": "code",
   "execution_count": 13,
   "id": "61e3fbe4",
   "metadata": {},
   "outputs": [
    {
     "name": "stdout",
     "output_type": "stream",
     "text": [
      "1 x 1 =  1\t2 x 1 =  2\t3 x 1 =  3\t4 x 1 =  4\t5 x 1 =  5\t6 x 1 =  6\t7 x 1 =  7\t\n",
      "\n",
      "1 x 2 =  2\t2 x 2 =  4\t3 x 2 =  6\t4 x 2 =  8\t5 x 2 = 10\t6 x 2 = 12\t7 x 2 = 14\t\n",
      "\n",
      "1 x 3 =  3\t2 x 3 =  6\t3 x 3 =  9\t4 x 3 = 12\t5 x 3 = 15\t6 x 3 = 18\t7 x 3 = 21\t\n",
      "\n",
      "1 x 4 =  4\t2 x 4 =  8\t3 x 4 = 12\t4 x 4 = 16\t5 x 4 = 20\t6 x 4 = 24\t7 x 4 = 28\t\n",
      "\n",
      "1 x 5 =  5\t2 x 5 = 10\t3 x 5 = 15\t4 x 5 = 20\t5 x 5 = 25\t6 x 5 = 30\t7 x 5 = 35\t\n",
      "\n",
      "1 x 6 =  6\t2 x 6 = 12\t3 x 6 = 18\t4 x 6 = 24\t5 x 6 = 30\t6 x 6 = 36\t7 x 6 = 42\t\n",
      "\n",
      "1 x 7 =  7\t2 x 7 = 14\t3 x 7 = 21\t4 x 7 = 28\t5 x 7 = 35\t6 x 7 = 42\t7 x 7 = 49\t\n",
      "\n",
      "1 x 8 =  8\t2 x 8 = 16\t3 x 8 = 24\t4 x 8 = 32\t5 x 8 = 40\t6 x 8 = 48\t7 x 8 = 56\t\n",
      "\n",
      "1 x 9 =  9\t2 x 9 = 18\t3 x 9 = 27\t4 x 9 = 36\t5 x 9 = 45\t6 x 9 = 54\t7 x 9 = 63\t\n",
      "\n"
     ]
    }
   ],
   "source": [
    "a.bang_cuu_chuong(1,7)"
   ]
  },
  {
   "cell_type": "code",
   "execution_count": null,
   "id": "6c112510",
   "metadata": {},
   "outputs": [],
   "source": []
  }
 ],
 "metadata": {
  "kernelspec": {
   "display_name": "Python 3",
   "language": "python",
   "name": "python3"
  },
  "language_info": {
   "codemirror_mode": {
    "name": "ipython",
    "version": 3
   },
   "file_extension": ".py",
   "mimetype": "text/x-python",
   "name": "python",
   "nbconvert_exporter": "python",
   "pygments_lexer": "ipython3",
   "version": "3.8.8"
  }
 },
 "nbformat": 4,
 "nbformat_minor": 5
}
