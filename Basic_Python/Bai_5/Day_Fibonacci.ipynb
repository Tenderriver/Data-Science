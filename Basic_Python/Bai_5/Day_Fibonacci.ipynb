{
 "cells": [
  {
   "cell_type": "code",
   "execution_count": null,
   "id": "70cd1a14",
   "metadata": {},
   "outputs": [],
   "source": [
    "n = int(input(\"Nhap so nguyen n: \"))\n",
    "a=0\n",
    "b=1\n",
    "print (a, b, end=\" \")\n",
    "for i in range (3, n+1):\n",
    "    c=a+b\n",
    "    print (c, end= \" \")\n",
    "    a,b=b,c\n",
    "    \n"
   ]
  },
  {
   "cell_type": "code",
   "execution_count": 9,
   "id": "b454dc0a",
   "metadata": {},
   "outputs": [
    {
     "name": "stdout",
     "output_type": "stream",
     "text": [
      "Nhap tu bat ky: ghina\n",
      "a n i h g "
     ]
    }
   ],
   "source": [
    "a = input (\"Nhap tu bat ky: \")\n",
    "for i in range(-1,-len(a)-1,-1):\n",
    "    print(a[i], end=\" \")"
   ]
  },
  {
   "cell_type": "code",
   "execution_count": null,
   "id": "dbed45db",
   "metadata": {},
   "outputs": [],
   "source": []
  },
  {
   "cell_type": "code",
   "execution_count": null,
   "id": "7500a069",
   "metadata": {},
   "outputs": [],
   "source": []
  }
 ],
 "metadata": {
  "kernelspec": {
   "display_name": "Python 3",
   "language": "python",
   "name": "python3"
  },
  "language_info": {
   "codemirror_mode": {
    "name": "ipython",
    "version": 3
   },
   "file_extension": ".py",
   "mimetype": "text/x-python",
   "name": "python",
   "nbconvert_exporter": "python",
   "pygments_lexer": "ipython3",
   "version": "3.8.8"
  }
 },
 "nbformat": 4,
 "nbformat_minor": 5
}
