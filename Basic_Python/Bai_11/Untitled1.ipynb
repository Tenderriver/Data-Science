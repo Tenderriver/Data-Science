{
 "cells": [
  {
   "cell_type": "code",
   "execution_count": null,
   "id": "992d3df7",
   "metadata": {},
   "outputs": [],
   "source": [
    "import csv\n",
    "def read_csv(filename):\n",
    "    f1=open(filename)\n",
    "    data=[]\n",
    "    for i in csv.reader(f1):\n",
    "        data.append(i)\n",
    "    f1.close\n",
    "    return data\n",
    "def write_csv(filename,content):\n",
    "    f2=open(filename,'a',newline='')\n",
    "    for i in content:\n",
    "        csv.writer(f2).writerow(i)\n",
    "    f2.close\n",
    "file = input(\"Nhap ten file:\\n\")\n",
    "dt = read_csv(file)\n",
    "write_csv(file,dt)\n"
   ]
  },
  {
   "cell_type": "code",
   "execution_count": 14,
   "id": "8f0846db",
   "metadata": {},
   "outputs": [
    {
     "name": "stdout",
     "output_type": "stream",
     "text": [
      "Ban co muon cap nhat danh ba khong (1:co,0: khong): 1\n",
      "Nhap ten: Giang\n",
      "Nhap so dien thoai: 090\n",
      "Tiếp tục lựa chọn? 1: Có; 0: Không\t1\n",
      "Nhap ten: Bao\n",
      "Nhap so dien thoai: 091\n",
      "Tiếp tục lựa chọn? 1: Có; 0: Không\t0\n",
      "[['Giang', '090'], ['Bao', '091']]\n"
     ]
    }
   ],
   "source": [
    "data=[]\n",
    "a=int(input(\"Ban co muon cap nhat danh ba khong (1:co,0: khong): \"))\n",
    "while a:\n",
    "    x=[]\n",
    "    x.append(input(\"Nhap ten: \"))\n",
    "    x.append(input(\"Nhap so dien thoai: \"))\n",
    "    data.append(x)\n",
    "\n",
    "    a = int(input('Tiếp tục lựa chọn? 1: Có; 0: Không\\t'))\n",
    "print(data)"
   ]
  },
  {
   "cell_type": "code",
   "execution_count": 15,
   "id": "228a6a2b",
   "metadata": {},
   "outputs": [
    {
     "name": "stdout",
     "output_type": "stream",
     "text": [
      "Nhap ten file:\n",
      "danhba.csv\n"
     ]
    }
   ],
   "source": [
    "import csv\n",
    "def write_csv(filename,content):\n",
    "    f2=open(filename,'a',newline='')\n",
    "    for i in content:\n",
    "        csv.writer(f2).writerow(i)\n",
    "    f2.close\n",
    "file = input(\"Nhap ten file:\\n\")\n",
    "write_csv(file,data)"
   ]
  },
  {
   "cell_type": "code",
   "execution_count": 10,
   "id": "a840f211",
   "metadata": {},
   "outputs": [
    {
     "name": "stdout",
     "output_type": "stream",
     "text": [
      "Nhap ten file:\n",
      "danhba.csv\n"
     ]
    },
    {
     "data": {
      "text/plain": [
       "[['Name', 'Fone'],\n",
       " ['Sarah', '0989 788951'],\n",
       " ['Daisy', '0973 329496'],\n",
       " ['Owthen', '0773 700951'],\n",
       " ['Lee', '0383 900852'],\n",
       " ['Name', 'Fone'],\n",
       " ['Sarah', '0989 788951'],\n",
       " ['Daisy', '0973 329496'],\n",
       " ['Owthen', '0773 700951'],\n",
       " ['Lee', '0383 900852'],\n",
       " ['g', 'i', 'a', 'n', 'g', ',', '0', '9', '0'],\n",
       " ['b', 'a', 'o', ',', '0', '9', '1'],\n",
       " ['k', 'h', 'u', 'e', ',', '0', '9']]"
      ]
     },
     "execution_count": 10,
     "metadata": {},
     "output_type": "execute_result"
    }
   ],
   "source": [
    "import csv\n",
    "def read_csv(filename):\n",
    "    f1=open(filename)\n",
    "    data1=[]\n",
    "    for i in csv.reader(f1):\n",
    "        data1.append(i)\n",
    "    f1.close\n",
    "    return data1\n",
    "file = input(\"Nhap ten file:\\n\")\n",
    "read_csv(file)"
   ]
  },
  {
   "cell_type": "code",
   "execution_count": 11,
   "id": "48964c85",
   "metadata": {},
   "outputs": [
    {
     "ename": "AttributeError",
     "evalue": "'list' object has no attribute 'split'",
     "output_type": "error",
     "traceback": [
      "\u001b[1;31m---------------------------------------------------------------------------\u001b[0m",
      "\u001b[1;31mAttributeError\u001b[0m                            Traceback (most recent call last)",
      "\u001b[1;32m<ipython-input-11-b13456d6bf69>\u001b[0m in \u001b[0;36m<module>\u001b[1;34m\u001b[0m\n\u001b[1;32m----> 1\u001b[1;33m \u001b[0mdata2\u001b[0m\u001b[1;33m=\u001b[0m\u001b[0mdata\u001b[0m\u001b[1;33m.\u001b[0m\u001b[0msplit\u001b[0m\u001b[1;33m(\u001b[0m\u001b[1;34m\" \"\u001b[0m\u001b[1;33m)\u001b[0m\u001b[1;33m\u001b[0m\u001b[1;33m\u001b[0m\u001b[0m\n\u001b[0m\u001b[0;32m      2\u001b[0m \u001b[0mprint\u001b[0m\u001b[1;33m(\u001b[0m\u001b[0mdata2\u001b[0m\u001b[1;33m)\u001b[0m\u001b[1;33m\u001b[0m\u001b[1;33m\u001b[0m\u001b[0m\n",
      "\u001b[1;31mAttributeError\u001b[0m: 'list' object has no attribute 'split'"
     ]
    }
   ],
   "source": [
    "data2=data.split(\" \")\n",
    "print(data2)"
   ]
  },
  {
   "cell_type": "code",
   "execution_count": null,
   "id": "9fcb1d5f",
   "metadata": {},
   "outputs": [],
   "source": []
  }
 ],
 "metadata": {
  "kernelspec": {
   "display_name": "Python 3",
   "language": "python",
   "name": "python3"
  },
  "language_info": {
   "codemirror_mode": {
    "name": "ipython",
    "version": 3
   },
   "file_extension": ".py",
   "mimetype": "text/x-python",
   "name": "python",
   "nbconvert_exporter": "python",
   "pygments_lexer": "ipython3",
   "version": "3.8.8"
  }
 },
 "nbformat": 4,
 "nbformat_minor": 5
}
