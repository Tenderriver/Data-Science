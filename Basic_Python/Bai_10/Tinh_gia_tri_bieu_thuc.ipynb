{
 "cells": [
  {
   "cell_type": "code",
   "execution_count": 8,
   "id": "d580b41d",
   "metadata": {},
   "outputs": [
    {
     "ename": "SyntaxError",
     "evalue": "EOL while scanning string literal (<ipython-input-8-16de511b753e>, line 14)",
     "output_type": "error",
     "traceback": [
      "\u001b[1;36m  File \u001b[1;32m\"<ipython-input-8-16de511b753e>\"\u001b[1;36m, line \u001b[1;32m14\u001b[0m\n\u001b[1;33m    print (\"A=\",A\")\u001b[0m\n\u001b[1;37m                   ^\u001b[0m\n\u001b[1;31mSyntaxError\u001b[0m\u001b[1;31m:\u001b[0m EOL while scanning string literal\n"
     ]
    }
   ],
   "source": [
    "import math\n",
    "try:\n",
    "    x=eval(input(\"Nhap x: \"))\n",
    "    y=eval(input(\"Nhap y: \"))\n",
    "    if (2*x+7*y) ==0:\n",
    "        raise ZeroDivisionError(\"2x+7y must be difference 0\")\n",
    "    A=math.sqrt((5*x-y)/(2*x+7*y))\n",
    "except ZeroDivisionError as er1:\n",
    "    print(\"Error: \", er1)\n",
    "except NameError as er2:\n",
    "    print(\"Error: \", er2)\n",
    "    print(\"A=None\")\n",
    "else:\n",
    "    print (\"A=\",A)"
   ]
  },
  {
   "cell_type": "markdown",
   "id": "1cb0caac",
   "metadata": {},
   "source": [
    "\n"
   ]
  },
  {
   "cell_type": "code",
   "execution_count": 2,
   "id": "03cc20b2",
   "metadata": {},
   "outputs": [
    {
     "name": "stdout",
     "output_type": "stream",
     "text": [
      "Nhap x: 7\n",
      "Nhap y: -2\n",
      "Error:  2x+7y must be difference 0\n"
     ]
    }
   ],
   "source": [
    "import math\n",
    "def A(x,y):\n",
    "    try:\n",
    "        if (2*x+7*y) ==0:\n",
    "            raise ZeroDivisionError(\"2x+7y must be difference 0\")\n",
    "        A=math.sqrt((5*x-y)/(2*x+7*y))\n",
    "    except ZeroDivisionError as er1:\n",
    "        print(\"Error: \", er1)\n",
    "    except NameError as er2:\n",
    "        print(\"Error: \", er2)\n",
    "        print(\"A=None\")\n",
    "    else:\n",
    "        print (A)\n",
    "x=eval(input(\"Nhap x: \"))\n",
    "y=eval(input(\"Nhap y: \"))\n",
    "A(x,y)"
   ]
  },
  {
   "cell_type": "code",
   "execution_count": null,
   "id": "ac437991",
   "metadata": {},
   "outputs": [],
   "source": []
  }
 ],
 "metadata": {
  "kernelspec": {
   "display_name": "Python 3",
   "language": "python",
   "name": "python3"
  },
  "language_info": {
   "codemirror_mode": {
    "name": "ipython",
    "version": 3
   },
   "file_extension": ".py",
   "mimetype": "text/x-python",
   "name": "python",
   "nbconvert_exporter": "python",
   "pygments_lexer": "ipython3",
   "version": "3.8.8"
  }
 },
 "nbformat": 4,
 "nbformat_minor": 5
}
