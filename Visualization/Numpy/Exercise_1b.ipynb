{
 "cells": [
  {
   "cell_type": "code",
   "execution_count": 1,
   "id": "2388e8a1",
   "metadata": {},
   "outputs": [],
   "source": [
    "import numpy as np"
   ]
  },
  {
   "cell_type": "code",
   "execution_count": 10,
   "id": "cc219714",
   "metadata": {},
   "outputs": [
    {
     "name": "stdout",
     "output_type": "stream",
     "text": [
      "[2 4]\n"
     ]
    }
   ],
   "source": [
    "#Cho 2 array arr_a = [1,2,3,2,3,4,3,4,5,6] và arr_b = [7,2,10,2,7,4,9,4,9,8]\n",
    "#Tạo array arr_c chỉ lấy duy nhất các phần tử xuất hiện ở cả arr_a và arr_b.\n",
    "arr_a= np.array([1,2,3,2,3,4,3,4,5,6])\n",
    "arr_b= np.array([7,2,10,2,7,4,9,4,9,8])\n",
    "indexes=np.where(arr_a==arr_b)\n",
    "print(np.unique(arr_a[indexes]))"
   ]
  },
  {
   "cell_type": "code",
   "execution_count": 9,
   "id": "53f3877d",
   "metadata": {},
   "outputs": [
    {
     "name": "stdout",
     "output_type": "stream",
     "text": [
      "[1 3 5 6]\n"
     ]
    }
   ],
   "source": [
    "#Từ arr_a và arr_b ở câu 1 => Tạo arr_d chứa các phần tử chỉ xuất hiện ở arr_a.\n",
    "indexes=np.where(arr_a!=arr_b)\n",
    "arr_d=np.unique(arr_a[indexes])\n",
    "print(arr_d)"
   ]
  },
  {
   "cell_type": "code",
   "execution_count": 11,
   "id": "43d069b3",
   "metadata": {},
   "outputs": [
    {
     "name": "stdout",
     "output_type": "stream",
     "text": [
      "[ 6  9 10  8  6]\n"
     ]
    }
   ],
   "source": [
    "# Câu 3: Cho array arr_e = np.array([2, 6, 1, 9, 10, 3, 27, 8, 6, 25, 16]) \n",
    "# Tạo array arr_f chỉ chứa các phần tử có giá trị từ 5 đến 10 của arr_e\n",
    "arr_e = np.array([2, 6, 1, 9, 10, 3, 27, 8, 6, 25, 16])\n",
    "arr_f=arr_e[(arr_e>=5)&(arr_e<=10)]\n",
    "print(arr_f)\n"
   ]
  },
  {
   "cell_type": "code",
   "execution_count": null,
   "id": "deec1d34",
   "metadata": {},
   "outputs": [],
   "source": []
  }
 ],
 "metadata": {
  "kernelspec": {
   "display_name": "Python 3",
   "language": "python",
   "name": "python3"
  },
  "language_info": {
   "codemirror_mode": {
    "name": "ipython",
    "version": 3
   },
   "file_extension": ".py",
   "mimetype": "text/x-python",
   "name": "python",
   "nbconvert_exporter": "python",
   "pygments_lexer": "ipython3",
   "version": "3.8.8"
  }
 },
 "nbformat": 4,
 "nbformat_minor": 5
}
