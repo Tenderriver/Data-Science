{
 "cells": [
  {
   "cell_type": "code",
   "execution_count": 2,
   "id": "ccdb1b17",
   "metadata": {},
   "outputs": [
    {
     "name": "stdout",
     "output_type": "stream",
     "text": [
      "Nhap gia tri x: 2\n",
      "Nhap gia tri n: 2\n",
      "S=(x2+1)^n= 25\n"
     ]
    }
   ],
   "source": [
    "x= eval(input(\"Nhap gia tri x: \"))\n",
    "n= eval(input(\"Nhap gia tri n: \"))\n",
    "print (\"S=(x2+1)^n=\", pow((x*x)+1,n))"
   ]
  },
  {
   "cell_type": "code",
   "execution_count": null,
   "id": "ed0aacc9",
   "metadata": {},
   "outputs": [],
   "source": []
  }
 ],
 "metadata": {
  "kernelspec": {
   "display_name": "Python 3",
   "language": "python",
   "name": "python3"
  },
  "language_info": {
   "codemirror_mode": {
    "name": "ipython",
    "version": 3
   },
   "file_extension": ".py",
   "mimetype": "text/x-python",
   "name": "python",
   "nbconvert_exporter": "python",
   "pygments_lexer": "ipython3",
   "version": "3.8.8"
  }
 },
 "nbformat": 4,
 "nbformat_minor": 5
}
