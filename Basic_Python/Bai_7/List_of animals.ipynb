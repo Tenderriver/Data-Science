{
 "cells": [
  {
   "cell_type": "code",
   "execution_count": 11,
   "id": "287161bc",
   "metadata": {},
   "outputs": [
    {
     "name": "stdout",
     "output_type": "stream",
     "text": [
      "Number of animals: 8\n",
      "I want to find: tiger\n",
      "There is no tiger in list of animal\n"
     ]
    }
   ],
   "source": [
    "list_animal = ['ant', 'bear', 'cat', 'dog', 'elephant', 'fish', 'goat', 'hippo']\n",
    "print(\"Number of animals:\", len(list_animal))\n",
    "b=input(\"I want to find: \")\n",
    "\n",
    "print(f\"There is {b} in list of animal\") if b in list_animal else  print(f\"There is no {b} in list of animal\")"
   ]
  },
  {
   "cell_type": "code",
   "execution_count": null,
   "id": "90897e4e",
   "metadata": {},
   "outputs": [],
   "source": []
  }
 ],
 "metadata": {
  "kernelspec": {
   "display_name": "Python 3",
   "language": "python",
   "name": "python3"
  },
  "language_info": {
   "codemirror_mode": {
    "name": "ipython",
    "version": 3
   },
   "file_extension": ".py",
   "mimetype": "text/x-python",
   "name": "python",
   "nbconvert_exporter": "python",
   "pygments_lexer": "ipython3",
   "version": "3.8.8"
  }
 },
 "nbformat": 4,
 "nbformat_minor": 5
}
