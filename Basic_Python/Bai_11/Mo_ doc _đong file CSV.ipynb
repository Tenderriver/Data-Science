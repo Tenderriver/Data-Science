{
 "cells": [
  {
   "cell_type": "code",
   "execution_count": 2,
   "id": "ee0c4ab4",
   "metadata": {},
   "outputs": [],
   "source": [
    "import csv"
   ]
  },
  {
   "cell_type": "code",
   "execution_count": 11,
   "id": "84094062",
   "metadata": {},
   "outputs": [
    {
     "name": "stdout",
     "output_type": "stream",
     "text": [
      "['Monday', 'ham', 'biscuits', 'corn', 'spinach', 'apple pie']\n",
      "['Tuesday', 'steak', 'rolls', 'yams', 'beets', 'crÃ¨me brulee']\n",
      "['Wednesday', 'fried chicken', 'biscuits', 'mashed potatoes', 'cole slaw', 'vanilla ice cream']\n",
      "['Thursday', 'clam rolls', 'tartar sauce', 'french fries', 'ice tea', 'chocolate ice cream']\n",
      "['Friday', 'meat loaf', 'biscuits', 'lima beans', 'garden salad', 'chocolate cake']\n",
      "[['Monday', 'ham', 'biscuits', 'corn', 'spinach', 'apple pie'], ['Tuesday', 'steak', 'rolls', 'yams', 'beets', 'crÃ¨me brulee'], ['Wednesday', 'fried chicken', 'biscuits', 'mashed potatoes', 'cole slaw', 'vanilla ice cream'], ['Thursday', 'clam rolls', 'tartar sauce', 'french fries', 'ice tea', 'chocolate ice cream'], ['Friday', 'meat loaf', 'biscuits', 'lima beans', 'garden salad', 'chocolate cake']]\n"
     ]
    }
   ],
   "source": [
    "f=open('menu.csv')\n",
    "lst=[]\n",
    "for i in csv.reader(f):\n",
    "    print(i)\n",
    "    lst.append(i)\n",
    "f.close\n",
    "print(lst)"
   ]
  },
  {
   "cell_type": "code",
   "execution_count": null,
   "id": "d537f95b",
   "metadata": {},
   "outputs": [],
   "source": []
  }
 ],
 "metadata": {
  "kernelspec": {
   "display_name": "Python 3",
   "language": "python",
   "name": "python3"
  },
  "language_info": {
   "codemirror_mode": {
    "name": "ipython",
    "version": 3
   },
   "file_extension": ".py",
   "mimetype": "text/x-python",
   "name": "python",
   "nbconvert_exporter": "python",
   "pygments_lexer": "ipython3",
   "version": "3.8.8"
  }
 },
 "nbformat": 4,
 "nbformat_minor": 5
}
