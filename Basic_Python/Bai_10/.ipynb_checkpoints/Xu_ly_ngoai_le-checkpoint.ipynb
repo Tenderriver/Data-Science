{
 "cells": [
  {
   "cell_type": "code",
   "execution_count": 4,
   "id": "686d25ab",
   "metadata": {},
   "outputs": [
    {
     "name": "stdout",
     "output_type": "stream",
     "text": [
      "Gia tri la: a\n",
      "Error:  invalid literal for int() with base 10: 'a'\n",
      "Gia tri la: 0\n",
      "Error:  division by zero\n",
      "Gia tri la: 1\n",
      "Ket qua cua gia tri 1 la 1.00\n"
     ]
    }
   ],
   "source": [
    "random_list=[\"a\",0,1]\n",
    "def gt(i):\n",
    "    try:\n",
    "        print(\"Gia tri la:\", i)\n",
    "        r= 1/int(i)\n",
    "        print(f'Ket qua cua gia tri {i} la {r:.2f}')\n",
    "    except ValueError as er1:\n",
    "        print('Error: ',er1)\n",
    "    except ZeroDivisionError as er2:\n",
    "        print('Error: ',er2)\n",
    "for j in random_list:\n",
    "    gt(j)"
   ]
  },
  {
   "cell_type": "code",
   "execution_count": null,
   "id": "fdf16541",
   "metadata": {},
   "outputs": [],
   "source": []
  }
 ],
 "metadata": {
  "kernelspec": {
   "display_name": "Python 3",
   "language": "python",
   "name": "python3"
  },
  "language_info": {
   "codemirror_mode": {
    "name": "ipython",
    "version": 3
   },
   "file_extension": ".py",
   "mimetype": "text/x-python",
   "name": "python",
   "nbconvert_exporter": "python",
   "pygments_lexer": "ipython3",
   "version": "3.8.8"
  }
 },
 "nbformat": 4,
 "nbformat_minor": 5
}
