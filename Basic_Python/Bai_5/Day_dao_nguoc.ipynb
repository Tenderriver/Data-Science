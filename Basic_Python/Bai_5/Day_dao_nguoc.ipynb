{
 "cells": [
  {
   "cell_type": "code",
   "execution_count": 12,
   "id": "8fc42b32",
   "metadata": {},
   "outputs": [
    {
     "name": "stdout",
     "output_type": "stream",
     "text": [
      "Nhap tu bat ky: hello girl\n"
     ]
    },
    {
     "data": {
      "text/plain": [
       "'r'"
      ]
     },
     "execution_count": 12,
     "metadata": {},
     "output_type": "execute_result"
    }
   ],
   "source": [
    "a = input(\"Nhap tu bat ky: \")\n",
    "b=[]\n",
    "b=a.split(\" \")\n",
    "b[1][2]"
   ]
  },
  {
   "cell_type": "code",
   "execution_count": 19,
   "id": "91e327a0",
   "metadata": {},
   "outputs": [
    {
     "name": "stdout",
     "output_type": "stream",
     "text": [
      "olleh lrig "
     ]
    }
   ],
   "source": [
    "for i in range(len(b)):\n",
    "    for j in range(-1,-len(b[i])-1,-1):\n",
    "        print (b[i][j], end=\"\")\n",
    "    print(end=' ')"
   ]
  },
  {
   "cell_type": "code",
   "execution_count": null,
   "id": "a6a3182e",
   "metadata": {},
   "outputs": [],
   "source": []
  }
 ],
 "metadata": {
  "kernelspec": {
   "display_name": "Python 3",
   "language": "python",
   "name": "python3"
  },
  "language_info": {
   "codemirror_mode": {
    "name": "ipython",
    "version": 3
   },
   "file_extension": ".py",
   "mimetype": "text/x-python",
   "name": "python",
   "nbconvert_exporter": "python",
   "pygments_lexer": "ipython3",
   "version": "3.8.8"
  }
 },
 "nbformat": 4,
 "nbformat_minor": 5
}
