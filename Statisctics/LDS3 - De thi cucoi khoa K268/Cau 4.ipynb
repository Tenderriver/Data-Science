{
 "cells": [
  {
   "cell_type": "markdown",
   "id": "fcb6fbba",
   "metadata": {},
   "source": [
    "Câu 4. Thống kê mô tả (1 điểm)\n",
    "Một vận động viên bơi lội 200m hỗn hợp có thành tích như sau:\n",
    "50m bơi bướm với vận tốc 1.92m/s,\n",
    "50m bơi ngửa với vận tốc 1.67m/s,\n",
    "50m bơi ếch với vận tốc 1.56m/s,\n",
    "50m bơi tự do với vận tốc 1.85m/s,\n",
    "Hãy dùng hàm tính giá trị trung bình của Python để tính vận tốc trung bình của vận động viên."
   ]
  },
  {
   "cell_type": "code",
   "execution_count": 7,
   "id": "03102abf",
   "metadata": {},
   "outputs": [
    {
     "data": {
      "text/plain": [
       "1.738222092736907"
      ]
     },
     "execution_count": 7,
     "metadata": {},
     "output_type": "execute_result"
    }
   ],
   "source": [
    "import statistics\n",
    "\n",
    "statistics.harmonic_mean([1.92,1.67,1.56,1.85])"
   ]
  },
  {
   "cell_type": "code",
   "execution_count": null,
   "id": "d88cea43",
   "metadata": {},
   "outputs": [],
   "source": []
  }
 ],
 "metadata": {
  "kernelspec": {
   "display_name": "Python 3",
   "language": "python",
   "name": "python3"
  },
  "language_info": {
   "codemirror_mode": {
    "name": "ipython",
    "version": 3
   },
   "file_extension": ".py",
   "mimetype": "text/x-python",
   "name": "python",
   "nbconvert_exporter": "python",
   "pygments_lexer": "ipython3",
   "version": "3.8.8"
  }
 },
 "nbformat": 4,
 "nbformat_minor": 5
}
