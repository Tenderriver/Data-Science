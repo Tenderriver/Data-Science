{
 "cells": [
  {
   "cell_type": "code",
   "execution_count": 3,
   "id": "3320a547",
   "metadata": {},
   "outputs": [
    {
     "name": "stdout",
     "output_type": "stream",
     "text": [
      "Nhap so nguyen n: 4\n",
      "Nhap so thuc x: 2\n",
      "s=(x*x + 1)^n= 625.0\n"
     ]
    }
   ],
   "source": [
    "n= int(input(\"Nhap so nguyen n: \"))\n",
    "x= float(input(\"Nhap so thuc x: \"))\n",
    "s=1\n",
    "while n > 0:\n",
    "    s *=(x*x+1)\n",
    "    n-=1\n",
    "print (\"s=(x*x + 1)^n=\", s)"
   ]
  },
  {
   "cell_type": "code",
   "execution_count": null,
   "id": "b8f5e181",
   "metadata": {},
   "outputs": [],
   "source": []
  },
  {
   "cell_type": "code",
   "execution_count": null,
   "id": "eb8ee7fd",
   "metadata": {},
   "outputs": [],
   "source": []
  }
 ],
 "metadata": {
  "kernelspec": {
   "display_name": "Python 3",
   "language": "python",
   "name": "python3"
  },
  "language_info": {
   "codemirror_mode": {
    "name": "ipython",
    "version": 3
   },
   "file_extension": ".py",
   "mimetype": "text/x-python",
   "name": "python",
   "nbconvert_exporter": "python",
   "pygments_lexer": "ipython3",
   "version": "3.8.8"
  }
 },
 "nbformat": 4,
 "nbformat_minor": 5
}
