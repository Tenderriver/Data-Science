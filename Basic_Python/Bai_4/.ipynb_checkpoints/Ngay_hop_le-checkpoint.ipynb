{
 "cells": [
  {
   "cell_type": "code",
   "execution_count": 11,
   "id": "f4afd1e8",
   "metadata": {},
   "outputs": [
    {
     "name": "stdout",
     "output_type": "stream",
     "text": [
      "Nhap ngay: 31\n",
      "Nhap thang bang so: 4\n",
      "Nhap nam: 2000\n",
      "Ngay thang nam vua nhap khong hop le\n"
     ]
    }
   ],
   "source": [
    "a=0\n",
    "ngay = int (input ('Nhap ngay: '))\n",
    "thang = int (input ('Nhap thang bang so: '))\n",
    "nam = int (input ('Nhap nam: '))\n",
    "if thang >=1 and thang <=12 and ngay >=0:\n",
    "    if thang== 1 and ngay == 31: \n",
    "        a=a+1\n",
    "    elif thang== 2:\n",
    "        if nam % 4==0 and ngay <=29:\n",
    "            a=a+1\n",
    "        if nam % 4!=0 and ngay <=28:\n",
    "            a=a+1\n",
    "    elif thang ==4 or thang ==6 or thang==9 or thang==11:\n",
    "        if ngay <= 30:\n",
    "            a=a+1\n",
    "    else:\n",
    "        if ngay <= 31:\n",
    "            a=a+1\n",
    "if a==1: print (\"Ngay thang nam vua nhap hop le la:\", ngay, \"/\", thang, \"/\", nam)\n",
    "else:\n",
    "    print (\"Ngay thang nam vua nhap khong hop le\")"
   ]
  },
  {
   "cell_type": "code",
   "execution_count": null,
   "id": "650833f8",
   "metadata": {},
   "outputs": [],
   "source": []
  },
  {
   "cell_type": "code",
   "execution_count": null,
   "id": "b12a5e05",
   "metadata": {},
   "outputs": [],
   "source": []
  }
 ],
 "metadata": {
  "kernelspec": {
   "display_name": "Python 3",
   "language": "python",
   "name": "python3"
  },
  "language_info": {
   "codemirror_mode": {
    "name": "ipython",
    "version": 3
   },
   "file_extension": ".py",
   "mimetype": "text/x-python",
   "name": "python",
   "nbconvert_exporter": "python",
   "pygments_lexer": "ipython3",
   "version": "3.8.8"
  }
 },
 "nbformat": 4,
 "nbformat_minor": 5
}
