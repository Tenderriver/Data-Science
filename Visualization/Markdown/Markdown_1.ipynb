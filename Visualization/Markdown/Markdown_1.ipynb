{
 "cells": [
  {
   "cell_type": "markdown",
   "id": "09cafeba",
   "metadata": {},
   "source": [
    "1. [Udemy.com](https://www.udemy.com/)(https://www.udemy.com/)\n",
    "2. [BigData University](https://cognitiveclass.ai/)(https://cognitiveclass.ai/)\n",
    "3. [tuoitre.vn](https://tuoitre.vn/)(https://tuoitre.vn/)\n",
    "4. [google.com](https://www.google.com/)(https://www.google.com/)\n",
    "5. [vnexpress.net](https://vnexpress.net/)(https://vnexpress.net/)"
   ]
  },
  {
   "cell_type": "code",
   "execution_count": null,
   "id": "5a248a02",
   "metadata": {},
   "outputs": [],
   "source": []
  }
 ],
 "metadata": {
  "kernelspec": {
   "display_name": "Python 3",
   "language": "python",
   "name": "python3"
  },
  "language_info": {
   "codemirror_mode": {
    "name": "ipython",
    "version": 3
   },
   "file_extension": ".py",
   "mimetype": "text/x-python",
   "name": "python",
   "nbconvert_exporter": "python",
   "pygments_lexer": "ipython3",
   "version": "3.8.8"
  }
 },
 "nbformat": 4,
 "nbformat_minor": 5
}
