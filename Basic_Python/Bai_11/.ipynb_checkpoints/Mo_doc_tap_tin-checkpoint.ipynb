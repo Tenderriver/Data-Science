{
 "cells": [
  {
   "cell_type": "code",
   "execution_count": 1,
   "id": "2661acd2",
   "metadata": {},
   "outputs": [
    {
     "name": "stdout",
     "output_type": "stream",
     "text": [
      "Nhập tên tập tin:\n",
      "Johny.txt\n",
      "Nội dung tập tin:\n",
      "Johny, Johny\n",
      "Yes, Papa?\n",
      "Eating sugar?\n",
      "No, papa!\n",
      "Telling lies?\n",
      "No, papa!\n",
      "Open your mouth\n",
      "Ha, ha, ha!\n",
      "\n",
      "Johny, Johny\n",
      "Yes, Papa?\n",
      "Eating sugar?\n",
      "No, papa!\n",
      "Telling lies?\n",
      "No, papa!\n",
      "Open your mouth\n",
      "Ha, ha, ha!\n",
      "None\n"
     ]
    }
   ],
   "source": [
    "def read_file(filename):\n",
    "    f= open(filename,\"r+\")\n",
    "    print(f.read())\n",
    "    f.close\n",
    " \n",
    "filename = input('Nhập tên tập tin:\\n')\n",
    "print('Nội dung tập tin:')\n",
    "print(read_file(filename))\n",
    "\n"
   ]
  },
  {
   "cell_type": "code",
   "execution_count": null,
   "id": "6768c811",
   "metadata": {},
   "outputs": [],
   "source": []
  },
  {
   "cell_type": "code",
   "execution_count": null,
   "id": "b7412082",
   "metadata": {},
   "outputs": [],
   "source": []
  }
 ],
 "metadata": {
  "kernelspec": {
   "display_name": "Python 3",
   "language": "python",
   "name": "python3"
  },
  "language_info": {
   "codemirror_mode": {
    "name": "ipython",
    "version": 3
   },
   "file_extension": ".py",
   "mimetype": "text/x-python",
   "name": "python",
   "nbconvert_exporter": "python",
   "pygments_lexer": "ipython3",
   "version": "3.8.8"
  }
 },
 "nbformat": 4,
 "nbformat_minor": 5
}
