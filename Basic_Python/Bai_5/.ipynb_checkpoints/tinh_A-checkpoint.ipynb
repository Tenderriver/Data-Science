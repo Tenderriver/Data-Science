{
 "cells": [
  {
   "cell_type": "code",
   "execution_count": 1,
   "id": "ab10107c",
   "metadata": {},
   "outputs": [
    {
     "name": "stdout",
     "output_type": "stream",
     "text": [
      "Nhap so nguyen n: 2\n",
      "Nhap so thuc x: 1\n",
      "s=(x2+x+1)^n + (x2-x+1)n= 10.0\n"
     ]
    }
   ],
   "source": [
    "n= int(input(\"Nhap so nguyen n: \"))\n",
    "x= float(input(\"Nhap so thuc x: \"))\n",
    "a=1\n",
    "b=1\n",
    "while n > 0:\n",
    "    a*=(x*x+x+1)\n",
    "    b*=(x*x-x+1)\n",
    "    n-=1\n",
    "print (\"S=(x2+x+1)^n + (x2-x+1)n=\", a+b)"
   ]
  },
  {
   "cell_type": "code",
   "execution_count": null,
   "id": "1509b8b0",
   "metadata": {},
   "outputs": [],
   "source": []
  }
 ],
 "metadata": {
  "kernelspec": {
   "display_name": "Python 3",
   "language": "python",
   "name": "python3"
  },
  "language_info": {
   "codemirror_mode": {
    "name": "ipython",
    "version": 3
   },
   "file_extension": ".py",
   "mimetype": "text/x-python",
   "name": "python",
   "nbconvert_exporter": "python",
   "pygments_lexer": "ipython3",
   "version": "3.8.8"
  }
 },
 "nbformat": 4,
 "nbformat_minor": 5
}
