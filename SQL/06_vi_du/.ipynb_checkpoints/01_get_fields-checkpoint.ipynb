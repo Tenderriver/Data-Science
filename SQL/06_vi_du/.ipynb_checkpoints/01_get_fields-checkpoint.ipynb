{
 "cells": [
  {
   "cell_type": "code",
   "execution_count": 1,
   "metadata": {},
   "outputs": [],
   "source": [
    "import facebook"
   ]
  },
  {
   "cell_type": "code",
   "execution_count": 12,
   "metadata": {},
   "outputs": [],
   "source": [
    "# truy cập bằng user token\n",
    "access_token = 'EAAEPJcSGsMkBAGobZAvbIwcfCe666rXZA8q6xray8ywXSYisNboZA528tqNvOx2w0cZCM16rW1UIXaBZAYVJSCfhqpgwzVUmjUXs8PieeSowThu3hqhQBBjVREoq8FK7lLSOnYvipfGhZCLJT3y3i1sbAh5GB7KmZAG5LGFzISKB7mQGtfGVhLuqfgkxfnziJom9gjIK2JRpjzOc6e4I3PwyZBn5UlfzPK0ZD'\n",
    "graph = facebook.GraphAPI(access_token)"
   ]
  },
  {
   "cell_type": "code",
   "execution_count": 3,
   "metadata": {
    "scrolled": true
   },
   "outputs": [
    {
     "data": {
      "text/plain": [
       "{'name': 'Tiến Dũng',\n",
       " 'email': 'ntddb2021@gmail.com',\n",
       " 'birthday': '01/01/1963',\n",
       " 'gender': 'male',\n",
       " 'id': '131548475806283'}"
      ]
     },
     "execution_count": 3,
     "metadata": {},
     "output_type": "execute_result"
    }
   ],
   "source": [
    "post = graph.get_object(id='me', fields='name, email, birthday, gender') \n",
    "# có thể cần cấp quyền email, quyền user_birthday và phát sinh lại user token\n",
    "post # json"
   ]
  },
  {
   "cell_type": "code",
   "execution_count": 4,
   "metadata": {
    "scrolled": true
   },
   "outputs": [
    {
     "data": {
      "text/plain": [
       "{'id': '131548475806283'}"
      ]
     },
     "execution_count": 4,
     "metadata": {},
     "output_type": "execute_result"
    }
   ],
   "source": [
    "friends = graph.get_object(id='me', fields='friends') # cấp quyền user_friends\n",
    "friends"
   ]
  },
  {
   "cell_type": "code",
   "execution_count": 5,
   "metadata": {},
   "outputs": [],
   "source": [
    "import requests"
   ]
  },
  {
   "cell_type": "code",
   "execution_count": 6,
   "metadata": {},
   "outputs": [],
   "source": [
    "result = requests.get('https://graph.facebook.com/v11.0/me?fields=id,name,email,birthday,gender&access_token=' + access_token)"
   ]
  },
  {
   "cell_type": "code",
   "execution_count": 7,
   "metadata": {},
   "outputs": [],
   "source": [
    "result = result.json()"
   ]
  },
  {
   "cell_type": "code",
   "execution_count": 8,
   "metadata": {},
   "outputs": [
    {
     "data": {
      "text/plain": [
       "{'id': '131548475806283',\n",
       " 'name': 'Tiến Dũng',\n",
       " 'email': 'ntddb2021@gmail.com',\n",
       " 'birthday': '01/01/1963',\n",
       " 'gender': 'male'}"
      ]
     },
     "execution_count": 8,
     "metadata": {},
     "output_type": "execute_result"
    }
   ],
   "source": [
    "result"
   ]
  },
  {
   "cell_type": "code",
   "execution_count": 13,
   "metadata": {},
   "outputs": [],
   "source": [
    "result = requests.get('https://graph.facebook.com/v11.0/me/feed?access_token=' + access_token)\n",
    "# cấp quyền user_posts"
   ]
  },
  {
   "cell_type": "code",
   "execution_count": 14,
   "metadata": {},
   "outputs": [],
   "source": [
    "result = result.json()"
   ]
  },
  {
   "cell_type": "code",
   "execution_count": 15,
   "metadata": {},
   "outputs": [
    {
     "data": {
      "text/plain": [
       "{'data': []}"
      ]
     },
     "execution_count": 15,
     "metadata": {},
     "output_type": "execute_result"
    }
   ],
   "source": [
    "result"
   ]
  },
  {
   "cell_type": "markdown",
   "metadata": {},
   "source": [
    "{'data': [{'created_time': '2019-03-04T12:36:05+0000',\n",
    "   'id': '530515901375998_121418698952389'},\n",
    "  {'created_time': '1984-04-10T08:00:00+0000',\n",
    "   'id': '530515901375998_171172963976962'}],\n",
    " 'paging': {'previous': 'https://graph.facebook.com/v11.0/530515901375998/feed?access_token=EAAHnECgQeLwBACUVuywjFyumOqmUXzRvLcMt12UzrOtnsYnYROv2LnzprPWXqbJZBLYaZAdMGBn8ZBZCUa3X3WiZCRVu0bdZBz8hZBRaJnF1zwxlzAHOmB9BHCi5l4oKg06XH8QJV1cSM1USd9MQQouL9hCUuRqRgUv0HZCaV6QAjwZAtSaw7GIE3Ijxo4ijxF8FPY5HuSRelzeGuZAwjfMn9j&__previous=1&since=1551702965&until&__paging_token=enc_AdCeMYuxAUe2f8IV6OmDJm1dFJvyNQFz9Fah2FA6kZAT2dAFKAdw7ugGjXLlzPnzE7oEG9o0GufHYdNx6jBZCu6ss82jhiuGCpRVVblmF3fDMVUhzroaZAYHrEvxts1mXKNCpBfg1E9jAPyreZBwbMqYjMpk',\n",
    "  'next': 'https://graph.facebook.com/v11.0/530515901375998/feed?access_token=EAAHnECgQeLwBACUVuywjFyumOqmUXzRvLcMt12UzrOtnsYnYROv2LnzprPWXqbJZBLYaZAdMGBn8ZBZCUa3X3WiZCRVu0bdZBz8hZBRaJnF1zwxlzAHOmB9BHCi5l4oKg06XH8QJV1cSM1USd9MQQouL9hCUuRqRgUv0HZCaV6QAjwZAtSaw7GIE3Ijxo4ijxF8FPY5HuSRelzeGuZAwjfMn9j&until=4\n"
   ]
  },
  {
   "cell_type": "code",
   "execution_count": null,
   "metadata": {},
   "outputs": [],
   "source": []
  }
 ],
 "metadata": {
  "kernelspec": {
   "display_name": "Python 3 (ipykernel)",
   "language": "python",
   "name": "python3"
  },
  "language_info": {
   "codemirror_mode": {
    "name": "ipython",
    "version": 3
   },
   "file_extension": ".py",
   "mimetype": "text/x-python",
   "name": "python",
   "nbconvert_exporter": "python",
   "pygments_lexer": "ipython3",
   "version": "3.9.6"
  }
 },
 "nbformat": 4,
 "nbformat_minor": 4
}
