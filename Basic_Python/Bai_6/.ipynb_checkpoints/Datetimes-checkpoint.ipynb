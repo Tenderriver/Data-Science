{
 "cells": [
  {
   "cell_type": "code",
   "execution_count": 8,
   "id": "7572dd75",
   "metadata": {},
   "outputs": [
    {
     "name": "stdout",
     "output_type": "stream",
     "text": [
      "Nhap ngay: 26\n",
      "Nhap thang: 5\n",
      "Nhap nam: 2021\n",
      "Ngay thang nam vua nhap 26 - 5 - 2021\n",
      "Nam 2021 khong la nam nhuan\n",
      "26 - 5 - 2021 la Thu tu\n"
     ]
    }
   ],
   "source": [
    "import calendar\n",
    "ngay = int(input(\"Nhap ngay: \"))\n",
    "thang = int(input(\"Nhap thang: \"))\n",
    "nam = int(input(\"Nhap nam: \"))\n",
    "print(f\"Ngay thang nam vua nhap {ngay} - {thang} - {nam}\")\n",
    "if calendar.isleap(nam):\n",
    "    print( f'Nam {nam} la nam nhuan')\n",
    "else:\n",
    "    print( f'Nam {nam} khong la nam nhuan')\n",
    "a= [\"Thu hai\", \"Thu ba\", \"Thu tu\", \"Thu nam\", \"Thu sau\", \"Thu bay\", \"Chu nhat\"]\n",
    "thu= calendar.weekday(nam,thang,ngay)\n",
    "print (f\"{ngay} - {thang} - {nam} la {a[thu]}\")\n"
   ]
  },
  {
   "cell_type": "code",
   "execution_count": null,
   "id": "32018af2",
   "metadata": {},
   "outputs": [],
   "source": []
  }
 ],
 "metadata": {
  "kernelspec": {
   "display_name": "Python 3",
   "language": "python",
   "name": "python3"
  },
  "language_info": {
   "codemirror_mode": {
    "name": "ipython",
    "version": 3
   },
   "file_extension": ".py",
   "mimetype": "text/x-python",
   "name": "python",
   "nbconvert_exporter": "python",
   "pygments_lexer": "ipython3",
   "version": "3.8.8"
  }
 },
 "nbformat": 4,
 "nbformat_minor": 5
}
