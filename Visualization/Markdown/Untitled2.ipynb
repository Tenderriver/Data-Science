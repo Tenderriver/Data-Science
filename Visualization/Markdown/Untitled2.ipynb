{
 "cells": [
  {
   "cell_type": "code",
   "execution_count": 2,
   "id": "24b7e2c6",
   "metadata": {},
   "outputs": [],
   "source": [
    "import pandas as pd"
   ]
  },
  {
   "cell_type": "code",
   "execution_count": 3,
   "id": "16d653ba",
   "metadata": {},
   "outputs": [
    {
     "name": "stdout",
     "output_type": "stream",
     "text": [
      "Dataframe\n",
      "      name   age\n",
      "1     Huy  27.0\n",
      "2   Thanh   NaN\n",
      "3    Dung  55.0\n",
      "47  Trung  36.0\n",
      "48    Hoa  22.0\n",
      "49     An  15.0\n",
      "Giá trị dòng 3- cột name là: Dung\n",
      "Giá trị dòng index 3- cột name là: Trung\n",
      "Giá trị dòng index 4- cột name là: Hoa\n",
      "Lọc những nhân viên có tuổi >30: \n",
      "      name   age\n",
      "3    Dung  55.0\n",
      "47  Trung  36.0\n",
      "Lọc tên những nhân viên có tuổi >30: \n",
      " 3      Dung\n",
      "47    Trung\n",
      "Name: name, dtype: object\n"
     ]
    }
   ],
   "source": [
    "# lấy dữ liệu trên dòng loc- iloc\n",
    "\n",
    "d = {'name' : pd.Series(['An', 'Hoa', 'Trung','Huy','Thanh','Dung'], index=[49,48,47, 1, 2, 3]),\n",
    "      'age' : pd.Series([15, 22, 36,27,55],index=[49,48,47, 1, 3])\n",
    "    }\n",
    "                         \n",
    "df=pd.DataFrame(d,columns=['name','age'])\n",
    "print('Dataframe\\n',df)\n",
    "\n",
    "## Lấy dữ liệu theo loc - iloc\n",
    "\n",
    "#loc\n",
    "\n",
    "print('Giá trị dòng 3- cột name là:', df.loc[3,'name'])\n",
    "\n",
    "#iloc\n",
    "print('Giá trị dòng index 3- cột name là:',df.iloc[3,0])\n",
    "print('Giá trị dòng index 4- cột name là:',df.iloc[4,0])\n",
    "\n",
    "print('Lọc những nhân viên có tuổi >30: \\n', df.loc[df['age']>30])\n",
    "\n",
    "print('Lọc tên những nhân viên có tuổi >30: \\n', df.loc[df['age']>30,'name']) "
   ]
  },
  {
   "cell_type": "code",
   "execution_count": 6,
   "id": "495c6c5f",
   "metadata": {},
   "outputs": [
    {
     "data": {
      "text/html": [
       "<div>\n",
       "<style scoped>\n",
       "    .dataframe tbody tr th:only-of-type {\n",
       "        vertical-align: middle;\n",
       "    }\n",
       "\n",
       "    .dataframe tbody tr th {\n",
       "        vertical-align: top;\n",
       "    }\n",
       "\n",
       "    .dataframe thead th {\n",
       "        text-align: right;\n",
       "    }\n",
       "</style>\n",
       "<table border=\"1\" class=\"dataframe\">\n",
       "  <thead>\n",
       "    <tr style=\"text-align: right;\">\n",
       "      <th></th>\n",
       "      <th>name</th>\n",
       "      <th>age</th>\n",
       "    </tr>\n",
       "  </thead>\n",
       "  <tbody>\n",
       "    <tr>\n",
       "      <th>3</th>\n",
       "      <td>Dung</td>\n",
       "      <td>55.0</td>\n",
       "    </tr>\n",
       "    <tr>\n",
       "      <th>47</th>\n",
       "      <td>Trung</td>\n",
       "      <td>36.0</td>\n",
       "    </tr>\n",
       "  </tbody>\n",
       "</table>\n",
       "</div>"
      ],
      "text/plain": [
       "     name   age\n",
       "3    Dung  55.0\n",
       "47  Trung  36.0"
      ]
     },
     "execution_count": 6,
     "metadata": {},
     "output_type": "execute_result"
    }
   ],
   "source": [
    "df[df['age']>30]"
   ]
  },
  {
   "cell_type": "code",
   "execution_count": null,
   "id": "9fff5e45",
   "metadata": {},
   "outputs": [],
   "source": []
  }
 ],
 "metadata": {
  "kernelspec": {
   "display_name": "Python 3",
   "language": "python",
   "name": "python3"
  },
  "language_info": {
   "codemirror_mode": {
    "name": "ipython",
    "version": 3
   },
   "file_extension": ".py",
   "mimetype": "text/x-python",
   "name": "python",
   "nbconvert_exporter": "python",
   "pygments_lexer": "ipython3",
   "version": "3.8.8"
  }
 },
 "nbformat": 4,
 "nbformat_minor": 5
}
