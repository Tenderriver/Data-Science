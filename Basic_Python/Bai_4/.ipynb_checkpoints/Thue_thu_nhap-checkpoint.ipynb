{
 "cells": [
  {
   "cell_type": "code",
   "execution_count": 8,
   "id": "348b6815",
   "metadata": {},
   "outputs": [
    {
     "name": "stdout",
     "output_type": "stream",
     "text": [
      "Ma so thue: 123\n",
      "Ho ten: Giang\n",
      "Tong thu nhap trong nam: 30000000\n",
      "So nguoi phu thuoc: 1\n",
      "----- ket qua -----\n",
      "So tien giam tru: 12,600,000\n",
      "So tien chiu thue: 17,400,000\n",
      "Tien thue phai nop: 870,000.0\n"
     ]
    }
   ],
   "source": [
    "MST= input (\"Ma so thue: \")\n",
    "ho_ten = input (\"Ho ten: \")\n",
    "tong_thu_nhap = int(input (\"Tong thu nhap trong nam: \"))\n",
    "nguoi_phu_thuoc = int(input (\"So nguoi phu thuoc: \"))\n",
    "print('-'*5, \"ket qua\", '-'*5)\n",
    "giam_tru = 9000000 + nguoi_phu_thuoc*3600000\n",
    "chiu_thue = tong_thu_nhap - giam_tru\n",
    "if chiu_thue <=60000000:\n",
    "      tien_thue=chiu_thue*5/100\n",
    "elif chiu_thue <=120000000:\n",
    "      tien_thue=chiu_thue*10/100\n",
    "elif chiu_thue <=216000000:\n",
    "      tien_thue=chiu_thue*15/100\n",
    "elif chiu_thue <=384000000:\n",
    "      tien_thue=chiu_thue*20/100\n",
    "elif chiu_thue <=624000000:\n",
    "      tien_thue=chiu_thue*25/100\n",
    "elif chiu_thue <=960000000:\n",
    "      tien_thue=chiu_thue*30/100\n",
    "else:\n",
    "      tien_thue=chiu_thue*35/100\n",
    "if giam_tru > tong_thu_nhap:\n",
    "    print (\"Ban khong phai dong thue\")\n",
    "else:\n",
    "    print (\"So tien giam tru:\", f'{giam_tru:,}')\n",
    "    print (\"So tien chiu thue:\", f'{chiu_thue:,}')\n",
    "    print (\"Tien thue phai nop:\", f'{tien_thue:,}')\n"
   ]
  },
  {
   "cell_type": "code",
   "execution_count": null,
   "id": "e77245f6",
   "metadata": {},
   "outputs": [],
   "source": []
  },
  {
   "cell_type": "code",
   "execution_count": null,
   "id": "13b36523",
   "metadata": {},
   "outputs": [],
   "source": []
  }
 ],
 "metadata": {
  "kernelspec": {
   "display_name": "Python 3",
   "language": "python",
   "name": "python3"
  },
  "language_info": {
   "codemirror_mode": {
    "name": "ipython",
    "version": 3
   },
   "file_extension": ".py",
   "mimetype": "text/x-python",
   "name": "python",
   "nbconvert_exporter": "python",
   "pygments_lexer": "ipython3",
   "version": "3.8.8"
  }
 },
 "nbformat": 4,
 "nbformat_minor": 5
}
