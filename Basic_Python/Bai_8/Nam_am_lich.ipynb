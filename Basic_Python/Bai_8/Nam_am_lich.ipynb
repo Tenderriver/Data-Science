{
 "cells": [
  {
   "cell_type": "code",
   "execution_count": 7,
   "id": "62cae1d6",
   "metadata": {},
   "outputs": [
    {
     "name": "stdout",
     "output_type": "stream",
     "text": [
      "Nhap nam: 2017\n",
      "Nam 2017 am lich la nam Dinh Dau\n"
     ]
    }
   ],
   "source": [
    "can= {0:\"Canh\", 1:\"Tan\", 2:\"Nham\", 3:\"Quy\", 4:\"Giap\", 5:\"At\", 6:\"Binh\", 7:\"Dinh\", 8:\"Mau\", 9:\"Ky\"}\n",
    "chi= {0:\"Than\", 1:\"Dau\", 2:\"Tuat\", 3:\"Hoi\", 4:\"Ti\", 5:\"Suu\", 6:\"Dan\", 7:\"Mao\", 8:\"Thin\", 9:\"Ty\", 10:\"Ngo\", 11:\"Mui\"}\n",
    "\n",
    "def tinh_am_lich(nam):\n",
    "    can_kq= can[nam%10]\n",
    "    chi_kq= chi[nam%12]\n",
    "    return can_kq,chi_kq\n",
    "nam= int(input(\"Nhap nam: \"))\n",
    "can_kq,chi_kq = tinh_am_lich(nam)\n",
    "print(f\"Nam {nam} am lich la nam {can_kq} {chi_kq}\")"
   ]
  },
  {
   "cell_type": "code",
   "execution_count": null,
   "id": "05060ebd",
   "metadata": {},
   "outputs": [],
   "source": []
  },
  {
   "cell_type": "code",
   "execution_count": null,
   "id": "d1349444",
   "metadata": {},
   "outputs": [],
   "source": []
  }
 ],
 "metadata": {
  "kernelspec": {
   "display_name": "Python 3",
   "language": "python",
   "name": "python3"
  },
  "language_info": {
   "codemirror_mode": {
    "name": "ipython",
    "version": 3
   },
   "file_extension": ".py",
   "mimetype": "text/x-python",
   "name": "python",
   "nbconvert_exporter": "python",
   "pygments_lexer": "ipython3",
   "version": "3.8.8"
  }
 },
 "nbformat": 4,
 "nbformat_minor": 5
}
