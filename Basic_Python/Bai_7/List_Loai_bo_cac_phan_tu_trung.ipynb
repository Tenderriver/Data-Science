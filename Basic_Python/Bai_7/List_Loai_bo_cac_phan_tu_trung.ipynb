{
 "cells": [
  {
   "cell_type": "code",
   "execution_count": 3,
   "id": "fedfe816",
   "metadata": {},
   "outputs": [
    {
     "name": "stdout",
     "output_type": "stream",
     "text": [
      "Nhap vao 1 so nguyen cho list 1: 1\n",
      "Ban co muon tiep tuc? 1: Co, 0: Khong: 1\n",
      "Nhap vao 1 so nguyen cho list 1: 3\n",
      "Ban co muon tiep tuc? 1: Co, 0: Khong: 1\n",
      "Nhap vao 1 so nguyen cho list 1: 2\n",
      "Ban co muon tiep tuc? 1: Co, 0: Khong: 1\n",
      "Nhap vao 1 so nguyen cho list 1: 4\n",
      "Ban co muon tiep tuc? 1: Co, 0: Khong: 1\n",
      "Nhap vao 1 so nguyen cho list 1: 5\n",
      "Ban co muon tiep tuc? 1: Co, 0: Khong: 1\n",
      "Nhap vao 1 so nguyen cho list 1: 0\n",
      "Ban co muon tiep tuc? 1: Co, 0: Khong: 1\n",
      "Nhap vao 1 so nguyen cho list 1: 4\n",
      "Ban co muon tiep tuc? 1: Co, 0: Khong: 1\n",
      "Nhap vao 1 so nguyen cho list 1: 5\n",
      "Ban co muon tiep tuc? 1: Co, 0: Khong: 1\n",
      "Nhap vao 1 so nguyen cho list 1: 3\n",
      "Ban co muon tiep tuc? 1: Co, 0: Khong: 1\n",
      "Nhap vao 1 so nguyen cho list 1: 7\n",
      "Ban co muon tiep tuc? 1: Co, 0: Khong: 0\n",
      "Nhap vao 1 so nguyen cho list 2: 1\n",
      "Ban co muon tiep tuc? 1: Co, 0: Khong: 1\n",
      "Nhap vao 1 so nguyen cho list 2: 3\n",
      "Ban co muon tiep tuc? 1: Co, 0: Khong: 1\n",
      "Nhap vao 1 so nguyen cho list 2: 4\n",
      "Ban co muon tiep tuc? 1: Co, 0: Khong: 1\n",
      "Nhap vao 1 so nguyen cho list 2: 5\n",
      "Ban co muon tiep tuc? 1: Co, 0: Khong: 1\n",
      "Nhap vao 1 so nguyen cho list 2: 6\n",
      "Ban co muon tiep tuc? 1: Co, 0: Khong: 1\n",
      "Nhap vao 1 so nguyen cho list 2: 0\n",
      "Ban co muon tiep tuc? 1: Co, 0: Khong: 0\n",
      "list 1=[1, 3, 2, 4, 5, 0, 4, 5, 3, 7] \n",
      "list 2 =[1, 3, 4, 5, 6, 0]\n",
      "Cac phan tu vua co trong list 1 vua co trong list 2:  {0, 1, 3, 4, 5}\n",
      "Cac phan tu chi co trong list 1 va cac phan tu chi co trong list 2:  {2, 7} & {6}\n"
     ]
    }
   ],
   "source": [
    "kt1=True\n",
    "x=[]\n",
    "while kt1:\n",
    "    x.append(int(input(\"Nhap vao 1 so nguyen cho list 1: \")))\n",
    "    kt1=int(input(\"Ban co muon tiep tuc? 1: Co, 0: Khong: \"))\n",
    "kt2=True\n",
    "y=[]\n",
    "while kt2:\n",
    "    y.append(int(input(\"Nhap vao 1 so nguyen cho list 2: \")))\n",
    "    kt2=int(input(\"Ban co muon tiep tuc? 1: Co, 0: Khong: \"))\n",
    "print(f'list 1={x} \\nlist 2 ={y}')\n",
    "print(\"Cac phan tu vua co trong list 1 vua co trong list 2: \", set(x)&set(y))\n",
    "print(\"Cac phan tu chi co trong list 1 va cac phan tu chi co trong list 2: \", set(x)-set(y), \"&\", set(y)-set(x))\n"
   ]
  },
  {
   "cell_type": "code",
   "execution_count": null,
   "id": "eceb2eef",
   "metadata": {},
   "outputs": [],
   "source": []
  }
 ],
 "metadata": {
  "kernelspec": {
   "display_name": "Python 3",
   "language": "python",
   "name": "python3"
  },
  "language_info": {
   "codemirror_mode": {
    "name": "ipython",
    "version": 3
   },
   "file_extension": ".py",
   "mimetype": "text/x-python",
   "name": "python",
   "nbconvert_exporter": "python",
   "pygments_lexer": "ipython3",
   "version": "3.8.8"
  }
 },
 "nbformat": 4,
 "nbformat_minor": 5
}
