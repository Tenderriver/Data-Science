{
 "cells": [
  {
   "cell_type": "code",
   "execution_count": 4,
   "id": "4101f191",
   "metadata": {},
   "outputs": [
    {
     "name": "stdout",
     "output_type": "stream",
     "text": [
      "Nhap gia tri: 1\n",
      "Tiep tuc nhap gia tri (1:Co, 2: Khong): 1\n",
      "Nhap gia tri: -2\n",
      "Tiep tuc nhap gia tri (1:Co, 2: Khong): 1\n",
      "Nhap gia tri: -3\n",
      "Tiep tuc nhap gia tri (1:Co, 2: Khong): 1\n",
      "Nhap gia tri: 5\n",
      "Tiep tuc nhap gia tri (1:Co, 2: Khong): 1\n",
      "Nhap gia tri: -10\n",
      "Tiep tuc nhap gia tri (1:Co, 2: Khong): 1\n",
      "Nhap gia tri: 6\n",
      "Tiep tuc nhap gia tri (1:Co, 2: Khong): 0\n",
      "Cac so nguyen to trong list: [5, 5, 5, 6, 6]\n",
      "Cac phan tu duong trong list: [1, 5, 6]\n",
      "Trung binh cong cac phan tu duong 4.0\n",
      "Cac phan tu am trong list: [-2, -3, -10]\n",
      "Trung binh cong cac phan tu am -5.0\n",
      "Gia tri max trong list 6\n",
      "Gia tri min trong list -10\n",
      "List sap theo thu tu tang dan:  [-10, -3, -2, 1, 5, 6]\n"
     ]
    }
   ],
   "source": [
    "chuoi=[]\n",
    "kt=True\n",
    "while kt:\n",
    "    chuoi.append(eval(input(\"Nhap gia tri: \")))\n",
    "    kt=eval(input(\"Tiep tuc nhap gia tri (1:Co, 2: Khong): \"))\n",
    "print(chuoi)\n",
    "a=[]\n",
    "for i in chuoi:\n",
    "    for j in range(2,i):\n",
    "        if i%j==0:\n",
    "            break           \n",
    "    else: \n",
    "        a.append(i)\n",
    "print(\"Cac so nguyen to trong list:\", a)\n",
    "duong=[]\n",
    "am=[]\n",
    "for i in chuoi:\n",
    "    if i>=0:\n",
    "        duong.append(i)\n",
    "    else:\n",
    "        am.append(i)\n",
    "print(\"Cac phan tu duong trong list:\", duong)\n",
    "tbc_duong= sum(duong)/len(duong)\n",
    "print(\"Trung binh cong cac phan tu duong\", tbc_duong)\n",
    "print(\"Cac phan tu am trong list:\", am)\n",
    "tbc_am= sum(am)/len(am)\n",
    "print (\"Trung binh cong cac phan tu am\", tbc_am)\n",
    "print(\"Gia tri max trong list\", max(chuoi))\n",
    "print(\"Gia tri min trong list\", min(chuoi))\n",
    "chuoi.sort()\n",
    "print (\"List sap theo thu tu tang dan: \", chuoi)\n",
    "            "
   ]
  },
  {
   "cell_type": "code",
   "execution_count": 16,
   "id": "98adc7e7",
   "metadata": {},
   "outputs": [
    {
     "name": "stdout",
     "output_type": "stream",
     "text": [
      "Cac so nguyen to trong list: [1, 2, 3, 5]\n"
     ]
    }
   ],
   "source": [
    "chuoi=[1,2,3,4,5,6]\n",
    "a=[]\n",
    "for i in chuoi:\n",
    "    for j in range(2,i):\n",
    "        if i%j==0:\n",
    "            break\n",
    "            \n",
    "    else: \n",
    "        a.append(i)\n",
    "print(\"Cac so nguyen to trong list:\", a)"
   ]
  },
  {
   "cell_type": "code",
   "execution_count": null,
   "id": "740965ba",
   "metadata": {},
   "outputs": [],
   "source": []
  }
 ],
 "metadata": {
  "kernelspec": {
   "display_name": "Python 3",
   "language": "python",
   "name": "python3"
  },
  "language_info": {
   "codemirror_mode": {
    "name": "ipython",
    "version": 3
   },
   "file_extension": ".py",
   "mimetype": "text/x-python",
   "name": "python",
   "nbconvert_exporter": "python",
   "pygments_lexer": "ipython3",
   "version": "3.8.8"
  }
 },
 "nbformat": 4,
 "nbformat_minor": 5
}
