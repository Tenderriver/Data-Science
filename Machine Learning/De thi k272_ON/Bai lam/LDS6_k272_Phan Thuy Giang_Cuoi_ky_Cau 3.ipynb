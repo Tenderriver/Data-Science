{
 "cells": [
  {
   "cell_type": "code",
   "execution_count": 45,
   "id": "e670e056",
   "metadata": {},
   "outputs": [],
   "source": [
    "import pandas as pd\n",
    "import numpy as np\n",
    "import matplotlib.pyplot as plt\n",
    "%matplotlib inline\n",
    "import seaborn as sns\n",
    "from sklearn.naive_bayes import GaussianNB\n",
    "from sklearn.neighbors import KNeighborsClassifier\n",
    "from sklearn.tree import DecisionTreeClassifier\n",
    "from sklearn.svm import SVC\n",
    "from sklearn.metrics import accuracy_score\n",
    "from sklearn.model_selection import cross_val_score,KFold,train_test_split\n",
    "from sklearn.metrics import accuracy_score,precision_score,confusion_matrix,classification_report\n",
    "from sklearn.decomposition import PCA"
   ]
  },
  {
   "cell_type": "code",
   "execution_count": 46,
   "id": "5e8b8992",
   "metadata": {},
   "outputs": [
    {
     "data": {
      "text/html": [
       "<div>\n",
       "<style scoped>\n",
       "    .dataframe tbody tr th:only-of-type {\n",
       "        vertical-align: middle;\n",
       "    }\n",
       "\n",
       "    .dataframe tbody tr th {\n",
       "        vertical-align: top;\n",
       "    }\n",
       "\n",
       "    .dataframe thead th {\n",
       "        text-align: right;\n",
       "    }\n",
       "</style>\n",
       "<table border=\"1\" class=\"dataframe\">\n",
       "  <thead>\n",
       "    <tr style=\"text-align: right;\">\n",
       "      <th></th>\n",
       "      <th>0</th>\n",
       "      <th>57</th>\n",
       "      <th>31</th>\n",
       "      <th>68</th>\n",
       "      <th>72</th>\n",
       "      <th>90</th>\n",
       "      <th>100</th>\n",
       "      <th>100.1</th>\n",
       "      <th>76</th>\n",
       "      <th>75</th>\n",
       "      <th>50</th>\n",
       "      <th>51</th>\n",
       "      <th>28</th>\n",
       "      <th>25</th>\n",
       "      <th>16</th>\n",
       "      <th>0</th>\n",
       "      <th>1</th>\n",
       "    </tr>\n",
       "  </thead>\n",
       "  <tbody>\n",
       "    <tr>\n",
       "      <th>0</th>\n",
       "      <td>99</td>\n",
       "      <td>80</td>\n",
       "      <td>63</td>\n",
       "      <td>100</td>\n",
       "      <td>25</td>\n",
       "      <td>76</td>\n",
       "      <td>79</td>\n",
       "      <td>68</td>\n",
       "      <td>100</td>\n",
       "      <td>62</td>\n",
       "      <td>97</td>\n",
       "      <td>23</td>\n",
       "      <td>54</td>\n",
       "      <td>0</td>\n",
       "      <td>0</td>\n",
       "      <td>16</td>\n",
       "      <td>9</td>\n",
       "    </tr>\n",
       "    <tr>\n",
       "      <th>1</th>\n",
       "      <td>0</td>\n",
       "      <td>73</td>\n",
       "      <td>19</td>\n",
       "      <td>99</td>\n",
       "      <td>72</td>\n",
       "      <td>100</td>\n",
       "      <td>70</td>\n",
       "      <td>73</td>\n",
       "      <td>32</td>\n",
       "      <td>48</td>\n",
       "      <td>5</td>\n",
       "      <td>18</td>\n",
       "      <td>46</td>\n",
       "      <td>0</td>\n",
       "      <td>100</td>\n",
       "      <td>72</td>\n",
       "      <td>2</td>\n",
       "    </tr>\n",
       "    <tr>\n",
       "      <th>2</th>\n",
       "      <td>12</td>\n",
       "      <td>77</td>\n",
       "      <td>20</td>\n",
       "      <td>62</td>\n",
       "      <td>78</td>\n",
       "      <td>40</td>\n",
       "      <td>50</td>\n",
       "      <td>0</td>\n",
       "      <td>1</td>\n",
       "      <td>17</td>\n",
       "      <td>0</td>\n",
       "      <td>64</td>\n",
       "      <td>23</td>\n",
       "      <td>98</td>\n",
       "      <td>100</td>\n",
       "      <td>100</td>\n",
       "      <td>5</td>\n",
       "    </tr>\n",
       "    <tr>\n",
       "      <th>3</th>\n",
       "      <td>0</td>\n",
       "      <td>98</td>\n",
       "      <td>36</td>\n",
       "      <td>42</td>\n",
       "      <td>80</td>\n",
       "      <td>85</td>\n",
       "      <td>68</td>\n",
       "      <td>42</td>\n",
       "      <td>56</td>\n",
       "      <td>0</td>\n",
       "      <td>25</td>\n",
       "      <td>23</td>\n",
       "      <td>50</td>\n",
       "      <td>37</td>\n",
       "      <td>100</td>\n",
       "      <td>32</td>\n",
       "      <td>7</td>\n",
       "    </tr>\n",
       "    <tr>\n",
       "      <th>4</th>\n",
       "      <td>29</td>\n",
       "      <td>91</td>\n",
       "      <td>6</td>\n",
       "      <td>57</td>\n",
       "      <td>66</td>\n",
       "      <td>39</td>\n",
       "      <td>30</td>\n",
       "      <td>0</td>\n",
       "      <td>81</td>\n",
       "      <td>19</td>\n",
       "      <td>3</td>\n",
       "      <td>72</td>\n",
       "      <td>39</td>\n",
       "      <td>97</td>\n",
       "      <td>100</td>\n",
       "      <td>100</td>\n",
       "      <td>5</td>\n",
       "    </tr>\n",
       "  </tbody>\n",
       "</table>\n",
       "</div>"
      ],
      "text/plain": [
       "    0   57   31   68   72   90   100   100.1   76   75   50   51   28   25  \\\n",
       "0  99   80   63  100   25   76    79      68  100   62   97   23   54    0   \n",
       "1   0   73   19   99   72  100    70      73   32   48    5   18   46    0   \n",
       "2  12   77   20   62   78   40    50       0    1   17    0   64   23   98   \n",
       "3   0   98   36   42   80   85    68      42   56    0   25   23   50   37   \n",
       "4  29   91    6   57   66   39    30       0   81   19    3   72   39   97   \n",
       "\n",
       "    16    0   1  \n",
       "0    0   16   9  \n",
       "1  100   72   2  \n",
       "2  100  100   5  \n",
       "3  100   32   7  \n",
       "4  100  100   5  "
      ]
     },
     "execution_count": 46,
     "metadata": {},
     "output_type": "execute_result"
    }
   ],
   "source": [
    "data = pd.read_csv('penbased-5an-nn.csv')\n",
    "data.head()"
   ]
  },
  {
   "cell_type": "code",
   "execution_count": 47,
   "id": "40e2ac43",
   "metadata": {},
   "outputs": [
    {
     "name": "stdout",
     "output_type": "stream",
     "text": [
      "<class 'pandas.core.frame.DataFrame'>\n",
      "RangeIndex: 10991 entries, 0 to 10990\n",
      "Data columns (total 17 columns):\n",
      " #   Column  Non-Null Count  Dtype\n",
      "---  ------  --------------  -----\n",
      " 0   0       10991 non-null  int64\n",
      " 1    57     10991 non-null  int64\n",
      " 2    31     10991 non-null  int64\n",
      " 3    68     10991 non-null  int64\n",
      " 4    72     10991 non-null  int64\n",
      " 5    90     10991 non-null  int64\n",
      " 6    100    10991 non-null  int64\n",
      " 7    100.1  10991 non-null  int64\n",
      " 8    76     10991 non-null  int64\n",
      " 9    75     10991 non-null  int64\n",
      " 10   50     10991 non-null  int64\n",
      " 11   51     10991 non-null  int64\n",
      " 12   28     10991 non-null  int64\n",
      " 13   25     10991 non-null  int64\n",
      " 14   16     10991 non-null  int64\n",
      " 15   0      10991 non-null  int64\n",
      " 16   1      10991 non-null  int64\n",
      "dtypes: int64(17)\n",
      "memory usage: 1.4 MB\n"
     ]
    }
   ],
   "source": [
    "data.info()"
   ]
  },
  {
   "cell_type": "code",
   "execution_count": 48,
   "id": "dffc49e4",
   "metadata": {},
   "outputs": [
    {
     "data": {
      "text/html": [
       "<div>\n",
       "<style scoped>\n",
       "    .dataframe tbody tr th:only-of-type {\n",
       "        vertical-align: middle;\n",
       "    }\n",
       "\n",
       "    .dataframe tbody tr th {\n",
       "        vertical-align: top;\n",
       "    }\n",
       "\n",
       "    .dataframe thead th {\n",
       "        text-align: right;\n",
       "    }\n",
       "</style>\n",
       "<table border=\"1\" class=\"dataframe\">\n",
       "  <thead>\n",
       "    <tr style=\"text-align: right;\">\n",
       "      <th></th>\n",
       "      <th>0</th>\n",
       "      <th>57</th>\n",
       "      <th>31</th>\n",
       "      <th>68</th>\n",
       "      <th>72</th>\n",
       "      <th>90</th>\n",
       "      <th>100</th>\n",
       "      <th>100.1</th>\n",
       "      <th>76</th>\n",
       "      <th>75</th>\n",
       "      <th>50</th>\n",
       "      <th>51</th>\n",
       "      <th>28</th>\n",
       "      <th>25</th>\n",
       "      <th>16</th>\n",
       "      <th>0</th>\n",
       "      <th>1</th>\n",
       "    </tr>\n",
       "  </thead>\n",
       "  <tbody>\n",
       "    <tr>\n",
       "      <th>count</th>\n",
       "      <td>10991.000000</td>\n",
       "      <td>10991.000000</td>\n",
       "      <td>10991.000000</td>\n",
       "      <td>10991.000000</td>\n",
       "      <td>10991.000000</td>\n",
       "      <td>10991.000000</td>\n",
       "      <td>10991.000000</td>\n",
       "      <td>10991.000000</td>\n",
       "      <td>10991.000000</td>\n",
       "      <td>10991.000000</td>\n",
       "      <td>10991.000000</td>\n",
       "      <td>10991.000000</td>\n",
       "      <td>10991.000000</td>\n",
       "      <td>10991.000000</td>\n",
       "      <td>10991.000000</td>\n",
       "      <td>10991.000000</td>\n",
       "      <td>10991.000000</td>\n",
       "    </tr>\n",
       "    <tr>\n",
       "      <th>mean</th>\n",
       "      <td>39.508871</td>\n",
       "      <td>83.221545</td>\n",
       "      <td>41.047402</td>\n",
       "      <td>82.075789</td>\n",
       "      <td>49.762351</td>\n",
       "      <td>64.790738</td>\n",
       "      <td>51.256937</td>\n",
       "      <td>44.672550</td>\n",
       "      <td>56.447457</td>\n",
       "      <td>34.553362</td>\n",
       "      <td>60.087799</td>\n",
       "      <td>35.705031</td>\n",
       "      <td>54.604495</td>\n",
       "      <td>35.654990</td>\n",
       "      <td>47.384678</td>\n",
       "      <td>29.787644</td>\n",
       "      <td>4.431899</td>\n",
       "    </tr>\n",
       "    <tr>\n",
       "      <th>std</th>\n",
       "      <td>34.184852</td>\n",
       "      <td>19.043429</td>\n",
       "      <td>26.652911</td>\n",
       "      <td>21.033956</td>\n",
       "      <td>33.840402</td>\n",
       "      <td>27.323980</td>\n",
       "      <td>30.510892</td>\n",
       "      <td>29.880944</td>\n",
       "      <td>33.935001</td>\n",
       "      <td>27.597455</td>\n",
       "      <td>36.955062</td>\n",
       "      <td>27.482024</td>\n",
       "      <td>22.819212</td>\n",
       "      <td>33.128173</td>\n",
       "      <td>41.268168</td>\n",
       "      <td>35.722195</td>\n",
       "      <td>2.876891</td>\n",
       "    </tr>\n",
       "    <tr>\n",
       "      <th>min</th>\n",
       "      <td>0.000000</td>\n",
       "      <td>0.000000</td>\n",
       "      <td>0.000000</td>\n",
       "      <td>0.000000</td>\n",
       "      <td>0.000000</td>\n",
       "      <td>0.000000</td>\n",
       "      <td>0.000000</td>\n",
       "      <td>0.000000</td>\n",
       "      <td>0.000000</td>\n",
       "      <td>0.000000</td>\n",
       "      <td>0.000000</td>\n",
       "      <td>0.000000</td>\n",
       "      <td>0.000000</td>\n",
       "      <td>0.000000</td>\n",
       "      <td>0.000000</td>\n",
       "      <td>0.000000</td>\n",
       "      <td>0.000000</td>\n",
       "    </tr>\n",
       "    <tr>\n",
       "      <th>25%</th>\n",
       "      <td>7.000000</td>\n",
       "      <td>75.000000</td>\n",
       "      <td>20.000000</td>\n",
       "      <td>70.000000</td>\n",
       "      <td>18.000000</td>\n",
       "      <td>48.000000</td>\n",
       "      <td>28.000000</td>\n",
       "      <td>23.000000</td>\n",
       "      <td>28.000000</td>\n",
       "      <td>8.000000</td>\n",
       "      <td>24.000000</td>\n",
       "      <td>12.000000</td>\n",
       "      <td>41.000000</td>\n",
       "      <td>6.000000</td>\n",
       "      <td>0.000000</td>\n",
       "      <td>0.000000</td>\n",
       "      <td>2.000000</td>\n",
       "    </tr>\n",
       "    <tr>\n",
       "      <th>50%</th>\n",
       "      <td>33.000000</td>\n",
       "      <td>88.000000</td>\n",
       "      <td>40.000000</td>\n",
       "      <td>89.000000</td>\n",
       "      <td>53.000000</td>\n",
       "      <td>70.000000</td>\n",
       "      <td>54.000000</td>\n",
       "      <td>43.000000</td>\n",
       "      <td>59.000000</td>\n",
       "      <td>34.000000</td>\n",
       "      <td>72.000000</td>\n",
       "      <td>31.000000</td>\n",
       "      <td>53.000000</td>\n",
       "      <td>28.000000</td>\n",
       "      <td>41.000000</td>\n",
       "      <td>11.000000</td>\n",
       "      <td>4.000000</td>\n",
       "    </tr>\n",
       "    <tr>\n",
       "      <th>75%</th>\n",
       "      <td>66.000000</td>\n",
       "      <td>100.000000</td>\n",
       "      <td>59.000000</td>\n",
       "      <td>100.000000</td>\n",
       "      <td>78.000000</td>\n",
       "      <td>86.000000</td>\n",
       "      <td>74.000000</td>\n",
       "      <td>64.500000</td>\n",
       "      <td>88.000000</td>\n",
       "      <td>55.000000</td>\n",
       "      <td>96.000000</td>\n",
       "      <td>57.000000</td>\n",
       "      <td>68.000000</td>\n",
       "      <td>51.000000</td>\n",
       "      <td>100.000000</td>\n",
       "      <td>55.000000</td>\n",
       "      <td>7.000000</td>\n",
       "    </tr>\n",
       "    <tr>\n",
       "      <th>max</th>\n",
       "      <td>100.000000</td>\n",
       "      <td>100.000000</td>\n",
       "      <td>100.000000</td>\n",
       "      <td>100.000000</td>\n",
       "      <td>100.000000</td>\n",
       "      <td>100.000000</td>\n",
       "      <td>100.000000</td>\n",
       "      <td>100.000000</td>\n",
       "      <td>100.000000</td>\n",
       "      <td>100.000000</td>\n",
       "      <td>100.000000</td>\n",
       "      <td>100.000000</td>\n",
       "      <td>100.000000</td>\n",
       "      <td>100.000000</td>\n",
       "      <td>100.000000</td>\n",
       "      <td>100.000000</td>\n",
       "      <td>9.000000</td>\n",
       "    </tr>\n",
       "  </tbody>\n",
       "</table>\n",
       "</div>"
      ],
      "text/plain": [
       "                  0            57            31            68            72  \\\n",
       "count  10991.000000  10991.000000  10991.000000  10991.000000  10991.000000   \n",
       "mean      39.508871     83.221545     41.047402     82.075789     49.762351   \n",
       "std       34.184852     19.043429     26.652911     21.033956     33.840402   \n",
       "min        0.000000      0.000000      0.000000      0.000000      0.000000   \n",
       "25%        7.000000     75.000000     20.000000     70.000000     18.000000   \n",
       "50%       33.000000     88.000000     40.000000     89.000000     53.000000   \n",
       "75%       66.000000    100.000000     59.000000    100.000000     78.000000   \n",
       "max      100.000000    100.000000    100.000000    100.000000    100.000000   \n",
       "\n",
       "                 90           100         100.1            76            75  \\\n",
       "count  10991.000000  10991.000000  10991.000000  10991.000000  10991.000000   \n",
       "mean      64.790738     51.256937     44.672550     56.447457     34.553362   \n",
       "std       27.323980     30.510892     29.880944     33.935001     27.597455   \n",
       "min        0.000000      0.000000      0.000000      0.000000      0.000000   \n",
       "25%       48.000000     28.000000     23.000000     28.000000      8.000000   \n",
       "50%       70.000000     54.000000     43.000000     59.000000     34.000000   \n",
       "75%       86.000000     74.000000     64.500000     88.000000     55.000000   \n",
       "max      100.000000    100.000000    100.000000    100.000000    100.000000   \n",
       "\n",
       "                 50            51            28            25            16  \\\n",
       "count  10991.000000  10991.000000  10991.000000  10991.000000  10991.000000   \n",
       "mean      60.087799     35.705031     54.604495     35.654990     47.384678   \n",
       "std       36.955062     27.482024     22.819212     33.128173     41.268168   \n",
       "min        0.000000      0.000000      0.000000      0.000000      0.000000   \n",
       "25%       24.000000     12.000000     41.000000      6.000000      0.000000   \n",
       "50%       72.000000     31.000000     53.000000     28.000000     41.000000   \n",
       "75%       96.000000     57.000000     68.000000     51.000000    100.000000   \n",
       "max      100.000000    100.000000    100.000000    100.000000    100.000000   \n",
       "\n",
       "                  0             1  \n",
       "count  10991.000000  10991.000000  \n",
       "mean      29.787644      4.431899  \n",
       "std       35.722195      2.876891  \n",
       "min        0.000000      0.000000  \n",
       "25%        0.000000      2.000000  \n",
       "50%       11.000000      4.000000  \n",
       "75%       55.000000      7.000000  \n",
       "max      100.000000      9.000000  "
      ]
     },
     "execution_count": 48,
     "metadata": {},
     "output_type": "execute_result"
    }
   ],
   "source": [
    "data.describe()"
   ]
  },
  {
   "cell_type": "code",
   "execution_count": 49,
   "id": "4d0b78a4",
   "metadata": {},
   "outputs": [
    {
     "data": {
      "text/html": [
       "<div>\n",
       "<style scoped>\n",
       "    .dataframe tbody tr th:only-of-type {\n",
       "        vertical-align: middle;\n",
       "    }\n",
       "\n",
       "    .dataframe tbody tr th {\n",
       "        vertical-align: top;\n",
       "    }\n",
       "\n",
       "    .dataframe thead th {\n",
       "        text-align: right;\n",
       "    }\n",
       "</style>\n",
       "<table border=\"1\" class=\"dataframe\">\n",
       "  <thead>\n",
       "    <tr style=\"text-align: right;\">\n",
       "      <th></th>\n",
       "      <th>0</th>\n",
       "      <th>57</th>\n",
       "      <th>31</th>\n",
       "      <th>68</th>\n",
       "      <th>72</th>\n",
       "      <th>90</th>\n",
       "      <th>100</th>\n",
       "      <th>100.1</th>\n",
       "      <th>76</th>\n",
       "      <th>75</th>\n",
       "      <th>50</th>\n",
       "      <th>51</th>\n",
       "      <th>28</th>\n",
       "      <th>25</th>\n",
       "      <th>16</th>\n",
       "      <th>0</th>\n",
       "    </tr>\n",
       "  </thead>\n",
       "  <tbody>\n",
       "    <tr>\n",
       "      <th>0</th>\n",
       "      <td>99</td>\n",
       "      <td>80</td>\n",
       "      <td>63</td>\n",
       "      <td>100</td>\n",
       "      <td>25</td>\n",
       "      <td>76</td>\n",
       "      <td>79</td>\n",
       "      <td>68</td>\n",
       "      <td>100</td>\n",
       "      <td>62</td>\n",
       "      <td>97</td>\n",
       "      <td>23</td>\n",
       "      <td>54</td>\n",
       "      <td>0</td>\n",
       "      <td>0</td>\n",
       "      <td>16</td>\n",
       "    </tr>\n",
       "    <tr>\n",
       "      <th>1</th>\n",
       "      <td>0</td>\n",
       "      <td>73</td>\n",
       "      <td>19</td>\n",
       "      <td>99</td>\n",
       "      <td>72</td>\n",
       "      <td>100</td>\n",
       "      <td>70</td>\n",
       "      <td>73</td>\n",
       "      <td>32</td>\n",
       "      <td>48</td>\n",
       "      <td>5</td>\n",
       "      <td>18</td>\n",
       "      <td>46</td>\n",
       "      <td>0</td>\n",
       "      <td>100</td>\n",
       "      <td>72</td>\n",
       "    </tr>\n",
       "    <tr>\n",
       "      <th>2</th>\n",
       "      <td>12</td>\n",
       "      <td>77</td>\n",
       "      <td>20</td>\n",
       "      <td>62</td>\n",
       "      <td>78</td>\n",
       "      <td>40</td>\n",
       "      <td>50</td>\n",
       "      <td>0</td>\n",
       "      <td>1</td>\n",
       "      <td>17</td>\n",
       "      <td>0</td>\n",
       "      <td>64</td>\n",
       "      <td>23</td>\n",
       "      <td>98</td>\n",
       "      <td>100</td>\n",
       "      <td>100</td>\n",
       "    </tr>\n",
       "    <tr>\n",
       "      <th>3</th>\n",
       "      <td>0</td>\n",
       "      <td>98</td>\n",
       "      <td>36</td>\n",
       "      <td>42</td>\n",
       "      <td>80</td>\n",
       "      <td>85</td>\n",
       "      <td>68</td>\n",
       "      <td>42</td>\n",
       "      <td>56</td>\n",
       "      <td>0</td>\n",
       "      <td>25</td>\n",
       "      <td>23</td>\n",
       "      <td>50</td>\n",
       "      <td>37</td>\n",
       "      <td>100</td>\n",
       "      <td>32</td>\n",
       "    </tr>\n",
       "    <tr>\n",
       "      <th>4</th>\n",
       "      <td>29</td>\n",
       "      <td>91</td>\n",
       "      <td>6</td>\n",
       "      <td>57</td>\n",
       "      <td>66</td>\n",
       "      <td>39</td>\n",
       "      <td>30</td>\n",
       "      <td>0</td>\n",
       "      <td>81</td>\n",
       "      <td>19</td>\n",
       "      <td>3</td>\n",
       "      <td>72</td>\n",
       "      <td>39</td>\n",
       "      <td>97</td>\n",
       "      <td>100</td>\n",
       "      <td>100</td>\n",
       "    </tr>\n",
       "  </tbody>\n",
       "</table>\n",
       "</div>"
      ],
      "text/plain": [
       "    0   57   31   68   72   90   100   100.1   76   75   50   51   28   25  \\\n",
       "0  99   80   63  100   25   76    79      68  100   62   97   23   54    0   \n",
       "1   0   73   19   99   72  100    70      73   32   48    5   18   46    0   \n",
       "2  12   77   20   62   78   40    50       0    1   17    0   64   23   98   \n",
       "3   0   98   36   42   80   85    68      42   56    0   25   23   50   37   \n",
       "4  29   91    6   57   66   39    30       0   81   19    3   72   39   97   \n",
       "\n",
       "    16    0  \n",
       "0    0   16  \n",
       "1  100   72  \n",
       "2  100  100  \n",
       "3  100   32  \n",
       "4  100  100  "
      ]
     },
     "execution_count": 49,
     "metadata": {},
     "output_type": "execute_result"
    }
   ],
   "source": [
    "X = data.iloc[:,:-1]\n",
    "X.head()"
   ]
  },
  {
   "cell_type": "code",
   "execution_count": 50,
   "id": "33986f33",
   "metadata": {},
   "outputs": [
    {
     "data": {
      "text/plain": [
       "0    9\n",
       "1    2\n",
       "2    5\n",
       "3    7\n",
       "4    5\n",
       "Name:  1, dtype: int64"
      ]
     },
     "execution_count": 50,
     "metadata": {},
     "output_type": "execute_result"
    }
   ],
   "source": [
    "y = data.iloc[:,-1]\n",
    "y.head()"
   ]
  },
  {
   "cell_type": "code",
   "execution_count": 51,
   "id": "6f2b9f6e",
   "metadata": {},
   "outputs": [],
   "source": [
    "X_train, X_test, y_train, y_test = train_test_split(X,y,test_size=0.25,random_state=40)"
   ]
  },
  {
   "cell_type": "code",
   "execution_count": 52,
   "id": "74464a40",
   "metadata": {},
   "outputs": [
    {
     "name": "stdout",
     "output_type": "stream",
     "text": [
      "Accuracy:  96.5429403202329 for k: 1\n",
      "Accuracy:  95.77874818049492 for k: 2\n",
      "Accuracy:  96.47016011644833 for k: 3\n",
      "Accuracy:  96.25181950509462 for k: 4\n",
      "Accuracy:  96.61572052401746 for k: 5\n",
      "Accuracy:  96.47016011644833 for k: 6\n",
      "Accuracy:  96.25181950509462 for k: 7\n",
      "Accuracy:  96.14264919941776 for k: 8\n",
      "Accuracy:  96.03347889374089 for k: 9\n",
      "Select k: 5\n",
      "\n"
     ]
    },
    {
     "data": {
      "text/plain": [
       "Text(0, 0.5, 'test accuracy')"
      ]
     },
     "execution_count": 52,
     "metadata": {},
     "output_type": "execute_result"
    },
    {
     "data": {
      "image/png": "[encoded data removed]",
      "text/plain": [
       "<Figure size 432x288 with 1 Axes>"
      ]
     },
     "metadata": {
      "needs_background": "light"
     },
     "output_type": "display_data"
    }
   ],
   "source": [
    "list_k = []\n",
    "list_acc = []\n",
    "for k in range(1,10):\n",
    "    list_k.append(k)\n",
    "    model = KNeighborsClassifier(n_neighbors=k)\n",
    "    model.fit(X_train,y_train)\n",
    "    y_pred = model.predict(X_test)\n",
    "    acc = accuracy_score(y_test,y_pred)*100\n",
    "    list_acc.append(acc)\n",
    "    print('Accuracy: ',acc,'for k:',k)\n",
    "vitri = list_acc.index(max(list_acc))\n",
    "k = list_k[vitri]\n",
    "print('Select k:', k)\n",
    "print('')\n",
    "plt.plot(list_k,list_acc)\n",
    "plt.xlabel('number of neighbor k')\n",
    "plt.ylabel('test accuracy')"
   ]
  },
  {
   "cell_type": "code",
   "execution_count": 53,
   "id": "36bd060b",
   "metadata": {},
   "outputs": [],
   "source": [
    "models = [\n",
    "    GaussianNB(),\n",
    "    KNeighborsClassifier(n_neighbors=k),\n",
    "    DecisionTreeClassifier(),\n",
    "    SVC()\n",
    "]"
   ]
  },
  {
   "cell_type": "code",
   "execution_count": 54,
   "id": "6cf2ccfb",
   "metadata": {},
   "outputs": [],
   "source": [
    "CV = 10 \n",
    "cv_data = pd.DataFrame(index=range(CV * len(models)))\n",
    "cv_entries = []\n",
    "\n",
    "for model in models: \n",
    "    model_name = model.__class__.__name__ \n",
    "    accuracies = cross_val_score(model, X, y, scoring='accuracy', cv=CV)\n",
    "    cv_entries.append([model_name, accuracies.mean()])\n",
    "    \n",
    "cv_data = pd.DataFrame(cv_entries, columns=['model_name', 'accuracy'])"
   ]
  },
  {
   "cell_type": "code",
   "execution_count": 55,
   "id": "2e34a820",
   "metadata": {},
   "outputs": [
    {
     "data": {
      "text/html": [
       "<div>\n",
       "<style scoped>\n",
       "    .dataframe tbody tr th:only-of-type {\n",
       "        vertical-align: middle;\n",
       "    }\n",
       "\n",
       "    .dataframe tbody tr th {\n",
       "        vertical-align: top;\n",
       "    }\n",
       "\n",
       "    .dataframe thead th {\n",
       "        text-align: right;\n",
       "    }\n",
       "</style>\n",
       "<table border=\"1\" class=\"dataframe\">\n",
       "  <thead>\n",
       "    <tr style=\"text-align: right;\">\n",
       "      <th></th>\n",
       "      <th>model_name</th>\n",
       "      <th>accuracy</th>\n",
       "    </tr>\n",
       "  </thead>\n",
       "  <tbody>\n",
       "    <tr>\n",
       "      <th>1</th>\n",
       "      <td>KNeighborsClassifier</td>\n",
       "      <td>0.962515</td>\n",
       "    </tr>\n",
       "    <tr>\n",
       "      <th>3</th>\n",
       "      <td>SVC</td>\n",
       "      <td>0.961241</td>\n",
       "    </tr>\n",
       "    <tr>\n",
       "      <th>2</th>\n",
       "      <td>DecisionTreeClassifier</td>\n",
       "      <td>0.899826</td>\n",
       "    </tr>\n",
       "    <tr>\n",
       "      <th>0</th>\n",
       "      <td>GaussianNB</td>\n",
       "      <td>0.799744</td>\n",
       "    </tr>\n",
       "  </tbody>\n",
       "</table>\n",
       "</div>"
      ],
      "text/plain": [
       "               model_name  accuracy\n",
       "1    KNeighborsClassifier  0.962515\n",
       "3                     SVC  0.961241\n",
       "2  DecisionTreeClassifier  0.899826\n",
       "0              GaussianNB  0.799744"
      ]
     },
     "execution_count": 55,
     "metadata": {},
     "output_type": "execute_result"
    }
   ],
   "source": [
    "cv_data.sort_values(by='accuracy',ascending=False)"
   ]
  },
  {
   "cell_type": "markdown",
   "id": "0c93c29b",
   "metadata": {},
   "source": [
    "*Lựa chọn model KNeighborsClassifier*"
   ]
  },
  {
   "cell_type": "code",
   "execution_count": 56,
   "id": "5db007d4",
   "metadata": {},
   "outputs": [
    {
     "name": "stdout",
     "output_type": "stream",
     "text": [
      "accuracy: 0.9661572052401747\n",
      "training score: 0.9731893728011646\n",
      "test score: 0.9661572052401747\n"
     ]
    }
   ],
   "source": [
    "model_knn = KNeighborsClassifier(n_neighbors=k)\n",
    "model_knn.fit(X_train,y_train)\n",
    "y_pred_knn = model_knn.predict(X_test)\n",
    "print('accuracy:',accuracy_score(y_test,y_pred_knn))\n",
    "print(\"training score:\",model_knn.score(X_train,y_train))\n",
    "print(\"test score:\",model_knn.score(X_test,y_test))"
   ]
  },
  {
   "cell_type": "code",
   "execution_count": 57,
   "id": "3129478a",
   "metadata": {},
   "outputs": [
    {
     "data": {
      "text/plain": [
       "array([[286,   0,   0,   0,   1,   0,   3,   0,   1,   0],\n",
       "       [  0, 248,  18,   7,   0,   0,   0,   2,   0,   1],\n",
       "       [  0,   4, 274,   2,   0,   0,   1,   0,   0,   0],\n",
       "       [  0,   3,   1, 250,   0,   1,   0,   2,   0,   0],\n",
       "       [  0,   1,   0,   1, 284,   1,   1,   0,   0,   1],\n",
       "       [  0,   1,   1,   5,   0, 263,   0,   1,   0,   2],\n",
       "       [  1,   0,   0,   0,   3,   0, 236,   0,   0,   0],\n",
       "       [  0,   4,   0,   2,   0,   0,   0, 271,   1,   0],\n",
       "       [  4,   0,   0,   3,   1,   0,   0,   1, 272,   0],\n",
       "       [  0,   1,   0,   4,   0,   4,   0,   1,   1, 271]], dtype=int64)"
      ]
     },
     "execution_count": 57,
     "metadata": {},
     "output_type": "execute_result"
    }
   ],
   "source": [
    "confusion_matrix(y_test,y_pred_knn)"
   ]
  },
  {
   "cell_type": "code",
   "execution_count": 58,
   "id": "e4d58317",
   "metadata": {},
   "outputs": [
    {
     "data": {
      "text/plain": [
       "<AxesSubplot:>"
      ]
     },
     "execution_count": 58,
     "metadata": {},
     "output_type": "execute_result"
    },
    {
     "data": {
      "image/png": "[encoded data removed]",
      "text/plain": [
       "<Figure size 432x288 with 2 Axes>"
      ]
     },
     "metadata": {
      "needs_background": "light"
     },
     "output_type": "display_data"
    }
   ],
   "source": [
    "sns.heatmap(confusion_matrix(y_test,y_pred_knn))"
   ]
  },
  {
   "cell_type": "code",
   "execution_count": 59,
   "id": "75d41a41",
   "metadata": {},
   "outputs": [
    {
     "name": "stdout",
     "output_type": "stream",
     "text": [
      "              precision    recall  f1-score   support\n",
      "\n",
      "           0       0.98      0.98      0.98       291\n",
      "           1       0.95      0.90      0.92       276\n",
      "           2       0.93      0.98      0.95       281\n",
      "           3       0.91      0.97      0.94       257\n",
      "           4       0.98      0.98      0.98       289\n",
      "           5       0.98      0.96      0.97       273\n",
      "           6       0.98      0.98      0.98       240\n",
      "           7       0.97      0.97      0.97       278\n",
      "           8       0.99      0.97      0.98       281\n",
      "           9       0.99      0.96      0.97       282\n",
      "\n",
      "    accuracy                           0.97      2748\n",
      "   macro avg       0.97      0.97      0.97      2748\n",
      "weighted avg       0.97      0.97      0.97      2748\n",
      "\n"
     ]
    }
   ],
   "source": [
    "print(classification_report(y_test,y_pred_knn))"
   ]
  },
  {
   "cell_type": "markdown",
   "id": "606830fa",
   "metadata": {},
   "source": [
    "*Model có độ chính xác cao 97%*"
   ]
  },
  {
   "cell_type": "markdown",
   "id": "c6ecde16",
   "metadata": {},
   "source": [
    "*Áp dụng thuật toán PCA*"
   ]
  },
  {
   "cell_type": "code",
   "execution_count": 60,
   "id": "8e3e6f75",
   "metadata": {},
   "outputs": [],
   "source": [
    "pca = PCA(.95)"
   ]
  },
  {
   "cell_type": "code",
   "execution_count": 61,
   "id": "d0034bda",
   "metadata": {},
   "outputs": [
    {
     "data": {
      "text/plain": [
       "PCA(n_components=0.95)"
      ]
     },
     "execution_count": 61,
     "metadata": {},
     "output_type": "execute_result"
    }
   ],
   "source": [
    "pca.fit(X_train)"
   ]
  },
  {
   "cell_type": "code",
   "execution_count": 62,
   "id": "9301f4b3",
   "metadata": {},
   "outputs": [
    {
     "data": {
      "text/plain": [
       "11"
      ]
     },
     "execution_count": 62,
     "metadata": {},
     "output_type": "execute_result"
    }
   ],
   "source": [
    "pca.n_components_"
   ]
  },
  {
   "cell_type": "code",
   "execution_count": 63,
   "id": "76347829",
   "metadata": {},
   "outputs": [],
   "source": [
    "X_train = pca.transform(X_train)"
   ]
  },
  {
   "cell_type": "code",
   "execution_count": 64,
   "id": "f8af6c44",
   "metadata": {},
   "outputs": [],
   "source": [
    "X_test = pca.transform(X_test)"
   ]
  },
  {
   "cell_type": "code",
   "execution_count": 65,
   "id": "080bc868",
   "metadata": {},
   "outputs": [
    {
     "name": "stdout",
     "output_type": "stream",
     "text": [
      "Accuracy:  95.12372634643377 for k: 1\n",
      "Accuracy:  94.46870451237264 for k: 2\n",
      "Accuracy:  95.37845705967976 for k: 3\n",
      "Accuracy:  95.45123726346434 for k: 4\n",
      "Accuracy:  95.45123726346434 for k: 5\n",
      "Accuracy:  95.37845705967976 for k: 6\n",
      "Accuracy:  95.48762736535662 for k: 7\n",
      "Accuracy:  95.23289665211063 for k: 8\n",
      "Accuracy:  95.3056768558952 for k: 9\n",
      "Select k: 7\n",
      "\n"
     ]
    },
    {
     "data": {
      "text/plain": [
       "Text(0, 0.5, 'test accuracy')"
      ]
     },
     "execution_count": 65,
     "metadata": {},
     "output_type": "execute_result"
    },
    {
     "data": {
      "image/png": "[encoded data removed]",
      "text/plain": [
       "<Figure size 432x288 with 1 Axes>"
      ]
     },
     "metadata": {
      "needs_background": "light"
     },
     "output_type": "display_data"
    }
   ],
   "source": [
    "list_k = []\n",
    "list_acc = []\n",
    "for k in range(1,10):\n",
    "    list_k.append(k)\n",
    "    model = KNeighborsClassifier(n_neighbors=k)\n",
    "    model.fit(X_train,y_train)\n",
    "    y_pred = model.predict(X_test)\n",
    "    acc = accuracy_score(y_test,y_pred)*100\n",
    "    list_acc.append(acc)\n",
    "    print('Accuracy: ',acc,'for k:',k)\n",
    "vitri = list_acc.index(max(list_acc))\n",
    "k = list_k[vitri]\n",
    "print('Select k:', k)\n",
    "print('')\n",
    "plt.plot(list_k,list_acc)\n",
    "plt.xlabel('number of neighbor k')\n",
    "plt.ylabel('test accuracy')"
   ]
  },
  {
   "cell_type": "code",
   "execution_count": 66,
   "id": "1726161f",
   "metadata": {},
   "outputs": [
    {
     "name": "stdout",
     "output_type": "stream",
     "text": [
      "accuracy: 0.9548762736535662\n",
      "training score: 0.9625136479437099\n",
      "test score: 0.9548762736535662\n"
     ]
    }
   ],
   "source": [
    "model_knn = KNeighborsClassifier(n_neighbors=k)\n",
    "model_knn.fit(X_train,y_train)\n",
    "y_pred_knn = model_knn.predict(X_test)\n",
    "print('accuracy:',accuracy_score(y_test,y_pred_knn))\n",
    "print(\"training score:\",model_knn.score(X_train,y_train))\n",
    "print(\"test score:\",model_knn.score(X_test,y_test))"
   ]
  },
  {
   "cell_type": "markdown",
   "id": "dcf4e7dc",
   "metadata": {},
   "source": [
    "*Nhận xét kết quả giữa việc có áp dụng PCA và không áp dụng PCA: Độ chính xác của model bị giảm đi sau khi dùng PCA để giảm chiều dữ liệu --> Không cần sử dụng PCA*"
   ]
  },
  {
   "cell_type": "code",
   "execution_count": null,
   "id": "70596c19",
   "metadata": {},
   "outputs": [],
   "source": []
  }
 ],
 "metadata": {
  "kernelspec": {
   "display_name": "Python 3",
   "language": "python",
   "name": "python3"
  },
  "language_info": {
   "codemirror_mode": {
    "name": "ipython",
    "version": 3
   },
   "file_extension": ".py",
   "mimetype": "text/x-python",
   "name": "python",
   "nbconvert_exporter": "python",
   "pygments_lexer": "ipython3",
   "version": "3.8.8"
  }
 },
 "nbformat": 4,
 "nbformat_minor": 5
}
