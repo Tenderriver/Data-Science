{
 "cells": [
  {
   "cell_type": "code",
   "execution_count": null,
   "id": "8fd1df62",
   "metadata": {},
   "outputs": [],
   "source": [
    "print (\"Xuat bang cuu chuong tu x den y\")\n",
    "x = int (input (\"Nhap x: \"))\n",
    "y = int (input (\"Nhap y: \"))\n",
    "for i in range (1,10):\n",
    "    for j in range (x,y+1):\n",
    "        if i*j <10:\n",
    "            print (i, \"x\", j, \"= \", i*j, end =\"    \")\n",
    "        else:\n",
    "            print (i, \"x\", j, \"=\", i*j, end =\"    \")\n",
    "    print(\"\\n\")\n",
    "   "
   ]
  },
  {
   "cell_type": "code",
   "execution_count": 4,
   "id": "552161a8",
   "metadata": {},
   "outputs": [],
   "source": [
    "import sys\n",
    "sys.path.append('C:\\\\Users\\\\gtp43728\\\\OneDrive - GSK\\\\Desktop\\\\New folder\\\\Python')\n"
   ]
  },
  {
   "cell_type": "code",
   "execution_count": 5,
   "id": "838e444b",
   "metadata": {},
   "outputs": [
    {
     "data": {
      "text/plain": [
       "['C:\\\\Users\\\\gtp43728\\\\OneDrive - GSK\\\\Desktop\\\\New folder\\\\Python\\\\Bai_5',\n",
       " 'C:\\\\Users\\\\gtp43728\\\\Anaconda3\\\\python38.zip',\n",
       " 'C:\\\\Users\\\\gtp43728\\\\Anaconda3\\\\DLLs',\n",
       " 'C:\\\\Users\\\\gtp43728\\\\Anaconda3\\\\lib',\n",
       " 'C:\\\\Users\\\\gtp43728\\\\Anaconda3',\n",
       " '',\n",
       " 'C:\\\\Users\\\\gtp43728\\\\Anaconda3\\\\lib\\\\site-packages',\n",
       " 'C:\\\\Users\\\\gtp43728\\\\Anaconda3\\\\lib\\\\site-packages\\\\locket-0.2.1-py3.8.egg',\n",
       " 'C:\\\\Users\\\\gtp43728\\\\Anaconda3\\\\lib\\\\site-packages\\\\win32',\n",
       " 'C:\\\\Users\\\\gtp43728\\\\Anaconda3\\\\lib\\\\site-packages\\\\win32\\\\lib',\n",
       " 'C:\\\\Users\\\\gtp43728\\\\Anaconda3\\\\lib\\\\site-packages\\\\Pythonwin',\n",
       " 'C:\\\\Users\\\\gtp43728\\\\Anaconda3\\\\lib\\\\site-packages\\\\IPython\\\\extensions',\n",
       " 'C:\\\\Users\\\\gtp43728\\\\.ipython',\n",
       " 'C:\\\\Users\\\\gtp43728\\\\OneDrive - GSK\\\\Desktop\\\\New folder\\\\Python\\\\Bai_9',\n",
       " 'C:\\\\Users\\\\gtp43728\\\\OneDrive - GSK\\\\Desktop\\\\New folder\\\\Python']"
      ]
     },
     "execution_count": 5,
     "metadata": {},
     "output_type": "execute_result"
    }
   ],
   "source": [
    "sys.path"
   ]
  },
  {
   "cell_type": "code",
   "execution_count": 7,
   "id": "ae3d3ae5",
   "metadata": {},
   "outputs": [],
   "source": [
    "import Bai_9.ham_bai_5 as a"
   ]
  },
  {
   "cell_type": "code",
   "execution_count": 8,
   "id": "d14623af",
   "metadata": {},
   "outputs": [
    {
     "name": "stdout",
     "output_type": "stream",
     "text": [
      "2 x 1 =  2\t3 x 1 =  3\t4 x 1 =  4\t5 x 1 =  5\t\n",
      "\n",
      "2 x 2 =  4\t3 x 2 =  6\t4 x 2 =  8\t5 x 2 = 10\t\n",
      "\n",
      "2 x 3 =  6\t3 x 3 =  9\t4 x 3 = 12\t5 x 3 = 15\t\n",
      "\n",
      "2 x 4 =  8\t3 x 4 = 12\t4 x 4 = 16\t5 x 4 = 20\t\n",
      "\n",
      "2 x 5 = 10\t3 x 5 = 15\t4 x 5 = 20\t5 x 5 = 25\t\n",
      "\n",
      "2 x 6 = 12\t3 x 6 = 18\t4 x 6 = 24\t5 x 6 = 30\t\n",
      "\n",
      "2 x 7 = 14\t3 x 7 = 21\t4 x 7 = 28\t5 x 7 = 35\t\n",
      "\n",
      "2 x 8 = 16\t3 x 8 = 24\t4 x 8 = 32\t5 x 8 = 40\t\n",
      "\n",
      "2 x 9 = 18\t3 x 9 = 27\t4 x 9 = 36\t5 x 9 = 45\t\n",
      "\n"
     ]
    }
   ],
   "source": [
    "a.bang_cuu_chuong(2,5)"
   ]
  },
  {
   "cell_type": "code",
   "execution_count": 4,
   "id": "9950fc94",
   "metadata": {},
   "outputs": [
    {
     "name": "stdout",
     "output_type": "stream",
     "text": [
      "Xuat bang cuu chuong tu x den y\n",
      "Nhap x: 3\n",
      "Nhap y: 4\n",
      "3 x 1 =  3\t4 x 1 =  4\t\n",
      "\n",
      "3 x 2 =  6\t4 x 2 =  8\t\n",
      "\n",
      "3 x 3 =  9\t4 x 3 = 12\t\n",
      "\n",
      "3 x 4 = 12\t4 x 4 = 16\t\n",
      "\n",
      "3 x 5 = 15\t4 x 5 = 20\t\n",
      "\n",
      "3 x 6 = 18\t4 x 6 = 24\t\n",
      "\n",
      "3 x 7 = 21\t4 x 7 = 28\t\n",
      "\n",
      "3 x 8 = 24\t4 x 8 = 32\t\n",
      "\n",
      "3 x 9 = 27\t4 x 9 = 36\t\n",
      "\n"
     ]
    }
   ],
   "source": [
    "print (\"Xuat bang cuu chuong tu x den y\")\n",
    "x = int (input (\"Nhap x: \"))\n",
    "y = int (input (\"Nhap y: \"))\n",
    "for i in range (1,10):\n",
    "    for j in range (x,y+1):\n",
    "        print (f\"{j} x {i} = {j*i:2}\", end =\"\\t\")\n",
    "    print(\"\\n\")"
   ]
  },
  {
   "cell_type": "code",
   "execution_count": null,
   "id": "884e61e4",
   "metadata": {},
   "outputs": [],
   "source": []
  }
 ],
 "metadata": {
  "kernelspec": {
   "display_name": "Python 3",
   "language": "python",
   "name": "python3"
  },
  "language_info": {
   "codemirror_mode": {
    "name": "ipython",
    "version": 3
   },
   "file_extension": ".py",
   "mimetype": "text/x-python",
   "name": "python",
   "nbconvert_exporter": "python",
   "pygments_lexer": "ipython3",
   "version": "3.8.8"
  }
 },
 "nbformat": 4,
 "nbformat_minor": 5
}
