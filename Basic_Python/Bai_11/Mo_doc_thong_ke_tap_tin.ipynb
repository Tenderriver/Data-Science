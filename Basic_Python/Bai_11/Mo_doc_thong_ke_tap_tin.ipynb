{
 "cells": [
  {
   "cell_type": "code",
   "execution_count": 4,
   "id": "6d22971a",
   "metadata": {},
   "outputs": [
    {
     "name": "stdout",
     "output_type": "stream",
     "text": [
      "Nhập tên tập tin:\n",
      "hope.txt\n",
      "\n",
      "Nội dung tập tin: \n",
      "I hoped that he would love me,\n",
      "And he has kissed my mouth,\n",
      "But I am like a stricken bird\n",
      "That cannot reach the south.\n",
      "For though I know he loves me,\n",
      "To-night my heart is sad;\n",
      "His kiss was not so wonderful\n",
      "As all the dreams I had.\n",
      "\n",
      "----- Thống kê: Số dòng/ Số từ/ Số ký tự -----\n",
      "Lines: 8 , Words: 49 , Chars: 229\n"
     ]
    },
    {
     "data": {
      "text/plain": [
       "'\\nNhập tên tập tin:\\nHope.txt\\n\\nNội dung tập tin:\\nI hoped that he would love me,\\nAnd he has kissed my mouth,\\nBut I am like a stricken bird\\nThat cannot reach the south.\\nFor though I know he loves me,\\nTo-night my heart is sad;\\nHis kiss was not so wonderful\\nAs all the dreams I had.\\n\\n----- Thống kê: Số dòng/ Số từ/ Số ký tự -----\\nLines: 8 , Words: 49 , Chars: 232\\n\\n'"
      ]
     },
     "execution_count": 4,
     "metadata": {},
     "output_type": "execute_result"
    }
   ],
   "source": [
    "# Xây dựng phương thức đọc và thống kê nội dung tập tin\n",
    "def read_report_file(filename):\n",
    "    file_in = open(filename,'r')\n",
    "    print('\\nNội dung tập tin: ')\n",
    "    str1 = file_in.read()\n",
    "    file_in.seek(0,0)\n",
    "    a=file_in.readlines()\n",
    "    count_lines = len(a)\n",
    "    count_words = 0\n",
    "    for i in a:\n",
    "        count_words += len(i.split(' '))\n",
    "           \n",
    "    count_chars = len(str1)\n",
    "    # Học viên viết code để thống kê (số dòng, số từ, số ký tự)\n",
    "    \n",
    "\n",
    "\n",
    "\n",
    "\n",
    "\n",
    "\n",
    "\n",
    "    file_in.close()\n",
    "    \n",
    "    print(str1)\n",
    "    print(\"\\n----- Thống kê: Số dòng/ Số từ/ Số ký tự -----\")\n",
    "    print('Lines:', count_lines, ', Words:', count_words, ', Chars:', count_chars)\n",
    "\n",
    "\n",
    "filename = input('Nhập tên tập tin:\\n')\n",
    "read_report_file(filename)\n",
    "\n",
    "\n",
    "\n",
    "# In kết quả\n",
    "'''\n",
    "Nhập tên tập tin:\n",
    "Hope.txt\n",
    "\n",
    "Nội dung tập tin:\n",
    "I hoped that he would love me,\n",
    "And he has kissed my mouth,\n",
    "But I am like a stricken bird\n",
    "That cannot reach the south.\n",
    "For though I know he loves me,\n",
    "To-night my heart is sad;\n",
    "His kiss was not so wonderful\n",
    "As all the dreams I had.\n",
    "\n",
    "----- Thống kê: Số dòng/ Số từ/ Số ký tự -----\n",
    "Lines: 8 , Words: 49 , Chars: 232\n",
    "\n",
    "'''"
   ]
  },
  {
   "cell_type": "code",
   "execution_count": null,
   "id": "365dcf31",
   "metadata": {},
   "outputs": [],
   "source": []
  }
 ],
 "metadata": {
  "kernelspec": {
   "display_name": "Python 3",
   "language": "python",
   "name": "python3"
  },
  "language_info": {
   "codemirror_mode": {
    "name": "ipython",
    "version": 3
   },
   "file_extension": ".py",
   "mimetype": "text/x-python",
   "name": "python",
   "nbconvert_exporter": "python",
   "pygments_lexer": "ipython3",
   "version": "3.8.8"
  }
 },
 "nbformat": 4,
 "nbformat_minor": 5
}
