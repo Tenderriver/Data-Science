{
 "cells": [
  {
   "cell_type": "code",
   "execution_count": 1,
   "id": "77e0e04a",
   "metadata": {},
   "outputs": [],
   "source": [
    "import numpy as np"
   ]
  },
  {
   "cell_type": "code",
   "execution_count": 16,
   "id": "3be05987",
   "metadata": {},
   "outputs": [
    {
     "name": "stdout",
     "output_type": "stream",
     "text": [
      "[18 25 23 18 21 28 21 18 17 12]\n"
     ]
    }
   ],
   "source": [
    "#1. Tạo mảng ngẫu nhiên 10 phần tử số nguyên từ 10-29\n",
    "np.random.seed(2)\n",
    "arr1=np.random.randint(10,30,size=(10,))\n",
    "print(arr1)"
   ]
  },
  {
   "cell_type": "code",
   "execution_count": 13,
   "id": "1b50eb57",
   "metadata": {},
   "outputs": [
    {
     "data": {
      "text/plain": [
       "dtype('int32')"
      ]
     },
     "execution_count": 13,
     "metadata": {},
     "output_type": "execute_result"
    }
   ],
   "source": [
    "#2. Cho biết kiểu dữ liệu các phần tử của arr1\n",
    "arr1.dtype"
   ]
  },
  {
   "cell_type": "code",
   "execution_count": null,
   "id": "b385fe94",
   "metadata": {},
   "outputs": [],
   "source": [
    "#3. Cho biết dung lượng bộ nhớ của mảng arr1\n"
   ]
  },
  {
   "cell_type": "code",
   "execution_count": 15,
   "id": "082ded10",
   "metadata": {},
   "outputs": [
    {
     "name": "stdout",
     "output_type": "stream",
     "text": [
      "[-1 25 23 -1 -1 28 -1 -1 17 -1]\n"
     ]
    }
   ],
   "source": [
    "#4. Tạo mảng arr2 là mảng arr1 nhưng có các giá trị chia hết cho 3 được thay bằng -1\n",
    "arr2=arr1.copy()\n",
    "arr2[arr2%3==0]=-1\n",
    "print(arr2)"
   ]
  },
  {
   "cell_type": "code",
   "execution_count": 17,
   "id": "0d1281b1",
   "metadata": {},
   "outputs": [
    {
     "name": "stdout",
     "output_type": "stream",
     "text": [
      "[25 18 23 15 34 25 26 24 25 21]\n"
     ]
    }
   ],
   "source": [
    "#5. Phát sinh mảng arr3 ngẫu nhiên 10 phần tử số nguyên từ 15-35\n",
    "np.random.seed(3)\n",
    "arr3=np.random.randint(15,36,size=(10,))\n",
    "print(arr3)"
   ]
  },
  {
   "cell_type": "code",
   "execution_count": null,
   "id": "e1172f86",
   "metadata": {},
   "outputs": [],
   "source": [
    "#6.  Liệt kê ra các phần tử giống nhau trong arr1 và arr3"
   ]
  },
  {
   "cell_type": "code",
   "execution_count": null,
   "id": "5e7044f1",
   "metadata": {},
   "outputs": [],
   "source": [
    "#7. Tạo mảng arr4 là mảng arr1 nhưng có 2 dòng, 5 cột "
   ]
  },
  {
   "cell_type": "code",
   "execution_count": null,
   "id": "5c71d20f",
   "metadata": {},
   "outputs": [],
   "source": []
  },
  {
   "cell_type": "code",
   "execution_count": null,
   "id": "dbf5258a",
   "metadata": {},
   "outputs": [],
   "source": []
  },
  {
   "cell_type": "code",
   "execution_count": null,
   "id": "06f1011c",
   "metadata": {},
   "outputs": [],
   "source": []
  }
 ],
 "metadata": {
  "kernelspec": {
   "display_name": "Python 3",
   "language": "python",
   "name": "python3"
  },
  "language_info": {
   "codemirror_mode": {
    "name": "ipython",
    "version": 3
   },
   "file_extension": ".py",
   "mimetype": "text/x-python",
   "name": "python",
   "nbconvert_exporter": "python",
   "pygments_lexer": "ipython3",
   "version": "3.8.8"
  }
 },
 "nbformat": 4,
 "nbformat_minor": 5
}
