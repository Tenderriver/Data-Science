{
 "cells": [
  {
   "cell_type": "code",
   "execution_count": 5,
   "id": "8900972d",
   "metadata": {},
   "outputs": [
    {
     "name": "stdout",
     "output_type": "stream",
     "text": [
      "Nhap vao 1 nguyen: 13\n",
      "13\n",
      "12\n",
      "11\n",
      "10\n",
      "9\n",
      "8\n",
      "7\n",
      "6\n",
      "5\n",
      "4\n",
      "3\n",
      "2\n",
      "1\n",
      "start!!!\n"
     ]
    }
   ],
   "source": [
    "a = int(input(\"Nhap vao 1 so nguyen: \"))\n",
    "while a > 0:\n",
    "    print (a)\n",
    "    a-=1\n",
    "print (\"start!!!\")"
   ]
  },
  {
   "cell_type": "code",
   "execution_count": null,
   "id": "90b69dbb",
   "metadata": {},
   "outputs": [],
   "source": []
  }
 ],
 "metadata": {
  "kernelspec": {
   "display_name": "Python 3",
   "language": "python",
   "name": "python3"
  },
  "language_info": {
   "codemirror_mode": {
    "name": "ipython",
    "version": 3
   },
   "file_extension": ".py",
   "mimetype": "text/x-python",
   "name": "python",
   "nbconvert_exporter": "python",
   "pygments_lexer": "ipython3",
   "version": "3.8.8"
  }
 },
 "nbformat": 4,
 "nbformat_minor": 5
}
