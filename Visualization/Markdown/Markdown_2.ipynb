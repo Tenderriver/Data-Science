{
 "cells": [
  {
   "cell_type": "markdown",
   "id": "e6da1af5",
   "metadata": {},
   "source": [
    "**Thomas Alva Edison (February 11, 1847 – October 18, 1931)**\n",
    "![Thomas Edison](https://cdn-images-1.medium.com/max/1000/1*s2GyMoLeSV3Epc2Gk3qBXA.png)\n",
    "[Visit Thomas Edison Wikipedia](https://en.wikipedia.org/wiki/Thomas_Edison)\n",
    "* Born: Thomas Alva Edison, February 11, 1847, Milan, Ohio, U.S.\n",
    "* Died: October 18, 1931 (aged 84), West Orange, New Jersey, U.S. \n",
    "* Burial place: Thomas Edison National Historical Park, Nationality American\n",
    "* Education: Self-educated\n",
    "* Occupation: Inventor, businessm"
   ]
  },
  {
   "cell_type": "code",
   "execution_count": null,
   "id": "f056bf7e",
   "metadata": {},
   "outputs": [],
   "source": []
  }
 ],
 "metadata": {
  "kernelspec": {
   "display_name": "Python 3",
   "language": "python",
   "name": "python3"
  },
  "language_info": {
   "codemirror_mode": {
    "name": "ipython",
    "version": 3
   },
   "file_extension": ".py",
   "mimetype": "text/x-python",
   "name": "python",
   "nbconvert_exporter": "python",
   "pygments_lexer": "ipython3",
   "version": "3.8.8"
  }
 },
 "nbformat": 4,
 "nbformat_minor": 5
}
