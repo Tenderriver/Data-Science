{
 "cells": [
  {
   "cell_type": "code",
   "execution_count": 11,
   "id": "5c4b01ea",
   "metadata": {},
   "outputs": [
    {
     "name": "stdout",
     "output_type": "stream",
     "text": [
      "Nhap vao so nguyen n: 5\n",
      "a= 9 \n",
      "b= 6 \n",
      "c= 120\n"
     ]
    }
   ],
   "source": [
    "x = int (input (\"Nhap vao so nguyen n: \"))\n",
    "a=0\n",
    "b=0\n",
    "c=1\n",
    "for i in range (1, x+1):\n",
    "    if i%2 !=0:\n",
    "        a+=i\n",
    "    else:\n",
    "        b+=i\n",
    "    c*=i\n",
    "print (\"a=\",a , \"\\nb=\", b, \"\\nc=\", c)\n",
    "\n",
    "        "
   ]
  },
  {
   "cell_type": "code",
   "execution_count": null,
   "id": "4b2c2930",
   "metadata": {},
   "outputs": [],
   "source": []
  }
 ],
 "metadata": {
  "kernelspec": {
   "display_name": "Python 3",
   "language": "python",
   "name": "python3"
  },
  "language_info": {
   "codemirror_mode": {
    "name": "ipython",
    "version": 3
   },
   "file_extension": ".py",
   "mimetype": "text/x-python",
   "name": "python",
   "nbconvert_exporter": "python",
   "pygments_lexer": "ipython3",
   "version": "3.8.8"
  }
 },
 "nbformat": 4,
 "nbformat_minor": 5
}
