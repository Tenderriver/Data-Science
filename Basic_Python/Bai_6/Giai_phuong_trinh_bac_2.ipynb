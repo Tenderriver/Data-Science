{
 "cells": [
  {
   "cell_type": "code",
   "execution_count": 4,
   "id": "2893542e",
   "metadata": {},
   "outputs": [
    {
     "name": "stdout",
     "output_type": "stream",
     "text": [
      "Nhap a 1\n",
      "Nhap b -8\n",
      "Nhap c 16\n",
      "Phuong trinh co nghiem kep x1 = x2 =  4.0\n"
     ]
    }
   ],
   "source": [
    "import math\n",
    "a= eval(input(\"Nhap a \"))\n",
    "b= eval(input(\"Nhap b \"))\n",
    "c= eval(input(\"Nhap c \"))\n",
    "d=0\n",
    "if a ==0:\n",
    "    if b==0 and c!=0:\n",
    "        print(\"Phuong trinh vo nghiem\")\n",
    "    elif b==0 and c==0:\n",
    "        print(\"Phuong trinh vo so nghiem\")\n",
    "    else:\n",
    "        print(\"Phuong trinh co nghiem: x=\", -c/b)\n",
    "else:\n",
    "    d=math.pow(b,2)-4*a*c\n",
    "    if d <0:\n",
    "        print(\"Phuong trinh vo nghiem\")\n",
    "    elif d==0:\n",
    "        print(\"Phuong trinh co nghiem kep x1 = x2 = \", -b/(2*a))\n",
    "    else:\n",
    "        print(\"Phuong trinh co 2 nghiem phan biet x1=\", (-b+math.sqrt(d))/(2*a), \", x2=\", (-b-math.sqrt(d))/(2*a))\n",
    "    "
   ]
  },
  {
   "cell_type": "code",
   "execution_count": null,
   "id": "f2042f22",
   "metadata": {},
   "outputs": [],
   "source": []
  }
 ],
 "metadata": {
  "kernelspec": {
   "display_name": "Python 3",
   "language": "python",
   "name": "python3"
  },
  "language_info": {
   "codemirror_mode": {
    "name": "ipython",
    "version": 3
   },
   "file_extension": ".py",
   "mimetype": "text/x-python",
   "name": "python",
   "nbconvert_exporter": "python",
   "pygments_lexer": "ipython3",
   "version": "3.8.8"
  }
 },
 "nbformat": 4,
 "nbformat_minor": 5
}
